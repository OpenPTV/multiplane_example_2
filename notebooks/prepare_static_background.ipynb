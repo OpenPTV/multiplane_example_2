{
 "cells": [
  {
   "cell_type": "code",
   "execution_count": 51,
   "metadata": {},
   "outputs": [],
   "source": [
    "# Prepare static background"
   ]
  },
  {
   "cell_type": "code",
   "execution_count": 52,
   "metadata": {},
   "outputs": [],
   "source": [
    "# prepare static background images for the series using Python\n",
    "# this works with the branch called remove_static_background on pyptv github\n",
    "# https://github.com/alexlib/pyptv/\n",
    "\n",
    "import numpy as np\n",
    "import matplotlib.pyplot as plt\n",
    "import skimage.io as skio\n",
    "from skimage import img_as_ubyte\n",
    "import pathlib\n"
   ]
  },
  {
   "cell_type": "code",
   "execution_count": 53,
   "metadata": {},
   "outputs": [],
   "source": [
    "working_folder = pathlib.Path('/home/user/Downloads/dataset_25.1.2022')\n",
    "image_list = sorted(list(working_folder.glob('img/*.tiff')))"
   ]
  },
  {
   "cell_type": "code",
   "execution_count": 54,
   "metadata": {},
   "outputs": [
    {
     "data": {
      "text/plain": [
       "[PosixPath('/home/user/Downloads/dataset_25.1.2022/img/B000477_a.tiff'),\n",
       " PosixPath('/home/user/Downloads/dataset_25.1.2022/img/B000477_b.tiff'),\n",
       " PosixPath('/home/user/Downloads/dataset_25.1.2022/img/B000477_c.tiff'),\n",
       " PosixPath('/home/user/Downloads/dataset_25.1.2022/img/B000477_d.tiff'),\n",
       " PosixPath('/home/user/Downloads/dataset_25.1.2022/img/B000478_a.tiff'),\n",
       " PosixPath('/home/user/Downloads/dataset_25.1.2022/img/B000478_b.tiff'),\n",
       " PosixPath('/home/user/Downloads/dataset_25.1.2022/img/B000478_c.tiff'),\n",
       " PosixPath('/home/user/Downloads/dataset_25.1.2022/img/B000478_d.tiff')]"
      ]
     },
     "execution_count": 54,
     "metadata": {},
     "output_type": "execute_result"
    }
   ],
   "source": [
    "image_list[:8]"
   ]
  },
  {
   "cell_type": "code",
   "execution_count": 55,
   "metadata": {},
   "outputs": [],
   "source": [
    "for i_cam, letter in zip([0, 1, 2, 3], ['a', 'b', 'c', 'd']):\n",
    "    selected_files = [file for file in image_list if f'_{letter}' in file.name][:20]\n",
    "    image_array = [img_as_ubyte(skio.imread(file)) for file in selected_files]\n",
    "    background = np.median(image_array, axis=0)\n",
    "\n",
    "    # now selected all:\n",
    "    selected_files = [file for file in image_list if f'_{letter}' in file.name] \n",
    "    image_array = [img_as_ubyte(skio.imread(file)) for file in selected_files]\n",
    "    # process all images\n",
    "    brightened = [exposure.adjust_gamma(np.clip(img - background, 0, 255).astype(np.uint8), gamma=0.5) for img in image_array]\n",
    "    contrasted = [exposure.rescale_intensity(img, in_range=(0, 255), out_range=(0, 255)) for img in brightened]\n",
    "    \n",
    "    for i, img in enumerate(contrasted):\n",
    "        skio.imsave(working_folder / f'newimg/{selected_files[i].name}', np.clip(img, 0, 255).astype(np.uint8))\n"
   ]
  }
 ],
 "metadata": {
  "kernelspec": {
   "display_name": "pyptv",
   "language": "python",
   "name": "python3"
  },
  "language_info": {
   "codemirror_mode": {
    "name": "ipython",
    "version": 3
   },
   "file_extension": ".py",
   "mimetype": "text/x-python",
   "name": "python",
   "nbconvert_exporter": "python",
   "pygments_lexer": "ipython3",
   "version": "3.11.10"
  }
 },
 "nbformat": 4,
 "nbformat_minor": 2
}
