{
 "cells": [
  {
   "cell_type": "code",
   "execution_count": 18,
   "id": "d2ab32f9-9fd5-4fd1-983c-df2cf64d152b",
   "metadata": {},
   "outputs": [],
   "source": [
    "# plotly\n",
    "# %pip install plotly\n",
    "# %pip install nbformat"
   ]
  },
  {
   "cell_type": "code",
   "execution_count": 19,
   "id": "fc373b97-f58c-4ad7-934e-bac2f79a6785",
   "metadata": {},
   "outputs": [],
   "source": [
    "from flowtracks.io import trajectories_ptvis\n",
    "inName = '../res/ptv_is.%d'\n",
    "trajects = trajectories_ptvis(inName, traj_min_len=7)"
   ]
  },
  {
   "cell_type": "code",
   "execution_count": 20,
   "id": "05a974ab-9b2a-4c42-9e90-910caa806caa",
   "metadata": {},
   "outputs": [
    {
     "data": {
      "text/plain": [
       "(array([[0.962856, 0.279922, 0.899497],\n",
       "        [1.000715, 0.247012, 0.855449],\n",
       "        [1.022504, 0.252486, 0.840954],\n",
       "        [1.027327, 0.25776 , 0.846796],\n",
       "        [1.039974, 0.269725, 0.857541],\n",
       "        [1.017681, 0.26357 , 0.91879 ],\n",
       "        [0.99445 , 0.250805, 0.976952]]),\n",
       " array([[ 0.037859, -0.03291 , -0.044048],\n",
       "        [ 0.021789,  0.005474, -0.014495],\n",
       "        [ 0.004823,  0.005274,  0.005842],\n",
       "        [ 0.012647,  0.011965,  0.010745],\n",
       "        [-0.022293, -0.006155,  0.061249],\n",
       "        [-0.023231, -0.012765,  0.058162],\n",
       "        [ 0.      ,  0.      ,  0.      ]]),\n",
       " array([[-0.01607 ,  0.038384,  0.029553],\n",
       "        [-0.016966, -0.0002  ,  0.020337],\n",
       "        [ 0.007824,  0.006691,  0.004903],\n",
       "        [-0.03494 , -0.01812 ,  0.050504],\n",
       "        [-0.000938, -0.00661 , -0.003087],\n",
       "        [ 0.      ,  0.      ,  0.      ],\n",
       "        [ 0.      ,  0.      ,  0.      ]]))"
      ]
     },
     "execution_count": 20,
     "metadata": {},
     "output_type": "execute_result"
    }
   ],
   "source": [
    "trajects[0].pos(), trajects[0].velocity(), trajects[0].accel()"
   ]
  },
  {
   "cell_type": "code",
   "execution_count": 21,
   "id": "746a3112",
   "metadata": {},
   "outputs": [
    {
     "data": {
      "image/png": "[encoded data removed]",
      "text/plain": [
       "<Figure size 640x480 with 1 Axes>"
      ]
     },
     "metadata": {},
     "output_type": "display_data"
    }
   ],
   "source": [
    "import matplotlib.pyplot as plt\n",
    "import numpy as np\n",
    "\n",
    "# Extract velocities from trajects\n",
    "velocities = []\n",
    "for tr in trajects:\n",
    "    velocities.extend(tr.velocity())\n",
    "\n",
    "# Convert to numpy array for easier manipulation\n",
    "velocities = np.array(velocities)\n",
    "\n",
    "# Calculate the magnitude of velocities\n",
    "velocity_magnitudes = np.linalg.norm(velocities, axis=1)\n",
    "\n",
    "# Plot histogram\n",
    "plt.hist(velocity_magnitudes, bins=30, edgecolor='black')\n",
    "plt.xlabel('Velocity Magnitude')\n",
    "plt.ylabel('Frequency')\n",
    "plt.title('Histogram of Particle Velocities')\n",
    "plt.show()"
   ]
  },
  {
   "cell_type": "code",
   "execution_count": 22,
   "id": "f78e7a5a-6e28-4eb6-a05b-8a79c2e62dd2",
   "metadata": {},
   "outputs": [
    {
     "data": {
      "text/plain": [
       "170"
      ]
     },
     "execution_count": 22,
     "metadata": {},
     "output_type": "execute_result"
    }
   ],
   "source": [
    "len(trajects)"
   ]
  },
  {
   "cell_type": "code",
   "execution_count": 23,
   "id": "e64e343b-e098-4500-806d-05553bad6db8",
   "metadata": {},
   "outputs": [],
   "source": [
    "import pandas as pd\n",
    "tmp = []\n",
    "for tr in trajects:\n",
    "    tmp.append(pd.DataFrame({'id':tr.trajid(),'x':tr.pos()[:,0],'y':tr.pos()[:,1],'z':tr.pos()[:,2]}))\n",
    "    \n",
    "    \n",
    "df = pd.concat(tmp)"
   ]
  },
  {
   "cell_type": "code",
   "execution_count": 24,
   "id": "75754704-48bd-476a-b1cc-c305d906cedd",
   "metadata": {},
   "outputs": [
    {
     "data": {
      "application/vnd.plotly.v1+json": {
       "config": {
        "plotlyServerURL": "https://plot.ly"
       },
       "data": [
        {
         "hovertemplate": "id=944<br>x=%{x}<br>y=%{y}<br>z=%{z}<extra></extra>",
         "legendgroup": "944",
         "line": {
          "color": "#636efa",
          "dash": "solid"
         },
         "marker": {
          "symbol": "circle"
         },
         "mode": "lines",
         "name": "944",
         "scene": "scene",
         "showlegend": true,
         "type": "scatter3d",
         "x": [
          0.962856,
          1.000715,
          1.022504,
          1.027327,
          1.039974,
          1.017681,
          0.9944500000000001
         ],
         "y": [
          0.279922,
          0.247012,
          0.252486,
          0.25776,
          0.26972500000000005,
          0.26356999999999997,
          0.250805
         ],
         "z": [
          0.899497,
          0.8554489999999999,
          0.840954,
          0.8467960000000001,
          0.8575410000000001,
          0.91879,
          0.976952
         ]
        },
        {
         "hovertemplate": "id=204<br>x=%{x}<br>y=%{y}<br>z=%{z}<extra></extra>",
         "legendgroup": "204",
         "line": {
          "color": "#EF553B",
          "dash": "solid"
         },
         "marker": {
          "symbol": "circle"
         },
         "mode": "lines",
         "name": "204",
         "scene": "scene",
         "showlegend": true,
         "type": "scatter3d",
         "x": [
          -0.144031,
          -0.144873,
          -0.147342,
          -0.149179,
          -0.15202000000000002,
          -0.154254,
          -0.16097999999999998
         ],
         "y": [
          0.630259,
          0.62905,
          0.6280439999999999,
          0.6263,
          0.624177,
          0.620475,
          0.620641
         ],
         "z": [
          0.247589,
          0.254506,
          0.275791,
          0.288859,
          0.302904,
          0.318129,
          0.33266399999999996
         ]
        },
        {
         "hovertemplate": "id=300<br>x=%{x}<br>y=%{y}<br>z=%{z}<extra></extra>",
         "legendgroup": "300",
         "line": {
          "color": "#00cc96",
          "dash": "solid"
         },
         "marker": {
          "symbol": "circle"
         },
         "mode": "lines",
         "name": "300",
         "scene": "scene",
         "showlegend": true,
         "type": "scatter3d",
         "x": [
          -0.19213999999999998,
          -0.179096,
          -0.166652,
          -0.145679,
          -0.130153,
          -0.11170000000000001,
          -0.096941
         ],
         "y": [
          0.155662,
          0.15474000000000002,
          0.15368700000000002,
          0.153034,
          0.153038,
          0.152938,
          0.152847
         ],
         "z": [
          1.093491,
          1.090675,
          1.087316,
          1.077939,
          1.075547,
          1.067705,
          1.064732
         ]
        },
        {
         "hovertemplate": "id=509<br>x=%{x}<br>y=%{y}<br>z=%{z}<extra></extra>",
         "legendgroup": "509",
         "line": {
          "color": "#ab63fa",
          "dash": "solid"
         },
         "marker": {
          "symbol": "circle"
         },
         "mode": "lines",
         "name": "509",
         "scene": "scene",
         "showlegend": true,
         "type": "scatter3d",
         "x": [
          0.013635,
          0.00615,
          -0.000156,
          -0.004945000000000001,
          -0.008785,
          -0.013085000000000001,
          -0.016733
         ],
         "y": [
          0.00171,
          -0.003382,
          -0.006956,
          -0.009084,
          -0.009813,
          -0.012943,
          -0.012348000000000001
         ],
         "z": [
          0.306911,
          0.318567,
          0.32991000000000004,
          0.340401,
          0.350861,
          0.356773,
          0.36698899999999995
         ]
        },
        {
         "hovertemplate": "id=133<br>x=%{x}<br>y=%{y}<br>z=%{z}<extra></extra>",
         "legendgroup": "133",
         "line": {
          "color": "#FFA15A",
          "dash": "solid"
         },
         "marker": {
          "symbol": "circle"
         },
         "mode": "lines",
         "name": "133",
         "scene": "scene",
         "showlegend": true,
         "type": "scatter3d",
         "x": [
          0.473414,
          0.479204,
          0.48598,
          0.492094,
          0.49885,
          0.505853,
          0.512983
         ],
         "y": [
          0.088957,
          0.08736,
          0.08673600000000001,
          0.0857,
          0.08467400000000001,
          0.083675,
          0.082842
         ],
         "z": [
          -0.018393999999999997,
          -0.013250999999999999,
          -0.0063479999999999995,
          0.000722,
          0.007316,
          0.013106,
          0.018786
         ]
        },
        {
         "hovertemplate": "id=241<br>x=%{x}<br>y=%{y}<br>z=%{z}<extra></extra>",
         "legendgroup": "241",
         "line": {
          "color": "#19d3f3",
          "dash": "solid"
         },
         "marker": {
          "symbol": "circle"
         },
         "mode": "lines",
         "name": "241",
         "scene": "scene",
         "showlegend": true,
         "type": "scatter3d",
         "x": [
          -0.303437,
          -0.304058,
          -0.305303,
          -0.302389,
          -0.30318599999999996,
          -0.30229500000000004,
          -0.30132
         ],
         "y": [
          0.505077,
          0.509329,
          0.5142530000000001,
          0.517762,
          0.5198250000000001,
          0.522497,
          0.524563
         ],
         "z": [
          0.678534,
          0.6873790000000001,
          0.694504,
          0.706643,
          0.718207,
          0.729735,
          0.741227
         ]
        },
        {
         "hovertemplate": "id=184<br>x=%{x}<br>y=%{y}<br>z=%{z}<extra></extra>",
         "legendgroup": "184",
         "line": {
          "color": "#FF6692",
          "dash": "solid"
         },
         "marker": {
          "symbol": "circle"
         },
         "mode": "lines",
         "name": "184",
         "scene": "scene",
         "showlegend": true,
         "type": "scatter3d",
         "x": [
          -0.171329,
          -0.165214,
          -0.16032400000000002,
          -0.155945,
          -0.15201699999999999,
          -0.14862,
          -0.14564
         ],
         "y": [
          -0.061722,
          -0.05962,
          -0.06173,
          -0.063833,
          -0.065984,
          -0.068506,
          -0.07163800000000001
         ],
         "z": [
          0.5976889999999999,
          0.6077910000000001,
          0.612348,
          0.616943,
          0.621776,
          0.626922,
          0.6324420000000001
         ]
        },
        {
         "hovertemplate": "id=864<br>x=%{x}<br>y=%{y}<br>z=%{z}<extra></extra>",
         "legendgroup": "864",
         "line": {
          "color": "#B6E880",
          "dash": "solid"
         },
         "marker": {
          "symbol": "circle"
         },
         "mode": "lines",
         "name": "864",
         "scene": "scene",
         "showlegend": true,
         "type": "scatter3d",
         "x": [
          0.6072949999999999,
          0.61582,
          0.622674,
          0.633497,
          0.636448,
          0.6418959999999999,
          0.6526839999999999
         ],
         "y": [
          0.420041,
          0.42014100000000004,
          0.429013,
          0.432831,
          0.435293,
          0.43835,
          0.445219
         ],
         "z": [
          0.758432,
          0.815548,
          0.82108,
          0.814843,
          0.815551,
          0.815042,
          0.812531
         ]
        },
        {
         "hovertemplate": "id=280<br>x=%{x}<br>y=%{y}<br>z=%{z}<extra></extra>",
         "legendgroup": "280",
         "line": {
          "color": "#FF97FF",
          "dash": "solid"
         },
         "marker": {
          "symbol": "circle"
         },
         "mode": "lines",
         "name": "280",
         "scene": "scene",
         "showlegend": true,
         "type": "scatter3d",
         "x": [
          0.242842,
          0.24181,
          0.241011,
          0.24049299999999998,
          0.24018899999999999,
          0.24010800000000002,
          0.240297
         ],
         "y": [
          0.586795,
          0.585208,
          0.583637,
          0.58214,
          0.5806549999999999,
          0.579167,
          0.577656
         ],
         "z": [
          0.16881800000000002,
          0.178918,
          0.188666,
          0.198545,
          0.208407,
          0.218389,
          0.228616
         ]
        },
        {
         "hovertemplate": "id=105<br>x=%{x}<br>y=%{y}<br>z=%{z}<extra></extra>",
         "legendgroup": "105",
         "line": {
          "color": "#FECB52",
          "dash": "solid"
         },
         "marker": {
          "symbol": "circle"
         },
         "mode": "lines",
         "name": "105",
         "scene": "scene",
         "showlegend": true,
         "type": "scatter3d",
         "x": [
          -0.22997599999999999,
          -0.228553,
          -0.22763999999999998,
          -0.226049,
          -0.226047,
          -0.230839,
          -0.233313
         ],
         "y": [
          0.8249740000000001,
          0.825721,
          0.826799,
          0.8282970000000001,
          0.827762,
          0.820351,
          0.820302
         ],
         "z": [
          0.537342,
          0.544899,
          0.552176,
          0.560914,
          0.571251,
          0.5877720000000001,
          0.596924
         ]
        },
        {
         "hovertemplate": "id=1411<br>x=%{x}<br>y=%{y}<br>z=%{z}<extra></extra>",
         "legendgroup": "1411",
         "line": {
          "color": "#636efa",
          "dash": "solid"
         },
         "marker": {
          "symbol": "circle"
         },
         "mode": "lines",
         "name": "1411",
         "scene": "scene",
         "showlegend": true,
         "type": "scatter3d",
         "x": [
          1.167527,
          1.190696,
          1.2084359999999998,
          1.2296500000000001,
          1.235903,
          1.2462719999999998,
          1.240142
         ],
         "y": [
          0.505576,
          0.532359,
          0.569255,
          0.587806,
          0.595151,
          0.58101,
          0.586114
         ],
         "z": [
          0.649177,
          0.704507,
          0.798868,
          0.828507,
          0.828853,
          0.8136680000000001,
          0.823505
         ]
        },
        {
         "hovertemplate": "id=1286<br>x=%{x}<br>y=%{y}<br>z=%{z}<extra></extra>",
         "legendgroup": "1286",
         "line": {
          "color": "#EF553B",
          "dash": "solid"
         },
         "marker": {
          "symbol": "circle"
         },
         "mode": "lines",
         "name": "1286",
         "scene": "scene",
         "showlegend": true,
         "type": "scatter3d",
         "x": [
          -0.270092,
          -0.266757,
          -0.266433,
          -0.261746,
          -0.26423,
          -0.25263,
          -0.223517
         ],
         "y": [
          0.135713,
          0.14269900000000002,
          0.153232,
          0.157338,
          0.17785900000000002,
          0.170625,
          0.179274
         ],
         "z": [
          0.246613,
          0.249369,
          0.264139,
          0.259959,
          0.290101,
          0.25925400000000004,
          0.224851
         ]
        },
        {
         "hovertemplate": "id=539<br>x=%{x}<br>y=%{y}<br>z=%{z}<extra></extra>",
         "legendgroup": "539",
         "line": {
          "color": "#00cc96",
          "dash": "solid"
         },
         "marker": {
          "symbol": "circle"
         },
         "mode": "lines",
         "name": "539",
         "scene": "scene",
         "showlegend": true,
         "type": "scatter3d",
         "x": [
          -0.179519,
          -0.167326,
          -0.157856,
          -0.146711,
          -0.13586199999999998,
          -0.11191899999999999,
          -0.10076399999999999
         ],
         "y": [
          0.370448,
          0.372456,
          0.369121,
          0.368576,
          0.36776,
          0.363044,
          0.36841199999999996
         ],
         "z": [
          -0.0009170000000000001,
          0.004006999999999999,
          0.002912,
          0.00653,
          0.010265,
          0.00312,
          -0.056991
         ]
        },
        {
         "hovertemplate": "id=46<br>x=%{x}<br>y=%{y}<br>z=%{z}<extra></extra>",
         "legendgroup": "46",
         "line": {
          "color": "#ab63fa",
          "dash": "solid"
         },
         "marker": {
          "symbol": "circle"
         },
         "mode": "lines",
         "name": "46",
         "scene": "scene",
         "showlegend": true,
         "type": "scatter3d",
         "x": [
          0.064226,
          0.075679,
          0.095033,
          0.10564,
          0.120294,
          0.131198,
          0.17353
         ],
         "y": [
          0.199799,
          0.20028800000000002,
          0.20279,
          0.20231200000000002,
          0.20366499999999998,
          0.203186,
          0.222827
         ],
         "z": [
          1.444016,
          1.4414310000000001,
          1.431607,
          1.428607,
          1.423214,
          1.4199549999999999,
          1.4122860000000002
         ]
        },
        {
         "hovertemplate": "id=1252<br>x=%{x}<br>y=%{y}<br>z=%{z}<extra></extra>",
         "legendgroup": "1252",
         "line": {
          "color": "#FFA15A",
          "dash": "solid"
         },
         "marker": {
          "symbol": "circle"
         },
         "mode": "lines",
         "name": "1252",
         "scene": "scene",
         "showlegend": true,
         "type": "scatter3d",
         "x": [
          0.206898,
          0.192448,
          0.163759,
          0.140103,
          0.14649299999999998,
          0.141574,
          0.131834
         ],
         "y": [
          0.7969489999999999,
          0.795111,
          0.79644,
          0.795497,
          0.7931180000000001,
          0.794674,
          0.804473
         ],
         "z": [
          1.207189,
          1.200404,
          1.163259,
          1.126092,
          1.120843,
          1.137807,
          1.17919
         ]
        },
        {
         "hovertemplate": "id=426<br>x=%{x}<br>y=%{y}<br>z=%{z}<extra></extra>",
         "legendgroup": "426",
         "line": {
          "color": "#19d3f3",
          "dash": "solid"
         },
         "marker": {
          "symbol": "circle"
         },
         "mode": "lines",
         "name": "426",
         "scene": "scene",
         "showlegend": true,
         "type": "scatter3d",
         "x": [
          1.126382,
          1.10891,
          1.107844,
          1.115893,
          1.1380730000000001,
          1.1596199999999999,
          1.195317
         ],
         "y": [
          0.811805,
          0.823373,
          0.817539,
          0.8021609999999999,
          0.778513,
          0.7590439999999999,
          0.765481
         ],
         "z": [
          0.46488799999999997,
          0.499154,
          0.503678,
          0.469758,
          0.37477999999999995,
          0.298923,
          0.207503
         ]
        },
        {
         "hovertemplate": "id=73<br>x=%{x}<br>y=%{y}<br>z=%{z}<extra></extra>",
         "legendgroup": "73",
         "line": {
          "color": "#FF6692",
          "dash": "solid"
         },
         "marker": {
          "symbol": "circle"
         },
         "mode": "lines",
         "name": "73",
         "scene": "scene",
         "showlegend": true,
         "type": "scatter3d",
         "x": [
          1.10658,
          1.111077,
          1.114807,
          1.13219,
          1.127159,
          1.1446379999999998,
          1.1678199999999999
         ],
         "y": [
          0.6370180000000001,
          0.647925,
          0.658984,
          0.677436,
          0.6836749999999999,
          0.676258,
          0.643034
         ],
         "z": [
          -0.059255,
          -0.058261,
          -0.056506999999999995,
          -0.060326,
          -0.054950000000000006,
          -0.026216,
          0.003058
         ]
        },
        {
         "hovertemplate": "id=526<br>x=%{x}<br>y=%{y}<br>z=%{z}<extra></extra>",
         "legendgroup": "526",
         "line": {
          "color": "#B6E880",
          "dash": "solid"
         },
         "marker": {
          "symbol": "circle"
         },
         "mode": "lines",
         "name": "526",
         "scene": "scene",
         "showlegend": true,
         "type": "scatter3d",
         "x": [
          0.665038,
          0.67437,
          0.684714,
          0.6960510000000001,
          0.7067319999999999,
          0.71623,
          0.72463,
          0.734733
         ],
         "y": [
          0.793065,
          0.800151,
          0.810003,
          0.818716,
          0.82578,
          0.831976,
          0.838082,
          0.8466480000000001
         ],
         "z": [
          0.868859,
          0.873527,
          0.8839539999999999,
          0.8929750000000001,
          0.899615,
          0.9048339999999999,
          0.9094840000000001,
          0.9157430000000001
         ]
        },
        {
         "hovertemplate": "id=664<br>x=%{x}<br>y=%{y}<br>z=%{z}<extra></extra>",
         "legendgroup": "664",
         "line": {
          "color": "#FF97FF",
          "dash": "solid"
         },
         "marker": {
          "symbol": "circle"
         },
         "mode": "lines",
         "name": "664",
         "scene": "scene",
         "showlegend": true,
         "type": "scatter3d",
         "x": [
          0.832346,
          0.8288490000000001,
          0.8273830000000001,
          0.824696,
          0.821576,
          0.819169,
          0.820206,
          0.817732
         ],
         "y": [
          0.799117,
          0.799249,
          0.8052809999999999,
          0.806566,
          0.808884,
          0.811334,
          0.8175119999999999,
          0.822744
         ],
         "z": [
          1.2578399999999998,
          1.258037,
          1.264096,
          1.264703,
          1.266786,
          1.268515,
          1.272172,
          1.278552
         ]
        },
        {
         "hovertemplate": "id=2848<br>x=%{x}<br>y=%{y}<br>z=%{z}<extra></extra>",
         "legendgroup": "2848",
         "line": {
          "color": "#FECB52",
          "dash": "solid"
         },
         "marker": {
          "symbol": "circle"
         },
         "mode": "lines",
         "name": "2848",
         "scene": "scene",
         "showlegend": true,
         "type": "scatter3d",
         "x": [
          0.818823,
          0.825758,
          0.837232,
          0.843262,
          0.858957,
          0.8709349999999999,
          0.878931
         ],
         "y": [
          0.605664,
          0.625525,
          0.630265,
          0.6368060000000001,
          0.6442279999999999,
          0.657,
          0.663212
         ],
         "z": [
          1.121095,
          1.1347539999999998,
          1.12556,
          1.12449,
          1.115451,
          1.11776,
          1.115541
         ]
        },
        {
         "hovertemplate": "id=665<br>x=%{x}<br>y=%{y}<br>z=%{z}<extra></extra>",
         "legendgroup": "665",
         "line": {
          "color": "#636efa",
          "dash": "solid"
         },
         "marker": {
          "symbol": "circle"
         },
         "mode": "lines",
         "name": "665",
         "scene": "scene",
         "showlegend": true,
         "type": "scatter3d",
         "x": [
          0.13136799999999998,
          0.138192,
          0.142673,
          0.147719,
          0.151438,
          0.15966,
          0.198207,
          0.20874
         ],
         "y": [
          0.106908,
          0.11793899999999999,
          0.12456999999999999,
          0.131208,
          0.145344,
          0.157298,
          0.14653899999999997,
          0.153393
         ],
         "z": [
          0.693589,
          0.696098,
          0.695331,
          0.694256,
          0.706661,
          0.7093039999999999,
          0.737275,
          0.738909
         ]
        },
        {
         "hovertemplate": "id=2994<br>x=%{x}<br>y=%{y}<br>z=%{z}<extra></extra>",
         "legendgroup": "2994",
         "line": {
          "color": "#EF553B",
          "dash": "solid"
         },
         "marker": {
          "symbol": "circle"
         },
         "mode": "lines",
         "name": "2994",
         "scene": "scene",
         "showlegend": true,
         "type": "scatter3d",
         "x": [
          0.149661,
          0.161321,
          0.17464500000000002,
          0.189404,
          0.201997,
          0.21907300000000002,
          0.233734
         ],
         "y": [
          0.101752,
          0.09405200000000001,
          0.09635200000000001,
          0.101539,
          0.103125,
          0.103812,
          0.112689
         ],
         "z": [
          1.216884,
          1.198161,
          1.194887,
          1.193824,
          1.191155,
          1.181643,
          1.185634
         ]
        },
        {
         "hovertemplate": "id=2770<br>x=%{x}<br>y=%{y}<br>z=%{z}<extra></extra>",
         "legendgroup": "2770",
         "line": {
          "color": "#00cc96",
          "dash": "solid"
         },
         "marker": {
          "symbol": "circle"
         },
         "mode": "lines",
         "name": "2770",
         "scene": "scene",
         "showlegend": true,
         "type": "scatter3d",
         "x": [
          -0.23977500000000002,
          -0.21666,
          -0.183391,
          -0.175936,
          -0.172129,
          -0.16716,
          -0.160525
         ],
         "y": [
          0.245699,
          0.207881,
          0.186777,
          0.18619300000000003,
          0.18703,
          0.18783699999999998,
          0.192849
         ],
         "z": [
          0.738568,
          0.665168,
          0.646432,
          0.638131,
          0.6278619999999999,
          0.637156,
          0.641189
         ]
        },
        {
         "hovertemplate": "id=47<br>x=%{x}<br>y=%{y}<br>z=%{z}<extra></extra>",
         "legendgroup": "47",
         "line": {
          "color": "#ab63fa",
          "dash": "solid"
         },
         "marker": {
          "symbol": "circle"
         },
         "mode": "lines",
         "name": "47",
         "scene": "scene",
         "showlegend": true,
         "type": "scatter3d",
         "x": [
          0.146233,
          0.145185,
          0.144503,
          0.14318799999999998,
          0.141503,
          0.139474,
          0.14212899999999998,
          0.176966
         ],
         "y": [
          0.195208,
          0.184841,
          0.17471899999999999,
          0.164009,
          0.152888,
          0.141583,
          0.11228700000000001,
          0.052549
         ],
         "z": [
          0.090771,
          0.095568,
          0.101112,
          0.107489,
          0.11433499999999999,
          0.121681,
          0.104075,
          0.052162999999999994
         ]
        },
        {
         "hovertemplate": "id=789<br>x=%{x}<br>y=%{y}<br>z=%{z}<extra></extra>",
         "legendgroup": "789",
         "line": {
          "color": "#FFA15A",
          "dash": "solid"
         },
         "marker": {
          "symbol": "circle"
         },
         "mode": "lines",
         "name": "789",
         "scene": "scene",
         "showlegend": true,
         "type": "scatter3d",
         "x": [
          0.9935259999999999,
          1.001576,
          1.008258,
          1.015042,
          1.021258,
          1.028337,
          1.032052,
          1.036014
         ],
         "y": [
          -0.015615,
          -0.014843,
          -0.015661,
          -0.015631,
          -0.015034,
          -0.020605000000000002,
          -0.021344000000000002,
          -0.021759
         ],
         "z": [
          0.638512,
          0.6394529999999999,
          0.637691,
          0.6372519999999999,
          0.638458,
          0.631809,
          0.633462,
          0.634857
         ]
        },
        {
         "hovertemplate": "id=3378<br>x=%{x}<br>y=%{y}<br>z=%{z}<extra></extra>",
         "legendgroup": "3378",
         "line": {
          "color": "#19d3f3",
          "dash": "solid"
         },
         "marker": {
          "symbol": "circle"
         },
         "mode": "lines",
         "name": "3378",
         "scene": "scene",
         "showlegend": true,
         "type": "scatter3d",
         "x": [
          0.6254400000000001,
          0.616189,
          0.617312,
          0.6413690000000001,
          0.651313,
          0.645668,
          0.645745
         ],
         "y": [
          0.19914300000000001,
          0.190766,
          0.173297,
          0.134168,
          0.130468,
          0.1394,
          0.150111
         ],
         "z": [
          1.3079880000000002,
          1.325818,
          1.3485530000000001,
          1.35216,
          1.34157,
          1.295169,
          1.28826
         ]
        },
        {
         "hovertemplate": "id=1214<br>x=%{x}<br>y=%{y}<br>z=%{z}<extra></extra>",
         "legendgroup": "1214",
         "line": {
          "color": "#FF6692",
          "dash": "solid"
         },
         "marker": {
          "symbol": "circle"
         },
         "mode": "lines",
         "name": "1214",
         "scene": "scene",
         "showlegend": true,
         "type": "scatter3d",
         "x": [
          -0.05805,
          -0.01526,
          0.005607,
          0.018449999999999998,
          0.029030999999999998,
          0.03791,
          0.047263,
          0.067184
         ],
         "y": [
          0.056646999999999996,
          0.041890000000000004,
          0.031751999999999996,
          0.031333,
          0.031624,
          0.029890999999999997,
          0.023367000000000002,
          0.013729
         ],
         "z": [
          1.353823,
          1.396232,
          1.436538,
          1.4357090000000001,
          1.4229,
          1.40051,
          1.397398,
          1.405878
         ]
        },
        {
         "hovertemplate": "id=63<br>x=%{x}<br>y=%{y}<br>z=%{z}<extra></extra>",
         "legendgroup": "63",
         "line": {
          "color": "#B6E880",
          "dash": "solid"
         },
         "marker": {
          "symbol": "circle"
         },
         "mode": "lines",
         "name": "63",
         "scene": "scene",
         "showlegend": true,
         "type": "scatter3d",
         "x": [
          -0.063642,
          -0.055264,
          -0.047885,
          -0.038558,
          -0.031659,
          -0.024169,
          -0.016944,
          -0.007657
         ],
         "y": [
          0.20990999999999999,
          0.211313,
          0.21219300000000002,
          0.21310900000000002,
          0.21576900000000002,
          0.217357,
          0.218859,
          0.223822
         ],
         "z": [
          0.704291,
          0.7055589999999999,
          0.705373,
          0.707558,
          0.7091989999999999,
          0.7100259999999999,
          0.710755,
          0.715163
         ]
        },
        {
         "hovertemplate": "id=3132<br>x=%{x}<br>y=%{y}<br>z=%{z}<extra></extra>",
         "legendgroup": "3132",
         "line": {
          "color": "#FF97FF",
          "dash": "solid"
         },
         "marker": {
          "symbol": "circle"
         },
         "mode": "lines",
         "name": "3132",
         "scene": "scene",
         "showlegend": true,
         "type": "scatter3d",
         "x": [
          -0.320056,
          -0.300546,
          -0.28783800000000004,
          -0.274386,
          -0.260662,
          -0.248829,
          -0.239194
         ],
         "y": [
          0.188558,
          0.16865799999999997,
          0.167237,
          0.162832,
          0.170152,
          0.16172,
          0.161744
         ],
         "z": [
          0.896266,
          0.8550829999999999,
          0.8468709999999999,
          0.831252,
          0.839802,
          0.816767,
          0.8162619999999999
         ]
        },
        {
         "hovertemplate": "id=2142<br>x=%{x}<br>y=%{y}<br>z=%{z}<extra></extra>",
         "legendgroup": "2142",
         "line": {
          "color": "#FECB52",
          "dash": "solid"
         },
         "marker": {
          "symbol": "circle"
         },
         "mode": "lines",
         "name": "2142",
         "scene": "scene",
         "showlegend": true,
         "type": "scatter3d",
         "x": [
          -0.049178,
          -0.06426000000000001,
          -0.068903,
          -0.047165,
          -0.033814,
          -0.036313000000000005,
          -0.060572,
          -0.090253
         ],
         "y": [
          0.494762,
          0.45993900000000004,
          0.45126799999999995,
          0.454274,
          0.441855,
          0.432094,
          0.464331,
          0.496918
         ],
         "z": [
          1.4730150000000002,
          1.450806,
          1.443118,
          1.474402,
          1.5057049999999998,
          1.5052619999999999,
          1.493481,
          1.442749
         ]
        },
        {
         "hovertemplate": "id=3190<br>x=%{x}<br>y=%{y}<br>z=%{z}<extra></extra>",
         "legendgroup": "3190",
         "line": {
          "color": "#636efa",
          "dash": "solid"
         },
         "marker": {
          "symbol": "circle"
         },
         "mode": "lines",
         "name": "3190",
         "scene": "scene",
         "showlegend": true,
         "type": "scatter3d",
         "x": [
          0.22940100000000002,
          0.224895,
          0.223579,
          0.22033000000000003,
          0.23912899999999998,
          0.26257600000000003,
          0.306819
         ],
         "y": [
          0.7733329999999999,
          0.7665420000000001,
          0.7775599999999999,
          0.779952,
          0.7962,
          0.815882,
          0.847194
         ],
         "z": [
          0.8921570000000001,
          0.908362,
          0.9089109999999999,
          0.963295,
          0.993154,
          1.0248620000000002,
          1.080222
         ]
        },
        {
         "hovertemplate": "id=3338<br>x=%{x}<br>y=%{y}<br>z=%{z}<extra></extra>",
         "legendgroup": "3338",
         "line": {
          "color": "#EF553B",
          "dash": "solid"
         },
         "marker": {
          "symbol": "circle"
         },
         "mode": "lines",
         "name": "3338",
         "scene": "scene",
         "showlegend": true,
         "type": "scatter3d",
         "x": [
          0.919121,
          0.908215,
          0.918794,
          0.9342590000000001,
          0.976785,
          1.018086,
          1.087578
         ],
         "y": [
          0.9314439999999999,
          0.923805,
          0.917808,
          0.899362,
          0.884053,
          0.876389,
          0.870272
         ],
         "z": [
          0.7547569999999999,
          0.7058819999999999,
          0.681292,
          0.6468039999999999,
          0.611761,
          0.580416,
          0.487394
         ]
        },
        {
         "hovertemplate": "id=963<br>x=%{x}<br>y=%{y}<br>z=%{z}<extra></extra>",
         "legendgroup": "963",
         "line": {
          "color": "#00cc96",
          "dash": "solid"
         },
         "marker": {
          "symbol": "circle"
         },
         "mode": "lines",
         "name": "963",
         "scene": "scene",
         "showlegend": true,
         "type": "scatter3d",
         "x": [
          -0.048350000000000004,
          -0.046375,
          -0.044291,
          -0.04199,
          -0.039638,
          -0.037326,
          -0.035086,
          -0.036617
         ],
         "y": [
          -0.008839,
          -0.008107,
          -0.007201,
          -0.00619,
          -0.005225,
          -0.004139,
          -0.003044,
          -0.002196
         ],
         "z": [
          0.516009,
          0.5195,
          0.523569,
          0.527711,
          0.532146,
          0.53662,
          0.5411950000000001,
          0.5502290000000001
         ]
        },
        {
         "hovertemplate": "id=200<br>x=%{x}<br>y=%{y}<br>z=%{z}<extra></extra>",
         "legendgroup": "200",
         "line": {
          "color": "#ab63fa",
          "dash": "solid"
         },
         "marker": {
          "symbol": "circle"
         },
         "mode": "lines",
         "name": "200",
         "scene": "scene",
         "showlegend": true,
         "type": "scatter3d",
         "x": [
          0.019245,
          0.02155,
          0.025165,
          0.023585000000000002,
          0.027463,
          0.03019,
          0.035056,
          0.042978
         ],
         "y": [
          0.050999,
          0.053785,
          0.061427,
          0.067106,
          0.07024599999999999,
          0.074946,
          0.077143,
          0.080374
         ],
         "z": [
          0.559725,
          0.562578,
          0.5712240000000001,
          0.58372,
          0.584723,
          0.5914640000000001,
          0.594017,
          0.586967
         ]
        },
        {
         "hovertemplate": "id=2593<br>x=%{x}<br>y=%{y}<br>z=%{z}<extra></extra>",
         "legendgroup": "2593",
         "line": {
          "color": "#FFA15A",
          "dash": "solid"
         },
         "marker": {
          "symbol": "circle"
         },
         "mode": "lines",
         "name": "2593",
         "scene": "scene",
         "showlegend": true,
         "type": "scatter3d",
         "x": [
          0.548466,
          0.551045,
          0.5534049999999999,
          0.555351,
          0.556995,
          0.558436,
          0.5589160000000001
         ],
         "y": [
          0.235977,
          0.233847,
          0.231662,
          0.229583,
          0.227303,
          0.225374,
          0.223071
         ],
         "z": [
          0.037601,
          0.045075000000000004,
          0.052314,
          0.059628999999999995,
          0.06683599999999999,
          0.074145,
          0.082202
         ]
        },
        {
         "hovertemplate": "id=2654<br>x=%{x}<br>y=%{y}<br>z=%{z}<extra></extra>",
         "legendgroup": "2654",
         "line": {
          "color": "#19d3f3",
          "dash": "solid"
         },
         "marker": {
          "symbol": "circle"
         },
         "mode": "lines",
         "name": "2654",
         "scene": "scene",
         "showlegend": true,
         "type": "scatter3d",
         "x": [
          0.468477,
          0.469043,
          0.47238600000000003,
          0.478053,
          0.481474,
          0.481151,
          0.458945
         ],
         "y": [
          0.393976,
          0.397433,
          0.395449,
          0.395368,
          0.39404,
          0.390579,
          0.39222199999999996
         ],
         "z": [
          0.113828,
          0.126119,
          0.127603,
          0.128116,
          0.129832,
          0.135376,
          0.19534700000000002
         ]
        },
        {
         "hovertemplate": "id=2643<br>x=%{x}<br>y=%{y}<br>z=%{z}<extra></extra>",
         "legendgroup": "2643",
         "line": {
          "color": "#FF6692",
          "dash": "solid"
         },
         "marker": {
          "symbol": "circle"
         },
         "mode": "lines",
         "name": "2643",
         "scene": "scene",
         "showlegend": true,
         "type": "scatter3d",
         "x": [
          0.825626,
          0.8339690000000001,
          0.8255739999999999,
          0.817952,
          0.843408,
          0.891482,
          0.9477329999999999
         ],
         "y": [
          0.838097,
          0.8489450000000001,
          0.8365410000000001,
          0.853085,
          0.857665,
          0.864448,
          0.879477
         ],
         "z": [
          0.655306,
          0.642528,
          0.6030449999999999,
          0.576757,
          0.5023500000000001,
          0.428231,
          0.381209
         ]
        },
        {
         "hovertemplate": "id=3837<br>x=%{x}<br>y=%{y}<br>z=%{z}<extra></extra>",
         "legendgroup": "3837",
         "line": {
          "color": "#B6E880",
          "dash": "solid"
         },
         "marker": {
          "symbol": "circle"
         },
         "mode": "lines",
         "name": "3837",
         "scene": "scene",
         "showlegend": true,
         "type": "scatter3d",
         "x": [
          1.143173,
          1.132095,
          1.129596,
          1.130841,
          1.1381320000000001,
          1.14667,
          1.148765
         ],
         "y": [
          0.745585,
          0.731164,
          0.722905,
          0.725962,
          0.761455,
          0.786432,
          0.794136
         ],
         "z": [
          0.139132,
          0.07816200000000001,
          0.066898,
          0.072405,
          0.122782,
          0.16836600000000002,
          0.163682
         ]
        },
        {
         "hovertemplate": "id=1534<br>x=%{x}<br>y=%{y}<br>z=%{z}<extra></extra>",
         "legendgroup": "1534",
         "line": {
          "color": "#FF97FF",
          "dash": "solid"
         },
         "marker": {
          "symbol": "circle"
         },
         "mode": "lines",
         "name": "1534",
         "scene": "scene",
         "showlegend": true,
         "type": "scatter3d",
         "x": [
          -0.04374,
          -0.027173,
          -0.0341,
          -0.038529,
          -0.042025,
          -0.046068,
          -0.051801,
          -0.054119999999999994,
          -0.056544
         ],
         "y": [
          0.685139,
          0.698939,
          0.699256,
          0.697039,
          0.693844,
          0.692484,
          0.684793,
          0.685092,
          0.680141
         ],
         "z": [
          0.104874,
          0.11871899999999999,
          0.138869,
          0.14612999999999998,
          0.153481,
          0.166737,
          0.16796799999999998,
          0.18562700000000001,
          0.18993100000000002
         ]
        },
        {
         "hovertemplate": "id=121<br>x=%{x}<br>y=%{y}<br>z=%{z}<extra></extra>",
         "legendgroup": "121",
         "line": {
          "color": "#FECB52",
          "dash": "solid"
         },
         "marker": {
          "symbol": "circle"
         },
         "mode": "lines",
         "name": "121",
         "scene": "scene",
         "showlegend": true,
         "type": "scatter3d",
         "x": [
          0.5242060000000001,
          0.530631,
          0.538952,
          0.544449,
          0.5509850000000001,
          0.557997,
          0.565055,
          0.57209,
          0.577905
         ],
         "y": [
          -0.014163,
          -0.015803,
          -0.020998000000000003,
          -0.018713999999999998,
          -0.021050999999999997,
          -0.022995,
          -0.025022,
          -0.027104,
          -0.028417
         ],
         "z": [
          0.017974,
          0.016134,
          0.006847000000000001,
          0.012236,
          0.009590999999999999,
          0.007195,
          0.004485,
          0.001915,
          0.005793
         ]
        },
        {
         "hovertemplate": "id=29<br>x=%{x}<br>y=%{y}<br>z=%{z}<extra></extra>",
         "legendgroup": "29",
         "line": {
          "color": "#636efa",
          "dash": "solid"
         },
         "marker": {
          "symbol": "circle"
         },
         "mode": "lines",
         "name": "29",
         "scene": "scene",
         "showlegend": true,
         "type": "scatter3d",
         "x": [
          -0.323281,
          -0.32742200000000005,
          -0.32952800000000004,
          -0.333038,
          -0.33784800000000004,
          -0.344434,
          -0.351947,
          -0.361565,
          -0.37007
         ],
         "y": [
          0.77454,
          0.768111,
          0.7654829999999999,
          0.7631319999999999,
          0.760517,
          0.758544,
          0.755738,
          0.754996,
          0.753439
         ],
         "z": [
          0.6056889999999999,
          0.607972,
          0.616147,
          0.623595,
          0.631297,
          0.641873,
          0.648963,
          0.656582,
          0.670311
         ]
        },
        {
         "hovertemplate": "id=214<br>x=%{x}<br>y=%{y}<br>z=%{z}<extra></extra>",
         "legendgroup": "214",
         "line": {
          "color": "#EF553B",
          "dash": "solid"
         },
         "marker": {
          "symbol": "circle"
         },
         "mode": "lines",
         "name": "214",
         "scene": "scene",
         "showlegend": true,
         "type": "scatter3d",
         "x": [
          -0.148135,
          -0.140647,
          -0.100633,
          -0.09597,
          -0.09162300000000001,
          -0.087007,
          -0.082091,
          -0.078193,
          -0.07448
         ],
         "y": [
          0.31093200000000004,
          0.314214,
          0.315313,
          0.313168,
          0.314193,
          0.314532,
          0.313635,
          0.31206599999999995,
          0.310056
         ],
         "z": [
          0.241035,
          0.236447,
          0.267752,
          0.26436200000000004,
          0.248298,
          0.245784,
          0.240136,
          0.238514,
          0.237067
         ]
        },
        {
         "hovertemplate": "id=65<br>x=%{x}<br>y=%{y}<br>z=%{z}<extra></extra>",
         "legendgroup": "65",
         "line": {
          "color": "#00cc96",
          "dash": "solid"
         },
         "marker": {
          "symbol": "circle"
         },
         "mode": "lines",
         "name": "65",
         "scene": "scene",
         "showlegend": true,
         "type": "scatter3d",
         "x": [
          0.355546,
          0.358966,
          0.362103,
          0.36502100000000004,
          0.36750099999999997,
          0.369721,
          0.371553,
          0.37622500000000003,
          0.374563
         ],
         "y": [
          0.15015,
          0.14185599999999998,
          0.133763,
          0.125893,
          0.11844400000000001,
          0.11132399999999999,
          0.104485,
          0.100786,
          0.091354
         ],
         "z": [
          0.321573,
          0.325764,
          0.330192,
          0.33456,
          0.339237,
          0.344156,
          0.349298,
          0.355497,
          0.36118599999999995
         ]
        },
        {
         "hovertemplate": "id=5305<br>x=%{x}<br>y=%{y}<br>z=%{z}<extra></extra>",
         "legendgroup": "5305",
         "line": {
          "color": "#ab63fa",
          "dash": "solid"
         },
         "marker": {
          "symbol": "circle"
         },
         "mode": "lines",
         "name": "5305",
         "scene": "scene",
         "showlegend": true,
         "type": "scatter3d",
         "x": [
          -0.308624,
          -0.331698,
          -0.349885,
          -0.37668799999999997,
          -0.39903,
          -0.41677,
          -0.40023899999999996
         ],
         "y": [
          0.639565,
          0.6234850000000001,
          0.619454,
          0.629524,
          0.626408,
          0.608976,
          0.614618
         ],
         "z": [
          0.828244,
          0.83928,
          0.836485,
          0.855409,
          0.894655,
          0.912805,
          0.944119
         ]
        },
        {
         "hovertemplate": "id=694<br>x=%{x}<br>y=%{y}<br>z=%{z}<extra></extra>",
         "legendgroup": "694",
         "line": {
          "color": "#FFA15A",
          "dash": "solid"
         },
         "marker": {
          "symbol": "circle"
         },
         "mode": "lines",
         "name": "694",
         "scene": "scene",
         "showlegend": true,
         "type": "scatter3d",
         "x": [
          0.656003,
          0.6574909999999999,
          0.6553669999999999,
          0.654492,
          0.655121,
          0.651601,
          0.648048,
          0.650258,
          0.649833
         ],
         "y": [
          0.653909,
          0.659904,
          0.663996,
          0.6692469999999999,
          0.6728390000000001,
          0.679137,
          0.681164,
          0.6853319999999999,
          0.690508
         ],
         "z": [
          1.477632,
          1.478424,
          1.479269,
          1.480223,
          1.478567,
          1.485278,
          1.487137,
          1.486321,
          1.489825
         ]
        },
        {
         "hovertemplate": "id=206<br>x=%{x}<br>y=%{y}<br>z=%{z}<extra></extra>",
         "legendgroup": "206",
         "line": {
          "color": "#19d3f3",
          "dash": "solid"
         },
         "marker": {
          "symbol": "circle"
         },
         "mode": "lines",
         "name": "206",
         "scene": "scene",
         "showlegend": true,
         "type": "scatter3d",
         "x": [
          0.7730589999999999,
          0.7869210000000001,
          0.799394,
          0.81151,
          0.826279,
          0.835819,
          0.8451620000000001,
          0.854131,
          0.8763970000000001
         ],
         "y": [
          0.463975,
          0.46613,
          0.475682,
          0.479031,
          0.48801,
          0.491586,
          0.494877,
          0.504569,
          0.494027
         ],
         "z": [
          1.455134,
          1.446548,
          1.4486839999999999,
          1.443903,
          1.442056,
          1.43717,
          1.432365,
          1.433243,
          1.397673
         ]
        },
        {
         "hovertemplate": "id=1010<br>x=%{x}<br>y=%{y}<br>z=%{z}<extra></extra>",
         "legendgroup": "1010",
         "line": {
          "color": "#FF6692",
          "dash": "solid"
         },
         "marker": {
          "symbol": "circle"
         },
         "mode": "lines",
         "name": "1010",
         "scene": "scene",
         "showlegend": true,
         "type": "scatter3d",
         "x": [
          0.196789,
          0.208925,
          0.222971,
          0.237457,
          0.255394,
          0.274296,
          0.28995,
          0.308458,
          0.324485
         ],
         "y": [
          0.17478,
          0.172724,
          0.16534000000000001,
          0.16653800000000002,
          0.16455,
          0.166628,
          0.163909,
          0.164467,
          0.168019
         ],
         "z": [
          1.238454,
          1.2395429999999998,
          1.231927,
          1.234842,
          1.2268409999999998,
          1.2217,
          1.213708,
          1.2065029999999999,
          1.204974
         ]
        },
        {
         "hovertemplate": "id=4362<br>x=%{x}<br>y=%{y}<br>z=%{z}<extra></extra>",
         "legendgroup": "4362",
         "line": {
          "color": "#B6E880",
          "dash": "solid"
         },
         "marker": {
          "symbol": "circle"
         },
         "mode": "lines",
         "name": "4362",
         "scene": "scene",
         "showlegend": true,
         "type": "scatter3d",
         "x": [
          1.084822,
          1.080058,
          1.0758610000000002,
          1.081975,
          1.09035,
          1.112832,
          1.15341
         ],
         "y": [
          0.768442,
          0.767169,
          0.764734,
          0.765689,
          0.760266,
          0.74658,
          0.737524
         ],
         "z": [
          0.7863490000000001,
          0.802293,
          0.806616,
          0.825075,
          0.837921,
          0.850185,
          0.820543
         ]
        },
        {
         "hovertemplate": "id=4466<br>x=%{x}<br>y=%{y}<br>z=%{z}<extra></extra>",
         "legendgroup": "4466",
         "line": {
          "color": "#FF97FF",
          "dash": "solid"
         },
         "marker": {
          "symbol": "circle"
         },
         "mode": "lines",
         "name": "4466",
         "scene": "scene",
         "showlegend": true,
         "type": "scatter3d",
         "x": [
          0.386217,
          0.39269600000000005,
          0.39547699999999997,
          0.3993,
          0.402777,
          0.396425,
          0.396228
         ],
         "y": [
          0.5539270000000001,
          0.553242,
          0.55374,
          0.554701,
          0.556677,
          0.564958,
          0.5556939999999999
         ],
         "z": [
          0.702947,
          0.710062,
          0.7193630000000001,
          0.7266630000000001,
          0.7356699999999999,
          0.765575,
          0.791906
         ]
        },
        {
         "hovertemplate": "id=2328<br>x=%{x}<br>y=%{y}<br>z=%{z}<extra></extra>",
         "legendgroup": "2328",
         "line": {
          "color": "#FECB52",
          "dash": "solid"
         },
         "marker": {
          "symbol": "circle"
         },
         "mode": "lines",
         "name": "2328",
         "scene": "scene",
         "showlegend": true,
         "type": "scatter3d",
         "x": [
          -0.443131,
          -0.42983899999999997,
          -0.40703500000000004,
          -0.38502,
          -0.387851,
          -0.38881,
          -0.365984,
          -0.331984,
          -0.275733
         ],
         "y": [
          0.7487440000000001,
          0.747436,
          0.755043,
          0.735172,
          0.7296269999999999,
          0.7341190000000001,
          0.747024,
          0.763342,
          0.805871
         ],
         "z": [
          0.839349,
          0.87903,
          0.917329,
          0.9799640000000001,
          0.982827,
          0.9892580000000001,
          0.986812,
          1.006723,
          1.056203
         ]
        },
        {
         "hovertemplate": "id=4418<br>x=%{x}<br>y=%{y}<br>z=%{z}<extra></extra>",
         "legendgroup": "4418",
         "line": {
          "color": "#636efa",
          "dash": "solid"
         },
         "marker": {
          "symbol": "circle"
         },
         "mode": "lines",
         "name": "4418",
         "scene": "scene",
         "showlegend": true,
         "type": "scatter3d",
         "x": [
          0.393632,
          0.39918400000000004,
          0.400745,
          0.40276999999999996,
          0.41471399999999997,
          0.43312,
          0.43449
         ],
         "y": [
          0.841386,
          0.836274,
          0.831013,
          0.823806,
          0.820207,
          0.804197,
          0.806184
         ],
         "z": [
          0.5039100000000001,
          0.511311,
          0.52311,
          0.532064,
          0.53925,
          0.523729,
          0.48837
         ]
        },
        {
         "hovertemplate": "id=2585<br>x=%{x}<br>y=%{y}<br>z=%{z}<extra></extra>",
         "legendgroup": "2585",
         "line": {
          "color": "#EF553B",
          "dash": "solid"
         },
         "marker": {
          "symbol": "circle"
         },
         "mode": "lines",
         "name": "2585",
         "scene": "scene",
         "showlegend": true,
         "type": "scatter3d",
         "x": [
          0.718367,
          0.721703,
          0.725312,
          0.728816,
          0.732518,
          0.734004,
          0.736953,
          0.749042
         ],
         "y": [
          0.729429,
          0.7336079999999999,
          0.739658,
          0.745848,
          0.7522179999999999,
          0.7571100000000001,
          0.7741480000000001,
          0.793301
         ],
         "z": [
          0.465901,
          0.469495,
          0.475254,
          0.48102999999999996,
          0.48691199999999996,
          0.49157100000000004,
          0.46655599999999997,
          0.446032
         ]
        },
        {
         "hovertemplate": "id=87<br>x=%{x}<br>y=%{y}<br>z=%{z}<extra></extra>",
         "legendgroup": "87",
         "line": {
          "color": "#00cc96",
          "dash": "solid"
         },
         "marker": {
          "symbol": "circle"
         },
         "mode": "lines",
         "name": "87",
         "scene": "scene",
         "showlegend": true,
         "type": "scatter3d",
         "x": [
          1.260105,
          1.236237,
          1.2197550000000001,
          1.20861,
          1.195914,
          1.20523,
          1.207725,
          1.223057,
          1.227484
         ],
         "y": [
          0.579173,
          0.573509,
          0.569241,
          0.56571,
          0.5812930000000001,
          0.587885,
          0.590475,
          0.6019779999999999,
          0.603921
         ],
         "z": [
          0.801691,
          0.84341,
          0.850857,
          0.8360420000000001,
          0.85578,
          0.852431,
          0.848204,
          0.846804,
          0.847914
         ]
        },
        {
         "hovertemplate": "id=3070<br>x=%{x}<br>y=%{y}<br>z=%{z}<extra></extra>",
         "legendgroup": "3070",
         "line": {
          "color": "#ab63fa",
          "dash": "solid"
         },
         "marker": {
          "symbol": "circle"
         },
         "mode": "lines",
         "name": "3070",
         "scene": "scene",
         "showlegend": true,
         "type": "scatter3d",
         "x": [
          0.910813,
          0.925917,
          0.951985,
          0.944104,
          0.9394239999999999,
          0.91724,
          0.891495,
          0.892124
         ],
         "y": [
          0.557063,
          0.57556,
          0.578569,
          0.591504,
          0.625401,
          0.64222,
          0.641491,
          0.643929
         ],
         "z": [
          0.15681399999999998,
          0.12485500000000001,
          0.086845,
          0.10844799999999999,
          0.132271,
          0.179823,
          0.21528299999999997,
          0.23089500000000002
         ]
        },
        {
         "hovertemplate": "id=3458<br>x=%{x}<br>y=%{y}<br>z=%{z}<extra></extra>",
         "legendgroup": "3458",
         "line": {
          "color": "#FFA15A",
          "dash": "solid"
         },
         "marker": {
          "symbol": "circle"
         },
         "mode": "lines",
         "name": "3458",
         "scene": "scene",
         "showlegend": true,
         "type": "scatter3d",
         "x": [
          -0.34957900000000003,
          -0.34775599999999995,
          -0.34300400000000003,
          -0.35944,
          -0.337841,
          -0.307428,
          -0.300056,
          -0.307288
         ],
         "y": [
          0.91547,
          0.913136,
          0.915384,
          0.911624,
          0.89943,
          0.871231,
          0.856573,
          0.829176
         ],
         "z": [
          0.911068,
          0.928831,
          0.937883,
          0.92711,
          0.9053410000000001,
          0.8486319999999999,
          0.71841,
          0.5613360000000001
         ]
        },
        {
         "hovertemplate": "id=4256<br>x=%{x}<br>y=%{y}<br>z=%{z}<extra></extra>",
         "legendgroup": "4256",
         "line": {
          "color": "#19d3f3",
          "dash": "solid"
         },
         "marker": {
          "symbol": "circle"
         },
         "mode": "lines",
         "name": "4256",
         "scene": "scene",
         "showlegend": true,
         "type": "scatter3d",
         "x": [
          0.6134539999999999,
          0.6186609999999999,
          0.62386,
          0.629071,
          0.634192,
          0.639126,
          0.6239020000000001
         ],
         "y": [
          0.248796,
          0.24996600000000002,
          0.251301,
          0.252811,
          0.25435,
          0.256052,
          0.300921
         ],
         "z": [
          0.018434000000000002,
          0.025184,
          0.031989000000000004,
          0.039017,
          0.045667,
          0.052363999999999994,
          0.093099
         ]
        },
        {
         "hovertemplate": "id=5179<br>x=%{x}<br>y=%{y}<br>z=%{z}<extra></extra>",
         "legendgroup": "5179",
         "line": {
          "color": "#FF6692",
          "dash": "solid"
         },
         "marker": {
          "symbol": "circle"
         },
         "mode": "lines",
         "name": "5179",
         "scene": "scene",
         "showlegend": true,
         "type": "scatter3d",
         "x": [
          1.141909,
          1.142769,
          1.156202,
          1.170808,
          1.172635,
          1.187663,
          1.228483
         ],
         "y": [
          -0.232386,
          -0.237929,
          -0.240372,
          -0.239073,
          -0.233681,
          -0.223988,
          -0.17551599999999998
         ],
         "z": [
          0.784042,
          0.7742859999999999,
          0.768497,
          0.769698,
          0.8228909999999999,
          0.8473390000000001,
          0.8821180000000001
         ]
        },
        {
         "hovertemplate": "id=4883<br>x=%{x}<br>y=%{y}<br>z=%{z}<extra></extra>",
         "legendgroup": "4883",
         "line": {
          "color": "#B6E880",
          "dash": "solid"
         },
         "marker": {
          "symbol": "circle"
         },
         "mode": "lines",
         "name": "4883",
         "scene": "scene",
         "showlegend": true,
         "type": "scatter3d",
         "x": [
          0.319682,
          0.325092,
          0.334386,
          0.350074,
          0.375032,
          0.356226,
          0.37796300000000005
         ],
         "y": [
          -0.013604,
          -0.01288,
          -0.002502,
          0.006692999999999999,
          -0.011288,
          -0.042612000000000004,
          -0.079053
         ],
         "z": [
          1.1851500000000001,
          1.200179,
          1.22803,
          1.234218,
          1.19621,
          1.161196,
          1.134282
         ]
        },
        {
         "hovertemplate": "id=3246<br>x=%{x}<br>y=%{y}<br>z=%{z}<extra></extra>",
         "legendgroup": "3246",
         "line": {
          "color": "#FF97FF",
          "dash": "solid"
         },
         "marker": {
          "symbol": "circle"
         },
         "mode": "lines",
         "name": "3246",
         "scene": "scene",
         "showlegend": true,
         "type": "scatter3d",
         "x": [
          0.5766100000000001,
          0.5370280000000001,
          0.492427,
          0.449209,
          0.412066,
          0.360699,
          0.285478,
          0.20113399999999998
         ],
         "y": [
          0.85484,
          0.8567400000000001,
          0.841545,
          0.822539,
          0.798548,
          0.77207,
          0.7473630000000001,
          0.752128
         ],
         "z": [
          0.969062,
          0.902901,
          0.8518,
          0.801676,
          0.738504,
          0.649363,
          0.527861,
          0.36791
         ]
        },
        {
         "hovertemplate": "id=27<br>x=%{x}<br>y=%{y}<br>z=%{z}<extra></extra>",
         "legendgroup": "27",
         "line": {
          "color": "#FECB52",
          "dash": "solid"
         },
         "marker": {
          "symbol": "circle"
         },
         "mode": "lines",
         "name": "27",
         "scene": "scene",
         "showlegend": true,
         "type": "scatter3d",
         "x": [
          0.40664,
          0.4101,
          0.413815,
          0.417591,
          0.42138099999999995,
          0.425176,
          0.428816,
          0.432273,
          0.464152
         ],
         "y": [
          0.26871,
          0.263294,
          0.25755700000000004,
          0.251571,
          0.245546,
          0.239456,
          0.233314,
          0.226982,
          0.21616300000000002
         ],
         "z": [
          0.044656,
          0.05269,
          0.060351,
          0.06764,
          0.075051,
          0.082278,
          0.090012,
          0.097521,
          0.074129
         ]
        },
        {
         "hovertemplate": "id=4701<br>x=%{x}<br>y=%{y}<br>z=%{z}<extra></extra>",
         "legendgroup": "4701",
         "line": {
          "color": "#636efa",
          "dash": "solid"
         },
         "marker": {
          "symbol": "circle"
         },
         "mode": "lines",
         "name": "4701",
         "scene": "scene",
         "showlegend": true,
         "type": "scatter3d",
         "x": [
          -0.015024,
          0.039762,
          0.087348,
          0.138631,
          0.15955000000000003,
          0.15556999999999999,
          0.156669
         ],
         "y": [
          0.052518999999999996,
          0.050338,
          0.055223,
          0.032121000000000004,
          -0.001648,
          -0.057906,
          -0.069044
         ],
         "z": [
          1.186674,
          1.2380820000000001,
          1.272835,
          1.352303,
          1.409434,
          1.443087,
          1.462146
         ]
        },
        {
         "hovertemplate": "id=3631<br>x=%{x}<br>y=%{y}<br>z=%{z}<extra></extra>",
         "legendgroup": "3631",
         "line": {
          "color": "#EF553B",
          "dash": "solid"
         },
         "marker": {
          "symbol": "circle"
         },
         "mode": "lines",
         "name": "3631",
         "scene": "scene",
         "showlegend": true,
         "type": "scatter3d",
         "x": [
          0.314158,
          0.27681900000000004,
          0.23341599999999998,
          0.168911,
          0.076196,
          -0.020358,
          -0.103387,
          -0.173624
         ],
         "y": [
          0.763554,
          0.756444,
          0.746066,
          0.715225,
          0.694059,
          0.6795220000000001,
          0.629396,
          0.5881130000000001
         ],
         "z": [
          -0.058357,
          -0.012566,
          0.05051,
          0.104297,
          0.08215,
          0.046253,
          0.020521,
          -0.040038
         ]
        },
        {
         "hovertemplate": "id=5448<br>x=%{x}<br>y=%{y}<br>z=%{z}<extra></extra>",
         "legendgroup": "5448",
         "line": {
          "color": "#00cc96",
          "dash": "solid"
         },
         "marker": {
          "symbol": "circle"
         },
         "mode": "lines",
         "name": "5448",
         "scene": "scene",
         "showlegend": true,
         "type": "scatter3d",
         "x": [
          1.262332,
          1.271742,
          1.2962280000000002,
          1.304642,
          1.312281,
          1.319215,
          1.327221
         ],
         "y": [
          -0.26603699999999997,
          -0.269522,
          -0.30469999999999997,
          -0.29987400000000003,
          -0.29499400000000003,
          -0.29275799999999996,
          -0.287517
         ],
         "z": [
          0.909092,
          0.906702,
          0.942824,
          0.939775,
          0.936716,
          0.927434,
          0.9291029999999999
         ]
        },
        {
         "hovertemplate": "id=198<br>x=%{x}<br>y=%{y}<br>z=%{z}<extra></extra>",
         "legendgroup": "198",
         "line": {
          "color": "#ab63fa",
          "dash": "solid"
         },
         "marker": {
          "symbol": "circle"
         },
         "mode": "lines",
         "name": "198",
         "scene": "scene",
         "showlegend": true,
         "type": "scatter3d",
         "x": [
          0.268356,
          0.270391,
          0.273181,
          0.274606,
          0.277024,
          0.281129,
          0.28051299999999996,
          0.287989,
          0.283263,
          0.285505
         ],
         "y": [
          0.314045,
          0.30868900000000005,
          0.30406,
          0.298911,
          0.293422,
          0.287882,
          0.28272800000000003,
          0.276809,
          0.272109,
          0.26534800000000003
         ],
         "z": [
          0.13866399999999998,
          0.148818,
          0.161425,
          0.171244,
          0.181702,
          0.187938,
          0.2016,
          0.200815,
          0.219916,
          0.22259800000000002
         ]
        },
        {
         "hovertemplate": "id=5543<br>x=%{x}<br>y=%{y}<br>z=%{z}<extra></extra>",
         "legendgroup": "5543",
         "line": {
          "color": "#FFA15A",
          "dash": "solid"
         },
         "marker": {
          "symbol": "circle"
         },
         "mode": "lines",
         "name": "5543",
         "scene": "scene",
         "showlegend": true,
         "type": "scatter3d",
         "x": [
          0.142094,
          0.158487,
          0.176036,
          0.192183,
          0.209464,
          0.22609800000000002,
          0.240887
         ],
         "y": [
          0.033455,
          0.038006,
          0.042276,
          0.047863,
          0.06216,
          0.056851,
          0.064081
         ],
         "z": [
          1.17083,
          1.163086,
          1.1547370000000001,
          1.148836,
          1.152002,
          1.1315840000000001,
          1.128546
         ]
        },
        {
         "hovertemplate": "id=4151<br>x=%{x}<br>y=%{y}<br>z=%{z}<extra></extra>",
         "legendgroup": "4151",
         "line": {
          "color": "#19d3f3",
          "dash": "solid"
         },
         "marker": {
          "symbol": "circle"
         },
         "mode": "lines",
         "name": "4151",
         "scene": "scene",
         "showlegend": true,
         "type": "scatter3d",
         "x": [
          0.4245,
          0.43757999999999997,
          0.452356,
          0.46819,
          0.484776,
          0.502864,
          0.517297,
          0.530178
         ],
         "y": [
          0.227446,
          0.229213,
          0.23705199999999998,
          0.239283,
          0.24185800000000002,
          0.241582,
          0.245834,
          0.252369
         ],
         "z": [
          0.925457,
          0.9295760000000001,
          0.931549,
          0.928723,
          0.926438,
          0.9227329999999999,
          0.92162,
          0.927077
         ]
        },
        {
         "hovertemplate": "id=6676<br>x=%{x}<br>y=%{y}<br>z=%{z}<extra></extra>",
         "legendgroup": "6676",
         "line": {
          "color": "#FF6692",
          "dash": "solid"
         },
         "marker": {
          "symbol": "circle"
         },
         "mode": "lines",
         "name": "6676",
         "scene": "scene",
         "showlegend": true,
         "type": "scatter3d",
         "x": [
          -0.032264,
          -0.037662,
          -0.041619,
          -0.045305,
          -0.047498,
          -0.050129,
          -0.05255
         ],
         "y": [
          0.771018,
          0.7662599999999999,
          0.7636470000000001,
          0.759832,
          0.756182,
          0.753334,
          0.749792
         ],
         "z": [
          0.225883,
          0.231627,
          0.241817,
          0.25068199999999996,
          0.261799,
          0.271749,
          0.281928
         ]
        },
        {
         "hovertemplate": "id=296<br>x=%{x}<br>y=%{y}<br>z=%{z}<extra></extra>",
         "legendgroup": "296",
         "line": {
          "color": "#B6E880",
          "dash": "solid"
         },
         "marker": {
          "symbol": "circle"
         },
         "mode": "lines",
         "name": "296",
         "scene": "scene",
         "showlegend": true,
         "type": "scatter3d",
         "x": [
          0.090859,
          0.103196,
          0.112589,
          0.123178,
          0.133199,
          0.13998,
          0.15293500000000002,
          0.163231,
          0.174266,
          0.186209
         ],
         "y": [
          0.007913,
          0.013676,
          0.018119,
          0.023797000000000002,
          0.02638,
          0.028179,
          0.02972,
          0.030025,
          0.032557,
          0.034377000000000005
         ],
         "z": [
          0.7327899999999999,
          0.735495,
          0.738013,
          0.7472219999999999,
          0.7527290000000001,
          0.758462,
          0.75337,
          0.751283,
          0.7533920000000001,
          0.754687
         ]
        },
        {
         "hovertemplate": "id=3383<br>x=%{x}<br>y=%{y}<br>z=%{z}<extra></extra>",
         "legendgroup": "3383",
         "line": {
          "color": "#FF97FF",
          "dash": "solid"
         },
         "marker": {
          "symbol": "circle"
         },
         "mode": "lines",
         "name": "3383",
         "scene": "scene",
         "showlegend": true,
         "type": "scatter3d",
         "x": [
          0.316214,
          0.333303,
          0.34883800000000004,
          0.356906,
          0.35587799999999997,
          0.382368,
          0.406009,
          0.43027499999999996,
          0.437771
         ],
         "y": [
          -0.07451,
          -0.051423,
          -0.042938000000000004,
          -0.038671,
          -0.034158,
          -0.007377,
          -0.016364,
          -0.019059,
          -0.0049039999999999995
         ],
         "z": [
          1.068419,
          1.076834,
          1.070986,
          1.069003,
          1.0793789999999999,
          1.0890609999999998,
          1.049855,
          1.028162,
          1.035912
         ]
        },
        {
         "hovertemplate": "id=50<br>x=%{x}<br>y=%{y}<br>z=%{z}<extra></extra>",
         "legendgroup": "50",
         "line": {
          "color": "#FECB52",
          "dash": "solid"
         },
         "marker": {
          "symbol": "circle"
         },
         "mode": "lines",
         "name": "50",
         "scene": "scene",
         "showlegend": true,
         "type": "scatter3d",
         "x": [
          0.586506,
          0.5895940000000001,
          0.591727,
          0.594701,
          0.597727,
          0.6007140000000001,
          0.603417,
          0.6056900000000001,
          0.6069349999999999,
          0.613042
         ],
         "y": [
          0.5246230000000001,
          0.527599,
          0.531702,
          0.535279,
          0.539063,
          0.543169,
          0.547894,
          0.5528970000000001,
          0.558373,
          0.563474
         ],
         "z": [
          0.024312999999999998,
          0.028089,
          0.032039,
          0.03569,
          0.039030999999999996,
          0.042086,
          0.04529,
          0.048313,
          0.05176,
          0.048051
         ]
        },
        {
         "hovertemplate": "id=268<br>x=%{x}<br>y=%{y}<br>z=%{z}<extra></extra>",
         "legendgroup": "268",
         "line": {
          "color": "#636efa",
          "dash": "solid"
         },
         "marker": {
          "symbol": "circle"
         },
         "mode": "lines",
         "name": "268",
         "scene": "scene",
         "showlegend": true,
         "type": "scatter3d",
         "x": [
          -0.066161,
          -0.051183,
          -0.040972999999999996,
          -0.030431,
          -0.012243,
          -0.00315,
          0.032862,
          0.050903,
          0.053948,
          0.046414000000000004
         ],
         "y": [
          0.242709,
          0.246582,
          0.244066,
          0.246598,
          0.25172,
          0.253019,
          0.276386,
          0.28577800000000003,
          0.285664,
          0.26480000000000004
         ],
         "z": [
          1.09738,
          1.087193,
          1.072164,
          1.066841,
          1.056509,
          1.053825,
          1.0541639999999999,
          1.0874469999999998,
          1.079019,
          1.0328810000000002
         ]
        },
        {
         "hovertemplate": "id=80<br>x=%{x}<br>y=%{y}<br>z=%{z}<extra></extra>",
         "legendgroup": "80",
         "line": {
          "color": "#EF553B",
          "dash": "solid"
         },
         "marker": {
          "symbol": "circle"
         },
         "mode": "lines",
         "name": "80",
         "scene": "scene",
         "showlegend": true,
         "type": "scatter3d",
         "x": [
          -0.167432,
          -0.154701,
          -0.138882,
          -0.123242,
          -0.111459,
          -0.09492400000000001,
          -0.08318500000000001,
          -0.068966,
          -0.055668999999999996,
          -0.040167
         ],
         "y": [
          0.025226,
          0.024458999999999998,
          0.024395,
          0.018803999999999998,
          0.017442,
          0.016827,
          0.016273,
          0.015115,
          0.009994,
          0.00869
         ],
         "z": [
          1.32298,
          1.316932,
          1.3070540000000002,
          1.289414,
          1.282872,
          1.270945,
          1.2658479999999999,
          1.256327,
          1.243,
          1.23218
         ]
        },
        {
         "hovertemplate": "id=6486<br>x=%{x}<br>y=%{y}<br>z=%{z}<extra></extra>",
         "legendgroup": "6486",
         "line": {
          "color": "#00cc96",
          "dash": "solid"
         },
         "marker": {
          "symbol": "circle"
         },
         "mode": "lines",
         "name": "6486",
         "scene": "scene",
         "showlegend": true,
         "type": "scatter3d",
         "x": [
          0.420557,
          0.38716199999999995,
          0.332177,
          0.243126,
          0.137755,
          0.019289999999999998,
          -0.089272
         ],
         "y": [
          0.871297,
          0.860827,
          0.851096,
          0.841858,
          0.827587,
          0.792427,
          0.748789
         ],
         "z": [
          0.669086,
          0.609818,
          0.609707,
          0.647961,
          0.7098920000000001,
          0.732389,
          0.724897
         ]
        },
        {
         "hovertemplate": "id=5550<br>x=%{x}<br>y=%{y}<br>z=%{z}<extra></extra>",
         "legendgroup": "5550",
         "line": {
          "color": "#ab63fa",
          "dash": "solid"
         },
         "marker": {
          "symbol": "circle"
         },
         "mode": "lines",
         "name": "5550",
         "scene": "scene",
         "showlegend": true,
         "type": "scatter3d",
         "x": [
          0.08214199999999999,
          0.08337900000000001,
          0.08456,
          0.08589400000000001,
          0.09055200000000001,
          0.08784399999999999,
          0.08778799999999999
         ],
         "y": [
          0.13336699999999999,
          0.131927,
          0.129673,
          0.126818,
          0.119792,
          0.118977,
          0.11499899999999999
         ],
         "z": [
          0.382344,
          0.38320800000000005,
          0.383284,
          0.383809,
          0.37358199999999997,
          0.38602800000000004,
          0.38956599999999997
         ]
        },
        {
         "hovertemplate": "id=4736<br>x=%{x}<br>y=%{y}<br>z=%{z}<extra></extra>",
         "legendgroup": "4736",
         "line": {
          "color": "#FFA15A",
          "dash": "solid"
         },
         "marker": {
          "symbol": "circle"
         },
         "mode": "lines",
         "name": "4736",
         "scene": "scene",
         "showlegend": true,
         "type": "scatter3d",
         "x": [
          0.589245,
          0.569994,
          0.5548630000000001,
          0.5330090000000001,
          0.5216660000000001,
          0.524424,
          0.526655,
          0.52003
         ],
         "y": [
          0.921883,
          0.912633,
          0.919011,
          0.931947,
          0.9275399999999999,
          0.920299,
          0.923159,
          0.919574
         ],
         "z": [
          0.702264,
          0.715124,
          0.6918949999999999,
          0.6695059999999999,
          0.659726,
          0.628191,
          0.602249,
          0.58566
         ]
        },
        {
         "hovertemplate": "id=5206<br>x=%{x}<br>y=%{y}<br>z=%{z}<extra></extra>",
         "legendgroup": "5206",
         "line": {
          "color": "#19d3f3",
          "dash": "solid"
         },
         "marker": {
          "symbol": "circle"
         },
         "mode": "lines",
         "name": "5206",
         "scene": "scene",
         "showlegend": true,
         "type": "scatter3d",
         "x": [
          0.27282999999999996,
          0.31564,
          0.303241,
          0.308423,
          0.318298,
          0.326173,
          0.334736,
          0.340026
         ],
         "y": [
          0.072589,
          0.067721,
          0.068011,
          0.06701900000000001,
          0.067725,
          0.065849,
          0.055651000000000006,
          0.045583
         ],
         "z": [
          1.380377,
          1.4354449999999999,
          1.427493,
          1.442202,
          1.4517159999999998,
          1.458855,
          1.465155,
          1.46614
         ]
        },
        {
         "hovertemplate": "id=101<br>x=%{x}<br>y=%{y}<br>z=%{z}<extra></extra>",
         "legendgroup": "101",
         "line": {
          "color": "#FF6692",
          "dash": "solid"
         },
         "marker": {
          "symbol": "circle"
         },
         "mode": "lines",
         "name": "101",
         "scene": "scene",
         "showlegend": true,
         "type": "scatter3d",
         "x": [
          1.084793,
          1.0967719999999999,
          1.1012039999999998,
          1.1052739999999999,
          1.122614,
          1.103008,
          1.035828,
          1.027912,
          1.039764,
          1.0457260000000002
         ],
         "y": [
          0.136069,
          0.137799,
          0.140724,
          0.138403,
          0.15997399999999998,
          0.19275499999999998,
          0.242177,
          0.261315,
          0.262189,
          0.26660500000000004
         ],
         "z": [
          0.9028999999999999,
          0.895227,
          0.894671,
          0.892054,
          0.894223,
          0.952863,
          1.034619,
          1.045441,
          1.040588,
          1.035315
         ]
        },
        {
         "hovertemplate": "id=2829<br>x=%{x}<br>y=%{y}<br>z=%{z}<extra></extra>",
         "legendgroup": "2829",
         "line": {
          "color": "#B6E880",
          "dash": "solid"
         },
         "marker": {
          "symbol": "circle"
         },
         "mode": "lines",
         "name": "2829",
         "scene": "scene",
         "showlegend": true,
         "type": "scatter3d",
         "x": [
          0.39561799999999997,
          0.402951,
          0.411066,
          0.425604,
          0.436879,
          0.452044,
          0.46181900000000004,
          0.472,
          0.475248
         ],
         "y": [
          0.184815,
          0.187732,
          0.18338200000000002,
          0.171711,
          0.166034,
          0.16794800000000001,
          0.17238399999999998,
          0.159799,
          0.159319
         ],
         "z": [
          1.477517,
          1.4877829999999999,
          1.487578,
          1.479234,
          1.481001,
          1.4935740000000002,
          1.504052,
          1.4625380000000001,
          1.462561
         ]
        },
        {
         "hovertemplate": "id=6065<br>x=%{x}<br>y=%{y}<br>z=%{z}<extra></extra>",
         "legendgroup": "6065",
         "line": {
          "color": "#FF97FF",
          "dash": "solid"
         },
         "marker": {
          "symbol": "circle"
         },
         "mode": "lines",
         "name": "6065",
         "scene": "scene",
         "showlegend": true,
         "type": "scatter3d",
         "x": [
          -0.38580000000000003,
          -0.388301,
          -0.39461799999999997,
          -0.3946,
          -0.406178,
          -0.410214,
          -0.403555
         ],
         "y": [
          0.7937000000000001,
          0.7809579999999999,
          0.786755,
          0.783969,
          0.808375,
          0.842587,
          0.893131
         ],
         "z": [
          0.9808429999999999,
          1.005085,
          1.0148840000000001,
          1.014448,
          0.958094,
          0.955773,
          0.953423
         ]
        },
        {
         "hovertemplate": "id=5405<br>x=%{x}<br>y=%{y}<br>z=%{z}<extra></extra>",
         "legendgroup": "5405",
         "line": {
          "color": "#FECB52",
          "dash": "solid"
         },
         "marker": {
          "symbol": "circle"
         },
         "mode": "lines",
         "name": "5405",
         "scene": "scene",
         "showlegend": true,
         "type": "scatter3d",
         "x": [
          -0.040057,
          -0.01739,
          -0.009260999999999998,
          -0.007413,
          -0.00508,
          -0.002382,
          0.00025,
          0.021695
         ],
         "y": [
          0.5368569999999999,
          0.550102,
          0.573896,
          0.5746169999999999,
          0.5753959999999999,
          0.576266,
          0.577827,
          0.575604
         ],
         "z": [
          0.263799,
          0.346079,
          0.415875,
          0.421726,
          0.428281,
          0.435409,
          0.442365,
          0.496765
         ]
        },
        {
         "hovertemplate": "id=236<br>x=%{x}<br>y=%{y}<br>z=%{z}<extra></extra>",
         "legendgroup": "236",
         "line": {
          "color": "#636efa",
          "dash": "solid"
         },
         "marker": {
          "symbol": "circle"
         },
         "mode": "lines",
         "name": "236",
         "scene": "scene",
         "showlegend": true,
         "type": "scatter3d",
         "x": [
          1.159585,
          1.169526,
          1.18153,
          1.1898360000000001,
          1.208483,
          1.216969,
          1.228093,
          1.2364249999999999,
          1.2331050000000001,
          1.2477660000000002
         ],
         "y": [
          0.10466500000000001,
          0.10337099999999999,
          0.104482,
          0.10015399999999999,
          0.09631100000000001,
          0.09480200000000001,
          0.093926,
          0.096189,
          0.081778,
          0.038912999999999996
         ],
         "z": [
          1.0488140000000001,
          1.04273,
          1.037291,
          1.029555,
          1.014683,
          1.0097450000000001,
          1.003607,
          1.002858,
          0.973256,
          0.91814
         ]
        },
        {
         "hovertemplate": "id=580<br>x=%{x}<br>y=%{y}<br>z=%{z}<extra></extra>",
         "legendgroup": "580",
         "line": {
          "color": "#EF553B",
          "dash": "solid"
         },
         "marker": {
          "symbol": "circle"
         },
         "mode": "lines",
         "name": "580",
         "scene": "scene",
         "showlegend": true,
         "type": "scatter3d",
         "x": [
          0.448698,
          0.451593,
          0.457627,
          0.45929000000000003,
          0.4626,
          0.461735,
          0.463738,
          0.46637799999999996,
          0.461677,
          0.464931
         ],
         "y": [
          0.197815,
          0.192365,
          0.185708,
          0.181778,
          0.17776499999999998,
          0.17219,
          0.167752,
          0.16136,
          0.165584,
          0.155199
         ],
         "z": [
          0.11736400000000001,
          0.123366,
          0.12316500000000001,
          0.133699,
          0.141911,
          0.152894,
          0.161881,
          0.166905,
          0.186358,
          0.213993
         ]
        },
        {
         "hovertemplate": "id=6126<br>x=%{x}<br>y=%{y}<br>z=%{z}<extra></extra>",
         "legendgroup": "6126",
         "line": {
          "color": "#00cc96",
          "dash": "solid"
         },
         "marker": {
          "symbol": "circle"
         },
         "mode": "lines",
         "name": "6126",
         "scene": "scene",
         "showlegend": true,
         "type": "scatter3d",
         "x": [
          0.28523000000000004,
          0.294271,
          0.300336,
          0.30138099999999995,
          0.26403,
          0.227334,
          0.242761
         ],
         "y": [
          -0.112233,
          -0.110477,
          -0.089732,
          -0.076707,
          -0.084755,
          -0.114241,
          -0.11868600000000001
         ],
         "z": [
          1.083003,
          1.084778,
          1.122539,
          1.141156,
          1.107753,
          1.051355,
          1.047499
         ]
        },
        {
         "hovertemplate": "id=6765<br>x=%{x}<br>y=%{y}<br>z=%{z}<extra></extra>",
         "legendgroup": "6765",
         "line": {
          "color": "#ab63fa",
          "dash": "solid"
         },
         "marker": {
          "symbol": "circle"
         },
         "mode": "lines",
         "name": "6765",
         "scene": "scene",
         "showlegend": true,
         "type": "scatter3d",
         "x": [
          -0.08726,
          -0.061517,
          -0.017052,
          0.07734999999999999,
          0.188216,
          0.30019,
          0.411937
         ],
         "y": [
          0.109486,
          0.12066299999999999,
          0.14724700000000002,
          0.178267,
          0.228298,
          0.292257,
          0.339422
         ],
         "z": [
          1.428454,
          1.466368,
          1.501955,
          1.481377,
          1.458854,
          1.427694,
          1.3833959999999998
         ]
        },
        {
         "hovertemplate": "id=4565<br>x=%{x}<br>y=%{y}<br>z=%{z}<extra></extra>",
         "legendgroup": "4565",
         "line": {
          "color": "#FFA15A",
          "dash": "solid"
         },
         "marker": {
          "symbol": "circle"
         },
         "mode": "lines",
         "name": "4565",
         "scene": "scene",
         "showlegend": true,
         "type": "scatter3d",
         "x": [
          1.148019,
          1.120967,
          1.121586,
          1.1222180000000002,
          1.120509,
          1.122605,
          1.124572,
          1.134888
         ],
         "y": [
          0.446488,
          0.452315,
          0.459017,
          0.466086,
          0.469626,
          0.477029,
          0.48464999999999997,
          0.503588
         ],
         "z": [
          0.17213599999999998,
          0.166107,
          0.173227,
          0.179719,
          0.182675,
          0.186279,
          0.18939599999999998,
          0.24374600000000002
         ]
        },
        {
         "hovertemplate": "id=6737<br>x=%{x}<br>y=%{y}<br>z=%{z}<extra></extra>",
         "legendgroup": "6737",
         "line": {
          "color": "#19d3f3",
          "dash": "solid"
         },
         "marker": {
          "symbol": "circle"
         },
         "mode": "lines",
         "name": "6737",
         "scene": "scene",
         "showlegend": true,
         "type": "scatter3d",
         "x": [
          0.470206,
          0.48692599999999997,
          0.5065299999999999,
          0.5380839999999999,
          0.5511670000000001,
          0.56724,
          0.5641900000000001
         ],
         "y": [
          -0.187674,
          -0.14610499999999998,
          -0.134877,
          -0.139507,
          -0.131748,
          -0.138095,
          -0.14054
         ],
         "z": [
          1.4104590000000001,
          1.414566,
          1.4352239999999998,
          1.480136,
          1.480064,
          1.4746199999999998,
          1.452236
         ]
        },
        {
         "hovertemplate": "id=5199<br>x=%{x}<br>y=%{y}<br>z=%{z}<extra></extra>",
         "legendgroup": "5199",
         "line": {
          "color": "#FF6692",
          "dash": "solid"
         },
         "marker": {
          "symbol": "circle"
         },
         "mode": "lines",
         "name": "5199",
         "scene": "scene",
         "showlegend": true,
         "type": "scatter3d",
         "x": [
          0.596348,
          0.613044,
          0.6291570000000001,
          0.644092,
          0.6601090000000001,
          0.678928,
          0.6965800000000001,
          0.723885
         ],
         "y": [
          -0.050368,
          -0.048263,
          -0.052709000000000006,
          -0.056124,
          -0.051832,
          -0.057883000000000004,
          -0.055372,
          -0.034377000000000005
         ],
         "z": [
          1.4974690000000002,
          1.492825,
          1.4770329999999998,
          1.464292,
          1.458664,
          1.443493,
          1.437914,
          1.4545489999999999
         ]
        },
        {
         "hovertemplate": "id=5657<br>x=%{x}<br>y=%{y}<br>z=%{z}<extra></extra>",
         "legendgroup": "5657",
         "line": {
          "color": "#B6E880",
          "dash": "solid"
         },
         "marker": {
          "symbol": "circle"
         },
         "mode": "lines",
         "name": "5657",
         "scene": "scene",
         "showlegend": true,
         "type": "scatter3d",
         "x": [
          -0.02145,
          -0.006259000000000001,
          0.012746,
          0.026170000000000002,
          0.044437,
          0.032354999999999995,
          0.01865
         ],
         "y": [
          0.130501,
          0.138095,
          0.143176,
          0.148249,
          0.157425,
          0.159673,
          0.167566
         ],
         "z": [
          1.258852,
          1.255898,
          1.2442010000000001,
          1.241449,
          1.238085,
          1.273417,
          1.3482159999999999
         ]
        },
        {
         "hovertemplate": "id=44<br>x=%{x}<br>y=%{y}<br>z=%{z}<extra></extra>",
         "legendgroup": "44",
         "line": {
          "color": "#FF97FF",
          "dash": "solid"
         },
         "marker": {
          "symbol": "circle"
         },
         "mode": "lines",
         "name": "44",
         "scene": "scene",
         "showlegend": true,
         "type": "scatter3d",
         "x": [
          0.6418440000000001,
          0.649553,
          0.657628,
          0.664558,
          0.672486,
          0.681781,
          0.6772250000000001,
          0.6748200000000001,
          0.6809109999999999,
          0.680538
         ],
         "y": [
          0.000164,
          0.0032389999999999997,
          0.006373,
          0.010621,
          0.015289,
          0.017772,
          0.025748999999999998,
          0.034612000000000004,
          0.07623,
          0.074593
         ],
         "z": [
          -0.018044,
          -0.017175999999999997,
          -0.01397,
          -0.003185,
          -0.001577,
          -0.004995,
          -0.057031,
          -0.039679,
          -0.020812999999999998,
          -0.018745
         ]
        },
        {
         "hovertemplate": "id=3<br>x=%{x}<br>y=%{y}<br>z=%{z}<extra></extra>",
         "legendgroup": "3",
         "line": {
          "color": "#FECB52",
          "dash": "solid"
         },
         "marker": {
          "symbol": "circle"
         },
         "mode": "lines",
         "name": "3",
         "scene": "scene",
         "showlegend": true,
         "type": "scatter3d",
         "x": [
          0.46414,
          0.46750400000000003,
          0.470556,
          0.47340499999999996,
          0.47638600000000003,
          0.47906,
          0.48173,
          0.48423,
          0.48667200000000005,
          0.489199,
          0.493933
         ],
         "y": [
          0.341749,
          0.33916399999999997,
          0.33338799999999996,
          0.329632,
          0.32570800000000005,
          0.321901,
          0.318319,
          0.314798,
          0.31135199999999996,
          0.308849,
          0.30386599999999997
         ],
         "z": [
          0.01731,
          0.032028,
          0.037797,
          0.048083,
          0.057875,
          0.06776900000000001,
          0.07766200000000001,
          0.08746899999999999,
          0.097247,
          0.108656,
          0.111486
         ]
        },
        {
         "hovertemplate": "id=0<br>x=%{x}<br>y=%{y}<br>z=%{z}<extra></extra>",
         "legendgroup": "0",
         "line": {
          "color": "#636efa",
          "dash": "solid"
         },
         "marker": {
          "symbol": "circle"
         },
         "mode": "lines",
         "name": "0",
         "scene": "scene",
         "showlegend": true,
         "type": "scatter3d",
         "x": [
          0.24379499999999998,
          0.243724,
          0.245754,
          0.248475,
          0.252166,
          0.255419,
          0.258447,
          0.260243,
          0.26081400000000005,
          0.261093,
          0.262757
         ],
         "y": [
          0.427379,
          0.413673,
          0.403384,
          0.39199,
          0.380229,
          0.36888099999999996,
          0.357675,
          0.347108,
          0.337169,
          0.327943,
          0.319061
         ],
         "z": [
          0.096025,
          0.09963899999999999,
          0.11017700000000001,
          0.119602,
          0.127383,
          0.137133,
          0.145591,
          0.15467699999999998,
          0.164112,
          0.17354499999999998,
          0.180064
         ]
        },
        {
         "hovertemplate": "id=61<br>x=%{x}<br>y=%{y}<br>z=%{z}<extra></extra>",
         "legendgroup": "61",
         "line": {
          "color": "#EF553B",
          "dash": "solid"
         },
         "marker": {
          "symbol": "circle"
         },
         "mode": "lines",
         "name": "61",
         "scene": "scene",
         "showlegend": true,
         "type": "scatter3d",
         "x": [
          0.137276,
          0.139753,
          0.142466,
          0.14536600000000002,
          0.14856,
          0.152008,
          0.155779,
          0.15959,
          0.164041,
          0.166075,
          0.172679
         ],
         "y": [
          0.314454,
          0.312165,
          0.309462,
          0.30620600000000003,
          0.302666,
          0.298651,
          0.294277,
          0.289883,
          0.285508,
          0.27913299999999996,
          0.274409
         ],
         "z": [
          0.042733,
          0.047612,
          0.052135,
          0.056311,
          0.060584000000000006,
          0.064566,
          0.067976,
          0.072465,
          0.076647,
          0.081528,
          0.082856
         ]
        },
        {
         "hovertemplate": "id=6974<br>x=%{x}<br>y=%{y}<br>z=%{z}<extra></extra>",
         "legendgroup": "6974",
         "line": {
          "color": "#00cc96",
          "dash": "solid"
         },
         "marker": {
          "symbol": "circle"
         },
         "mode": "lines",
         "name": "6974",
         "scene": "scene",
         "showlegend": true,
         "type": "scatter3d",
         "x": [
          0.929789,
          0.93713,
          0.9495030000000001,
          0.960356,
          0.9727910000000001,
          0.983226,
          0.991655
         ],
         "y": [
          0.834643,
          0.846264,
          0.85629,
          0.869706,
          0.88312,
          0.8938400000000001,
          0.907814
         ],
         "z": [
          0.987756,
          0.990501,
          0.9868049999999999,
          0.989093,
          0.989527,
          0.988677,
          0.993272
         ]
        },
        {
         "hovertemplate": "id=4111<br>x=%{x}<br>y=%{y}<br>z=%{z}<extra></extra>",
         "legendgroup": "4111",
         "line": {
          "color": "#ab63fa",
          "dash": "solid"
         },
         "marker": {
          "symbol": "circle"
         },
         "mode": "lines",
         "name": "4111",
         "scene": "scene",
         "showlegend": true,
         "type": "scatter3d",
         "x": [
          -0.072034,
          -0.067381,
          -0.062234000000000005,
          -0.058073,
          -0.050397,
          -0.044085,
          -0.037714,
          -0.03163,
          -0.026261
         ],
         "y": [
          0.367896,
          0.37297199999999997,
          0.37779599999999997,
          0.382245,
          0.385577,
          0.38788,
          0.389426,
          0.38991899999999996,
          0.38976
         ],
         "z": [
          0.341656,
          0.345209,
          0.34792700000000004,
          0.349143,
          0.353947,
          0.35639499999999996,
          0.35928,
          0.36277699999999996,
          0.365573
         ]
        },
        {
         "hovertemplate": "id=6905<br>x=%{x}<br>y=%{y}<br>z=%{z}<extra></extra>",
         "legendgroup": "6905",
         "line": {
          "color": "#FFA15A",
          "dash": "solid"
         },
         "marker": {
          "symbol": "circle"
         },
         "mode": "lines",
         "name": "6905",
         "scene": "scene",
         "showlegend": true,
         "type": "scatter3d",
         "x": [
          0.262749,
          0.263586,
          0.263941,
          0.264224,
          0.26487299999999997,
          0.26647000000000004,
          0.266445
         ],
         "y": [
          0.627298,
          0.626556,
          0.626366,
          0.625915,
          0.626282,
          0.62751,
          0.6262179999999999
         ],
         "z": [
          0.015714,
          0.022994,
          0.030035,
          0.036253999999999995,
          0.044156999999999995,
          0.049926000000000005,
          0.059146000000000004
         ]
        },
        {
         "hovertemplate": "id=295<br>x=%{x}<br>y=%{y}<br>z=%{z}<extra></extra>",
         "legendgroup": "295",
         "line": {
          "color": "#19d3f3",
          "dash": "solid"
         },
         "marker": {
          "symbol": "circle"
         },
         "mode": "lines",
         "name": "295",
         "scene": "scene",
         "showlegend": true,
         "type": "scatter3d",
         "x": [
          -0.162383,
          -0.156592,
          -0.152221,
          -0.14853899999999998,
          -0.14561500000000002,
          -0.14244,
          -0.139554,
          -0.13623500000000002,
          -0.132479,
          -0.128448,
          -0.12442199999999999
         ],
         "y": [
          0.442316,
          0.446061,
          0.449849,
          0.45314,
          0.45631700000000003,
          0.459413,
          0.463051,
          0.466557,
          0.46974400000000005,
          0.472263,
          0.473814
         ],
         "z": [
          0.310574,
          0.318004,
          0.32350599999999996,
          0.328896,
          0.333966,
          0.33714,
          0.34185000000000004,
          0.345596,
          0.34960199999999997,
          0.353608,
          0.357889
         ]
        },
        {
         "hovertemplate": "id=116<br>x=%{x}<br>y=%{y}<br>z=%{z}<extra></extra>",
         "legendgroup": "116",
         "line": {
          "color": "#FF6692",
          "dash": "solid"
         },
         "marker": {
          "symbol": "circle"
         },
         "mode": "lines",
         "name": "116",
         "scene": "scene",
         "showlegend": true,
         "type": "scatter3d",
         "x": [
          -0.059807,
          -0.060448,
          -0.061780999999999996,
          -0.061222,
          -0.064061,
          -0.065206,
          -0.065594,
          -0.067175,
          -0.06768300000000001,
          -0.068788,
          -0.069899
         ],
         "y": [
          0.698649,
          0.694774,
          0.6905589999999999,
          0.687307,
          0.683022,
          0.679491,
          0.676135,
          0.67295,
          0.669601,
          0.666906,
          0.664363
         ],
         "z": [
          0.245866,
          0.25620600000000004,
          0.266491,
          0.274786,
          0.287345,
          0.297799,
          0.306641,
          0.317579,
          0.326952,
          0.336874,
          0.347072
         ]
        },
        {
         "hovertemplate": "id=6913<br>x=%{x}<br>y=%{y}<br>z=%{z}<extra></extra>",
         "legendgroup": "6913",
         "line": {
          "color": "#B6E880",
          "dash": "solid"
         },
         "marker": {
          "symbol": "circle"
         },
         "mode": "lines",
         "name": "6913",
         "scene": "scene",
         "showlegend": true,
         "type": "scatter3d",
         "x": [
          0.269094,
          0.269903,
          0.26875,
          0.27093,
          0.270946,
          0.27255399999999996,
          0.273572
         ],
         "y": [
          0.688551,
          0.684783,
          0.680727,
          0.67667,
          0.67264,
          0.66865,
          0.664612
         ],
         "z": [
          0.062161,
          0.068619,
          0.07767199999999999,
          0.080641,
          0.087446,
          0.091862,
          0.097494
         ]
        },
        {
         "hovertemplate": "id=5777<br>x=%{x}<br>y=%{y}<br>z=%{z}<extra></extra>",
         "legendgroup": "5777",
         "line": {
          "color": "#FF97FF",
          "dash": "solid"
         },
         "marker": {
          "symbol": "circle"
         },
         "mode": "lines",
         "name": "5777",
         "scene": "scene",
         "showlegend": true,
         "type": "scatter3d",
         "x": [
          0.249829,
          0.24982300000000002,
          0.24933000000000002,
          0.250193,
          0.249644,
          0.24885200000000002,
          0.248264,
          0.247459
         ],
         "y": [
          0.050631,
          0.037653,
          0.029687,
          0.027064,
          0.020645,
          0.014823000000000001,
          0.009234,
          0.003771
         ],
         "z": [
          0.08344599999999999,
          0.076681,
          0.078735,
          0.086697,
          0.091416,
          0.09589400000000001,
          0.10080800000000001,
          0.10540999999999999
         ]
        },
        {
         "hovertemplate": "id=2540<br>x=%{x}<br>y=%{y}<br>z=%{z}<extra></extra>",
         "legendgroup": "2540",
         "line": {
          "color": "#FECB52",
          "dash": "solid"
         },
         "marker": {
          "symbol": "circle"
         },
         "mode": "lines",
         "name": "2540",
         "scene": "scene",
         "showlegend": true,
         "type": "scatter3d",
         "x": [
          0.38519200000000003,
          0.39063099999999995,
          0.396206,
          0.401913,
          0.40740899999999997,
          0.412977,
          0.418041,
          0.422849,
          0.427056,
          0.430635
         ],
         "y": [
          0.315295,
          0.30924,
          0.303195,
          0.29710899999999996,
          0.290708,
          0.283735,
          0.27699900000000005,
          0.269699,
          0.262022,
          0.25418799999999997
         ],
         "z": [
          -0.061695,
          -0.05013,
          -0.038348999999999994,
          -0.026213,
          -0.014448,
          -0.000066,
          0.011686,
          0.021983,
          0.033735,
          0.045491
         ]
        },
        {
         "hovertemplate": "id=5569<br>x=%{x}<br>y=%{y}<br>z=%{z}<extra></extra>",
         "legendgroup": "5569",
         "line": {
          "color": "#636efa",
          "dash": "solid"
         },
         "marker": {
          "symbol": "circle"
         },
         "mode": "lines",
         "name": "5569",
         "scene": "scene",
         "showlegend": true,
         "type": "scatter3d",
         "x": [
          0.42635199999999995,
          0.42789699999999997,
          0.430092,
          0.431213,
          0.433636,
          0.43557100000000004,
          0.437561,
          0.43955299999999997
         ],
         "y": [
          0.7679,
          0.769668,
          0.7711870000000001,
          0.770435,
          0.771316,
          0.7724310000000001,
          0.773713,
          0.7751979999999999
         ],
         "z": [
          0.239363,
          0.247976,
          0.258184,
          0.26323599999999997,
          0.269289,
          0.276505,
          0.283501,
          0.290416
         ]
        },
        {
         "hovertemplate": "id=205<br>x=%{x}<br>y=%{y}<br>z=%{z}<extra></extra>",
         "legendgroup": "205",
         "line": {
          "color": "#EF553B",
          "dash": "solid"
         },
         "marker": {
          "symbol": "circle"
         },
         "mode": "lines",
         "name": "205",
         "scene": "scene",
         "showlegend": true,
         "type": "scatter3d",
         "x": [
          -0.074516,
          -0.066042,
          -0.057517000000000006,
          -0.048936999999999994,
          -0.040231,
          -0.031179,
          -0.021390999999999997,
          -0.012674,
          -0.0030259999999999996,
          0.0063739999999999995,
          0.016317
         ],
         "y": [
          0.187371,
          0.195449,
          0.20311099999999999,
          0.210335,
          0.216922,
          0.222758,
          0.227179,
          0.231821,
          0.234896,
          0.237399,
          0.238009
         ],
         "z": [
          0.33854399999999996,
          0.338685,
          0.33853,
          0.33820999999999996,
          0.338012,
          0.33775700000000003,
          0.337947,
          0.33555399999999996,
          0.3336,
          0.331221,
          0.324383
         ]
        },
        {
         "hovertemplate": "id=7171<br>x=%{x}<br>y=%{y}<br>z=%{z}<extra></extra>",
         "legendgroup": "7171",
         "line": {
          "color": "#00cc96",
          "dash": "solid"
         },
         "marker": {
          "symbol": "circle"
         },
         "mode": "lines",
         "name": "7171",
         "scene": "scene",
         "showlegend": true,
         "type": "scatter3d",
         "x": [
          0.213727,
          0.226108,
          0.239533,
          0.258551,
          0.270883,
          0.288157,
          0.302132
         ],
         "y": [
          0.256124,
          0.255038,
          0.254505,
          0.254133,
          0.255874,
          0.252059,
          0.254802
         ],
         "z": [
          1.388531,
          1.387663,
          1.38565,
          1.378572,
          1.3783130000000001,
          1.367279,
          1.3685129999999999
         ]
        },
        {
         "hovertemplate": "id=8276<br>x=%{x}<br>y=%{y}<br>z=%{z}<extra></extra>",
         "legendgroup": "8276",
         "line": {
          "color": "#ab63fa",
          "dash": "solid"
         },
         "marker": {
          "symbol": "circle"
         },
         "mode": "lines",
         "name": "8276",
         "scene": "scene",
         "showlegend": true,
         "type": "scatter3d",
         "x": [
          0.947853,
          0.9547490000000001,
          0.97754,
          1.004683,
          1.006272,
          1.0038099999999999,
          1.00726
         ],
         "y": [
          0.779343,
          0.763929,
          0.7642720000000001,
          0.7873150000000001,
          0.795087,
          0.799751,
          0.8071090000000001
         ],
         "z": [
          0.773092,
          0.79469,
          0.77837,
          0.742583,
          0.7438170000000001,
          0.745051,
          0.744235
         ]
        },
        {
         "hovertemplate": "id=23<br>x=%{x}<br>y=%{y}<br>z=%{z}<extra></extra>",
         "legendgroup": "23",
         "line": {
          "color": "#FFA15A",
          "dash": "solid"
         },
         "marker": {
          "symbol": "circle"
         },
         "mode": "lines",
         "name": "23",
         "scene": "scene",
         "showlegend": true,
         "type": "scatter3d",
         "x": [
          -0.08356999999999999,
          -0.07488,
          -0.066189,
          -0.058006999999999996,
          -0.049408,
          -0.037628,
          -0.031703,
          -0.024114,
          -0.015470000000000001,
          -0.006928,
          0.0008810000000000001
         ],
         "y": [
          0.276681,
          0.28443799999999997,
          0.293514,
          0.302091,
          0.309411,
          0.317173,
          0.323502,
          0.33257400000000004,
          0.340717,
          0.348731,
          0.35616699999999996
         ],
         "z": [
          0.45719299999999996,
          0.456106,
          0.456502,
          0.455584,
          0.45288,
          0.44563600000000003,
          0.44248000000000004,
          0.444096,
          0.439996,
          0.436731,
          0.434467
         ]
        },
        {
         "hovertemplate": "id=6330<br>x=%{x}<br>y=%{y}<br>z=%{z}<extra></extra>",
         "legendgroup": "6330",
         "line": {
          "color": "#19d3f3",
          "dash": "solid"
         },
         "marker": {
          "symbol": "circle"
         },
         "mode": "lines",
         "name": "6330",
         "scene": "scene",
         "showlegend": true,
         "type": "scatter3d",
         "x": [
          -0.24797,
          -0.24323,
          -0.233079,
          -0.22888999999999998,
          -0.226585,
          -0.223512,
          -0.22006299999999998,
          -0.21699100000000002
         ],
         "y": [
          0.466263,
          0.47308999999999996,
          0.482584,
          0.488284,
          0.495421,
          0.501886,
          0.5073,
          0.513338
         ],
         "z": [
          0.458723,
          0.45076499999999997,
          0.420321,
          0.426075,
          0.434468,
          0.440258,
          0.446003,
          0.45256799999999997
         ]
        },
        {
         "hovertemplate": "id=85<br>x=%{x}<br>y=%{y}<br>z=%{z}<extra></extra>",
         "legendgroup": "85",
         "line": {
          "color": "#FF6692",
          "dash": "solid"
         },
         "marker": {
          "symbol": "circle"
         },
         "mode": "lines",
         "name": "85",
         "scene": "scene",
         "showlegend": true,
         "type": "scatter3d",
         "x": [
          0.662752,
          0.6754479999999999,
          0.684462,
          0.691707,
          0.705142,
          0.71589,
          0.726946,
          0.735884,
          0.748328,
          0.7638440000000001,
          0.771294
         ],
         "y": [
          0.356341,
          0.361417,
          0.36382299999999995,
          0.36744099999999996,
          0.37662,
          0.378245,
          0.38387299999999996,
          0.38633999999999996,
          0.39242,
          0.401007,
          0.406037
         ],
         "z": [
          1.2853910000000002,
          1.281399,
          1.275841,
          1.271979,
          1.2694400000000001,
          1.261348,
          1.2576859999999999,
          1.251972,
          1.2465650000000001,
          1.240528,
          1.2375
         ]
        },
        {
         "hovertemplate": "id=3078<br>x=%{x}<br>y=%{y}<br>z=%{z}<extra></extra>",
         "legendgroup": "3078",
         "line": {
          "color": "#B6E880",
          "dash": "solid"
         },
         "marker": {
          "symbol": "circle"
         },
         "mode": "lines",
         "name": "3078",
         "scene": "scene",
         "showlegend": true,
         "type": "scatter3d",
         "x": [
          -0.25444100000000003,
          -0.24653299999999997,
          -0.242122,
          -0.23915799999999998,
          -0.23608600000000002,
          -0.233113,
          -0.23013399999999998,
          -0.227541,
          -0.225084,
          -0.22262200000000001
         ],
         "y": [
          0.42993200000000004,
          0.44048000000000004,
          0.44561399999999995,
          0.44862799999999997,
          0.45355900000000005,
          0.458141,
          0.46277300000000005,
          0.467471,
          0.472335,
          0.477228
         ],
         "z": [
          0.478925,
          0.445387,
          0.448624,
          0.45019099999999995,
          0.454764,
          0.458276,
          0.45999599999999996,
          0.46244,
          0.464561,
          0.466656
         ]
        },
        {
         "hovertemplate": "id=31<br>x=%{x}<br>y=%{y}<br>z=%{z}<extra></extra>",
         "legendgroup": "31",
         "line": {
          "color": "#FF97FF",
          "dash": "solid"
         },
         "marker": {
          "symbol": "circle"
         },
         "mode": "lines",
         "name": "31",
         "scene": "scene",
         "showlegend": true,
         "type": "scatter3d",
         "x": [
          0.138037,
          0.13919499999999999,
          0.14033199999999998,
          0.142095,
          0.1437,
          0.146036,
          0.14844300000000002,
          0.152172,
          0.155935,
          0.159729,
          0.16337700000000002
         ],
         "y": [
          0.29572899999999996,
          0.286922,
          0.27792700000000004,
          0.269132,
          0.26020800000000005,
          0.251317,
          0.24259999999999998,
          0.234292,
          0.225635,
          0.21679099999999998,
          0.207697
         ],
         "z": [
          0.20085499999999998,
          0.20291599999999999,
          0.205064,
          0.20701599999999998,
          0.208953,
          0.21,
          0.210013,
          0.210508,
          0.21047,
          0.210618,
          0.210944
         ]
        },
        {
         "hovertemplate": "id=11<br>x=%{x}<br>y=%{y}<br>z=%{z}<extra></extra>",
         "legendgroup": "11",
         "line": {
          "color": "#FECB52",
          "dash": "solid"
         },
         "marker": {
          "symbol": "circle"
         },
         "mode": "lines",
         "name": "11",
         "scene": "scene",
         "showlegend": true,
         "type": "scatter3d",
         "x": [
          0.226222,
          0.228156,
          0.232233,
          0.233321,
          0.235844,
          0.238082,
          0.239974,
          0.241626,
          0.243101,
          0.24465,
          0.246149
         ],
         "y": [
          0.357636,
          0.34696,
          0.334846,
          0.325139,
          0.314562,
          0.304285,
          0.294499,
          0.28499,
          0.275743,
          0.266649,
          0.257828
         ],
         "z": [
          0.1113,
          0.116111,
          0.11850100000000001,
          0.12512099999999998,
          0.130134,
          0.135078,
          0.140174,
          0.14488399999999999,
          0.14963200000000001,
          0.15384899999999999,
          0.15803399999999998
         ]
        },
        {
         "hovertemplate": "id=772<br>x=%{x}<br>y=%{y}<br>z=%{z}<extra></extra>",
         "legendgroup": "772",
         "line": {
          "color": "#636efa",
          "dash": "solid"
         },
         "marker": {
          "symbol": "circle"
         },
         "mode": "lines",
         "name": "772",
         "scene": "scene",
         "showlegend": true,
         "type": "scatter3d",
         "x": [
          0.053653,
          0.068975,
          0.061091,
          0.060439,
          0.056318,
          0.052884,
          0.049036,
          0.045875,
          0.043046,
          0.040591999999999996,
          0.038598
         ],
         "y": [
          0.69217,
          0.697582,
          0.692116,
          0.687701,
          0.682705,
          0.677614,
          0.6730320000000001,
          0.668274,
          0.6636409999999999,
          0.659101,
          0.6545789999999999
         ],
         "z": [
          0.0603,
          0.093061,
          0.105325,
          0.10662300000000001,
          0.113354,
          0.119661,
          0.127166,
          0.134144,
          0.14115,
          0.148225,
          0.154718
         ]
        },
        {
         "hovertemplate": "id=37<br>x=%{x}<br>y=%{y}<br>z=%{z}<extra></extra>",
         "legendgroup": "37",
         "line": {
          "color": "#EF553B",
          "dash": "solid"
         },
         "marker": {
          "symbol": "circle"
         },
         "mode": "lines",
         "name": "37",
         "scene": "scene",
         "showlegend": true,
         "type": "scatter3d",
         "x": [
          0.7822290000000001,
          0.7837799999999999,
          0.785533,
          0.787325,
          0.790043,
          0.792384,
          0.797821,
          0.801277,
          0.805289,
          0.805332,
          0.804391
         ],
         "y": [
          0.32098000000000004,
          0.322403,
          0.32353899999999997,
          0.324427,
          0.325546,
          0.32658800000000004,
          0.326509,
          0.327401,
          0.327958,
          0.330912,
          0.333127
         ],
         "z": [
          0.007307,
          0.010147999999999999,
          0.013356,
          0.016335000000000002,
          0.022239000000000002,
          0.027808,
          0.028225,
          0.032077,
          0.036935,
          0.049325,
          0.06598000000000001
         ]
        },
        {
         "hovertemplate": "id=6903<br>x=%{x}<br>y=%{y}<br>z=%{z}<extra></extra>",
         "legendgroup": "6903",
         "line": {
          "color": "#00cc96",
          "dash": "solid"
         },
         "marker": {
          "symbol": "circle"
         },
         "mode": "lines",
         "name": "6903",
         "scene": "scene",
         "showlegend": true,
         "type": "scatter3d",
         "x": [
          0.312945,
          0.315775,
          0.317466,
          0.315634,
          0.31208600000000003,
          0.30859,
          0.304935
         ],
         "y": [
          0.140254,
          0.139356,
          0.134784,
          0.133036,
          0.128102,
          0.12386,
          0.12537900000000002
         ],
         "z": [
          0.5786100000000001,
          0.583985,
          0.581859,
          0.584264,
          0.5827129999999999,
          0.582265,
          0.591588
         ]
        },
        {
         "hovertemplate": "id=39<br>x=%{x}<br>y=%{y}<br>z=%{z}<extra></extra>",
         "legendgroup": "39",
         "line": {
          "color": "#ab63fa",
          "dash": "solid"
         },
         "marker": {
          "symbol": "circle"
         },
         "mode": "lines",
         "name": "39",
         "scene": "scene",
         "showlegend": true,
         "type": "scatter3d",
         "x": [
          -0.304449,
          -0.298859,
          -0.293502,
          -0.28841300000000003,
          -0.28378,
          -0.280143,
          -0.276186,
          -0.27290499999999995,
          -0.26967599999999997,
          -0.267575,
          -0.26483300000000004
         ],
         "y": [
          0.349235,
          0.35338099999999995,
          0.357819,
          0.361958,
          0.366104,
          0.370028,
          0.37414800000000004,
          0.377925,
          0.383093,
          0.386615,
          0.391365
         ],
         "z": [
          0.620285,
          0.620953,
          0.6226609999999999,
          0.624016,
          0.6261720000000001,
          0.627503,
          0.6304379999999999,
          0.63205,
          0.6363880000000001,
          0.6384829999999999,
          0.6415069999999999
         ]
        },
        {
         "hovertemplate": "id=6936<br>x=%{x}<br>y=%{y}<br>z=%{z}<extra></extra>",
         "legendgroup": "6936",
         "line": {
          "color": "#FFA15A",
          "dash": "solid"
         },
         "marker": {
          "symbol": "circle"
         },
         "mode": "lines",
         "name": "6936",
         "scene": "scene",
         "showlegend": true,
         "type": "scatter3d",
         "x": [
          -0.13405799999999998,
          -0.130325,
          -0.132989,
          -0.13240000000000002,
          -0.131781,
          -0.131125,
          -0.129581
         ],
         "y": [
          0.671815,
          0.676802,
          0.678107,
          0.681716,
          0.685564,
          0.689586,
          0.696108
         ],
         "z": [
          0.35552999999999996,
          0.36628,
          0.38040300000000005,
          0.392716,
          0.40512200000000004,
          0.41735,
          0.433584
         ]
        },
        {
         "hovertemplate": "id=43<br>x=%{x}<br>y=%{y}<br>z=%{z}<extra></extra>",
         "legendgroup": "43",
         "line": {
          "color": "#19d3f3",
          "dash": "solid"
         },
         "marker": {
          "symbol": "circle"
         },
         "mode": "lines",
         "name": "43",
         "scene": "scene",
         "showlegend": true,
         "type": "scatter3d",
         "x": [
          0.035169,
          0.033115,
          0.032053,
          0.031467,
          0.032307,
          0.03345,
          0.033018,
          0.032799999999999996,
          0.033054,
          0.033957999999999995,
          0.035275
         ],
         "y": [
          0.712391,
          0.704336,
          0.696056,
          0.688413,
          0.681356,
          0.674802,
          0.668374,
          0.66274,
          0.657791,
          0.653614,
          0.649802
         ],
         "z": [
          0.24079699999999998,
          0.249946,
          0.259695,
          0.269615,
          0.27873200000000004,
          0.289194,
          0.299298,
          0.30984100000000003,
          0.319973,
          0.329142,
          0.33838999999999997
         ]
        },
        {
         "hovertemplate": "id=4126<br>x=%{x}<br>y=%{y}<br>z=%{z}<extra></extra>",
         "legendgroup": "4126",
         "line": {
          "color": "#FF6692",
          "dash": "solid"
         },
         "marker": {
          "symbol": "circle"
         },
         "mode": "lines",
         "name": "4126",
         "scene": "scene",
         "showlegend": true,
         "type": "scatter3d",
         "x": [
          0.009839,
          0.014144,
          0.018586,
          0.023222,
          0.028041,
          0.033065,
          0.038171,
          0.0432,
          0.048167
         ],
         "y": [
          0.321826,
          0.31883999999999996,
          0.31515,
          0.312014,
          0.308171,
          0.303833,
          0.29916899999999996,
          0.294088,
          0.288969
         ],
         "z": [
          0.249276,
          0.247608,
          0.244748,
          0.243751,
          0.241648,
          0.239767,
          0.238077,
          0.23681,
          0.236132
         ]
        },
        {
         "hovertemplate": "id=5589<br>x=%{x}<br>y=%{y}<br>z=%{z}<extra></extra>",
         "legendgroup": "5589",
         "line": {
          "color": "#B6E880",
          "dash": "solid"
         },
         "marker": {
          "symbol": "circle"
         },
         "mode": "lines",
         "name": "5589",
         "scene": "scene",
         "showlegend": true,
         "type": "scatter3d",
         "x": [
          0.529852,
          0.530682,
          0.576188,
          0.614057,
          0.613501,
          0.61365,
          0.6139880000000001,
          0.614521
         ],
         "y": [
          0.34889,
          0.351978,
          0.355043,
          0.358474,
          0.358848,
          0.359399,
          0.360107,
          0.360777
         ],
         "z": [
          -0.064081,
          -0.052226,
          -0.044302,
          -0.067912,
          -0.060691,
          -0.054319,
          -0.048334,
          -0.043098
         ]
        },
        {
         "hovertemplate": "id=72<br>x=%{x}<br>y=%{y}<br>z=%{z}<extra></extra>",
         "legendgroup": "72",
         "line": {
          "color": "#FF97FF",
          "dash": "solid"
         },
         "marker": {
          "symbol": "circle"
         },
         "mode": "lines",
         "name": "72",
         "scene": "scene",
         "showlegend": true,
         "type": "scatter3d",
         "x": [
          0.8431960000000001,
          0.8458049999999999,
          0.846844,
          0.848294,
          0.8469070000000001,
          0.850364,
          0.851255,
          0.853856,
          0.859152,
          0.862566,
          0.866188
         ],
         "y": [
          0.8138880000000001,
          0.817532,
          0.817661,
          0.8209339999999999,
          0.82788,
          0.830391,
          0.8334450000000001,
          0.836488,
          0.841342,
          0.8438450000000001,
          0.850312
         ],
         "z": [
          1.467331,
          1.466302,
          1.462883,
          1.459085,
          1.4633209999999999,
          1.4557170000000001,
          1.4504890000000001,
          1.445534,
          1.4401389999999998,
          1.436475,
          1.438334
         ]
        },
        {
         "hovertemplate": "id=178<br>x=%{x}<br>y=%{y}<br>z=%{z}<extra></extra>",
         "legendgroup": "178",
         "line": {
          "color": "#FECB52",
          "dash": "solid"
         },
         "marker": {
          "symbol": "circle"
         },
         "mode": "lines",
         "name": "178",
         "scene": "scene",
         "showlegend": true,
         "type": "scatter3d",
         "x": [
          0.38621,
          0.391941,
          0.397115,
          0.400522,
          0.404774,
          0.408574,
          0.41220100000000004,
          0.415341,
          0.41896300000000003,
          0.42246300000000003,
          0.425911
         ],
         "y": [
          0.489723,
          0.49151,
          0.493045,
          0.492624,
          0.494682,
          0.49684300000000003,
          0.499364,
          0.5024379999999999,
          0.5056039999999999,
          0.509292,
          0.512731
         ],
         "z": [
          0.5289299999999999,
          0.537085,
          0.545126,
          0.551136,
          0.558913,
          0.565688,
          0.5715929999999999,
          0.5771799999999999,
          0.5811409999999999,
          0.584816,
          0.58677
         ]
        },
        {
         "hovertemplate": "id=585<br>x=%{x}<br>y=%{y}<br>z=%{z}<extra></extra>",
         "legendgroup": "585",
         "line": {
          "color": "#636efa",
          "dash": "solid"
         },
         "marker": {
          "symbol": "circle"
         },
         "mode": "lines",
         "name": "585",
         "scene": "scene",
         "showlegend": true,
         "type": "scatter3d",
         "x": [
          0.5139109999999999,
          0.5165259999999999,
          0.5194460000000001,
          0.522791,
          0.5263300000000001,
          0.529934,
          0.5336259999999999,
          0.537412,
          0.541164,
          0.5453210000000001,
          0.581493
         ],
         "y": [
          0.317137,
          0.321172,
          0.32500799999999996,
          0.328454,
          0.331759,
          0.334778,
          0.33776999999999996,
          0.340677,
          0.343524,
          0.346582,
          0.365985
         ],
         "z": [
          0.49653699999999995,
          0.501483,
          0.50658,
          0.511817,
          0.51723,
          0.5224500000000001,
          0.527815,
          0.533231,
          0.539045,
          0.544802,
          0.544559
         ]
        },
        {
         "hovertemplate": "id=5887<br>x=%{x}<br>y=%{y}<br>z=%{z}<extra></extra>",
         "legendgroup": "5887",
         "line": {
          "color": "#EF553B",
          "dash": "solid"
         },
         "marker": {
          "symbol": "circle"
         },
         "mode": "lines",
         "name": "5887",
         "scene": "scene",
         "showlegend": true,
         "type": "scatter3d",
         "x": [
          1.136664,
          1.14434,
          1.157368,
          1.16476,
          1.1789290000000001,
          1.1912539999999998,
          1.2005109999999999,
          1.207653
         ],
         "y": [
          0.347402,
          0.36225999999999997,
          0.370351,
          0.37348000000000003,
          0.385262,
          0.386957,
          0.39431700000000003,
          0.399981
         ],
         "z": [
          0.907379,
          0.897048,
          0.892008,
          0.885956,
          0.882386,
          0.870576,
          0.865797,
          0.8618239999999999
         ]
        },
        {
         "hovertemplate": "id=7024<br>x=%{x}<br>y=%{y}<br>z=%{z}<extra></extra>",
         "legendgroup": "7024",
         "line": {
          "color": "#00cc96",
          "dash": "solid"
         },
         "marker": {
          "symbol": "circle"
         },
         "mode": "lines",
         "name": "7024",
         "scene": "scene",
         "showlegend": true,
         "type": "scatter3d",
         "x": [
          0.23463499999999998,
          0.224333,
          0.222994,
          0.21143299999999998,
          0.214461,
          0.24290199999999998,
          0.278808
         ],
         "y": [
          0.879736,
          0.8832340000000001,
          0.879718,
          0.86963,
          0.8590869999999999,
          0.8513769999999999,
          0.835202
         ],
         "z": [
          1.3216199999999998,
          1.3122909999999999,
          1.2924680000000002,
          1.282412,
          1.290221,
          1.225782,
          1.154683
         ]
        },
        {
         "hovertemplate": "id=5461<br>x=%{x}<br>y=%{y}<br>z=%{z}<extra></extra>",
         "legendgroup": "5461",
         "line": {
          "color": "#ab63fa",
          "dash": "solid"
         },
         "marker": {
          "symbol": "circle"
         },
         "mode": "lines",
         "name": "5461",
         "scene": "scene",
         "showlegend": true,
         "type": "scatter3d",
         "x": [
          0.5124099999999999,
          0.5122709999999999,
          0.5121169999999999,
          0.5118980000000001,
          0.511529,
          0.511003,
          0.510291,
          0.509159
         ],
         "y": [
          0.513494,
          0.513014,
          0.5126280000000001,
          0.512323,
          0.512146,
          0.512038,
          0.511712,
          0.510823
         ],
         "z": [
          0.00787,
          0.010806,
          0.013304999999999999,
          0.015388,
          0.016888999999999998,
          0.017921,
          0.018618,
          0.02028
         ]
        },
        {
         "hovertemplate": "id=1484<br>x=%{x}<br>y=%{y}<br>z=%{z}<extra></extra>",
         "legendgroup": "1484",
         "line": {
          "color": "#FFA15A",
          "dash": "solid"
         },
         "marker": {
          "symbol": "circle"
         },
         "mode": "lines",
         "name": "1484",
         "scene": "scene",
         "showlegend": true,
         "type": "scatter3d",
         "x": [
          0.163365,
          0.174154,
          0.186441,
          0.197407,
          0.213751,
          0.22488399999999997,
          0.241954,
          0.25427299999999997,
          0.267641,
          0.28217200000000003,
          0.295417
         ],
         "y": [
          0.367822,
          0.369884,
          0.363497,
          0.355892,
          0.348825,
          0.344448,
          0.33944799999999997,
          0.33371,
          0.336646,
          0.328187,
          0.325152
         ],
         "z": [
          1.39876,
          1.410438,
          1.411901,
          1.4135499999999999,
          1.4095840000000002,
          1.415446,
          1.4127129999999999,
          1.414248,
          1.429545,
          1.418974,
          1.4186990000000002
         ]
        },
        {
         "hovertemplate": "id=6947<br>x=%{x}<br>y=%{y}<br>z=%{z}<extra></extra>",
         "legendgroup": "6947",
         "line": {
          "color": "#19d3f3",
          "dash": "solid"
         },
         "marker": {
          "symbol": "circle"
         },
         "mode": "lines",
         "name": "6947",
         "scene": "scene",
         "showlegend": true,
         "type": "scatter3d",
         "x": [
          1.18392,
          1.195856,
          1.202937,
          1.2119069999999998,
          1.216866,
          1.224086,
          1.238427
         ],
         "y": [
          0.812852,
          0.807701,
          0.814378,
          0.8307559999999999,
          0.841275,
          0.853428,
          0.863464
         ],
         "z": [
          0.993289,
          0.9562,
          0.947631,
          0.956302,
          0.957769,
          0.95821,
          0.950984
         ]
        },
        {
         "hovertemplate": "id=91<br>x=%{x}<br>y=%{y}<br>z=%{z}<extra></extra>",
         "legendgroup": "91",
         "line": {
          "color": "#FF6692",
          "dash": "solid"
         },
         "marker": {
          "symbol": "circle"
         },
         "mode": "lines",
         "name": "91",
         "scene": "scene",
         "showlegend": true,
         "type": "scatter3d",
         "x": [
          0.486643,
          0.49106900000000003,
          0.496251,
          0.502888,
          0.509746,
          0.517413,
          0.5256130000000001,
          0.5343519999999999,
          0.543456,
          0.55276,
          0.5622480000000001
         ],
         "y": [
          -0.042601,
          -0.047515999999999996,
          -0.05224,
          -0.056927,
          -0.060294,
          -0.062986,
          -0.065091,
          -0.066637,
          -0.067857,
          -0.068751,
          -0.069596
         ],
         "z": [
          -0.00213,
          -0.00102,
          0.003178,
          0.005391,
          0.009903,
          0.014558,
          0.019245,
          0.024049,
          0.028600999999999998,
          0.032969,
          0.037118000000000005
         ]
        },
        {
         "hovertemplate": "id=79<br>x=%{x}<br>y=%{y}<br>z=%{z}<extra></extra>",
         "legendgroup": "79",
         "line": {
          "color": "#B6E880",
          "dash": "solid"
         },
         "marker": {
          "symbol": "circle"
         },
         "mode": "lines",
         "name": "79",
         "scene": "scene",
         "showlegend": true,
         "type": "scatter3d",
         "x": [
          0.694881,
          0.697226,
          0.699361,
          0.701335,
          0.703466,
          0.704364,
          0.7065159999999999,
          0.7082480000000001,
          0.710255,
          0.71275,
          0.7156910000000001
         ],
         "y": [
          0.47786900000000004,
          0.481591,
          0.485146,
          0.488484,
          0.49172000000000005,
          0.495692,
          0.497693,
          0.50087,
          0.504569,
          0.509026,
          0.5140520000000001
         ],
         "z": [
          -0.06919700000000001,
          -0.065633,
          -0.061780999999999996,
          -0.05796200000000001,
          -0.052884,
          -0.047705,
          -0.043859999999999996,
          -0.038472,
          -0.033032,
          -0.02759,
          -0.022263
         ]
        },
        {
         "hovertemplate": "id=7184<br>x=%{x}<br>y=%{y}<br>z=%{z}<extra></extra>",
         "legendgroup": "7184",
         "line": {
          "color": "#FF97FF",
          "dash": "solid"
         },
         "marker": {
          "symbol": "circle"
         },
         "mode": "lines",
         "name": "7184",
         "scene": "scene",
         "showlegend": true,
         "type": "scatter3d",
         "x": [
          -0.17285599999999998,
          -0.164845,
          -0.157362,
          -0.150485,
          -0.144093,
          -0.138083,
          -0.13234700000000002
         ],
         "y": [
          0.379536,
          0.383395,
          0.38740399999999997,
          0.39161900000000005,
          0.39592099999999997,
          0.400342,
          0.40497500000000003
         ],
         "z": [
          0.342305,
          0.342577,
          0.34308999999999995,
          0.344003,
          0.34530299999999997,
          0.346783,
          0.349598
         ]
        },
        {
         "hovertemplate": "id=189<br>x=%{x}<br>y=%{y}<br>z=%{z}<extra></extra>",
         "legendgroup": "189",
         "line": {
          "color": "#FECB52",
          "dash": "solid"
         },
         "marker": {
          "symbol": "circle"
         },
         "mode": "lines",
         "name": "189",
         "scene": "scene",
         "showlegend": true,
         "type": "scatter3d",
         "x": [
          0.42323700000000003,
          0.425679,
          0.425299,
          0.426624,
          0.427962,
          0.42942899999999995,
          0.430964,
          0.436473,
          0.438019,
          0.438749,
          0.440183
         ],
         "y": [
          0.14165899999999998,
          0.13383099999999998,
          0.131696,
          0.127387,
          0.123394,
          0.119631,
          0.11604600000000001,
          0.112432,
          0.10849299999999999,
          0.105807,
          0.10278799999999999
         ],
         "z": [
          0.06677899999999999,
          0.067107,
          0.07959000000000001,
          0.08561400000000001,
          0.091671,
          0.09804,
          0.10475799999999999,
          0.107197,
          0.110854,
          0.12257,
          0.131161
         ]
        },
        {
         "hovertemplate": "id=4420<br>x=%{x}<br>y=%{y}<br>z=%{z}<extra></extra>",
         "legendgroup": "4420",
         "line": {
          "color": "#636efa",
          "dash": "solid"
         },
         "marker": {
          "symbol": "circle"
         },
         "mode": "lines",
         "name": "4420",
         "scene": "scene",
         "showlegend": true,
         "type": "scatter3d",
         "x": [
          0.912434,
          0.9098390000000001,
          0.9165679999999999,
          0.8936810000000001,
          0.8397089999999999,
          0.763965,
          0.683713,
          0.601503,
          0.50437
         ],
         "y": [
          0.740515,
          0.7816259999999999,
          0.810803,
          0.854702,
          0.89278,
          0.9055979999999999,
          0.9044650000000001,
          0.910968,
          0.9335589999999999
         ],
         "z": [
          0.140234,
          0.225196,
          0.30415699999999996,
          0.42697,
          0.5339619999999999,
          0.634096,
          0.73245,
          0.8632759999999999,
          1.022578
         ]
        },
        {
         "hovertemplate": "id=84<br>x=%{x}<br>y=%{y}<br>z=%{z}<extra></extra>",
         "legendgroup": "84",
         "line": {
          "color": "#EF553B",
          "dash": "solid"
         },
         "marker": {
          "symbol": "circle"
         },
         "mode": "lines",
         "name": "84",
         "scene": "scene",
         "showlegend": true,
         "type": "scatter3d",
         "x": [
          0.556635,
          0.560898,
          0.563508,
          0.566317,
          0.576013,
          0.580311,
          0.571111,
          0.5844170000000001,
          0.5904429999999999,
          0.593526,
          0.587532
         ],
         "y": [
          0.037768,
          0.033719,
          0.023812999999999997,
          0.020579,
          0.009403,
          0.008105000000000001,
          0.006463,
          -0.007114,
          -0.010837,
          -0.014246,
          -0.014358000000000001
         ],
         "z": [
          0.16831800000000002,
          0.17350800000000002,
          0.17246199999999998,
          0.180779,
          0.16765100000000002,
          0.179253,
          0.198189,
          0.186089,
          0.190656,
          0.19903,
          0.223328
         ]
        },
        {
         "hovertemplate": "id=6116<br>x=%{x}<br>y=%{y}<br>z=%{z}<extra></extra>",
         "legendgroup": "6116",
         "line": {
          "color": "#00cc96",
          "dash": "solid"
         },
         "marker": {
          "symbol": "circle"
         },
         "mode": "lines",
         "name": "6116",
         "scene": "scene",
         "showlegend": true,
         "type": "scatter3d",
         "x": [
          1.074398,
          1.0819159999999999,
          1.092724,
          1.0982539999999998,
          1.08419,
          1.040598,
          0.993621,
          0.932085
         ],
         "y": [
          0.610807,
          0.616758,
          0.6263920000000001,
          0.648903,
          0.6732870000000001,
          0.696145,
          0.6988390000000001,
          0.692674
         ],
         "z": [
          0.55477,
          0.588303,
          0.626202,
          0.624259,
          0.695769,
          0.828568,
          0.978757,
          1.162502
         ]
        },
        {
         "hovertemplate": "id=777<br>x=%{x}<br>y=%{y}<br>z=%{z}<extra></extra>",
         "legendgroup": "777",
         "line": {
          "color": "#ab63fa",
          "dash": "solid"
         },
         "marker": {
          "symbol": "circle"
         },
         "mode": "lines",
         "name": "777",
         "scene": "scene",
         "showlegend": true,
         "type": "scatter3d",
         "x": [
          0.0509,
          0.060954,
          0.071006,
          0.081282,
          0.090504,
          0.101677,
          0.11018,
          0.118316,
          0.125549,
          0.134432,
          0.142989
         ],
         "y": [
          0.118345,
          0.12367,
          0.129006,
          0.134799,
          0.142717,
          0.147948,
          0.15428299999999998,
          0.160556,
          0.166321,
          0.173172,
          0.180043
         ],
         "z": [
          0.6453730000000001,
          0.6440779999999999,
          0.642538,
          0.640779,
          0.642079,
          0.634092,
          0.6295810000000001,
          0.6246079999999999,
          0.619242,
          0.614436,
          0.609139
         ]
        },
        {
         "hovertemplate": "id=2614<br>x=%{x}<br>y=%{y}<br>z=%{z}<extra></extra>",
         "legendgroup": "2614",
         "line": {
          "color": "#FFA15A",
          "dash": "solid"
         },
         "marker": {
          "symbol": "circle"
         },
         "mode": "lines",
         "name": "2614",
         "scene": "scene",
         "showlegend": true,
         "type": "scatter3d",
         "x": [
          0.024012000000000002,
          0.025224,
          0.026546,
          0.027954999999999997,
          0.028210000000000002,
          0.030094000000000003,
          0.033995,
          0.036757,
          0.039924999999999995,
          0.043279000000000005
         ],
         "y": [
          0.34522,
          0.34118200000000004,
          0.33675599999999994,
          0.33172399999999996,
          0.323685,
          0.31985199999999997,
          0.312759,
          0.305226,
          0.297336,
          0.289118
         ],
         "z": [
          0.198048,
          0.197821,
          0.197613,
          0.19756800000000002,
          0.196132,
          0.200202,
          0.197357,
          0.196953,
          0.196368,
          0.195442
         ]
        },
        {
         "hovertemplate": "id=255<br>x=%{x}<br>y=%{y}<br>z=%{z}<extra></extra>",
         "legendgroup": "255",
         "line": {
          "color": "#19d3f3",
          "dash": "solid"
         },
         "marker": {
          "symbol": "circle"
         },
         "mode": "lines",
         "name": "255",
         "scene": "scene",
         "showlegend": true,
         "type": "scatter3d",
         "x": [
          0.045076,
          0.047077,
          0.048036999999999996,
          0.048598999999999996,
          0.048996000000000005,
          0.049046,
          0.048685,
          0.047866,
          0.046582,
          0.045172,
          0.043175
         ],
         "y": [
          0.687936,
          0.689806,
          0.6907770000000001,
          0.692138,
          0.6939059999999999,
          0.695991,
          0.698429,
          0.7015170000000001,
          0.703606,
          0.706075,
          0.708106
         ],
         "z": [
          0.240711,
          0.252367,
          0.26225,
          0.271671,
          0.28113099999999996,
          0.290603,
          0.300382,
          0.30778500000000003,
          0.318582,
          0.33130200000000004,
          0.34326100000000004
         ]
        },
        {
         "hovertemplate": "id=6992<br>x=%{x}<br>y=%{y}<br>z=%{z}<extra></extra>",
         "legendgroup": "6992",
         "line": {
          "color": "#FF6692",
          "dash": "solid"
         },
         "marker": {
          "symbol": "circle"
         },
         "mode": "lines",
         "name": "6992",
         "scene": "scene",
         "showlegend": true,
         "type": "scatter3d",
         "x": [
          0.27534800000000004,
          0.257412,
          0.253454,
          0.23760900000000001,
          0.23209800000000003,
          0.230389,
          0.222668
         ],
         "y": [
          0.96331,
          0.963202,
          0.96623,
          0.948438,
          0.912126,
          0.863857,
          0.811166
         ],
         "z": [
          0.96815,
          0.9578049999999999,
          0.945074,
          0.908748,
          0.835947,
          0.761543,
          0.701183
         ]
        },
        {
         "hovertemplate": "id=8278<br>x=%{x}<br>y=%{y}<br>z=%{z}<extra></extra>",
         "legendgroup": "8278",
         "line": {
          "color": "#B6E880",
          "dash": "solid"
         },
         "marker": {
          "symbol": "circle"
         },
         "mode": "lines",
         "name": "8278",
         "scene": "scene",
         "showlegend": true,
         "type": "scatter3d",
         "x": [
          0.211625,
          0.204907,
          0.184098,
          0.174068,
          0.16508099999999998,
          0.14924600000000002,
          0.121016
         ],
         "y": [
          0.810519,
          0.804545,
          0.7862469999999999,
          0.742574,
          0.676045,
          0.635972,
          0.578613
         ],
         "z": [
          1.50477,
          1.492032,
          1.4631910000000001,
          1.457603,
          1.449815,
          1.442859,
          1.4158009999999999
         ]
        },
        {
         "hovertemplate": "id=2709<br>x=%{x}<br>y=%{y}<br>z=%{z}<extra></extra>",
         "legendgroup": "2709",
         "line": {
          "color": "#FF97FF",
          "dash": "solid"
         },
         "marker": {
          "symbol": "circle"
         },
         "mode": "lines",
         "name": "2709",
         "scene": "scene",
         "showlegend": true,
         "type": "scatter3d",
         "x": [
          -0.366502,
          -0.36367099999999997,
          -0.359265,
          -0.354464,
          -0.349474,
          -0.34434,
          -0.33911399999999997,
          -0.33383999999999997,
          -0.308971,
          -0.261737
         ],
         "y": [
          0.469709,
          0.475555,
          0.480925,
          0.486117,
          0.490985,
          0.495448,
          0.499313,
          0.502448,
          0.508709,
          0.5274099999999999
         ],
         "z": [
          0.6731119999999999,
          0.682157,
          0.692779,
          0.704244,
          0.7161420000000001,
          0.7284660000000001,
          0.741024,
          0.753756,
          0.810899,
          0.921943
         ]
        },
        {
         "hovertemplate": "id=176<br>x=%{x}<br>y=%{y}<br>z=%{z}<extra></extra>",
         "legendgroup": "176",
         "line": {
          "color": "#FECB52",
          "dash": "solid"
         },
         "marker": {
          "symbol": "circle"
         },
         "mode": "lines",
         "name": "176",
         "scene": "scene",
         "showlegend": true,
         "type": "scatter3d",
         "x": [
          0.439138,
          0.456834,
          0.472788,
          0.48321600000000003,
          0.5008929999999999,
          0.521864,
          0.534008,
          0.5568529999999999,
          0.570419,
          0.5906079999999999,
          0.6055560000000001
         ],
         "y": [
          0.30056900000000003,
          0.301133,
          0.30479500000000004,
          0.305848,
          0.308496,
          0.308975,
          0.309024,
          0.317235,
          0.320197,
          0.321536,
          0.325007
         ],
         "z": [
          1.076347,
          1.068204,
          1.0667039999999999,
          1.070079,
          1.06947,
          1.067272,
          1.063685,
          1.0687449999999998,
          1.0728440000000001,
          1.067317,
          1.069784
         ]
        },
        {
         "hovertemplate": "id=1560<br>x=%{x}<br>y=%{y}<br>z=%{z}<extra></extra>",
         "legendgroup": "1560",
         "line": {
          "color": "#636efa",
          "dash": "solid"
         },
         "marker": {
          "symbol": "circle"
         },
         "mode": "lines",
         "name": "1560",
         "scene": "scene",
         "showlegend": true,
         "type": "scatter3d",
         "x": [
          0.664994,
          0.679618,
          0.684274,
          0.694314,
          0.669608,
          0.685196,
          0.737392,
          0.754933,
          0.76506,
          0.775283,
          0.75682
         ],
         "y": [
          0.140011,
          0.122754,
          0.100663,
          0.102365,
          0.079019,
          0.078171,
          0.102914,
          0.101536,
          0.102427,
          0.102758,
          0.08383
         ],
         "z": [
          0.9759869999999999,
          0.949808,
          0.912164,
          0.911701,
          0.881845,
          0.8760789999999999,
          0.895292,
          0.8847079999999999,
          0.8836649999999999,
          0.882379,
          0.8600800000000001
         ]
        },
        {
         "hovertemplate": "id=5824<br>x=%{x}<br>y=%{y}<br>z=%{z}<extra></extra>",
         "legendgroup": "5824",
         "line": {
          "color": "#EF553B",
          "dash": "solid"
         },
         "marker": {
          "symbol": "circle"
         },
         "mode": "lines",
         "name": "5824",
         "scene": "scene",
         "showlegend": true,
         "type": "scatter3d",
         "x": [
          -0.224796,
          -0.214613,
          -0.206611,
          -0.19842500000000002,
          -0.190378,
          -0.181898,
          -0.173387,
          -0.167971
         ],
         "y": [
          0.24881999999999999,
          0.253332,
          0.255716,
          0.258111,
          0.26065699999999997,
          0.262688,
          0.264942,
          0.266809
         ],
         "z": [
          0.736377,
          0.736129,
          0.7353719999999999,
          0.734928,
          0.733913,
          0.733995,
          0.73385,
          0.738752
         ]
        },
        {
         "hovertemplate": "id=5591<br>x=%{x}<br>y=%{y}<br>z=%{z}<extra></extra>",
         "legendgroup": "5591",
         "line": {
          "color": "#00cc96",
          "dash": "solid"
         },
         "marker": {
          "symbol": "circle"
         },
         "mode": "lines",
         "name": "5591",
         "scene": "scene",
         "showlegend": true,
         "type": "scatter3d",
         "x": [
          0.35930399999999996,
          0.362722,
          0.36621,
          0.369652,
          0.373067,
          0.374925,
          0.379808,
          0.382932
         ],
         "y": [
          0.045742,
          0.037911,
          0.03022,
          0.022708,
          0.015436,
          0.003608,
          0.001444,
          -0.0050940000000000004
         ],
         "z": [
          0.325582,
          0.33378399999999997,
          0.342203,
          0.35056400000000004,
          0.359103,
          0.362442,
          0.375497,
          0.383504
         ]
        },
        {
         "hovertemplate": "id=67<br>x=%{x}<br>y=%{y}<br>z=%{z}<extra></extra>",
         "legendgroup": "67",
         "line": {
          "color": "#ab63fa",
          "dash": "solid"
         },
         "marker": {
          "symbol": "circle"
         },
         "mode": "lines",
         "name": "67",
         "scene": "scene",
         "showlegend": true,
         "type": "scatter3d",
         "x": [
          0.35363900000000004,
          0.368722,
          0.378284,
          0.39007400000000003,
          0.401536,
          0.413055,
          0.424451,
          0.43429,
          0.44981,
          0.46178199999999997,
          0.474928
         ],
         "y": [
          0.32587299999999997,
          0.32937099999999997,
          0.330743,
          0.33596499999999996,
          0.337583,
          0.338758,
          0.33968200000000004,
          0.33937599999999996,
          0.33995,
          0.34125599999999995,
          0.337522
         ],
         "z": [
          1.44955,
          1.450247,
          1.4537170000000001,
          1.459578,
          1.459994,
          1.458839,
          1.457758,
          1.458002,
          1.45556,
          1.4587059999999998,
          1.4537090000000001
         ]
        },
        {
         "hovertemplate": "id=5513<br>x=%{x}<br>y=%{y}<br>z=%{z}<extra></extra>",
         "legendgroup": "5513",
         "line": {
          "color": "#FFA15A",
          "dash": "solid"
         },
         "marker": {
          "symbol": "circle"
         },
         "mode": "lines",
         "name": "5513",
         "scene": "scene",
         "showlegend": true,
         "type": "scatter3d",
         "x": [
          0.465012,
          0.470431,
          0.482931,
          0.49249400000000004,
          0.502202,
          0.516203,
          0.523239,
          0.535047
         ],
         "y": [
          0.715918,
          0.723309,
          0.731511,
          0.739658,
          0.744128,
          0.750155,
          0.754699,
          0.769289
         ],
         "z": [
          1.114635,
          1.114739,
          1.1096510000000002,
          1.1112270000000002,
          1.1084690000000001,
          1.105713,
          1.1082670000000001,
          1.119713
         ]
        },
        {
         "hovertemplate": "id=297<br>x=%{x}<br>y=%{y}<br>z=%{z}<extra></extra>",
         "legendgroup": "297",
         "line": {
          "color": "#19d3f3",
          "dash": "solid"
         },
         "marker": {
          "symbol": "circle"
         },
         "mode": "lines",
         "name": "297",
         "scene": "scene",
         "showlegend": true,
         "type": "scatter3d",
         "x": [
          0.30282400000000004,
          0.302637,
          0.30267700000000003,
          0.303102,
          0.303862,
          0.304988,
          0.306602,
          0.311376,
          0.310718,
          0.312474,
          0.314321
         ],
         "y": [
          0.44867399999999996,
          0.446453,
          0.44437099999999996,
          0.44237,
          0.44059,
          0.438997,
          0.43779199999999996,
          0.43729399999999996,
          0.43571699999999997,
          0.435346,
          0.435915
         ],
         "z": [
          0.146226,
          0.15432300000000002,
          0.162556,
          0.17108199999999998,
          0.179406,
          0.18779099999999999,
          0.195776,
          0.20081800000000002,
          0.21178999999999998,
          0.223175,
          0.230763
         ]
        },
        {
         "hovertemplate": "id=51<br>x=%{x}<br>y=%{y}<br>z=%{z}<extra></extra>",
         "legendgroup": "51",
         "line": {
          "color": "#FF6692",
          "dash": "solid"
         },
         "marker": {
          "symbol": "circle"
         },
         "mode": "lines",
         "name": "51",
         "scene": "scene",
         "showlegend": true,
         "type": "scatter3d",
         "x": [
          0.721899,
          0.727562,
          0.732804,
          0.7411789999999999,
          0.747998,
          0.7549880000000001,
          0.761542,
          0.7680220000000001,
          0.774301,
          0.780635,
          0.7833730000000001
         ],
         "y": [
          -0.022205,
          -0.023466,
          -0.024797999999999997,
          -0.027023,
          -0.027488,
          -0.028043,
          -0.028301,
          -0.02829,
          -0.028068000000000003,
          -0.027637000000000002,
          -0.024804
         ],
         "z": [
          0.356661,
          0.365867,
          0.37479199999999996,
          0.378846,
          0.38615499999999997,
          0.39287299999999997,
          0.39908,
          0.404702,
          0.40996,
          0.415117,
          0.421889
         ]
        },
        {
         "hovertemplate": "id=7343<br>x=%{x}<br>y=%{y}<br>z=%{z}<extra></extra>",
         "legendgroup": "7343",
         "line": {
          "color": "#B6E880",
          "dash": "solid"
         },
         "marker": {
          "symbol": "circle"
         },
         "mode": "lines",
         "name": "7343",
         "scene": "scene",
         "showlegend": true,
         "type": "scatter3d",
         "x": [
          0.607253,
          0.612826,
          0.6138250000000001,
          0.613084,
          0.606953,
          0.605548,
          0.588109
         ],
         "y": [
          0.9085270000000001,
          0.907899,
          0.90665,
          0.905602,
          0.9014679999999999,
          0.892733,
          0.897408
         ],
         "z": [
          0.997574,
          1.021979,
          1.040529,
          1.0477180000000001,
          1.052366,
          1.041147,
          1.003473
         ]
        },
        {
         "hovertemplate": "id=7328<br>x=%{x}<br>y=%{y}<br>z=%{z}<extra></extra>",
         "legendgroup": "7328",
         "line": {
          "color": "#FF97FF",
          "dash": "solid"
         },
         "marker": {
          "symbol": "circle"
         },
         "mode": "lines",
         "name": "7328",
         "scene": "scene",
         "showlegend": true,
         "type": "scatter3d",
         "x": [
          0.277668,
          0.292077,
          0.304732,
          0.313957,
          0.3262,
          0.335003,
          0.345695
         ],
         "y": [
          0.41688,
          0.415462,
          0.415503,
          0.414196,
          0.406908,
          0.405079,
          0.40219900000000003
         ],
         "z": [
          1.3888669999999999,
          1.3897629999999999,
          1.394487,
          1.4014280000000001,
          1.3952550000000001,
          1.402236,
          1.406508
         ]
        },
        {
         "hovertemplate": "id=2094<br>x=%{x}<br>y=%{y}<br>z=%{z}<extra></extra>",
         "legendgroup": "2094",
         "line": {
          "color": "#FECB52",
          "dash": "solid"
         },
         "marker": {
          "symbol": "circle"
         },
         "mode": "lines",
         "name": "2094",
         "scene": "scene",
         "showlegend": true,
         "type": "scatter3d",
         "x": [
          -0.058296,
          -0.067219,
          -0.11281100000000001,
          -0.131559,
          -0.12220600000000001,
          -0.111406,
          -0.102119,
          -0.085663,
          -0.076214,
          -0.064702,
          -0.045175
         ],
         "y": [
          0.071425,
          0.027096,
          -0.036029000000000005,
          -0.07263599999999999,
          -0.065451,
          -0.06306199999999999,
          -0.061877,
          -0.059732999999999994,
          -0.063531,
          -0.051692,
          -0.054564
         ],
         "z": [
          1.326067,
          1.2550299999999999,
          1.187174,
          1.179019,
          1.192036,
          1.190242,
          1.1885329999999998,
          1.178923,
          1.1708889999999998,
          1.1851800000000001,
          1.1631500000000001
         ]
        },
        {
         "hovertemplate": "id=6271<br>x=%{x}<br>y=%{y}<br>z=%{z}<extra></extra>",
         "legendgroup": "6271",
         "line": {
          "color": "#636efa",
          "dash": "solid"
         },
         "marker": {
          "symbol": "circle"
         },
         "mode": "lines",
         "name": "6271",
         "scene": "scene",
         "showlegend": true,
         "type": "scatter3d",
         "x": [
          -0.221066,
          -0.20587200000000003,
          -0.190619,
          -0.175491,
          -0.160419,
          -0.145324,
          -0.126832,
          -0.116962
         ],
         "y": [
          -0.070756,
          -0.07121,
          -0.071762,
          -0.07244199999999999,
          -0.073197,
          -0.074313,
          -0.076825,
          -0.077914
         ],
         "z": [
          1.40242,
          1.392893,
          1.383285,
          1.3736359999999999,
          1.363859,
          1.3538800000000002,
          1.336047,
          1.333644
         ]
        },
        {
         "hovertemplate": "id=7252<br>x=%{x}<br>y=%{y}<br>z=%{z}<extra></extra>",
         "legendgroup": "7252",
         "line": {
          "color": "#EF553B",
          "dash": "solid"
         },
         "marker": {
          "symbol": "circle"
         },
         "mode": "lines",
         "name": "7252",
         "scene": "scene",
         "showlegend": true,
         "type": "scatter3d",
         "x": [
          0.205126,
          0.185435,
          0.163642,
          0.174079,
          0.186361,
          0.198964,
          0.213179
         ],
         "y": [
          0.09067700000000001,
          0.080437,
          0.059137999999999996,
          0.057414,
          0.057796999999999994,
          0.053591,
          0.045826
         ],
         "z": [
          1.470035,
          1.473854,
          1.490871,
          1.48382,
          1.477104,
          1.465501,
          1.4464780000000002
         ]
        },
        {
         "hovertemplate": "id=228<br>x=%{x}<br>y=%{y}<br>z=%{z}<extra></extra>",
         "legendgroup": "228",
         "line": {
          "color": "#00cc96",
          "dash": "solid"
         },
         "marker": {
          "symbol": "circle"
         },
         "mode": "lines",
         "name": "228",
         "scene": "scene",
         "showlegend": true,
         "type": "scatter3d",
         "x": [
          0.394667,
          0.41090699999999997,
          0.426767,
          0.442131,
          0.457231,
          0.47136399999999995,
          0.469433,
          0.470763,
          0.477811,
          0.49224900000000005,
          0.493685
         ],
         "y": [
          -0.047689,
          -0.050684,
          -0.053511,
          -0.05622,
          -0.058612000000000004,
          -0.061148,
          -0.057559,
          -0.062063,
          -0.057652,
          -0.060448,
          -0.077863
         ],
         "z": [
          1.3862729999999999,
          1.3773579999999999,
          1.368561,
          1.35979,
          1.351446,
          1.342688,
          1.348092,
          1.403564,
          1.398269,
          1.382451,
          1.339039
         ]
        },
        {
         "hovertemplate": "id=7369<br>x=%{x}<br>y=%{y}<br>z=%{z}<extra></extra>",
         "legendgroup": "7369",
         "line": {
          "color": "#ab63fa",
          "dash": "solid"
         },
         "marker": {
          "symbol": "circle"
         },
         "mode": "lines",
         "name": "7369",
         "scene": "scene",
         "showlegend": true,
         "type": "scatter3d",
         "x": [
          0.327514,
          0.310123,
          0.294622,
          0.29254,
          0.26667799999999997,
          0.258912,
          0.246972
         ],
         "y": [
          0.9014,
          0.9245869999999999,
          0.936447,
          0.945611,
          0.962388,
          0.972151,
          0.969201
         ],
         "z": [
          1.083315,
          1.028066,
          0.9861340000000001,
          0.961703,
          0.933524,
          0.9542569999999999,
          0.941903
         ]
        },
        {
         "hovertemplate": "id=8232<br>x=%{x}<br>y=%{y}<br>z=%{z}<extra></extra>",
         "legendgroup": "8232",
         "line": {
          "color": "#FFA15A",
          "dash": "solid"
         },
         "marker": {
          "symbol": "circle"
         },
         "mode": "lines",
         "name": "8232",
         "scene": "scene",
         "showlegend": true,
         "type": "scatter3d",
         "x": [
          0.05073,
          0.062628,
          0.093261,
          0.136937,
          0.205227,
          0.282678,
          0.35470100000000004
         ],
         "y": [
          0.925965,
          0.9306380000000001,
          0.928913,
          0.9350700000000001,
          0.940664,
          0.9389310000000001,
          0.9380149999999999
         ],
         "z": [
          0.926615,
          0.953054,
          0.93835,
          0.9491240000000001,
          0.993097,
          1.0296690000000002,
          1.0706669999999998
         ]
        },
        {
         "hovertemplate": "id=5469<br>x=%{x}<br>y=%{y}<br>z=%{z}<extra></extra>",
         "legendgroup": "5469",
         "line": {
          "color": "#19d3f3",
          "dash": "solid"
         },
         "marker": {
          "symbol": "circle"
         },
         "mode": "lines",
         "name": "5469",
         "scene": "scene",
         "showlegend": true,
         "type": "scatter3d",
         "x": [
          0.658871,
          0.678338,
          0.691331,
          0.704828,
          0.720865,
          0.714078,
          0.715221,
          0.714979
         ],
         "y": [
          0.025778,
          0.026885000000000003,
          0.028956,
          0.030379,
          0.028921,
          0.024453,
          0.02207,
          0.022182
         ],
         "z": [
          1.173855,
          1.160704,
          1.152674,
          1.146764,
          1.133507,
          1.1072629999999999,
          1.105691,
          1.1056890000000001
         ]
        },
        {
         "hovertemplate": "id=6983<br>x=%{x}<br>y=%{y}<br>z=%{z}<extra></extra>",
         "legendgroup": "6983",
         "line": {
          "color": "#FF6692",
          "dash": "solid"
         },
         "marker": {
          "symbol": "circle"
         },
         "mode": "lines",
         "name": "6983",
         "scene": "scene",
         "showlegend": true,
         "type": "scatter3d",
         "x": [
          1.2153720000000001,
          1.2142080000000002,
          1.2142380000000002,
          1.21461,
          1.1914559999999998,
          1.162882,
          1.1318949999999999
         ],
         "y": [
          0.182027,
          0.17780600000000002,
          0.175186,
          0.174013,
          0.188255,
          0.215767,
          0.229383
         ],
         "z": [
          0.489091,
          0.481722,
          0.473494,
          0.46863499999999997,
          0.500211,
          0.567573,
          0.609854
         ]
        },
        {
         "hovertemplate": "id=7458<br>x=%{x}<br>y=%{y}<br>z=%{z}<extra></extra>",
         "legendgroup": "7458",
         "line": {
          "color": "#B6E880",
          "dash": "solid"
         },
         "marker": {
          "symbol": "circle"
         },
         "mode": "lines",
         "name": "7458",
         "scene": "scene",
         "showlegend": true,
         "type": "scatter3d",
         "x": [
          0.30084,
          0.309547,
          0.318693,
          0.31231,
          0.328861,
          0.33598700000000004,
          0.345734
         ],
         "y": [
          0.026466999999999997,
          0.022607,
          0.025495,
          0.019781,
          0.033906,
          0.040415999999999994,
          0.043804
         ],
         "z": [
          0.966386,
          0.9550510000000001,
          0.950711,
          0.9346380000000001,
          0.9519489999999999,
          0.9521710000000001,
          0.9458840000000001
         ]
        },
        {
         "hovertemplate": "id=4436<br>x=%{x}<br>y=%{y}<br>z=%{z}<extra></extra>",
         "legendgroup": "4436",
         "line": {
          "color": "#FF97FF",
          "dash": "solid"
         },
         "marker": {
          "symbol": "circle"
         },
         "mode": "lines",
         "name": "4436",
         "scene": "scene",
         "showlegend": true,
         "type": "scatter3d",
         "x": [
          0.51217,
          0.5088820000000001,
          0.5039669999999999,
          0.487407,
          0.48542,
          0.490118,
          0.48747399999999996,
          0.486967,
          0.480889
         ],
         "y": [
          0.755842,
          0.7704840000000001,
          0.768377,
          0.773533,
          0.7723730000000001,
          0.773438,
          0.7658579999999999,
          0.748341,
          0.729221
         ],
         "z": [
          0.044091,
          0.025837,
          0.001506,
          -0.048225000000000004,
          -0.063206,
          -0.049527,
          -0.036507,
          -0.000164,
          0.005149
         ]
        },
        {
         "hovertemplate": "id=7208<br>x=%{x}<br>y=%{y}<br>z=%{z}<extra></extra>",
         "legendgroup": "7208",
         "line": {
          "color": "#FECB52",
          "dash": "solid"
         },
         "marker": {
          "symbol": "circle"
         },
         "mode": "lines",
         "name": "7208",
         "scene": "scene",
         "showlegend": true,
         "type": "scatter3d",
         "x": [
          -0.11863800000000001,
          -0.111511,
          -0.107171,
          -0.099022,
          -0.124296,
          -0.140843,
          -0.146231
         ],
         "y": [
          0.428173,
          0.44017399999999995,
          0.447496,
          0.455204,
          0.474517,
          0.48199000000000003,
          0.478111
         ],
         "z": [
          0.712324,
          0.7150489999999999,
          0.713007,
          0.705039,
          0.701761,
          0.635094,
          0.5142709999999999
         ]
        },
        {
         "hovertemplate": "id=2630<br>x=%{x}<br>y=%{y}<br>z=%{z}<extra></extra>",
         "legendgroup": "2630",
         "line": {
          "color": "#636efa",
          "dash": "solid"
         },
         "marker": {
          "symbol": "circle"
         },
         "mode": "lines",
         "name": "2630",
         "scene": "scene",
         "showlegend": true,
         "type": "scatter3d",
         "x": [
          0.160561,
          0.180283,
          0.195009,
          0.209728,
          0.221861,
          0.236034,
          0.246136,
          0.260972,
          0.235904,
          0.224703
         ],
         "y": [
          0.410634,
          0.398246,
          0.398935,
          0.40086099999999997,
          0.40348500000000004,
          0.404414,
          0.406088,
          0.40811000000000003,
          0.384356,
          0.367045
         ],
         "z": [
          1.276146,
          1.252756,
          1.2510139999999998,
          1.249885,
          1.2520429999999998,
          1.248162,
          1.249822,
          1.243608,
          1.20779,
          1.175711
         ]
        },
        {
         "hovertemplate": "id=213<br>x=%{x}<br>y=%{y}<br>z=%{z}<extra></extra>",
         "legendgroup": "213",
         "line": {
          "color": "#EF553B",
          "dash": "solid"
         },
         "marker": {
          "symbol": "circle"
         },
         "mode": "lines",
         "name": "213",
         "scene": "scene",
         "showlegend": true,
         "type": "scatter3d",
         "x": [
          0.054279,
          0.06912,
          0.084301,
          0.099757,
          0.115463,
          0.13228,
          0.152064,
          0.164858,
          0.181365,
          0.19667199999999999,
          0.204297
         ],
         "y": [
          0.029439,
          0.032964,
          0.031614,
          0.032616,
          0.035478,
          0.038465000000000006,
          0.041587000000000006,
          0.044792,
          0.048595,
          0.057220999999999994,
          0.062100999999999996
         ],
         "z": [
          1.225379,
          1.21924,
          1.206538,
          1.196679,
          1.189025,
          1.179404,
          1.168618,
          1.1636,
          1.154948,
          1.155758,
          1.165444
         ]
        },
        {
         "hovertemplate": "id=7592<br>x=%{x}<br>y=%{y}<br>z=%{z}<extra></extra>",
         "legendgroup": "7592",
         "line": {
          "color": "#00cc96",
          "dash": "solid"
         },
         "marker": {
          "symbol": "circle"
         },
         "mode": "lines",
         "name": "7592",
         "scene": "scene",
         "showlegend": true,
         "type": "scatter3d",
         "x": [
          0.43185399999999996,
          0.442837,
          0.457259,
          0.469297,
          0.488202,
          0.504353,
          0.536525
         ],
         "y": [
          -0.19126300000000002,
          -0.19298099999999999,
          -0.193291,
          -0.19276400000000002,
          -0.188612,
          -0.196565,
          -0.22559800000000002
         ],
         "z": [
          1.441757,
          1.4308040000000002,
          1.416937,
          1.406163,
          1.373646,
          1.357266,
          1.3666880000000001
         ]
        },
        {
         "hovertemplate": "id=399<br>x=%{x}<br>y=%{y}<br>z=%{z}<extra></extra>",
         "legendgroup": "399",
         "line": {
          "color": "#ab63fa",
          "dash": "solid"
         },
         "marker": {
          "symbol": "circle"
         },
         "mode": "lines",
         "name": "399",
         "scene": "scene",
         "showlegend": true,
         "type": "scatter3d",
         "x": [
          -0.27282799999999996,
          -0.280916,
          -0.281248,
          -0.285978,
          -0.292118,
          -0.295197,
          -0.297351,
          -0.28376,
          -0.308363,
          -0.362175,
          -0.42596100000000003
         ],
         "y": [
          0.624388,
          0.632553,
          0.64061,
          0.649156,
          0.65362,
          0.666141,
          0.67838,
          0.676937,
          0.6904410000000001,
          0.723476,
          0.737227
         ],
         "z": [
          0.6052190000000001,
          0.609807,
          0.623681,
          0.6329640000000001,
          0.634829,
          0.651713,
          0.664362,
          0.6814840000000001,
          0.679233,
          0.658301,
          0.644323
         ]
        },
        {
         "hovertemplate": "id=4015<br>x=%{x}<br>y=%{y}<br>z=%{z}<extra></extra>",
         "legendgroup": "4015",
         "line": {
          "color": "#FFA15A",
          "dash": "solid"
         },
         "marker": {
          "symbol": "circle"
         },
         "mode": "lines",
         "name": "4015",
         "scene": "scene",
         "showlegend": true,
         "type": "scatter3d",
         "x": [
          1.19916,
          1.1826079999999999,
          1.139909,
          1.135239,
          1.142959,
          1.1352840000000002,
          1.133356,
          1.114632,
          1.100845,
          1.105618
         ],
         "y": [
          0.611256,
          0.6042609999999999,
          0.622541,
          0.6469389999999999,
          0.658323,
          0.648592,
          0.645503,
          0.672314,
          0.7130299999999999,
          0.71884
         ],
         "z": [
          0.26056799999999997,
          0.178292,
          0.109659,
          0.09710500000000001,
          0.138459,
          0.13377799999999998,
          0.10189,
          0.030274000000000002,
          -0.0059299999999999995,
          -0.006692
         ]
        },
        {
         "hovertemplate": "id=4858<br>x=%{x}<br>y=%{y}<br>z=%{z}<extra></extra>",
         "legendgroup": "4858",
         "line": {
          "color": "#19d3f3",
          "dash": "solid"
         },
         "marker": {
          "symbol": "circle"
         },
         "mode": "lines",
         "name": "4858",
         "scene": "scene",
         "showlegend": true,
         "type": "scatter3d",
         "x": [
          -0.302178,
          -0.290036,
          -0.27781599999999995,
          -0.265201,
          -0.25036600000000003,
          -0.234943,
          -0.223262,
          -0.211481,
          -0.20533600000000002
         ],
         "y": [
          0.010764,
          0.01304,
          0.015419,
          0.018097000000000002,
          0.017,
          0.024551,
          0.026411,
          0.028366,
          0.049155000000000004
         ],
         "z": [
          1.244059,
          1.237854,
          1.231506,
          1.2251679999999998,
          1.2112260000000001,
          1.2074369999999999,
          1.2018389999999999,
          1.196182,
          1.216488
         ]
        },
        {
         "hovertemplate": "id=1604<br>x=%{x}<br>y=%{y}<br>z=%{z}<extra></extra>",
         "legendgroup": "1604",
         "line": {
          "color": "#FF6692",
          "dash": "solid"
         },
         "marker": {
          "symbol": "circle"
         },
         "mode": "lines",
         "name": "1604",
         "scene": "scene",
         "showlegend": true,
         "type": "scatter3d",
         "x": [
          -0.286978,
          -0.273349,
          -0.25910500000000003,
          -0.244335,
          -0.233892,
          -0.218548,
          -0.20575200000000002,
          -0.19031299999999998,
          -0.179038,
          -0.162312,
          -0.157458
         ],
         "y": [
          -0.015439999999999999,
          -0.016832,
          -0.017891999999999998,
          -0.018594000000000003,
          -0.044988999999999994,
          -0.040752000000000003,
          -0.041777,
          -0.03704,
          -0.036431,
          -0.030262,
          -0.02341
         ],
         "z": [
          1.325108,
          1.314144,
          1.30238,
          1.290653,
          1.228653,
          1.223382,
          1.213657,
          1.208191,
          1.202145,
          1.1957229999999999,
          1.207465
         ]
        },
        {
         "hovertemplate": "id=5538<br>x=%{x}<br>y=%{y}<br>z=%{z}<extra></extra>",
         "legendgroup": "5538",
         "line": {
          "color": "#B6E880",
          "dash": "solid"
         },
         "marker": {
          "symbol": "circle"
         },
         "mode": "lines",
         "name": "5538",
         "scene": "scene",
         "showlegend": true,
         "type": "scatter3d",
         "x": [
          -0.34504,
          -0.345541,
          -0.32957600000000004,
          -0.326224,
          -0.331855,
          -0.327804,
          -0.338004,
          -0.384201
         ],
         "y": [
          0.527396,
          0.5294690000000001,
          0.529239,
          0.527567,
          0.509645,
          0.48435500000000004,
          0.445275,
          0.374358
         ],
         "z": [
          0.8963909999999999,
          0.913875,
          0.931421,
          0.930407,
          0.9209400000000001,
          0.856327,
          0.7724289999999999,
          0.677519
         ]
        },
        {
         "hovertemplate": "id=6866<br>x=%{x}<br>y=%{y}<br>z=%{z}<extra></extra>",
         "legendgroup": "6866",
         "line": {
          "color": "#FF97FF",
          "dash": "solid"
         },
         "marker": {
          "symbol": "circle"
         },
         "mode": "lines",
         "name": "6866",
         "scene": "scene",
         "showlegend": true,
         "type": "scatter3d",
         "x": [
          1.2399149999999999,
          1.228187,
          1.240133,
          1.247038,
          1.258665,
          1.250049,
          1.240342,
          1.210864
         ],
         "y": [
          -0.190637,
          -0.17397300000000002,
          -0.162479,
          -0.164108,
          -0.175739,
          -0.151468,
          -0.14859,
          -0.14571199999999998
         ],
         "z": [
          0.878082,
          0.920192,
          0.94485,
          0.9437859999999999,
          0.910613,
          0.905789,
          0.884005,
          0.9004679999999999
         ]
        },
        {
         "hovertemplate": "id=6174<br>x=%{x}<br>y=%{y}<br>z=%{z}<extra></extra>",
         "legendgroup": "6174",
         "line": {
          "color": "#FECB52",
          "dash": "solid"
         },
         "marker": {
          "symbol": "circle"
         },
         "mode": "lines",
         "name": "6174",
         "scene": "scene",
         "showlegend": true,
         "type": "scatter3d",
         "x": [
          -0.349991,
          -0.3515,
          -0.307359,
          -0.26847899999999997,
          -0.259474,
          -0.252733,
          -0.262276,
          -0.306046
         ],
         "y": [
          0.141216,
          0.161638,
          0.190708,
          0.210068,
          0.204913,
          0.200701,
          0.181968,
          0.16461099999999998
         ],
         "z": [
          0.754403,
          0.8158880000000001,
          0.8567039999999999,
          0.9047820000000001,
          0.899522,
          0.883008,
          0.851237,
          0.8550650000000001
         ]
        }
       ],
       "layout": {
        "legend": {
         "title": {
          "text": "id"
         },
         "tracegroupgap": 0
        },
        "margin": {
         "t": 60
        },
        "scene": {
         "domain": {
          "x": [
           0,
           1
          ],
          "y": [
           0,
           1
          ]
         },
         "xaxis": {
          "title": {
           "text": "x"
          }
         },
         "yaxis": {
          "title": {
           "text": "y"
          }
         },
         "zaxis": {
          "title": {
           "text": "z"
          }
         }
        },
        "template": {
         "data": {
          "bar": [
           {
            "error_x": {
             "color": "#2a3f5f"
            },
            "error_y": {
             "color": "#2a3f5f"
            },
            "marker": {
             "line": {
              "color": "#E5ECF6",
              "width": 0.5
             },
             "pattern": {
              "fillmode": "overlay",
              "size": 10,
              "solidity": 0.2
             }
            },
            "type": "bar"
           }
          ],
          "barpolar": [
           {
            "marker": {
             "line": {
              "color": "#E5ECF6",
              "width": 0.5
             },
             "pattern": {
              "fillmode": "overlay",
              "size": 10,
              "solidity": 0.2
             }
            },
            "type": "barpolar"
           }
          ],
          "carpet": [
           {
            "aaxis": {
             "endlinecolor": "#2a3f5f",
             "gridcolor": "white",
             "linecolor": "white",
             "minorgridcolor": "white",
             "startlinecolor": "#2a3f5f"
            },
            "baxis": {
             "endlinecolor": "#2a3f5f",
             "gridcolor": "white",
             "linecolor": "white",
             "minorgridcolor": "white",
             "startlinecolor": "#2a3f5f"
            },
            "type": "carpet"
           }
          ],
          "choropleth": [
           {
            "colorbar": {
             "outlinewidth": 0,
             "ticks": ""
            },
            "type": "choropleth"
           }
          ],
          "contour": [
           {
            "colorbar": {
             "outlinewidth": 0,
             "ticks": ""
            },
            "colorscale": [
             [
              0,
              "#0d0887"
             ],
             [
              0.1111111111111111,
              "#46039f"
             ],
             [
              0.2222222222222222,
              "#7201a8"
             ],
             [
              0.3333333333333333,
              "#9c179e"
             ],
             [
              0.4444444444444444,
              "#bd3786"
             ],
             [
              0.5555555555555556,
              "#d8576b"
             ],
             [
              0.6666666666666666,
              "#ed7953"
             ],
             [
              0.7777777777777778,
              "#fb9f3a"
             ],
             [
              0.8888888888888888,
              "#fdca26"
             ],
             [
              1,
              "#f0f921"
             ]
            ],
            "type": "contour"
           }
          ],
          "contourcarpet": [
           {
            "colorbar": {
             "outlinewidth": 0,
             "ticks": ""
            },
            "type": "contourcarpet"
           }
          ],
          "heatmap": [
           {
            "colorbar": {
             "outlinewidth": 0,
             "ticks": ""
            },
            "colorscale": [
             [
              0,
              "#0d0887"
             ],
             [
              0.1111111111111111,
              "#46039f"
             ],
             [
              0.2222222222222222,
              "#7201a8"
             ],
             [
              0.3333333333333333,
              "#9c179e"
             ],
             [
              0.4444444444444444,
              "#bd3786"
             ],
             [
              0.5555555555555556,
              "#d8576b"
             ],
             [
              0.6666666666666666,
              "#ed7953"
             ],
             [
              0.7777777777777778,
              "#fb9f3a"
             ],
             [
              0.8888888888888888,
              "#fdca26"
             ],
             [
              1,
              "#f0f921"
             ]
            ],
            "type": "heatmap"
           }
          ],
          "heatmapgl": [
           {
            "colorbar": {
             "outlinewidth": 0,
             "ticks": ""
            },
            "colorscale": [
             [
              0,
              "#0d0887"
             ],
             [
              0.1111111111111111,
              "#46039f"
             ],
             [
              0.2222222222222222,
              "#7201a8"
             ],
             [
              0.3333333333333333,
              "#9c179e"
             ],
             [
              0.4444444444444444,
              "#bd3786"
             ],
             [
              0.5555555555555556,
              "#d8576b"
             ],
             [
              0.6666666666666666,
              "#ed7953"
             ],
             [
              0.7777777777777778,
              "#fb9f3a"
             ],
             [
              0.8888888888888888,
              "#fdca26"
             ],
             [
              1,
              "#f0f921"
             ]
            ],
            "type": "heatmapgl"
           }
          ],
          "histogram": [
           {
            "marker": {
             "pattern": {
              "fillmode": "overlay",
              "size": 10,
              "solidity": 0.2
             }
            },
            "type": "histogram"
           }
          ],
          "histogram2d": [
           {
            "colorbar": {
             "outlinewidth": 0,
             "ticks": ""
            },
            "colorscale": [
             [
              0,
              "#0d0887"
             ],
             [
              0.1111111111111111,
              "#46039f"
             ],
             [
              0.2222222222222222,
              "#7201a8"
             ],
             [
              0.3333333333333333,
              "#9c179e"
             ],
             [
              0.4444444444444444,
              "#bd3786"
             ],
             [
              0.5555555555555556,
              "#d8576b"
             ],
             [
              0.6666666666666666,
              "#ed7953"
             ],
             [
              0.7777777777777778,
              "#fb9f3a"
             ],
             [
              0.8888888888888888,
              "#fdca26"
             ],
             [
              1,
              "#f0f921"
             ]
            ],
            "type": "histogram2d"
           }
          ],
          "histogram2dcontour": [
           {
            "colorbar": {
             "outlinewidth": 0,
             "ticks": ""
            },
            "colorscale": [
             [
              0,
              "#0d0887"
             ],
             [
              0.1111111111111111,
              "#46039f"
             ],
             [
              0.2222222222222222,
              "#7201a8"
             ],
             [
              0.3333333333333333,
              "#9c179e"
             ],
             [
              0.4444444444444444,
              "#bd3786"
             ],
             [
              0.5555555555555556,
              "#d8576b"
             ],
             [
              0.6666666666666666,
              "#ed7953"
             ],
             [
              0.7777777777777778,
              "#fb9f3a"
             ],
             [
              0.8888888888888888,
              "#fdca26"
             ],
             [
              1,
              "#f0f921"
             ]
            ],
            "type": "histogram2dcontour"
           }
          ],
          "mesh3d": [
           {
            "colorbar": {
             "outlinewidth": 0,
             "ticks": ""
            },
            "type": "mesh3d"
           }
          ],
          "parcoords": [
           {
            "line": {
             "colorbar": {
              "outlinewidth": 0,
              "ticks": ""
             }
            },
            "type": "parcoords"
           }
          ],
          "pie": [
           {
            "automargin": true,
            "type": "pie"
           }
          ],
          "scatter": [
           {
            "fillpattern": {
             "fillmode": "overlay",
             "size": 10,
             "solidity": 0.2
            },
            "type": "scatter"
           }
          ],
          "scatter3d": [
           {
            "line": {
             "colorbar": {
              "outlinewidth": 0,
              "ticks": ""
             }
            },
            "marker": {
             "colorbar": {
              "outlinewidth": 0,
              "ticks": ""
             }
            },
            "type": "scatter3d"
           }
          ],
          "scattercarpet": [
           {
            "marker": {
             "colorbar": {
              "outlinewidth": 0,
              "ticks": ""
             }
            },
            "type": "scattercarpet"
           }
          ],
          "scattergeo": [
           {
            "marker": {
             "colorbar": {
              "outlinewidth": 0,
              "ticks": ""
             }
            },
            "type": "scattergeo"
           }
          ],
          "scattergl": [
           {
            "marker": {
             "colorbar": {
              "outlinewidth": 0,
              "ticks": ""
             }
            },
            "type": "scattergl"
           }
          ],
          "scattermapbox": [
           {
            "marker": {
             "colorbar": {
              "outlinewidth": 0,
              "ticks": ""
             }
            },
            "type": "scattermapbox"
           }
          ],
          "scatterpolar": [
           {
            "marker": {
             "colorbar": {
              "outlinewidth": 0,
              "ticks": ""
             }
            },
            "type": "scatterpolar"
           }
          ],
          "scatterpolargl": [
           {
            "marker": {
             "colorbar": {
              "outlinewidth": 0,
              "ticks": ""
             }
            },
            "type": "scatterpolargl"
           }
          ],
          "scatterternary": [
           {
            "marker": {
             "colorbar": {
              "outlinewidth": 0,
              "ticks": ""
             }
            },
            "type": "scatterternary"
           }
          ],
          "surface": [
           {
            "colorbar": {
             "outlinewidth": 0,
             "ticks": ""
            },
            "colorscale": [
             [
              0,
              "#0d0887"
             ],
             [
              0.1111111111111111,
              "#46039f"
             ],
             [
              0.2222222222222222,
              "#7201a8"
             ],
             [
              0.3333333333333333,
              "#9c179e"
             ],
             [
              0.4444444444444444,
              "#bd3786"
             ],
             [
              0.5555555555555556,
              "#d8576b"
             ],
             [
              0.6666666666666666,
              "#ed7953"
             ],
             [
              0.7777777777777778,
              "#fb9f3a"
             ],
             [
              0.8888888888888888,
              "#fdca26"
             ],
             [
              1,
              "#f0f921"
             ]
            ],
            "type": "surface"
           }
          ],
          "table": [
           {
            "cells": {
             "fill": {
              "color": "#EBF0F8"
             },
             "line": {
              "color": "white"
             }
            },
            "header": {
             "fill": {
              "color": "#C8D4E3"
             },
             "line": {
              "color": "white"
             }
            },
            "type": "table"
           }
          ]
         },
         "layout": {
          "annotationdefaults": {
           "arrowcolor": "#2a3f5f",
           "arrowhead": 0,
           "arrowwidth": 1
          },
          "autotypenumbers": "strict",
          "coloraxis": {
           "colorbar": {
            "outlinewidth": 0,
            "ticks": ""
           }
          },
          "colorscale": {
           "diverging": [
            [
             0,
             "#8e0152"
            ],
            [
             0.1,
             "#c51b7d"
            ],
            [
             0.2,
             "#de77ae"
            ],
            [
             0.3,
             "#f1b6da"
            ],
            [
             0.4,
             "#fde0ef"
            ],
            [
             0.5,
             "#f7f7f7"
            ],
            [
             0.6,
             "#e6f5d0"
            ],
            [
             0.7,
             "#b8e186"
            ],
            [
             0.8,
             "#7fbc41"
            ],
            [
             0.9,
             "#4d9221"
            ],
            [
             1,
             "#276419"
            ]
           ],
           "sequential": [
            [
             0,
             "#0d0887"
            ],
            [
             0.1111111111111111,
             "#46039f"
            ],
            [
             0.2222222222222222,
             "#7201a8"
            ],
            [
             0.3333333333333333,
             "#9c179e"
            ],
            [
             0.4444444444444444,
             "#bd3786"
            ],
            [
             0.5555555555555556,
             "#d8576b"
            ],
            [
             0.6666666666666666,
             "#ed7953"
            ],
            [
             0.7777777777777778,
             "#fb9f3a"
            ],
            [
             0.8888888888888888,
             "#fdca26"
            ],
            [
             1,
             "#f0f921"
            ]
           ],
           "sequentialminus": [
            [
             0,
             "#0d0887"
            ],
            [
             0.1111111111111111,
             "#46039f"
            ],
            [
             0.2222222222222222,
             "#7201a8"
            ],
            [
             0.3333333333333333,
             "#9c179e"
            ],
            [
             0.4444444444444444,
             "#bd3786"
            ],
            [
             0.5555555555555556,
             "#d8576b"
            ],
            [
             0.6666666666666666,
             "#ed7953"
            ],
            [
             0.7777777777777778,
             "#fb9f3a"
            ],
            [
             0.8888888888888888,
             "#fdca26"
            ],
            [
             1,
             "#f0f921"
            ]
           ]
          },
          "colorway": [
           "#636efa",
           "#EF553B",
           "#00cc96",
           "#ab63fa",
           "#FFA15A",
           "#19d3f3",
           "#FF6692",
           "#B6E880",
           "#FF97FF",
           "#FECB52"
          ],
          "font": {
           "color": "#2a3f5f"
          },
          "geo": {
           "bgcolor": "white",
           "lakecolor": "white",
           "landcolor": "#E5ECF6",
           "showlakes": true,
           "showland": true,
           "subunitcolor": "white"
          },
          "hoverlabel": {
           "align": "left"
          },
          "hovermode": "closest",
          "mapbox": {
           "style": "light"
          },
          "paper_bgcolor": "white",
          "plot_bgcolor": "#E5ECF6",
          "polar": {
           "angularaxis": {
            "gridcolor": "white",
            "linecolor": "white",
            "ticks": ""
           },
           "bgcolor": "#E5ECF6",
           "radialaxis": {
            "gridcolor": "white",
            "linecolor": "white",
            "ticks": ""
           }
          },
          "scene": {
           "xaxis": {
            "backgroundcolor": "#E5ECF6",
            "gridcolor": "white",
            "gridwidth": 2,
            "linecolor": "white",
            "showbackground": true,
            "ticks": "",
            "zerolinecolor": "white"
           },
           "yaxis": {
            "backgroundcolor": "#E5ECF6",
            "gridcolor": "white",
            "gridwidth": 2,
            "linecolor": "white",
            "showbackground": true,
            "ticks": "",
            "zerolinecolor": "white"
           },
           "zaxis": {
            "backgroundcolor": "#E5ECF6",
            "gridcolor": "white",
            "gridwidth": 2,
            "linecolor": "white",
            "showbackground": true,
            "ticks": "",
            "zerolinecolor": "white"
           }
          },
          "shapedefaults": {
           "line": {
            "color": "#2a3f5f"
           }
          },
          "ternary": {
           "aaxis": {
            "gridcolor": "white",
            "linecolor": "white",
            "ticks": ""
           },
           "baxis": {
            "gridcolor": "white",
            "linecolor": "white",
            "ticks": ""
           },
           "bgcolor": "#E5ECF6",
           "caxis": {
            "gridcolor": "white",
            "linecolor": "white",
            "ticks": ""
           }
          },
          "title": {
           "x": 0.05
          },
          "xaxis": {
           "automargin": true,
           "gridcolor": "white",
           "linecolor": "white",
           "ticks": "",
           "title": {
            "standoff": 15
           },
           "zerolinecolor": "white",
           "zerolinewidth": 2
          },
          "yaxis": {
           "automargin": true,
           "gridcolor": "white",
           "linecolor": "white",
           "ticks": "",
           "title": {
            "standoff": 15
           },
           "zerolinecolor": "white",
           "zerolinewidth": 2
          }
         }
        }
       }
      }
     },
     "metadata": {},
     "output_type": "display_data"
    }
   ],
   "source": [
    "import plotly.express as px\n",
    "# df = px.data.gapminder().query(\"continent=='Europe'\")\n",
    "fig = px.line_3d(df, x=\"x\", y=\"y\", z=\"z\", color='id')\n",
    "fig.show()"
   ]
  },
  {
   "cell_type": "code",
   "execution_count": null,
   "id": "5c538c82-8148-4637-9f5a-22eb37f7396e",
   "metadata": {
    "vscode": {
     "languageId": "r"
    }
   },
   "outputs": [],
   "source": [
    "import plotly.graph_objects as go\n",
    "\n",
    "# fig = go.Figure()\n",
    "\n",
    "# for traj_id in df['id'].unique():\n",
    "#     traj_data = df[df['id'] == traj_id]\n",
    "#     fig.add_trace(go.Scatter3d(\n",
    "#         x=traj_data['x'],\n",
    "#         y=traj_data['y'],\n",
    "#         z=traj_data['z'],\n",
    "#         mode='lines+markers',\n",
    "#         marker=dict(size=2),\n",
    "#         name=str(traj_id)\n",
    "#     ))\n",
    "\n",
    "# fig.update_layout(\n",
    "#     scene=dict(\n",
    "#         xaxis_title='x',\n",
    "#         yaxis_title='y',\n",
    "#         zaxis_title='z'\n",
    "#     ),\n",
    "#     title='3D Trajectories with Lines and Small Symbols'\n",
    "# )\n",
    "\n",
    "# fig.show()"
   ]
  },
  {
   "cell_type": "code",
   "execution_count": 25,
   "id": "4edf8e21",
   "metadata": {},
   "outputs": [
    {
     "data": {
      "application/vnd.plotly.v1+json": {
       "config": {
        "plotlyServerURL": "https://plot.ly"
       },
       "data": [
        {
         "marker": {
          "color": [
           0.06675775823827523,
           0.026736309057160453,
           0.009230675435741508,
           0.020458808836293422,
           0.06546985470428342,
           0.06391746889544364,
           0
          ],
          "colorbar": {
           "title": {
            "text": "Velocity Magnitude"
           }
          },
          "colorscale": [
           [
            0,
            "#440154"
           ],
           [
            0.1111111111111111,
            "#482878"
           ],
           [
            0.2222222222222222,
            "#3e4989"
           ],
           [
            0.3333333333333333,
            "#31688e"
           ],
           [
            0.4444444444444444,
            "#26828e"
           ],
           [
            0.5555555555555556,
            "#1f9e89"
           ],
           [
            0.6666666666666666,
            "#35b779"
           ],
           [
            0.7777777777777778,
            "#6ece58"
           ],
           [
            0.8888888888888888,
            "#b5de2b"
           ],
           [
            1,
            "#fde725"
           ]
          ],
          "size": 2
         },
         "mode": "lines+markers",
         "name": "944",
         "type": "scatter3d",
         "x": [
          0.962856,
          1.000715,
          1.022504,
          1.027327,
          1.039974,
          1.017681,
          0.9944500000000001
         ],
         "y": [
          0.279922,
          0.247012,
          0.252486,
          0.25776,
          0.26972500000000005,
          0.26356999999999997,
          0.250805
         ],
         "z": [
          0.899497,
          0.8554489999999999,
          0.840954,
          0.8467960000000001,
          0.8575410000000001,
          0.91879,
          0.976952
         ]
        },
        {
         "marker": {
          "color": [
           0.007072166146238375,
           0.021451322150394365,
           0.013311225676097566,
           0.014485870184424574,
           0.015827071270453023,
           0.01601664312519945,
           0
          ],
          "colorbar": {
           "title": {
            "text": "Velocity Magnitude"
           }
          },
          "colorscale": [
           [
            0,
            "#440154"
           ],
           [
            0.1111111111111111,
            "#482878"
           ],
           [
            0.2222222222222222,
            "#3e4989"
           ],
           [
            0.3333333333333333,
            "#31688e"
           ],
           [
            0.4444444444444444,
            "#26828e"
           ],
           [
            0.5555555555555556,
            "#1f9e89"
           ],
           [
            0.6666666666666666,
            "#35b779"
           ],
           [
            0.7777777777777778,
            "#6ece58"
           ],
           [
            0.8888888888888888,
            "#b5de2b"
           ],
           [
            1,
            "#fde725"
           ]
          ],
          "size": 2
         },
         "mode": "lines+markers",
         "name": "204",
         "type": "scatter3d",
         "x": [
          -0.144031,
          -0.144873,
          -0.147342,
          -0.149179,
          -0.15202000000000002,
          -0.154254,
          -0.16097999999999998
         ],
         "y": [
          0.630259,
          0.62905,
          0.6280439999999999,
          0.6263,
          0.624177,
          0.620475,
          0.620641
         ],
         "z": [
          0.247589,
          0.254506,
          0.275791,
          0.288859,
          0.302904,
          0.318129,
          0.33266399999999996
         ]
        },
        {
         "marker": {
          "color": [
           0.013376317729479921,
           0.012932317116433584,
           0.022983064786925158,
           0.015709180627900367,
           0.020050440718348345,
           0.015055732828394624,
           0
          ],
          "colorbar": {
           "title": {
            "text": "Velocity Magnitude"
           }
          },
          "colorscale": [
           [
            0,
            "#440154"
           ],
           [
            0.1111111111111111,
            "#482878"
           ],
           [
            0.2222222222222222,
            "#3e4989"
           ],
           [
            0.3333333333333333,
            "#31688e"
           ],
           [
            0.4444444444444444,
            "#26828e"
           ],
           [
            0.5555555555555556,
            "#1f9e89"
           ],
           [
            0.6666666666666666,
            "#35b779"
           ],
           [
            0.7777777777777778,
            "#6ece58"
           ],
           [
            0.8888888888888888,
            "#b5de2b"
           ],
           [
            1,
            "#fde725"
           ]
          ],
          "size": 2
         },
         "mode": "lines+markers",
         "name": "300",
         "type": "scatter3d",
         "x": [
          -0.19213999999999998,
          -0.179096,
          -0.166652,
          -0.145679,
          -0.130153,
          -0.11170000000000001,
          -0.096941
         ],
         "y": [
          0.155662,
          0.15474000000000002,
          0.15368700000000002,
          0.153034,
          0.153038,
          0.152938,
          0.152847
         ],
         "z": [
          1.093491,
          1.090675,
          1.087316,
          1.077939,
          1.075547,
          1.067705,
          1.064732
         ]
        },
        {
         "marker": {
          "color": [
           0.014758591565593242,
           0.013461157491092699,
           0.011727062121435166,
           0.011166406807921667,
           0.007952272882641814,
           0.010864096142799866,
           0
          ],
          "colorbar": {
           "title": {
            "text": "Velocity Magnitude"
           }
          },
          "colorscale": [
           [
            0,
            "#440154"
           ],
           [
            0.1111111111111111,
            "#482878"
           ],
           [
            0.2222222222222222,
            "#3e4989"
           ],
           [
            0.3333333333333333,
            "#31688e"
           ],
           [
            0.4444444444444444,
            "#26828e"
           ],
           [
            0.5555555555555556,
            "#1f9e89"
           ],
           [
            0.6666666666666666,
            "#35b779"
           ],
           [
            0.7777777777777778,
            "#6ece58"
           ],
           [
            0.8888888888888888,
            "#b5de2b"
           ],
           [
            1,
            "#fde725"
           ]
          ],
          "size": 2
         },
         "mode": "lines+markers",
         "name": "509",
         "type": "scatter3d",
         "x": [
          0.013635,
          0.00615,
          -0.000156,
          -0.004945000000000001,
          -0.008785,
          -0.013085000000000001,
          -0.016733
         ],
         "y": [
          0.00171,
          -0.003382,
          -0.006956,
          -0.009084,
          -0.009813,
          -0.012943,
          -0.012348000000000001
         ],
         "z": [
          0.306911,
          0.318567,
          0.32991000000000004,
          0.340401,
          0.350861,
          0.356773,
          0.36698899999999995
         ]
        },
        {
         "marker": {
          "color": [
           0.007907272475386199,
           0.009693036727465755,
           0.009404211397028432,
           0.009496159644824875,
           0.009141340711296115,
           0.00915386197186737,
           0
          ],
          "colorbar": {
           "title": {
            "text": "Velocity Magnitude"
           }
          },
          "colorscale": [
           [
            0,
            "#440154"
           ],
           [
            0.1111111111111111,
            "#482878"
           ],
           [
            0.2222222222222222,
            "#3e4989"
           ],
           [
            0.3333333333333333,
            "#31688e"
           ],
           [
            0.4444444444444444,
            "#26828e"
           ],
           [
            0.5555555555555556,
            "#1f9e89"
           ],
           [
            0.6666666666666666,
            "#35b779"
           ],
           [
            0.7777777777777778,
            "#6ece58"
           ],
           [
            0.8888888888888888,
            "#b5de2b"
           ],
           [
            1,
            "#fde725"
           ]
          ],
          "size": 2
         },
         "mode": "lines+markers",
         "name": "133",
         "type": "scatter3d",
         "x": [
          0.473414,
          0.479204,
          0.48598,
          0.492094,
          0.49885,
          0.505853,
          0.512983
         ],
         "y": [
          0.088957,
          0.08736,
          0.08673600000000001,
          0.0857,
          0.08467400000000001,
          0.083675,
          0.082842
         ],
         "z": [
          -0.018393999999999997,
          -0.013250999999999999,
          -0.0063479999999999995,
          0.000722,
          0.007316,
          0.013106,
          0.018786
         ]
        },
        {
         "marker": {
          "color": [
           0.009833573612883674,
           0.008749938628356171,
           0.0129676442733443,
           0.011773583736484017,
           0.01186710786164847,
           0.011716870102548673,
           0
          ],
          "colorbar": {
           "title": {
            "text": "Velocity Magnitude"
           }
          },
          "colorscale": [
           [
            0,
            "#440154"
           ],
           [
            0.1111111111111111,
            "#482878"
           ],
           [
            0.2222222222222222,
            "#3e4989"
           ],
           [
            0.3333333333333333,
            "#31688e"
           ],
           [
            0.4444444444444444,
            "#26828e"
           ],
           [
            0.5555555555555556,
            "#1f9e89"
           ],
           [
            0.6666666666666666,
            "#35b779"
           ],
           [
            0.7777777777777778,
            "#6ece58"
           ],
           [
            0.8888888888888888,
            "#b5de2b"
           ],
           [
            1,
            "#fde725"
           ]
          ],
          "size": 2
         },
         "mode": "lines+markers",
         "name": "241",
         "type": "scatter3d",
         "x": [
          -0.303437,
          -0.304058,
          -0.305303,
          -0.302389,
          -0.30318599999999996,
          -0.30229500000000004,
          -0.30132
         ],
         "y": [
          0.505077,
          0.509329,
          0.5142530000000001,
          0.517762,
          0.5198250000000001,
          0.522497,
          0.524563
         ],
         "z": [
          0.678534,
          0.6873790000000001,
          0.694504,
          0.706643,
          0.718207,
          0.729735,
          0.741227
         ]
        },
        {
         "marker": {
          "color": [
           0.01199424999739473,
           0.007009311592446085,
           0.006686723786728471,
           0.0065889205489214914,
           0.006661937330837007,
           0.007011435231106468,
           0
          ],
          "colorbar": {
           "title": {
            "text": "Velocity Magnitude"
           }
          },
          "colorscale": [
           [
            0,
            "#440154"
           ],
           [
            0.1111111111111111,
            "#482878"
           ],
           [
            0.2222222222222222,
            "#3e4989"
           ],
           [
            0.3333333333333333,
            "#31688e"
           ],
           [
            0.4444444444444444,
            "#26828e"
           ],
           [
            0.5555555555555556,
            "#1f9e89"
           ],
           [
            0.6666666666666666,
            "#35b779"
           ],
           [
            0.7777777777777778,
            "#6ece58"
           ],
           [
            0.8888888888888888,
            "#b5de2b"
           ],
           [
            1,
            "#fde725"
           ]
          ],
          "size": 2
         },
         "mode": "lines+markers",
         "name": "184",
         "type": "scatter3d",
         "x": [
          -0.171329,
          -0.165214,
          -0.16032400000000002,
          -0.155945,
          -0.15201699999999999,
          -0.14862,
          -0.14564
         ],
         "y": [
          -0.061722,
          -0.05962,
          -0.06173,
          -0.063833,
          -0.065984,
          -0.068506,
          -0.07163800000000001
         ],
         "z": [
          0.5976889999999999,
          0.6077910000000001,
          0.612348,
          0.616943,
          0.621776,
          0.626922,
          0.6324420000000001
         ]
        },
        {
         "marker": {
          "color": [
           0.05774879289647541,
           0.012501708843194098,
           0.013061953223006179,
           0.003907826633820915,
           0.0062677774370185685,
           0.01303338889161219,
           0
          ],
          "colorbar": {
           "title": {
            "text": "Velocity Magnitude"
           }
          },
          "colorscale": [
           [
            0,
            "#440154"
           ],
           [
            0.1111111111111111,
            "#482878"
           ],
           [
            0.2222222222222222,
            "#3e4989"
           ],
           [
            0.3333333333333333,
            "#31688e"
           ],
           [
            0.4444444444444444,
            "#26828e"
           ],
           [
            0.5555555555555556,
            "#1f9e89"
           ],
           [
            0.6666666666666666,
            "#35b779"
           ],
           [
            0.7777777777777778,
            "#6ece58"
           ],
           [
            0.8888888888888888,
            "#b5de2b"
           ],
           [
            1,
            "#fde725"
           ]
          ],
          "size": 2
         },
         "mode": "lines+markers",
         "name": "864",
         "type": "scatter3d",
         "x": [
          0.6072949999999999,
          0.61582,
          0.622674,
          0.633497,
          0.636448,
          0.6418959999999999,
          0.6526839999999999
         ],
         "y": [
          0.420041,
          0.42014100000000004,
          0.429013,
          0.432831,
          0.435293,
          0.43835,
          0.445219
         ],
         "z": [
          0.758432,
          0.815548,
          0.82108,
          0.814843,
          0.815551,
          0.815042,
          0.812531
         ]
        },
        {
         "marker": {
          "color": [
           0.010275874318032476,
           0.009906056026492081,
           0.010005197349377968,
           0.009977809629372591,
           0.010092622503591404,
           0.010339747143910262,
           0
          ],
          "colorbar": {
           "title": {
            "text": "Velocity Magnitude"
           }
          },
          "colorscale": [
           [
            0,
            "#440154"
           ],
           [
            0.1111111111111111,
            "#482878"
           ],
           [
            0.2222222222222222,
            "#3e4989"
           ],
           [
            0.3333333333333333,
            "#31688e"
           ],
           [
            0.4444444444444444,
            "#26828e"
           ],
           [
            0.5555555555555556,
            "#1f9e89"
           ],
           [
            0.6666666666666666,
            "#35b779"
           ],
           [
            0.7777777777777778,
            "#6ece58"
           ],
           [
            0.8888888888888888,
            "#b5de2b"
           ],
           [
            1,
            "#fde725"
           ]
          ],
          "size": 2
         },
         "mode": "lines+markers",
         "name": "280",
         "type": "scatter3d",
         "x": [
          0.242842,
          0.24181,
          0.241011,
          0.24049299999999998,
          0.24018899999999999,
          0.24010800000000002,
          0.240297
         ],
         "y": [
          0.586795,
          0.585208,
          0.583637,
          0.58214,
          0.5806549999999999,
          0.579167,
          0.577656
         ],
         "z": [
          0.16881800000000002,
          0.178918,
          0.188666,
          0.198545,
          0.208407,
          0.218389,
          0.228616
         ]
        },
        {
         "marker": {
          "color": [
           0.007726007183532798,
           0.007412852487403181,
           0.009007104362668432,
           0.010350835618441566,
           0.0187304464976146,
           0.009480621340397415,
           0
          ],
          "colorbar": {
           "title": {
            "text": "Velocity Magnitude"
           }
          },
          "colorscale": [
           [
            0,
            "#440154"
           ],
           [
            0.1111111111111111,
            "#482878"
           ],
           [
            0.2222222222222222,
            "#3e4989"
           ],
           [
            0.3333333333333333,
            "#31688e"
           ],
           [
            0.4444444444444444,
            "#26828e"
           ],
           [
            0.5555555555555556,
            "#1f9e89"
           ],
           [
            0.6666666666666666,
            "#35b779"
           ],
           [
            0.7777777777777778,
            "#6ece58"
           ],
           [
            0.8888888888888888,
            "#b5de2b"
           ],
           [
            1,
            "#fde725"
           ]
          ],
          "size": 2
         },
         "mode": "lines+markers",
         "name": "105",
         "type": "scatter3d",
         "x": [
          -0.22997599999999999,
          -0.228553,
          -0.22763999999999998,
          -0.226049,
          -0.226047,
          -0.230839,
          -0.233313
         ],
         "y": [
          0.8249740000000001,
          0.825721,
          0.826799,
          0.8282970000000001,
          0.827762,
          0.820351,
          0.820302
         ],
         "z": [
          0.537342,
          0.544899,
          0.552176,
          0.560914,
          0.571251,
          0.5877720000000001,
          0.596924
         ]
        },
        {
         "marker": {
          "color": [
           0.06569277395574036,
           0.10285922776785754,
           0.04089796716219541,
           0.009652396075586468,
           0.02319629856248605,
           0.012664686533822956,
           0
          ],
          "colorbar": {
           "title": {
            "text": "Velocity Magnitude"
           }
          },
          "colorscale": [
           [
            0,
            "#440154"
           ],
           [
            0.1111111111111111,
            "#482878"
           ],
           [
            0.2222222222222222,
            "#3e4989"
           ],
           [
            0.3333333333333333,
            "#31688e"
           ],
           [
            0.4444444444444444,
            "#26828e"
           ],
           [
            0.5555555555555556,
            "#1f9e89"
           ],
           [
            0.6666666666666666,
            "#35b779"
           ],
           [
            0.7777777777777778,
            "#6ece58"
           ],
           [
            0.8888888888888888,
            "#b5de2b"
           ],
           [
            1,
            "#fde725"
           ]
          ],
          "size": 2
         },
         "mode": "lines+markers",
         "name": "1411",
         "type": "scatter3d",
         "x": [
          1.167527,
          1.190696,
          1.2084359999999998,
          1.2296500000000001,
          1.235903,
          1.2462719999999998,
          1.240142
         ],
         "y": [
          0.505576,
          0.532359,
          0.569255,
          0.587806,
          0.595151,
          0.58101,
          0.586114
         ],
         "z": [
          0.649177,
          0.704507,
          0.798868,
          0.828507,
          0.828853,
          0.8136680000000001,
          0.823505
         ]
        },
        {
         "marker": {
          "color": [
           0.008217174514393629,
           0.01814392363850774,
           0.007503306271238039,
           0.036548896850657486,
           0.03374060113572368,
           0.04589050423562596,
           0
          ],
          "colorbar": {
           "title": {
            "text": "Velocity Magnitude"
           }
          },
          "colorscale": [
           [
            0,
            "#440154"
           ],
           [
            0.1111111111111111,
            "#482878"
           ],
           [
            0.2222222222222222,
            "#3e4989"
           ],
           [
            0.3333333333333333,
            "#31688e"
           ],
           [
            0.4444444444444444,
            "#26828e"
           ],
           [
            0.5555555555555556,
            "#1f9e89"
           ],
           [
            0.6666666666666666,
            "#35b779"
           ],
           [
            0.7777777777777778,
            "#6ece58"
           ],
           [
            0.8888888888888888,
            "#b5de2b"
           ],
           [
            1,
            "#fde725"
           ]
          ],
          "size": 2
         },
         "mode": "lines+markers",
         "name": "1286",
         "type": "scatter3d",
         "x": [
          -0.270092,
          -0.266757,
          -0.266433,
          -0.261746,
          -0.26423,
          -0.25263,
          -0.223517
         ],
         "y": [
          0.135713,
          0.14269900000000002,
          0.153232,
          0.157338,
          0.17785900000000002,
          0.170625,
          0.179274
         ],
         "z": [
          0.246613,
          0.249369,
          0.264139,
          0.259959,
          0.290101,
          0.25925400000000004,
          0.224851
         ]
        },
        {
         "marker": {
          "color": [
           0.013302146029870529,
           0.010099611378662068,
           0.011730216281041015,
           0.011502907545486081,
           0.025427523080315935,
           0.061372483818075994,
           0
          ],
          "colorbar": {
           "title": {
            "text": "Velocity Magnitude"
           }
          },
          "colorscale": [
           [
            0,
            "#440154"
           ],
           [
            0.1111111111111111,
            "#482878"
           ],
           [
            0.2222222222222222,
            "#3e4989"
           ],
           [
            0.3333333333333333,
            "#31688e"
           ],
           [
            0.4444444444444444,
            "#26828e"
           ],
           [
            0.5555555555555556,
            "#1f9e89"
           ],
           [
            0.6666666666666666,
            "#35b779"
           ],
           [
            0.7777777777777778,
            "#6ece58"
           ],
           [
            0.8888888888888888,
            "#b5de2b"
           ],
           [
            1,
            "#fde725"
           ]
          ],
          "size": 2
         },
         "mode": "lines+markers",
         "name": "539",
         "type": "scatter3d",
         "x": [
          -0.179519,
          -0.167326,
          -0.157856,
          -0.146711,
          -0.13586199999999998,
          -0.11191899999999999,
          -0.10076399999999999
         ],
         "y": [
          0.370448,
          0.372456,
          0.369121,
          0.368576,
          0.36776,
          0.363044,
          0.36841199999999996
         ],
         "z": [
          -0.0009170000000000001,
          0.004006999999999999,
          0.002912,
          0.00653,
          0.010265,
          0.00312,
          -0.056991
         ]
        },
        {
         "marker": {
          "color": [
           0.011751278866574438,
           0.021848301901978593,
           0.01103344610717796,
           0.015673377874599964,
           0.01139068645868198,
           0.047292501160331894,
           0
          ],
          "colorbar": {
           "title": {
            "text": "Velocity Magnitude"
           }
          },
          "colorscale": [
           [
            0,
            "#440154"
           ],
           [
            0.1111111111111111,
            "#482878"
           ],
           [
            0.2222222222222222,
            "#3e4989"
           ],
           [
            0.3333333333333333,
            "#31688e"
           ],
           [
            0.4444444444444444,
            "#26828e"
           ],
           [
            0.5555555555555556,
            "#1f9e89"
           ],
           [
            0.6666666666666666,
            "#35b779"
           ],
           [
            0.7777777777777778,
            "#6ece58"
           ],
           [
            0.8888888888888888,
            "#b5de2b"
           ],
           [
            1,
            "#fde725"
           ]
          ],
          "size": 2
         },
         "mode": "lines+markers",
         "name": "46",
         "type": "scatter3d",
         "x": [
          0.064226,
          0.075679,
          0.095033,
          0.10564,
          0.120294,
          0.131198,
          0.17353
         ],
         "y": [
          0.199799,
          0.20028800000000002,
          0.20279,
          0.20231200000000002,
          0.20366499999999998,
          0.203186,
          0.222827
         ],
         "z": [
          1.444016,
          1.4414310000000001,
          1.431607,
          1.428607,
          1.423214,
          1.4199549999999999,
          1.4122860000000002
         ]
        },
        {
         "marker": {
          "color": [
           0.016069130934807888,
           0.04695291244427762,
           0.044066784248456295,
           0.008604867343544577,
           0.01773118701610241,
           0.0436284390048509,
           0
          ],
          "colorbar": {
           "title": {
            "text": "Velocity Magnitude"
           }
          },
          "colorscale": [
           [
            0,
            "#440154"
           ],
           [
            0.1111111111111111,
            "#482878"
           ],
           [
            0.2222222222222222,
            "#3e4989"
           ],
           [
            0.3333333333333333,
            "#31688e"
           ],
           [
            0.4444444444444444,
            "#26828e"
           ],
           [
            0.5555555555555556,
            "#1f9e89"
           ],
           [
            0.6666666666666666,
            "#35b779"
           ],
           [
            0.7777777777777778,
            "#6ece58"
           ],
           [
            0.8888888888888888,
            "#b5de2b"
           ],
           [
            1,
            "#fde725"
           ]
          ],
          "size": 2
         },
         "mode": "lines+markers",
         "name": "1252",
         "type": "scatter3d",
         "x": [
          0.206898,
          0.192448,
          0.163759,
          0.140103,
          0.14649299999999998,
          0.141574,
          0.131834
         ],
         "y": [
          0.7969489999999999,
          0.795111,
          0.79644,
          0.795497,
          0.7931180000000001,
          0.794674,
          0.804473
         ],
         "z": [
          1.207189,
          1.200404,
          1.163259,
          1.126092,
          1.120843,
          1.137807,
          1.17919
         ]
        },
        {
         "marker": {
          "color": [
           0.04016526066142232,
           0.007459121127854129,
           0.0381029616302985,
           0.10035935824824714,
           0.08122560937906212,
           0.09835307406482019,
           0
          ],
          "colorbar": {
           "title": {
            "text": "Velocity Magnitude"
           }
          },
          "colorscale": [
           [
            0,
            "#440154"
           ],
           [
            0.1111111111111111,
            "#482878"
           ],
           [
            0.2222222222222222,
            "#3e4989"
           ],
           [
            0.3333333333333333,
            "#31688e"
           ],
           [
            0.4444444444444444,
            "#26828e"
           ],
           [
            0.5555555555555556,
            "#1f9e89"
           ],
           [
            0.6666666666666666,
            "#35b779"
           ],
           [
            0.7777777777777778,
            "#6ece58"
           ],
           [
            0.8888888888888888,
            "#b5de2b"
           ],
           [
            1,
            "#fde725"
           ]
          ],
          "size": 2
         },
         "mode": "lines+markers",
         "name": "426",
         "type": "scatter3d",
         "x": [
          1.126382,
          1.10891,
          1.107844,
          1.115893,
          1.1380730000000001,
          1.1596199999999999,
          1.195317
         ],
         "y": [
          0.811805,
          0.823373,
          0.817539,
          0.8021609999999999,
          0.778513,
          0.7590439999999999,
          0.765481
         ],
         "z": [
          0.46488799999999997,
          0.499154,
          0.503678,
          0.469758,
          0.37477999999999995,
          0.298923,
          0.207503
         ]
        },
        {
         "marker": {
          "color": [
           0.011839497202161896,
           0.011802156455495792,
           0.025636492622821836,
           0.009650774994786613,
           0.034440820054115896,
           0.04998206054175842,
           0
          ],
          "colorbar": {
           "title": {
            "text": "Velocity Magnitude"
           }
          },
          "colorscale": [
           [
            0,
            "#440154"
           ],
           [
            0.1111111111111111,
            "#482878"
           ],
           [
            0.2222222222222222,
            "#3e4989"
           ],
           [
            0.3333333333333333,
            "#31688e"
           ],
           [
            0.4444444444444444,
            "#26828e"
           ],
           [
            0.5555555555555556,
            "#1f9e89"
           ],
           [
            0.6666666666666666,
            "#35b779"
           ],
           [
            0.7777777777777778,
            "#6ece58"
           ],
           [
            0.8888888888888888,
            "#b5de2b"
           ],
           [
            1,
            "#fde725"
           ]
          ],
          "size": 2
         },
         "mode": "lines+markers",
         "name": "73",
         "type": "scatter3d",
         "x": [
          1.10658,
          1.111077,
          1.114807,
          1.13219,
          1.127159,
          1.1446379999999998,
          1.1678199999999999
         ],
         "y": [
          0.6370180000000001,
          0.647925,
          0.658984,
          0.677436,
          0.6836749999999999,
          0.676258,
          0.643034
         ],
         "z": [
          -0.059255,
          -0.058261,
          -0.056506999999999995,
          -0.060326,
          -0.054950000000000006,
          -0.026216,
          0.003058
         ]
        },
        {
         "marker": {
          "color": [
           0.012613002973122582,
           0.01768565998203061,
           0.016906282234719832,
           0.014424751540321084,
           0.012483604487486854,
           0.011378301103416104,
           0.01464998450511129,
           0
          ],
          "colorbar": {
           "title": {
            "text": "Velocity Magnitude"
           }
          },
          "colorscale": [
           [
            0,
            "#440154"
           ],
           [
            0.1111111111111111,
            "#482878"
           ],
           [
            0.2222222222222222,
            "#3e4989"
           ],
           [
            0.3333333333333333,
            "#31688e"
           ],
           [
            0.4444444444444444,
            "#26828e"
           ],
           [
            0.5555555555555556,
            "#1f9e89"
           ],
           [
            0.6666666666666666,
            "#35b779"
           ],
           [
            0.7777777777777778,
            "#6ece58"
           ],
           [
            0.8888888888888888,
            "#b5de2b"
           ],
           [
            1,
            "#fde725"
           ]
          ],
          "size": 2
         },
         "mode": "lines+markers",
         "name": "526",
         "type": "scatter3d",
         "x": [
          0.665038,
          0.67437,
          0.684714,
          0.6960510000000001,
          0.7067319999999999,
          0.71623,
          0.72463,
          0.734733
         ],
         "y": [
          0.793065,
          0.800151,
          0.810003,
          0.818716,
          0.82578,
          0.831976,
          0.838082,
          0.8466480000000001
         ],
         "z": [
          0.868859,
          0.873527,
          0.8839539999999999,
          0.8929750000000001,
          0.899615,
          0.9048339999999999,
          0.9094840000000001,
          0.9157430000000001
         ]
        },
        {
         "marker": {
          "color": [
           0.003505030955640749,
           0.008674425687041158,
           0.0030396781079582366,
           0.004409808726010744,
           0.003845203505667779,
           0.007253737105795805,
           0.008613878336730734,
           0
          ],
          "colorbar": {
           "title": {
            "text": "Velocity Magnitude"
           }
          },
          "colorscale": [
           [
            0,
            "#440154"
           ],
           [
            0.1111111111111111,
            "#482878"
           ],
           [
            0.2222222222222222,
            "#3e4989"
           ],
           [
            0.3333333333333333,
            "#31688e"
           ],
           [
            0.4444444444444444,
            "#26828e"
           ],
           [
            0.5555555555555556,
            "#1f9e89"
           ],
           [
            0.6666666666666666,
            "#35b779"
           ],
           [
            0.7777777777777778,
            "#6ece58"
           ],
           [
            0.8888888888888888,
            "#b5de2b"
           ],
           [
            1,
            "#fde725"
           ]
          ],
          "size": 2
         },
         "mode": "lines+markers",
         "name": "664",
         "type": "scatter3d",
         "x": [
          0.832346,
          0.8288490000000001,
          0.8273830000000001,
          0.824696,
          0.821576,
          0.819169,
          0.820206,
          0.817732
         ],
         "y": [
          0.799117,
          0.799249,
          0.8052809999999999,
          0.806566,
          0.808884,
          0.811334,
          0.8175119999999999,
          0.822744
         ],
         "z": [
          1.2578399999999998,
          1.258037,
          1.264096,
          1.264703,
          1.266786,
          1.268515,
          1.272172,
          1.278552
         ]
        },
        {
         "marker": {
          "color": [
           0.025082301070675262,
           0.015448298029232798,
           0.008960495577812717,
           0.019573518590176833,
           0.017661482072578224,
           0.010365757135877852,
           0
          ],
          "colorbar": {
           "title": {
            "text": "Velocity Magnitude"
           }
          },
          "colorscale": [
           [
            0,
            "#440154"
           ],
           [
            0.1111111111111111,
            "#482878"
           ],
           [
            0.2222222222222222,
            "#3e4989"
           ],
           [
            0.3333333333333333,
            "#31688e"
           ],
           [
            0.4444444444444444,
            "#26828e"
           ],
           [
            0.5555555555555556,
            "#1f9e89"
           ],
           [
            0.6666666666666666,
            "#35b779"
           ],
           [
            0.7777777777777778,
            "#6ece58"
           ],
           [
            0.8888888888888888,
            "#b5de2b"
           ],
           [
            1,
            "#fde725"
           ]
          ],
          "size": 2
         },
         "mode": "lines+markers",
         "name": "2848",
         "type": "scatter3d",
         "x": [
          0.818823,
          0.825758,
          0.837232,
          0.843262,
          0.858957,
          0.8709349999999999,
          0.878931
         ],
         "y": [
          0.605664,
          0.625525,
          0.630265,
          0.6368060000000001,
          0.6442279999999999,
          0.657,
          0.663212
         ],
         "z": [
          1.121095,
          1.1347539999999998,
          1.12556,
          1.12449,
          1.115451,
          1.11776,
          1.115541
         ]
        },
        {
         "marker": {
          "color": [
           0.013211548660168493,
           0.00803976436221857,
           0.008407186509171789,
           0.019171371416776637,
           0.014747367527799654,
           0.04882626476600483,
           0.012672464677401974,
           0
          ],
          "colorbar": {
           "title": {
            "text": "Velocity Magnitude"
           }
          },
          "colorscale": [
           [
            0,
            "#440154"
           ],
           [
            0.1111111111111111,
            "#482878"
           ],
           [
            0.2222222222222222,
            "#3e4989"
           ],
           [
            0.3333333333333333,
            "#31688e"
           ],
           [
            0.4444444444444444,
            "#26828e"
           ],
           [
            0.5555555555555556,
            "#1f9e89"
           ],
           [
            0.6666666666666666,
            "#35b779"
           ],
           [
            0.7777777777777778,
            "#6ece58"
           ],
           [
            0.8888888888888888,
            "#b5de2b"
           ],
           [
            1,
            "#fde725"
           ]
          ],
          "size": 2
         },
         "mode": "lines+markers",
         "name": "665",
         "type": "scatter3d",
         "x": [
          0.13136799999999998,
          0.138192,
          0.142673,
          0.147719,
          0.151438,
          0.15966,
          0.198207,
          0.20874
         ],
         "y": [
          0.106908,
          0.11793899999999999,
          0.12456999999999999,
          0.131208,
          0.145344,
          0.157298,
          0.14653899999999997,
          0.153393
         ],
         "z": [
          0.693589,
          0.696098,
          0.695331,
          0.694256,
          0.706661,
          0.7093039999999999,
          0.737275,
          0.738909
         ]
        },
        {
         "marker": {
          "color": [
           0.02336228432752246,
           0.013911795426903056,
           0.015680019738507956,
           0.012970065766988255,
           0.019558626971237007,
           0.01759756037068775,
           0
          ],
          "colorbar": {
           "title": {
            "text": "Velocity Magnitude"
           }
          },
          "colorscale": [
           [
            0,
            "#440154"
           ],
           [
            0.1111111111111111,
            "#482878"
           ],
           [
            0.2222222222222222,
            "#3e4989"
           ],
           [
            0.3333333333333333,
            "#31688e"
           ],
           [
            0.4444444444444444,
            "#26828e"
           ],
           [
            0.5555555555555556,
            "#1f9e89"
           ],
           [
            0.6666666666666666,
            "#35b779"
           ],
           [
            0.7777777777777778,
            "#6ece58"
           ],
           [
            0.8888888888888888,
            "#b5de2b"
           ],
           [
            1,
            "#fde725"
           ]
          ],
          "size": 2
         },
         "mode": "lines+markers",
         "name": "2994",
         "type": "scatter3d",
         "x": [
          0.149661,
          0.161321,
          0.17464500000000002,
          0.189404,
          0.201997,
          0.21907300000000002,
          0.233734
         ],
         "y": [
          0.101752,
          0.09405200000000001,
          0.09635200000000001,
          0.101539,
          0.103125,
          0.103812,
          0.112689
         ],
         "z": [
          1.216884,
          1.198161,
          1.194887,
          1.193824,
          1.191155,
          1.181643,
          1.185634
         ]
        },
        {
         "marker": {
          "color": [
           0.08574417968002261,
           0.04362617188110824,
           0.011172496677108472,
           0.010983905452979906,
           0.010569798768188561,
           0.009241669654342808,
           0
          ],
          "colorbar": {
           "title": {
            "text": "Velocity Magnitude"
           }
          },
          "colorscale": [
           [
            0,
            "#440154"
           ],
           [
            0.1111111111111111,
            "#482878"
           ],
           [
            0.2222222222222222,
            "#3e4989"
           ],
           [
            0.3333333333333333,
            "#31688e"
           ],
           [
            0.4444444444444444,
            "#26828e"
           ],
           [
            0.5555555555555556,
            "#1f9e89"
           ],
           [
            0.6666666666666666,
            "#35b779"
           ],
           [
            0.7777777777777778,
            "#6ece58"
           ],
           [
            0.8888888888888888,
            "#b5de2b"
           ],
           [
            1,
            "#fde725"
           ]
          ],
          "size": 2
         },
         "mode": "lines+markers",
         "name": "2770",
         "type": "scatter3d",
         "x": [
          -0.23977500000000002,
          -0.21666,
          -0.183391,
          -0.175936,
          -0.172129,
          -0.16716,
          -0.160525
         ],
         "y": [
          0.245699,
          0.207881,
          0.186777,
          0.18619300000000003,
          0.18703,
          0.18783699999999998,
          0.192849
         ],
         "z": [
          0.738568,
          0.665168,
          0.646432,
          0.638131,
          0.6278619999999999,
          0.637156,
          0.641189
         ]
        },
        {
         "marker": {
          "color": [
           0.011471015735321772,
           0.011560966395591692,
           0.012533932104491394,
           0.013167519963911188,
           0.013633912937964666,
           0.03428229684545653,
           0.08647023162337432,
           0
          ],
          "colorbar": {
           "title": {
            "text": "Velocity Magnitude"
           }
          },
          "colorscale": [
           [
            0,
            "#440154"
           ],
           [
            0.1111111111111111,
            "#482878"
           ],
           [
            0.2222222222222222,
            "#3e4989"
           ],
           [
            0.3333333333333333,
            "#31688e"
           ],
           [
            0.4444444444444444,
            "#26828e"
           ],
           [
            0.5555555555555556,
            "#1f9e89"
           ],
           [
            0.6666666666666666,
            "#35b779"
           ],
           [
            0.7777777777777778,
            "#6ece58"
           ],
           [
            0.8888888888888888,
            "#b5de2b"
           ],
           [
            1,
            "#fde725"
           ]
          ],
          "size": 2
         },
         "mode": "lines+markers",
         "name": "47",
         "type": "scatter3d",
         "x": [
          0.146233,
          0.145185,
          0.144503,
          0.14318799999999998,
          0.141503,
          0.139474,
          0.14212899999999998,
          0.176966
         ],
         "y": [
          0.195208,
          0.184841,
          0.17471899999999999,
          0.164009,
          0.152888,
          0.141583,
          0.11228700000000001,
          0.052549
         ],
         "z": [
          0.090771,
          0.095568,
          0.101112,
          0.107489,
          0.11433499999999999,
          0.121681,
          0.104075,
          0.052162999999999994
         ]
        },
        {
         "marker": {
          "color": [
           0.008141496484062483,
           0.006958655904698894,
           0.006798255437978094,
           0.006359992216976377,
           0.011196315599338964,
           0.00413276602289549,
           0.004220864129535594,
           0
          ],
          "colorbar": {
           "title": {
            "text": "Velocity Magnitude"
           }
          },
          "colorscale": [
           [
            0,
            "#440154"
           ],
           [
            0.1111111111111111,
            "#482878"
           ],
           [
            0.2222222222222222,
            "#3e4989"
           ],
           [
            0.3333333333333333,
            "#31688e"
           ],
           [
            0.4444444444444444,
            "#26828e"
           ],
           [
            0.5555555555555556,
            "#1f9e89"
           ],
           [
            0.6666666666666666,
            "#35b779"
           ],
           [
            0.7777777777777778,
            "#6ece58"
           ],
           [
            0.8888888888888888,
            "#b5de2b"
           ],
           [
            1,
            "#fde725"
           ]
          ],
          "size": 2
         },
         "mode": "lines+markers",
         "name": "789",
         "type": "scatter3d",
         "x": [
          0.9935259999999999,
          1.001576,
          1.008258,
          1.015042,
          1.021258,
          1.028337,
          1.032052,
          1.036014
         ],
         "y": [
          -0.015615,
          -0.014843,
          -0.015661,
          -0.015631,
          -0.015034,
          -0.020605000000000002,
          -0.021344000000000002,
          -0.021759
         ],
         "z": [
          0.638512,
          0.6394529999999999,
          0.637691,
          0.6372519999999999,
          0.638458,
          0.631809,
          0.633462,
          0.634857
         ]
        },
        {
         "marker": {
          "color": [
           0.02176382388276461,
           0.028693332239389822,
           0.04607416129459119,
           0.014990704986757667,
           0.04758885846498098,
           0.012746204572342337,
           0
          ],
          "colorbar": {
           "title": {
            "text": "Velocity Magnitude"
           }
          },
          "colorscale": [
           [
            0,
            "#440154"
           ],
           [
            0.1111111111111111,
            "#482878"
           ],
           [
            0.2222222222222222,
            "#3e4989"
           ],
           [
            0.3333333333333333,
            "#31688e"
           ],
           [
            0.4444444444444444,
            "#26828e"
           ],
           [
            0.5555555555555556,
            "#1f9e89"
           ],
           [
            0.6666666666666666,
            "#35b779"
           ],
           [
            0.7777777777777778,
            "#6ece58"
           ],
           [
            0.8888888888888888,
            "#b5de2b"
           ],
           [
            1,
            "#fde725"
           ]
          ],
          "size": 2
         },
         "mode": "lines+markers",
         "name": "3378",
         "type": "scatter3d",
         "x": [
          0.6254400000000001,
          0.616189,
          0.617312,
          0.6413690000000001,
          0.651313,
          0.645668,
          0.645745
         ],
         "y": [
          0.19914300000000001,
          0.190766,
          0.173297,
          0.134168,
          0.130468,
          0.1394,
          0.150111
         ],
         "z": [
          1.3079880000000002,
          1.325818,
          1.3485530000000001,
          1.35216,
          1.34157,
          1.295169,
          1.28826
         ]
        },
        {
         "marker": {
          "color": [
           0.06202641719461146,
           0.04650574554826548,
           0.012876546547890853,
           0.016616639943141387,
           0.024148540949713835,
           0.011820563819040104,
           0.023699107261667064,
           0
          ],
          "colorbar": {
           "title": {
            "text": "Velocity Magnitude"
           }
          },
          "colorscale": [
           [
            0,
            "#440154"
           ],
           [
            0.1111111111111111,
            "#482878"
           ],
           [
            0.2222222222222222,
            "#3e4989"
           ],
           [
            0.3333333333333333,
            "#31688e"
           ],
           [
            0.4444444444444444,
            "#26828e"
           ],
           [
            0.5555555555555556,
            "#1f9e89"
           ],
           [
            0.6666666666666666,
            "#35b779"
           ],
           [
            0.7777777777777778,
            "#6ece58"
           ],
           [
            0.8888888888888888,
            "#b5de2b"
           ],
           [
            1,
            "#fde725"
           ]
          ],
          "size": 2
         },
         "mode": "lines+markers",
         "name": "1214",
         "type": "scatter3d",
         "x": [
          -0.05805,
          -0.01526,
          0.005607,
          0.018449999999999998,
          0.029030999999999998,
          0.03791,
          0.047263,
          0.067184
         ],
         "y": [
          0.056646999999999996,
          0.041890000000000004,
          0.031751999999999996,
          0.031333,
          0.031624,
          0.029890999999999997,
          0.023367000000000002,
          0.013729
         ],
         "z": [
          1.353823,
          1.396232,
          1.436538,
          1.4357090000000001,
          1.4229,
          1.40051,
          1.397398,
          1.405878
         ]
        },
        {
         "marker": {
          "color": [
           0.008588778551109578,
           0.007433615338447374,
           0.00962321204172494,
           0.007573947583658053,
           0.0077010241526695635,
           0.007415394123038918,
           0.011415349403325318,
           0
          ],
          "colorbar": {
           "title": {
            "text": "Velocity Magnitude"
           }
          },
          "colorscale": [
           [
            0,
            "#440154"
           ],
           [
            0.1111111111111111,
            "#482878"
           ],
           [
            0.2222222222222222,
            "#3e4989"
           ],
           [
            0.3333333333333333,
            "#31688e"
           ],
           [
            0.4444444444444444,
            "#26828e"
           ],
           [
            0.5555555555555556,
            "#1f9e89"
           ],
           [
            0.6666666666666666,
            "#35b779"
           ],
           [
            0.7777777777777778,
            "#6ece58"
           ],
           [
            0.8888888888888888,
            "#b5de2b"
           ],
           [
            1,
            "#fde725"
           ]
          ],
          "size": 2
         },
         "mode": "lines+markers",
         "name": "63",
         "type": "scatter3d",
         "x": [
          -0.063642,
          -0.055264,
          -0.047885,
          -0.038558,
          -0.031659,
          -0.024169,
          -0.016944,
          -0.007657
         ],
         "y": [
          0.20990999999999999,
          0.211313,
          0.21219300000000002,
          0.21310900000000002,
          0.21576900000000002,
          0.217357,
          0.218859,
          0.223822
         ],
         "z": [
          0.704291,
          0.7055589999999999,
          0.705373,
          0.707558,
          0.7091989999999999,
          0.7100259999999999,
          0.710755,
          0.715163
         ]
        },
        {
         "marker": {
          "color": [
           0.049726145929480686,
           0.015197021056772883,
           0.021078744981615924,
           0.017749171135577044,
           0.02723471567687097,
           0.009648255075400949,
           0
          ],
          "colorbar": {
           "title": {
            "text": "Velocity Magnitude"
           }
          },
          "colorscale": [
           [
            0,
            "#440154"
           ],
           [
            0.1111111111111111,
            "#482878"
           ],
           [
            0.2222222222222222,
            "#3e4989"
           ],
           [
            0.3333333333333333,
            "#31688e"
           ],
           [
            0.4444444444444444,
            "#26828e"
           ],
           [
            0.5555555555555556,
            "#1f9e89"
           ],
           [
            0.6666666666666666,
            "#35b779"
           ],
           [
            0.7777777777777778,
            "#6ece58"
           ],
           [
            0.8888888888888888,
            "#b5de2b"
           ],
           [
            1,
            "#fde725"
           ]
          ],
          "size": 2
         },
         "mode": "lines+markers",
         "name": "3132",
         "type": "scatter3d",
         "x": [
          -0.320056,
          -0.300546,
          -0.28783800000000004,
          -0.274386,
          -0.260662,
          -0.248829,
          -0.239194
         ],
         "y": [
          0.188558,
          0.16865799999999997,
          0.167237,
          0.162832,
          0.170152,
          0.16172,
          0.161744
         ],
         "z": [
          0.896266,
          0.8550829999999999,
          0.8468709999999999,
          0.831252,
          0.839802,
          0.816767,
          0.8162619999999999
         ]
        },
        {
         "marker": {
          "color": [
           0.04396985028402988,
           0.012483951057257624,
           0.03821341827159677,
           0.03622648990724869,
           0.010085552587736598,
           0.04202993232209632,
           0.06720573006820178,
           0
          ],
          "colorbar": {
           "title": {
            "text": "Velocity Magnitude"
           }
          },
          "colorscale": [
           [
            0,
            "#440154"
           ],
           [
            0.1111111111111111,
            "#482878"
           ],
           [
            0.2222222222222222,
            "#3e4989"
           ],
           [
            0.3333333333333333,
            "#31688e"
           ],
           [
            0.4444444444444444,
            "#26828e"
           ],
           [
            0.5555555555555556,
            "#1f9e89"
           ],
           [
            0.6666666666666666,
            "#35b779"
           ],
           [
            0.7777777777777778,
            "#6ece58"
           ],
           [
            0.8888888888888888,
            "#b5de2b"
           ],
           [
            1,
            "#fde725"
           ]
          ],
          "size": 2
         },
         "mode": "lines+markers",
         "name": "2142",
         "type": "scatter3d",
         "x": [
          -0.049178,
          -0.06426000000000001,
          -0.068903,
          -0.047165,
          -0.033814,
          -0.036313000000000005,
          -0.060572,
          -0.090253
         ],
         "y": [
          0.494762,
          0.45993900000000004,
          0.45126799999999995,
          0.454274,
          0.441855,
          0.432094,
          0.464331,
          0.496918
         ],
         "z": [
          1.4730150000000002,
          1.450806,
          1.443118,
          1.474402,
          1.5057049999999998,
          1.5052619999999999,
          1.493481,
          1.442749
         ]
        },
        {
         "marker": {
          "color": [
           0.018139011604825544,
           0.011109886633084825,
           0.054533449560797184,
           0.038845331585661586,
           0.044074257758923326,
           0.07747653833903513,
           0
          ],
          "colorbar": {
           "title": {
            "text": "Velocity Magnitude"
           }
          },
          "colorscale": [
           [
            0,
            "#440154"
           ],
           [
            0.1111111111111111,
            "#482878"
           ],
           [
            0.2222222222222222,
            "#3e4989"
           ],
           [
            0.3333333333333333,
            "#31688e"
           ],
           [
            0.4444444444444444,
            "#26828e"
           ],
           [
            0.5555555555555556,
            "#1f9e89"
           ],
           [
            0.6666666666666666,
            "#35b779"
           ],
           [
            0.7777777777777778,
            "#6ece58"
           ],
           [
            0.8888888888888888,
            "#b5de2b"
           ],
           [
            1,
            "#fde725"
           ]
          ],
          "size": 2
         },
         "mode": "lines+markers",
         "name": "3190",
         "type": "scatter3d",
         "x": [
          0.22940100000000002,
          0.224895,
          0.223579,
          0.22033000000000003,
          0.23912899999999998,
          0.26257600000000003,
          0.306819
         ],
         "y": [
          0.7733329999999999,
          0.7665420000000001,
          0.7775599999999999,
          0.779952,
          0.7962,
          0.815882,
          0.847194
         ],
         "z": [
          0.8921570000000001,
          0.908362,
          0.9089109999999999,
          0.963295,
          0.993154,
          1.0248620000000002,
          1.080222
         ]
        },
        {
         "marker": {
          "color": [
           0.050656300516322736,
           0.027432596486661538,
           0.04205761863206244,
           0.05719124064050361,
           0.05241200742196391,
           0.11627402219326548,
           0
          ],
          "colorbar": {
           "title": {
            "text": "Velocity Magnitude"
           }
          },
          "colorscale": [
           [
            0,
            "#440154"
           ],
           [
            0.1111111111111111,
            "#482878"
           ],
           [
            0.2222222222222222,
            "#3e4989"
           ],
           [
            0.3333333333333333,
            "#31688e"
           ],
           [
            0.4444444444444444,
            "#26828e"
           ],
           [
            0.5555555555555556,
            "#1f9e89"
           ],
           [
            0.6666666666666666,
            "#35b779"
           ],
           [
            0.7777777777777778,
            "#6ece58"
           ],
           [
            0.8888888888888888,
            "#b5de2b"
           ],
           [
            1,
            "#fde725"
           ]
          ],
          "size": 2
         },
         "mode": "lines+markers",
         "name": "3338",
         "type": "scatter3d",
         "x": [
          0.919121,
          0.908215,
          0.918794,
          0.9342590000000001,
          0.976785,
          1.018086,
          1.087578
         ],
         "y": [
          0.9314439999999999,
          0.923805,
          0.917808,
          0.899362,
          0.884053,
          0.876389,
          0.870272
         ],
         "z": [
          0.7547569999999999,
          0.7058819999999999,
          0.681292,
          0.6468039999999999,
          0.611761,
          0.580416,
          0.487394
         ]
        },
        {
         "marker": {
          "color": [
           0.004077196340624203,
           0.004660542135846421,
           0.004844882454714535,
           0.005111981416241623,
           0.005151836177519604,
           0.005210302294493188,
           0.009201968322049352,
           0
          ],
          "colorbar": {
           "title": {
            "text": "Velocity Magnitude"
           }
          },
          "colorscale": [
           [
            0,
            "#440154"
           ],
           [
            0.1111111111111111,
            "#482878"
           ],
           [
            0.2222222222222222,
            "#3e4989"
           ],
           [
            0.3333333333333333,
            "#31688e"
           ],
           [
            0.4444444444444444,
            "#26828e"
           ],
           [
            0.5555555555555556,
            "#1f9e89"
           ],
           [
            0.6666666666666666,
            "#35b779"
           ],
           [
            0.7777777777777778,
            "#6ece58"
           ],
           [
            0.8888888888888888,
            "#b5de2b"
           ],
           [
            1,
            "#fde725"
           ]
          ],
          "size": 2
         },
         "mode": "lines+markers",
         "name": "963",
         "type": "scatter3d",
         "x": [
          -0.048350000000000004,
          -0.046375,
          -0.044291,
          -0.04199,
          -0.039638,
          -0.037326,
          -0.035086,
          -0.036617
         ],
         "y": [
          -0.008839,
          -0.008107,
          -0.007201,
          -0.00619,
          -0.005225,
          -0.004139,
          -0.003044,
          -0.002196
         ],
         "z": [
          0.516009,
          0.5195,
          0.523569,
          0.527711,
          0.532146,
          0.53662,
          0.5411950000000001,
          0.5502290000000001
         ]
        },
        {
         "marker": {
          "color": [
           0.004605912504596667,
           0.012092216711587698,
           0.013816564587479725,
           0.005089645665466299,
           0.008658383798377243,
           0.005917987326785987,
           0.01108602476093212,
           0
          ],
          "colorbar": {
           "title": {
            "text": "Velocity Magnitude"
           }
          },
          "colorscale": [
           [
            0,
            "#440154"
           ],
           [
            0.1111111111111111,
            "#482878"
           ],
           [
            0.2222222222222222,
            "#3e4989"
           ],
           [
            0.3333333333333333,
            "#31688e"
           ],
           [
            0.4444444444444444,
            "#26828e"
           ],
           [
            0.5555555555555556,
            "#1f9e89"
           ],
           [
            0.6666666666666666,
            "#35b779"
           ],
           [
            0.7777777777777778,
            "#6ece58"
           ],
           [
            0.8888888888888888,
            "#b5de2b"
           ],
           [
            1,
            "#fde725"
           ]
          ],
          "size": 2
         },
         "mode": "lines+markers",
         "name": "200",
         "type": "scatter3d",
         "x": [
          0.019245,
          0.02155,
          0.025165,
          0.023585000000000002,
          0.027463,
          0.03019,
          0.035056,
          0.042978
         ],
         "y": [
          0.050999,
          0.053785,
          0.061427,
          0.067106,
          0.07024599999999999,
          0.074946,
          0.077143,
          0.080374
         ],
         "z": [
          0.559725,
          0.562578,
          0.5712240000000001,
          0.58372,
          0.584723,
          0.5914640000000001,
          0.594017,
          0.586967
         ]
        },
        {
         "marker": {
          "color": [
           0.00818833420177755,
           0.007921296989761179,
           0.007849737702624232,
           0.007735760143644574,
           0.007695388424244762,
           0.008393417539953553,
           0
          ],
          "colorbar": {
           "title": {
            "text": "Velocity Magnitude"
           }
          },
          "colorscale": [
           [
            0,
            "#440154"
           ],
           [
            0.1111111111111111,
            "#482878"
           ],
           [
            0.2222222222222222,
            "#3e4989"
           ],
           [
            0.3333333333333333,
            "#31688e"
           ],
           [
            0.4444444444444444,
            "#26828e"
           ],
           [
            0.5555555555555556,
            "#1f9e89"
           ],
           [
            0.6666666666666666,
            "#35b779"
           ],
           [
            0.7777777777777778,
            "#6ece58"
           ],
           [
            0.8888888888888888,
            "#b5de2b"
           ],
           [
            1,
            "#fde725"
           ]
          ],
          "size": 2
         },
         "mode": "lines+markers",
         "name": "2593",
         "type": "scatter3d",
         "x": [
          0.548466,
          0.551045,
          0.5534049999999999,
          0.555351,
          0.556995,
          0.558436,
          0.5589160000000001
         ],
         "y": [
          0.235977,
          0.233847,
          0.231662,
          0.229583,
          0.227303,
          0.225374,
          0.223071
         ],
         "z": [
          0.037601,
          0.045075000000000004,
          0.052314,
          0.059628999999999995,
          0.06683599999999999,
          0.074145,
          0.082202
         ]
        },
        {
         "marker": {
          "color": [
           0.012780449366121684,
           0.004161028839121422,
           0.005690748544787387,
           0.004051108613700702,
           0.006543606497948962,
           0.06397129611005238,
           0
          ],
          "colorbar": {
           "title": {
            "text": "Velocity Magnitude"
           }
          },
          "colorscale": [
           [
            0,
            "#440154"
           ],
           [
            0.1111111111111111,
            "#482878"
           ],
           [
            0.2222222222222222,
            "#3e4989"
           ],
           [
            0.3333333333333333,
            "#31688e"
           ],
           [
            0.4444444444444444,
            "#26828e"
           ],
           [
            0.5555555555555556,
            "#1f9e89"
           ],
           [
            0.6666666666666666,
            "#35b779"
           ],
           [
            0.7777777777777778,
            "#6ece58"
           ],
           [
            0.8888888888888888,
            "#b5de2b"
           ],
           [
            1,
            "#fde725"
           ]
          ],
          "size": 2
         },
         "mode": "lines+markers",
         "name": "2654",
         "type": "scatter3d",
         "x": [
          0.468477,
          0.469043,
          0.47238600000000003,
          0.478053,
          0.481474,
          0.481151,
          0.458945
         ],
         "y": [
          0.393976,
          0.397433,
          0.395449,
          0.395368,
          0.39404,
          0.390579,
          0.39222199999999996
         ],
         "z": [
          0.113828,
          0.126119,
          0.127603,
          0.128116,
          0.129832,
          0.135376,
          0.19534700000000002
         ]
        },
        {
         "marker": {
          "color": [
           0.018723301979084915,
           0.042228456400867954,
           0.031982147582674834,
           0.07877427235462087,
           0.08860442836562973,
           0.07484059276889773,
           0
          ],
          "colorbar": {
           "title": {
            "text": "Velocity Magnitude"
           }
          },
          "colorscale": [
           [
            0,
            "#440154"
           ],
           [
            0.1111111111111111,
            "#482878"
           ],
           [
            0.2222222222222222,
            "#3e4989"
           ],
           [
            0.3333333333333333,
            "#31688e"
           ],
           [
            0.4444444444444444,
            "#26828e"
           ],
           [
            0.5555555555555556,
            "#1f9e89"
           ],
           [
            0.6666666666666666,
            "#35b779"
           ],
           [
            0.7777777777777778,
            "#6ece58"
           ],
           [
            0.8888888888888888,
            "#b5de2b"
           ],
           [
            1,
            "#fde725"
           ]
          ],
          "size": 2
         },
         "mode": "lines+markers",
         "name": "2643",
         "type": "scatter3d",
         "x": [
          0.825626,
          0.8339690000000001,
          0.8255739999999999,
          0.817952,
          0.843408,
          0.891482,
          0.9477329999999999
         ],
         "y": [
          0.838097,
          0.8489450000000001,
          0.8365410000000001,
          0.853085,
          0.857665,
          0.864448,
          0.879477
         ],
         "z": [
          0.655306,
          0.642528,
          0.6030449999999999,
          0.576757,
          0.5023500000000001,
          0.428231,
          0.381209
         ]
        },
        {
         "marker": {
          "color": [
           0.06362411669327911,
           0.01418921343838342,
           0.006420461276263543,
           0.0620544427015504,
           0.05267493738961634,
           0.009256376018723473,
           0
          ],
          "colorbar": {
           "title": {
            "text": "Velocity Magnitude"
           }
          },
          "colorscale": [
           [
            0,
            "#440154"
           ],
           [
            0.1111111111111111,
            "#482878"
           ],
           [
            0.2222222222222222,
            "#3e4989"
           ],
           [
            0.3333333333333333,
            "#31688e"
           ],
           [
            0.4444444444444444,
            "#26828e"
           ],
           [
            0.5555555555555556,
            "#1f9e89"
           ],
           [
            0.6666666666666666,
            "#35b779"
           ],
           [
            0.7777777777777778,
            "#6ece58"
           ],
           [
            0.8888888888888888,
            "#b5de2b"
           ],
           [
            1,
            "#fde725"
           ]
          ],
          "size": 2
         },
         "mode": "lines+markers",
         "name": "3837",
         "type": "scatter3d",
         "x": [
          1.143173,
          1.132095,
          1.129596,
          1.130841,
          1.1381320000000001,
          1.14667,
          1.148765
         ],
         "y": [
          0.745585,
          0.731164,
          0.722905,
          0.725962,
          0.761455,
          0.786432,
          0.794136
         ],
         "z": [
          0.139132,
          0.07816200000000001,
          0.066898,
          0.072405,
          0.122782,
          0.16836600000000002,
          0.163682
         ]
        },
        {
         "marker": {
          "color": [
           0.025624002692787827,
           0.021309770482105153,
           0.00878938285660603,
           0.008744554991536162,
           0.013925407893487349,
           0.009671304513869886,
           0.01781312558199715,
           0.006993753856120504,
           0
          ],
          "colorbar": {
           "title": {
            "text": "Velocity Magnitude"
           }
          },
          "colorscale": [
           [
            0,
            "#440154"
           ],
           [
            0.1111111111111111,
            "#482878"
           ],
           [
            0.2222222222222222,
            "#3e4989"
           ],
           [
            0.3333333333333333,
            "#31688e"
           ],
           [
            0.4444444444444444,
            "#26828e"
           ],
           [
            0.5555555555555556,
            "#1f9e89"
           ],
           [
            0.6666666666666666,
            "#35b779"
           ],
           [
            0.7777777777777778,
            "#6ece58"
           ],
           [
            0.8888888888888888,
            "#b5de2b"
           ],
           [
            1,
            "#fde725"
           ]
          ],
          "size": 2
         },
         "mode": "lines+markers",
         "name": "1534",
         "type": "scatter3d",
         "x": [
          -0.04374,
          -0.027173,
          -0.0341,
          -0.038529,
          -0.042025,
          -0.046068,
          -0.051801,
          -0.054119999999999994,
          -0.056544
         ],
         "y": [
          0.685139,
          0.698939,
          0.699256,
          0.697039,
          0.693844,
          0.692484,
          0.684793,
          0.685092,
          0.680141
         ],
         "z": [
          0.104874,
          0.11871899999999999,
          0.138869,
          0.14612999999999998,
          0.153481,
          0.166737,
          0.16796799999999998,
          0.18562700000000001,
          0.18993100000000002
         ]
        },
        {
         "marker": {
          "color": [
           0.006881556873266308,
           0.01350834686406891,
           0.008029631747471346,
           0.007428114834869025,
           0.007660815622373293,
           0.00782740014308711,
           0.007773728127481704,
           0.007111756323159573,
           0
          ],
          "colorbar": {
           "title": {
            "text": "Velocity Magnitude"
           }
          },
          "colorscale": [
           [
            0,
            "#440154"
           ],
           [
            0.1111111111111111,
            "#482878"
           ],
           [
            0.2222222222222222,
            "#3e4989"
           ],
           [
            0.3333333333333333,
            "#31688e"
           ],
           [
            0.4444444444444444,
            "#26828e"
           ],
           [
            0.5555555555555556,
            "#1f9e89"
           ],
           [
            0.6666666666666666,
            "#35b779"
           ],
           [
            0.7777777777777778,
            "#6ece58"
           ],
           [
            0.8888888888888888,
            "#b5de2b"
           ],
           [
            1,
            "#fde725"
           ]
          ],
          "size": 2
         },
         "mode": "lines+markers",
         "name": "121",
         "type": "scatter3d",
         "x": [
          0.5242060000000001,
          0.530631,
          0.538952,
          0.544449,
          0.5509850000000001,
          0.557997,
          0.565055,
          0.57209,
          0.577905
         ],
         "y": [
          -0.014163,
          -0.015803,
          -0.020998000000000003,
          -0.018713999999999998,
          -0.021050999999999997,
          -0.022995,
          -0.025022,
          -0.027104,
          -0.028417
         ],
         "z": [
          0.017974,
          0.016134,
          0.006847000000000001,
          0.012236,
          0.009590999999999999,
          0.007195,
          0.004485,
          0.001915,
          0.005793
         ]
        },
        {
         "marker": {
          "color": [
           0.007980727473106753,
           0.00884150694169275,
           0.00856271014340669,
           0.009449609991952036,
           0.012614273700851763,
           0.010704527313244557,
           0.012292503772625047,
           0.016224817872629558,
           0
          ],
          "colorbar": {
           "title": {
            "text": "Velocity Magnitude"
           }
          },
          "colorscale": [
           [
            0,
            "#440154"
           ],
           [
            0.1111111111111111,
            "#482878"
           ],
           [
            0.2222222222222222,
            "#3e4989"
           ],
           [
            0.3333333333333333,
            "#31688e"
           ],
           [
            0.4444444444444444,
            "#26828e"
           ],
           [
            0.5555555555555556,
            "#1f9e89"
           ],
           [
            0.6666666666666666,
            "#35b779"
           ],
           [
            0.7777777777777778,
            "#6ece58"
           ],
           [
            0.8888888888888888,
            "#b5de2b"
           ],
           [
            1,
            "#fde725"
           ]
          ],
          "size": 2
         },
         "mode": "lines+markers",
         "name": "29",
         "type": "scatter3d",
         "x": [
          -0.323281,
          -0.32742200000000005,
          -0.32952800000000004,
          -0.333038,
          -0.33784800000000004,
          -0.344434,
          -0.351947,
          -0.361565,
          -0.37007
         ],
         "y": [
          0.77454,
          0.768111,
          0.7654829999999999,
          0.7631319999999999,
          0.760517,
          0.758544,
          0.755738,
          0.754996,
          0.753439
         ],
         "z": [
          0.6056889999999999,
          0.607972,
          0.616147,
          0.623595,
          0.631297,
          0.641873,
          0.648963,
          0.656582,
          0.670311
         ]
        },
        {
         "marker": {
          "color": [
           0.009375041973239356,
           0.05081664119164114,
           0.00615115387549358,
           0.01667330591094644,
           0.005267121889609164,
           0.0075413240879835,
           0.004504114674383866,
           0.004463213864470287,
           0
          ],
          "colorbar": {
           "title": {
            "text": "Velocity Magnitude"
           }
          },
          "colorscale": [
           [
            0,
            "#440154"
           ],
           [
            0.1111111111111111,
            "#482878"
           ],
           [
            0.2222222222222222,
            "#3e4989"
           ],
           [
            0.3333333333333333,
            "#31688e"
           ],
           [
            0.4444444444444444,
            "#26828e"
           ],
           [
            0.5555555555555556,
            "#1f9e89"
           ],
           [
            0.6666666666666666,
            "#35b779"
           ],
           [
            0.7777777777777778,
            "#6ece58"
           ],
           [
            0.8888888888888888,
            "#b5de2b"
           ],
           [
            1,
            "#fde725"
           ]
          ],
          "size": 2
         },
         "mode": "lines+markers",
         "name": "214",
         "type": "scatter3d",
         "x": [
          -0.148135,
          -0.140647,
          -0.100633,
          -0.09597,
          -0.09162300000000001,
          -0.087007,
          -0.082091,
          -0.078193,
          -0.07448
         ],
         "y": [
          0.31093200000000004,
          0.314214,
          0.315313,
          0.313168,
          0.314193,
          0.314532,
          0.313635,
          0.31206599999999995,
          0.310056
         ],
         "z": [
          0.241035,
          0.236447,
          0.267752,
          0.26436200000000004,
          0.248298,
          0.245784,
          0.240136,
          0.238514,
          0.237067
         ]
        },
        {
         "marker": {
          "color": [
           0.009902086497299477,
           0.009743952072952726,
           0.009462084759713387,
           0.00913850808392702,
           0.008934168176165061,
           0.008750331936561022,
           0.008598708391380659,
           0.011139550664187469,
           0
          ],
          "colorbar": {
           "title": {
            "text": "Velocity Magnitude"
           }
          },
          "colorscale": [
           [
            0,
            "#440154"
           ],
           [
            0.1111111111111111,
            "#482878"
           ],
           [
            0.2222222222222222,
            "#3e4989"
           ],
           [
            0.3333333333333333,
            "#31688e"
           ],
           [
            0.4444444444444444,
            "#26828e"
           ],
           [
            0.5555555555555556,
            "#1f9e89"
           ],
           [
            0.6666666666666666,
            "#35b779"
           ],
           [
            0.7777777777777778,
            "#6ece58"
           ],
           [
            0.8888888888888888,
            "#b5de2b"
           ],
           [
            1,
            "#fde725"
           ]
          ],
          "size": 2
         },
         "mode": "lines+markers",
         "name": "65",
         "type": "scatter3d",
         "x": [
          0.355546,
          0.358966,
          0.362103,
          0.36502100000000004,
          0.36750099999999997,
          0.369721,
          0.371553,
          0.37622500000000003,
          0.374563
         ],
         "y": [
          0.15015,
          0.14185599999999998,
          0.133763,
          0.125893,
          0.11844400000000001,
          0.11132399999999999,
          0.104485,
          0.100786,
          0.091354
         ],
         "z": [
          0.321573,
          0.325764,
          0.330192,
          0.33456,
          0.339237,
          0.344156,
          0.349298,
          0.355497,
          0.36118599999999995
         ]
        },
        {
         "marker": {
          "color": [
           0.030212069972115445,
           0.018836877527870728,
           0.034320889921445746,
           0.04526723910290975,
           0.030789685350779396,
           0.035856278683098236,
           0
          ],
          "colorbar": {
           "title": {
            "text": "Velocity Magnitude"
           }
          },
          "colorscale": [
           [
            0,
            "#440154"
           ],
           [
            0.1111111111111111,
            "#482878"
           ],
           [
            0.2222222222222222,
            "#3e4989"
           ],
           [
            0.3333333333333333,
            "#31688e"
           ],
           [
            0.4444444444444444,
            "#26828e"
           ],
           [
            0.5555555555555556,
            "#1f9e89"
           ],
           [
            0.6666666666666666,
            "#35b779"
           ],
           [
            0.7777777777777778,
            "#6ece58"
           ],
           [
            0.8888888888888888,
            "#b5de2b"
           ],
           [
            1,
            "#fde725"
           ]
          ],
          "size": 2
         },
         "mode": "lines+markers",
         "name": "5305",
         "type": "scatter3d",
         "x": [
          -0.308624,
          -0.331698,
          -0.349885,
          -0.37668799999999997,
          -0.39903,
          -0.41677,
          -0.40023899999999996
         ],
         "y": [
          0.639565,
          0.6234850000000001,
          0.619454,
          0.629524,
          0.626408,
          0.608976,
          0.614618
         ],
         "z": [
          0.828244,
          0.83928,
          0.836485,
          0.855409,
          0.894655,
          0.912805,
          0.944119
         ]
        },
        {
         "marker": {
          "color": [
           0.006227474046513614,
           0.0046872022572105754,
           0.005408210609804231,
           0.004005051934744593,
           0.00985356407600826,
           0.004493152456794627,
           0.004787711353037029,
           0.006264951476268622,
           0
          ],
          "colorbar": {
           "title": {
            "text": "Velocity Magnitude"
           }
          },
          "colorscale": [
           [
            0,
            "#440154"
           ],
           [
            0.1111111111111111,
            "#482878"
           ],
           [
            0.2222222222222222,
            "#3e4989"
           ],
           [
            0.3333333333333333,
            "#31688e"
           ],
           [
            0.4444444444444444,
            "#26828e"
           ],
           [
            0.5555555555555556,
            "#1f9e89"
           ],
           [
            0.6666666666666666,
            "#35b779"
           ],
           [
            0.7777777777777778,
            "#6ece58"
           ],
           [
            0.8888888888888888,
            "#b5de2b"
           ],
           [
            1,
            "#fde725"
           ]
          ],
          "size": 2
         },
         "mode": "lines+markers",
         "name": "694",
         "type": "scatter3d",
         "x": [
          0.656003,
          0.6574909999999999,
          0.6553669999999999,
          0.654492,
          0.655121,
          0.651601,
          0.648048,
          0.650258,
          0.649833
         ],
         "y": [
          0.653909,
          0.659904,
          0.663996,
          0.6692469999999999,
          0.6728390000000001,
          0.679137,
          0.681164,
          0.6853319999999999,
          0.690508
         ],
         "z": [
          1.477632,
          1.478424,
          1.479269,
          1.480223,
          1.478567,
          1.485278,
          1.487137,
          1.486321,
          1.489825
         ]
        },
        {
         "marker": {
          "color": [
           0.016447445546345602,
           0.015854933900839783,
           0.013448837050094588,
           0.01738266984671805,
           0.011299219973077765,
           0.011009557438880152,
           0.013234376033648078,
           0.04326815711351725,
           0
          ],
          "colorbar": {
           "title": {
            "text": "Velocity Magnitude"
           }
          },
          "colorscale": [
           [
            0,
            "#440154"
           ],
           [
            0.1111111111111111,
            "#482878"
           ],
           [
            0.2222222222222222,
            "#3e4989"
           ],
           [
            0.3333333333333333,
            "#31688e"
           ],
           [
            0.4444444444444444,
            "#26828e"
           ],
           [
            0.5555555555555556,
            "#1f9e89"
           ],
           [
            0.6666666666666666,
            "#35b779"
           ],
           [
            0.7777777777777778,
            "#6ece58"
           ],
           [
            0.8888888888888888,
            "#b5de2b"
           ],
           [
            1,
            "#fde725"
           ]
          ],
          "size": 2
         },
         "mode": "lines+markers",
         "name": "206",
         "type": "scatter3d",
         "x": [
          0.7730589999999999,
          0.7869210000000001,
          0.799394,
          0.81151,
          0.826279,
          0.835819,
          0.8451620000000001,
          0.854131,
          0.8763970000000001
         ],
         "y": [
          0.463975,
          0.46613,
          0.475682,
          0.479031,
          0.48801,
          0.491586,
          0.494877,
          0.504569,
          0.494027
         ],
         "z": [
          1.455134,
          1.446548,
          1.4486839999999999,
          1.443903,
          1.442056,
          1.43717,
          1.432365,
          1.433243,
          1.397673
         ]
        },
        {
         "marker": {
          "color": [
           0.012357004208140418,
           0.017601620039075873,
           0.014824865092134902,
           0.01974092485168825,
           0.019698567689047784,
           0.01778518318713642,
           0.019868806028546425,
           0.0164869425303784,
           0
          ],
          "colorbar": {
           "title": {
            "text": "Velocity Magnitude"
           }
          },
          "colorscale": [
           [
            0,
            "#440154"
           ],
           [
            0.1111111111111111,
            "#482878"
           ],
           [
            0.2222222222222222,
            "#3e4989"
           ],
           [
            0.3333333333333333,
            "#31688e"
           ],
           [
            0.4444444444444444,
            "#26828e"
           ],
           [
            0.5555555555555556,
            "#1f9e89"
           ],
           [
            0.6666666666666666,
            "#35b779"
           ],
           [
            0.7777777777777778,
            "#6ece58"
           ],
           [
            0.8888888888888888,
            "#b5de2b"
           ],
           [
            1,
            "#fde725"
           ]
          ],
          "size": 2
         },
         "mode": "lines+markers",
         "name": "1010",
         "type": "scatter3d",
         "x": [
          0.196789,
          0.208925,
          0.222971,
          0.237457,
          0.255394,
          0.274296,
          0.28995,
          0.308458,
          0.324485
         ],
         "y": [
          0.17478,
          0.172724,
          0.16534000000000001,
          0.16653800000000002,
          0.16455,
          0.166628,
          0.163909,
          0.164467,
          0.168019
         ],
         "z": [
          1.238454,
          1.2395429999999998,
          1.231927,
          1.234842,
          1.2268409999999998,
          1.2217,
          1.213708,
          1.2065029999999999,
          1.204974
         ]
        },
        {
         "marker": {
          "color": [
           0.016689139013142604,
           0.006498643166076879,
           0.019468633799011082,
           0.016265585449039346,
           0.029037090350102282,
           0.05106107503764485,
           0
          ],
          "colorbar": {
           "title": {
            "text": "Velocity Magnitude"
           }
          },
          "colorscale": [
           [
            0,
            "#440154"
           ],
           [
            0.1111111111111111,
            "#482878"
           ],
           [
            0.2222222222222222,
            "#3e4989"
           ],
           [
            0.3333333333333333,
            "#31688e"
           ],
           [
            0.4444444444444444,
            "#26828e"
           ],
           [
            0.5555555555555556,
            "#1f9e89"
           ],
           [
            0.6666666666666666,
            "#35b779"
           ],
           [
            0.7777777777777778,
            "#6ece58"
           ],
           [
            0.8888888888888888,
            "#b5de2b"
           ],
           [
            1,
            "#fde725"
           ]
          ],
          "size": 2
         },
         "mode": "lines+markers",
         "name": "4362",
         "type": "scatter3d",
         "x": [
          1.084822,
          1.080058,
          1.0758610000000002,
          1.081975,
          1.09035,
          1.112832,
          1.15341
         ],
         "y": [
          0.768442,
          0.767169,
          0.764734,
          0.765689,
          0.760266,
          0.74658,
          0.737524
         ],
         "z": [
          0.7863490000000001,
          0.802293,
          0.806616,
          0.825075,
          0.837921,
          0.850185,
          0.820543
         ]
        },
        {
         "marker": {
          "color": [
           0.009647273759980106,
           0.009720625802899816,
           0.008296315447233173,
           0.009854955809134699,
           0.03167383604806976,
           0.027913832879058378,
           0
          ],
          "colorbar": {
           "title": {
            "text": "Velocity Magnitude"
           }
          },
          "colorscale": [
           [
            0,
            "#440154"
           ],
           [
            0.1111111111111111,
            "#482878"
           ],
           [
            0.2222222222222222,
            "#3e4989"
           ],
           [
            0.3333333333333333,
            "#31688e"
           ],
           [
            0.4444444444444444,
            "#26828e"
           ],
           [
            0.5555555555555556,
            "#1f9e89"
           ],
           [
            0.6666666666666666,
            "#35b779"
           ],
           [
            0.7777777777777778,
            "#6ece58"
           ],
           [
            0.8888888888888888,
            "#b5de2b"
           ],
           [
            1,
            "#fde725"
           ]
          ],
          "size": 2
         },
         "mode": "lines+markers",
         "name": "4466",
         "type": "scatter3d",
         "x": [
          0.386217,
          0.39269600000000005,
          0.39547699999999997,
          0.3993,
          0.402777,
          0.396425,
          0.396228
         ],
         "y": [
          0.5539270000000001,
          0.553242,
          0.55374,
          0.554701,
          0.556677,
          0.564958,
          0.5556939999999999
         ],
         "z": [
          0.702947,
          0.710062,
          0.7193630000000001,
          0.7266630000000001,
          0.7356699999999999,
          0.765575,
          0.791906
         ]
        },
        {
         "marker": {
          "color": [
           0.04186848324217153,
           0.045218384159542845,
           0.06930122719692643,
           0.006852616653512827,
           0.007902879601765575,
           0.02633530362460246,
           0.04264651269447476,
           0.08614616208514457,
           0
          ],
          "colorbar": {
           "title": {
            "text": "Velocity Magnitude"
           }
          },
          "colorscale": [
           [
            0,
            "#440154"
           ],
           [
            0.1111111111111111,
            "#482878"
           ],
           [
            0.2222222222222222,
            "#3e4989"
           ],
           [
            0.3333333333333333,
            "#31688e"
           ],
           [
            0.4444444444444444,
            "#26828e"
           ],
           [
            0.5555555555555556,
            "#1f9e89"
           ],
           [
            0.6666666666666666,
            "#35b779"
           ],
           [
            0.7777777777777778,
            "#6ece58"
           ],
           [
            0.8888888888888888,
            "#b5de2b"
           ],
           [
            1,
            "#fde725"
           ]
          ],
          "size": 2
         },
         "mode": "lines+markers",
         "name": "2328",
         "type": "scatter3d",
         "x": [
          -0.443131,
          -0.42983899999999997,
          -0.40703500000000004,
          -0.38502,
          -0.387851,
          -0.38881,
          -0.365984,
          -0.331984,
          -0.275733
         ],
         "y": [
          0.7487440000000001,
          0.747436,
          0.755043,
          0.735172,
          0.7296269999999999,
          0.7341190000000001,
          0.747024,
          0.763342,
          0.805871
         ],
         "z": [
          0.839349,
          0.87903,
          0.917329,
          0.9799640000000001,
          0.982827,
          0.9892580000000001,
          0.986812,
          1.006723,
          1.056203
         ]
        },
        {
         "marker": {
          "color": [
           0.010570338168667969,
           0.013012733878781952,
           0.011671143474398708,
           0.014396198560731257,
           0.028913705694704726,
           0.03544127466669333,
           0
          ],
          "colorbar": {
           "title": {
            "text": "Velocity Magnitude"
           }
          },
          "colorscale": [
           [
            0,
            "#440154"
           ],
           [
            0.1111111111111111,
            "#482878"
           ],
           [
            0.2222222222222222,
            "#3e4989"
           ],
           [
            0.3333333333333333,
            "#31688e"
           ],
           [
            0.4444444444444444,
            "#26828e"
           ],
           [
            0.5555555555555556,
            "#1f9e89"
           ],
           [
            0.6666666666666666,
            "#35b779"
           ],
           [
            0.7777777777777778,
            "#6ece58"
           ],
           [
            0.8888888888888888,
            "#b5de2b"
           ],
           [
            1,
            "#fde725"
           ]
          ],
          "size": 2
         },
         "mode": "lines+markers",
         "name": "4418",
         "type": "scatter3d",
         "x": [
          0.393632,
          0.39918400000000004,
          0.400745,
          0.40276999999999996,
          0.41471399999999997,
          0.43312,
          0.43449
         ],
         "y": [
          0.841386,
          0.836274,
          0.831013,
          0.823806,
          0.820207,
          0.804197,
          0.806184
         ],
         "z": [
          0.5039100000000001,
          0.511311,
          0.52311,
          0.532064,
          0.53925,
          0.523729,
          0.48837
         ]
        },
        {
         "marker": {
          "color": [
           0.006442807850619121,
           0.009099091273308633,
           0.009162766612764882,
           0.009427599270227797,
           0.006917090501070654,
           0.030409542416813887,
           0.03056494570582449,
           0
          ],
          "colorbar": {
           "title": {
            "text": "Velocity Magnitude"
           }
          },
          "colorscale": [
           [
            0,
            "#440154"
           ],
           [
            0.1111111111111111,
            "#482878"
           ],
           [
            0.2222222222222222,
            "#3e4989"
           ],
           [
            0.3333333333333333,
            "#31688e"
           ],
           [
            0.4444444444444444,
            "#26828e"
           ],
           [
            0.5555555555555556,
            "#1f9e89"
           ],
           [
            0.6666666666666666,
            "#35b779"
           ],
           [
            0.7777777777777778,
            "#6ece58"
           ],
           [
            0.8888888888888888,
            "#b5de2b"
           ],
           [
            1,
            "#fde725"
           ]
          ],
          "size": 2
         },
         "mode": "lines+markers",
         "name": "2585",
         "type": "scatter3d",
         "x": [
          0.718367,
          0.721703,
          0.725312,
          0.728816,
          0.732518,
          0.734004,
          0.736953,
          0.749042
         ],
         "y": [
          0.729429,
          0.7336079999999999,
          0.739658,
          0.745848,
          0.7522179999999999,
          0.7571100000000001,
          0.7741480000000001,
          0.793301
         ],
         "z": [
          0.465901,
          0.469495,
          0.475254,
          0.48102999999999996,
          0.48691199999999996,
          0.49157100000000004,
          0.46655599999999997,
          0.446032
         ]
        },
        {
         "marker": {
          "color": [
           0.04839666601120366,
           0.018583055642170273,
           0.018872286851359617,
           0.028171030314846465,
           0.011893616817436174,
           0.005549833691201949,
           0.01921846073440852,
           0.004960411071675416,
           0
          ],
          "colorbar": {
           "title": {
            "text": "Velocity Magnitude"
           }
          },
          "colorscale": [
           [
            0,
            "#440154"
           ],
           [
            0.1111111111111111,
            "#482878"
           ],
           [
            0.2222222222222222,
            "#3e4989"
           ],
           [
            0.3333333333333333,
            "#31688e"
           ],
           [
            0.4444444444444444,
            "#26828e"
           ],
           [
            0.5555555555555556,
            "#1f9e89"
           ],
           [
            0.6666666666666666,
            "#35b779"
           ],
           [
            0.7777777777777778,
            "#6ece58"
           ],
           [
            0.8888888888888888,
            "#b5de2b"
           ],
           [
            1,
            "#fde725"
           ]
          ],
          "size": 2
         },
         "mode": "lines+markers",
         "name": "87",
         "type": "scatter3d",
         "x": [
          1.260105,
          1.236237,
          1.2197550000000001,
          1.20861,
          1.195914,
          1.20523,
          1.207725,
          1.223057,
          1.227484
         ],
         "y": [
          0.579173,
          0.573509,
          0.569241,
          0.56571,
          0.5812930000000001,
          0.587885,
          0.590475,
          0.6019779999999999,
          0.603921
         ],
         "z": [
          0.801691,
          0.84341,
          0.850857,
          0.8360420000000001,
          0.85578,
          0.852431,
          0.848204,
          0.846804,
          0.847914
         ]
        },
        {
         "marker": {
          "color": [
           0.03989545721006338,
           0.046188253972195135,
           0.02638397231275076,
           0.04169465598850767,
           0.055101736097876226,
           0.04382633986542794,
           0.015813729130094555,
           0
          ],
          "colorbar": {
           "title": {
            "text": "Velocity Magnitude"
           }
          },
          "colorscale": [
           [
            0,
            "#440154"
           ],
           [
            0.1111111111111111,
            "#482878"
           ],
           [
            0.2222222222222222,
            "#3e4989"
           ],
           [
            0.3333333333333333,
            "#31688e"
           ],
           [
            0.4444444444444444,
            "#26828e"
           ],
           [
            0.5555555555555556,
            "#1f9e89"
           ],
           [
            0.6666666666666666,
            "#35b779"
           ],
           [
            0.7777777777777778,
            "#6ece58"
           ],
           [
            0.8888888888888888,
            "#b5de2b"
           ],
           [
            1,
            "#fde725"
           ]
          ],
          "size": 2
         },
         "mode": "lines+markers",
         "name": "3070",
         "type": "scatter3d",
         "x": [
          0.910813,
          0.925917,
          0.951985,
          0.944104,
          0.9394239999999999,
          0.91724,
          0.891495,
          0.892124
         ],
         "y": [
          0.557063,
          0.57556,
          0.578569,
          0.591504,
          0.625401,
          0.64222,
          0.641491,
          0.643929
         ],
         "z": [
          0.15681399999999998,
          0.12485500000000001,
          0.086845,
          0.10844799999999999,
          0.132271,
          0.179823,
          0.21528299999999997,
          0.23089500000000002
         ]
        },
        {
         "marker": {
          "color": [
           0.01800819407936286,
           0.010467746271284974,
           0.020008428848862645,
           0.03300151205626792,
           0.07025699147415874,
           0.13125156239831962,
           0.15960933214884393,
           0
          ],
          "colorbar": {
           "title": {
            "text": "Velocity Magnitude"
           }
          },
          "colorscale": [
           [
            0,
            "#440154"
           ],
           [
            0.1111111111111111,
            "#482878"
           ],
           [
            0.2222222222222222,
            "#3e4989"
           ],
           [
            0.3333333333333333,
            "#31688e"
           ],
           [
            0.4444444444444444,
            "#26828e"
           ],
           [
            0.5555555555555556,
            "#1f9e89"
           ],
           [
            0.6666666666666666,
            "#35b779"
           ],
           [
            0.7777777777777778,
            "#6ece58"
           ],
           [
            0.8888888888888888,
            "#b5de2b"
           ],
           [
            1,
            "#fde725"
           ]
          ],
          "size": 2
         },
         "mode": "lines+markers",
         "name": "3458",
         "type": "scatter3d",
         "x": [
          -0.34957900000000003,
          -0.34775599999999995,
          -0.34300400000000003,
          -0.35944,
          -0.337841,
          -0.307428,
          -0.300056,
          -0.307288
         ],
         "y": [
          0.91547,
          0.913136,
          0.915384,
          0.911624,
          0.89943,
          0.871231,
          0.856573,
          0.829176
         ],
         "z": [
          0.911068,
          0.928831,
          0.937883,
          0.92711,
          0.9053410000000001,
          0.8486319999999999,
          0.71841,
          0.5613360000000001
         ]
        },
        {
         "marker": {
          "color": [
           0.008604896803564797,
           0.008667170876358711,
           0.008878479881150874,
           0.00853320936107859,
           0.008490640081878387,
           0.062484698622942855,
           0
          ],
          "colorbar": {
           "title": {
            "text": "Velocity Magnitude"
           }
          },
          "colorscale": [
           [
            0,
            "#440154"
           ],
           [
            0.1111111111111111,
            "#482878"
           ],
           [
            0.2222222222222222,
            "#3e4989"
           ],
           [
            0.3333333333333333,
            "#31688e"
           ],
           [
            0.4444444444444444,
            "#26828e"
           ],
           [
            0.5555555555555556,
            "#1f9e89"
           ],
           [
            0.6666666666666666,
            "#35b779"
           ],
           [
            0.7777777777777778,
            "#6ece58"
           ],
           [
            0.8888888888888888,
            "#b5de2b"
           ],
           [
            1,
            "#fde725"
           ]
          ],
          "size": 2
         },
         "mode": "lines+markers",
         "name": "4256",
         "type": "scatter3d",
         "x": [
          0.6134539999999999,
          0.6186609999999999,
          0.62386,
          0.629071,
          0.634192,
          0.639126,
          0.6239020000000001
         ],
         "y": [
          0.248796,
          0.24996600000000002,
          0.251301,
          0.252811,
          0.25435,
          0.256052,
          0.300921
         ],
         "z": [
          0.018434000000000002,
          0.025184,
          0.031989000000000004,
          0.039017,
          0.045667,
          0.052363999999999994,
          0.093099
         ]
        },
        {
         "marker": {
          "color": [
           0.011253620972824773,
           0.014829910957251226,
           0.014712750864471385,
           0.053496792819756896,
           0.03029025812039246,
           0.07228683161544713,
           0
          ],
          "colorbar": {
           "title": {
            "text": "Velocity Magnitude"
           }
          },
          "colorscale": [
           [
            0,
            "#440154"
           ],
           [
            0.1111111111111111,
            "#482878"
           ],
           [
            0.2222222222222222,
            "#3e4989"
           ],
           [
            0.3333333333333333,
            "#31688e"
           ],
           [
            0.4444444444444444,
            "#26828e"
           ],
           [
            0.5555555555555556,
            "#1f9e89"
           ],
           [
            0.6666666666666666,
            "#35b779"
           ],
           [
            0.7777777777777778,
            "#6ece58"
           ],
           [
            0.8888888888888888,
            "#b5de2b"
           ],
           [
            1,
            "#fde725"
           ]
          ],
          "size": 2
         },
         "mode": "lines+markers",
         "name": "5179",
         "type": "scatter3d",
         "x": [
          1.141909,
          1.142769,
          1.156202,
          1.170808,
          1.172635,
          1.187663,
          1.228483
         ],
         "y": [
          -0.232386,
          -0.237929,
          -0.240372,
          -0.239073,
          -0.233681,
          -0.223988,
          -0.17551599999999998
         ],
         "z": [
          0.784042,
          0.7742859999999999,
          0.768497,
          0.769698,
          0.8228909999999999,
          0.8473390000000001,
          0.8821180000000001
         ]
        },
        {
         "marker": {
          "color": [
           0.015989468940524523,
           0.031140962107808937,
           0.019208141841417156,
           0.04889607539465721,
           0.05060473108317054,
           0.050247458104863335,
           0
          ],
          "colorbar": {
           "title": {
            "text": "Velocity Magnitude"
           }
          },
          "colorscale": [
           [
            0,
            "#440154"
           ],
           [
            0.1111111111111111,
            "#482878"
           ],
           [
            0.2222222222222222,
            "#3e4989"
           ],
           [
            0.3333333333333333,
            "#31688e"
           ],
           [
            0.4444444444444444,
            "#26828e"
           ],
           [
            0.5555555555555556,
            "#1f9e89"
           ],
           [
            0.6666666666666666,
            "#35b779"
           ],
           [
            0.7777777777777778,
            "#6ece58"
           ],
           [
            0.8888888888888888,
            "#b5de2b"
           ],
           [
            1,
            "#fde725"
           ]
          ],
          "size": 2
         },
         "mode": "lines+markers",
         "name": "4883",
         "type": "scatter3d",
         "x": [
          0.319682,
          0.325092,
          0.334386,
          0.350074,
          0.375032,
          0.356226,
          0.37796300000000005
         ],
         "y": [
          -0.013604,
          -0.01288,
          -0.002502,
          0.006692999999999999,
          -0.011288,
          -0.042612000000000004,
          -0.079053
         ],
         "z": [
          1.1851500000000001,
          1.200179,
          1.22803,
          1.234218,
          1.19621,
          1.161196,
          1.134282
         ]
        },
        {
         "marker": {
          "color": [
           0.07712083145947017,
           0.06950862843561224,
           0.06885810726414132,
           0.07710948134957207,
           0.10623450971318127,
           0.14502196624649658,
           0.18088929753304922,
           0
          ],
          "colorbar": {
           "title": {
            "text": "Velocity Magnitude"
           }
          },
          "colorscale": [
           [
            0,
            "#440154"
           ],
           [
            0.1111111111111111,
            "#482878"
           ],
           [
            0.2222222222222222,
            "#3e4989"
           ],
           [
            0.3333333333333333,
            "#31688e"
           ],
           [
            0.4444444444444444,
            "#26828e"
           ],
           [
            0.5555555555555556,
            "#1f9e89"
           ],
           [
            0.6666666666666666,
            "#35b779"
           ],
           [
            0.7777777777777778,
            "#6ece58"
           ],
           [
            0.8888888888888888,
            "#b5de2b"
           ],
           [
            1,
            "#fde725"
           ]
          ],
          "size": 2
         },
         "mode": "lines+markers",
         "name": "3246",
         "type": "scatter3d",
         "x": [
          0.5766100000000001,
          0.5370280000000001,
          0.492427,
          0.449209,
          0.412066,
          0.360699,
          0.285478,
          0.20113399999999998
         ],
         "y": [
          0.85484,
          0.8567400000000001,
          0.841545,
          0.822539,
          0.798548,
          0.77207,
          0.7473630000000001,
          0.752128
         ],
         "z": [
          0.969062,
          0.902901,
          0.8518,
          0.801676,
          0.738504,
          0.649363,
          0.527861,
          0.36791
         ]
        },
        {
         "marker": {
          "color": [
           0.010288333781521693,
           0.010266709063765226,
           0.010159719139818809,
           0.010275584946853378,
           0.010184284658236932,
           0.010525612571247327,
           0.010412980072966642,
           0.04099398816899862,
           0
          ],
          "colorbar": {
           "title": {
            "text": "Velocity Magnitude"
           }
          },
          "colorscale": [
           [
            0,
            "#440154"
           ],
           [
            0.1111111111111111,
            "#482878"
           ],
           [
            0.2222222222222222,
            "#3e4989"
           ],
           [
            0.3333333333333333,
            "#31688e"
           ],
           [
            0.4444444444444444,
            "#26828e"
           ],
           [
            0.5555555555555556,
            "#1f9e89"
           ],
           [
            0.6666666666666666,
            "#35b779"
           ],
           [
            0.7777777777777778,
            "#6ece58"
           ],
           [
            0.8888888888888888,
            "#b5de2b"
           ],
           [
            1,
            "#fde725"
           ]
          ],
          "size": 2
         },
         "mode": "lines+markers",
         "name": "27",
         "type": "scatter3d",
         "x": [
          0.40664,
          0.4101,
          0.413815,
          0.417591,
          0.42138099999999995,
          0.425176,
          0.428816,
          0.432273,
          0.464152
         ],
         "y": [
          0.26871,
          0.263294,
          0.25755700000000004,
          0.251571,
          0.245546,
          0.239456,
          0.233314,
          0.226982,
          0.21616300000000002
         ],
         "z": [
          0.044656,
          0.05269,
          0.060351,
          0.06764,
          0.075051,
          0.082278,
          0.090012,
          0.097521,
          0.074129
         ]
        },
        {
         "marker": {
          "color": [
           0.0751601291976006,
           0.059127503160542695,
           0.09735918814883378,
           0.06958377025571412,
           0.06567592689106105,
           0.022102224458185143,
           0
          ],
          "colorbar": {
           "title": {
            "text": "Velocity Magnitude"
           }
          },
          "colorscale": [
           [
            0,
            "#440154"
           ],
           [
            0.1111111111111111,
            "#482878"
           ],
           [
            0.2222222222222222,
            "#3e4989"
           ],
           [
            0.3333333333333333,
            "#31688e"
           ],
           [
            0.4444444444444444,
            "#26828e"
           ],
           [
            0.5555555555555556,
            "#1f9e89"
           ],
           [
            0.6666666666666666,
            "#35b779"
           ],
           [
            0.7777777777777778,
            "#6ece58"
           ],
           [
            0.8888888888888888,
            "#b5de2b"
           ],
           [
            1,
            "#fde725"
           ]
          ],
          "size": 2
         },
         "mode": "lines+markers",
         "name": "4701",
         "type": "scatter3d",
         "x": [
          -0.015024,
          0.039762,
          0.087348,
          0.138631,
          0.15955000000000003,
          0.15556999999999999,
          0.156669
         ],
         "y": [
          0.052518999999999996,
          0.050338,
          0.055223,
          0.032121000000000004,
          -0.001648,
          -0.057906,
          -0.069044
         ],
         "z": [
          1.186674,
          1.2380820000000001,
          1.272835,
          1.352303,
          1.409434,
          1.443087,
          1.462146
         ]
        },
        {
         "marker": {
          "color": [
           0.059511080497668636,
           0.07726645500474319,
           0.08947124496171939,
           0.09764507355724611,
           0.10403169658330098,
           0.10034224703981873,
           0.10151312594438212,
           0
          ],
          "colorbar": {
           "title": {
            "text": "Velocity Magnitude"
           }
          },
          "colorscale": [
           [
            0,
            "#440154"
           ],
           [
            0.1111111111111111,
            "#482878"
           ],
           [
            0.2222222222222222,
            "#3e4989"
           ],
           [
            0.3333333333333333,
            "#31688e"
           ],
           [
            0.4444444444444444,
            "#26828e"
           ],
           [
            0.5555555555555556,
            "#1f9e89"
           ],
           [
            0.6666666666666666,
            "#35b779"
           ],
           [
            0.7777777777777778,
            "#6ece58"
           ],
           [
            0.8888888888888888,
            "#b5de2b"
           ],
           [
            1,
            "#fde725"
           ]
          ],
          "size": 2
         },
         "mode": "lines+markers",
         "name": "3631",
         "type": "scatter3d",
         "x": [
          0.314158,
          0.27681900000000004,
          0.23341599999999998,
          0.168911,
          0.076196,
          -0.020358,
          -0.103387,
          -0.173624
         ],
         "y": [
          0.763554,
          0.756444,
          0.746066,
          0.715225,
          0.694059,
          0.6795220000000001,
          0.629396,
          0.5881130000000001
         ],
         "z": [
          -0.058357,
          -0.012566,
          0.05051,
          0.104297,
          0.08215,
          0.046253,
          0.020521,
          -0.040038
         ]
        },
        {
         "marker": {
          "color": [
           0.010315300528826031,
           0.05605225030273102,
           0.010167697526972266,
           0.009566932737298795,
           0.011799812540883881,
           0.0097133762410399,
           0
          ],
          "colorbar": {
           "title": {
            "text": "Velocity Magnitude"
           }
          },
          "colorscale": [
           [
            0,
            "#440154"
           ],
           [
            0.1111111111111111,
            "#482878"
           ],
           [
            0.2222222222222222,
            "#3e4989"
           ],
           [
            0.3333333333333333,
            "#31688e"
           ],
           [
            0.4444444444444444,
            "#26828e"
           ],
           [
            0.5555555555555556,
            "#1f9e89"
           ],
           [
            0.6666666666666666,
            "#35b779"
           ],
           [
            0.7777777777777778,
            "#6ece58"
           ],
           [
            0.8888888888888888,
            "#b5de2b"
           ],
           [
            1,
            "#fde725"
           ]
          ],
          "size": 2
         },
         "mode": "lines+markers",
         "name": "5448",
         "type": "scatter3d",
         "x": [
          1.262332,
          1.271742,
          1.2962280000000002,
          1.304642,
          1.312281,
          1.319215,
          1.327221
         ],
         "y": [
          -0.26603699999999997,
          -0.269522,
          -0.30469999999999997,
          -0.29987400000000003,
          -0.29499400000000003,
          -0.29275799999999996,
          -0.287517
         ],
         "z": [
          0.909092,
          0.906702,
          0.942824,
          0.939775,
          0.936716,
          0.927434,
          0.9291029999999999
         ]
        },
        {
         "marker": {
          "color": [
           0.011658974097235151,
           0.013716712069588714,
           0.011178353501298841,
           0.012055936670371133,
           0.009296790897938922,
           0.014614835476323371,
           0.009567725016951557,
           0.0202305036269491,
           0.007611229138581999,
           0
          ],
          "colorbar": {
           "title": {
            "text": "Velocity Magnitude"
           }
          },
          "colorscale": [
           [
            0,
            "#440154"
           ],
           [
            0.1111111111111111,
            "#482878"
           ],
           [
            0.2222222222222222,
            "#3e4989"
           ],
           [
            0.3333333333333333,
            "#31688e"
           ],
           [
            0.4444444444444444,
            "#26828e"
           ],
           [
            0.5555555555555556,
            "#1f9e89"
           ],
           [
            0.6666666666666666,
            "#35b779"
           ],
           [
            0.7777777777777778,
            "#6ece58"
           ],
           [
            0.8888888888888888,
            "#b5de2b"
           ],
           [
            1,
            "#fde725"
           ]
          ],
          "size": 2
         },
         "mode": "lines+markers",
         "name": "198",
         "type": "scatter3d",
         "x": [
          0.268356,
          0.270391,
          0.273181,
          0.274606,
          0.277024,
          0.281129,
          0.28051299999999996,
          0.287989,
          0.283263,
          0.285505
         ],
         "y": [
          0.314045,
          0.30868900000000005,
          0.30406,
          0.298911,
          0.293422,
          0.287882,
          0.28272800000000003,
          0.276809,
          0.272109,
          0.26534800000000003
         ],
         "z": [
          0.13866399999999998,
          0.148818,
          0.161425,
          0.171244,
          0.181702,
          0.187938,
          0.2016,
          0.200815,
          0.219916,
          0.22259800000000002
         ]
        },
        {
         "marker": {
          "color": [
           0.01869255429308684,
           0.01989738932624075,
           0.018076558826281116,
           0.022650843825341264,
           0.02686578048373047,
           0.016739679357741583,
           0
          ],
          "colorbar": {
           "title": {
            "text": "Velocity Magnitude"
           }
          },
          "colorscale": [
           [
            0,
            "#440154"
           ],
           [
            0.1111111111111111,
            "#482878"
           ],
           [
            0.2222222222222222,
            "#3e4989"
           ],
           [
            0.3333333333333333,
            "#31688e"
           ],
           [
            0.4444444444444444,
            "#26828e"
           ],
           [
            0.5555555555555556,
            "#1f9e89"
           ],
           [
            0.6666666666666666,
            "#35b779"
           ],
           [
            0.7777777777777778,
            "#6ece58"
           ],
           [
            0.8888888888888888,
            "#b5de2b"
           ],
           [
            1,
            "#fde725"
           ]
          ],
          "size": 2
         },
         "mode": "lines+markers",
         "name": "5543",
         "type": "scatter3d",
         "x": [
          0.142094,
          0.158487,
          0.176036,
          0.192183,
          0.209464,
          0.22609800000000002,
          0.240887
         ],
         "y": [
          0.033455,
          0.038006,
          0.042276,
          0.047863,
          0.06216,
          0.056851,
          0.064081
         ],
         "z": [
          1.17083,
          1.163086,
          1.1547370000000001,
          1.148836,
          1.152002,
          1.1315840000000001,
          1.128546
         ]
        },
        {
         "marker": {
          "color": [
           0.013826599364992111,
           0.01684258964648844,
           0.01623820165535582,
           0.01693951728946252,
           0.018465615207731375,
           0.015087404084202184,
           0.015440376776490962,
           0
          ],
          "colorbar": {
           "title": {
            "text": "Velocity Magnitude"
           }
          },
          "colorscale": [
           [
            0,
            "#440154"
           ],
           [
            0.1111111111111111,
            "#482878"
           ],
           [
            0.2222222222222222,
            "#3e4989"
           ],
           [
            0.3333333333333333,
            "#31688e"
           ],
           [
            0.4444444444444444,
            "#26828e"
           ],
           [
            0.5555555555555556,
            "#1f9e89"
           ],
           [
            0.6666666666666666,
            "#35b779"
           ],
           [
            0.7777777777777778,
            "#6ece58"
           ],
           [
            0.8888888888888888,
            "#b5de2b"
           ],
           [
            1,
            "#fde725"
           ]
          ],
          "size": 2
         },
         "mode": "lines+markers",
         "name": "4151",
         "type": "scatter3d",
         "x": [
          0.4245,
          0.43757999999999997,
          0.452356,
          0.46819,
          0.484776,
          0.502864,
          0.517297,
          0.530178
         ],
         "y": [
          0.227446,
          0.229213,
          0.23705199999999998,
          0.239283,
          0.24185800000000002,
          0.241582,
          0.245834,
          0.252369
         ],
         "z": [
          0.925457,
          0.9295760000000001,
          0.931549,
          0.928723,
          0.926438,
          0.9227329999999999,
          0.92162,
          0.927077
         ]
        },
        {
         "marker": {
          "color": [
           0.009207089876828637,
           0.011239293483133154,
           0.010330975074986879,
           0.011904597347243646,
           0.010678752970267677,
           0.011046223155449984,
           0
          ],
          "colorbar": {
           "title": {
            "text": "Velocity Magnitude"
           }
          },
          "colorscale": [
           [
            0,
            "#440154"
           ],
           [
            0.1111111111111111,
            "#482878"
           ],
           [
            0.2222222222222222,
            "#3e4989"
           ],
           [
            0.3333333333333333,
            "#31688e"
           ],
           [
            0.4444444444444444,
            "#26828e"
           ],
           [
            0.5555555555555556,
            "#1f9e89"
           ],
           [
            0.6666666666666666,
            "#35b779"
           ],
           [
            0.7777777777777778,
            "#6ece58"
           ],
           [
            0.8888888888888888,
            "#b5de2b"
           ],
           [
            1,
            "#fde725"
           ]
          ],
          "size": 2
         },
         "mode": "lines+markers",
         "name": "6676",
         "type": "scatter3d",
         "x": [
          -0.032264,
          -0.037662,
          -0.041619,
          -0.045305,
          -0.047498,
          -0.050129,
          -0.05255
         ],
         "y": [
          0.771018,
          0.7662599999999999,
          0.7636470000000001,
          0.759832,
          0.756182,
          0.753334,
          0.749792
         ],
         "z": [
          0.225883,
          0.231627,
          0.241817,
          0.25068199999999996,
          0.261799,
          0.271749,
          0.281928
         ]
        },
        {
         "marker": {
          "color": [
           0.013882750555995754,
           0.010691539739438847,
           0.01513843736982118,
           0.011722601204510966,
           0.009060113189138332,
           0.014004826667974167,
           0.010509814936524774,
           0.01151651553205224,
           0.012150089464691198,
           0
          ],
          "colorbar": {
           "title": {
            "text": "Velocity Magnitude"
           }
          },
          "colorscale": [
           [
            0,
            "#440154"
           ],
           [
            0.1111111111111111,
            "#482878"
           ],
           [
            0.2222222222222222,
            "#3e4989"
           ],
           [
            0.3333333333333333,
            "#31688e"
           ],
           [
            0.4444444444444444,
            "#26828e"
           ],
           [
            0.5555555555555556,
            "#1f9e89"
           ],
           [
            0.6666666666666666,
            "#35b779"
           ],
           [
            0.7777777777777778,
            "#6ece58"
           ],
           [
            0.8888888888888888,
            "#b5de2b"
           ],
           [
            1,
            "#fde725"
           ]
          ],
          "size": 2
         },
         "mode": "lines+markers",
         "name": "296",
         "type": "scatter3d",
         "x": [
          0.090859,
          0.103196,
          0.112589,
          0.123178,
          0.133199,
          0.13998,
          0.15293500000000002,
          0.163231,
          0.174266,
          0.186209
         ],
         "y": [
          0.007913,
          0.013676,
          0.018119,
          0.023797000000000002,
          0.02638,
          0.028179,
          0.02972,
          0.030025,
          0.032557,
          0.034377000000000005
         ],
         "z": [
          0.7327899999999999,
          0.735495,
          0.738013,
          0.7472219999999999,
          0.7527290000000001,
          0.758462,
          0.75337,
          0.751283,
          0.7533920000000001,
          0.754687
         ]
        },
        {
         "marker": {
          "color": [
           0.029930848885389168,
           0.01864217138640243,
           0.00933981809244697,
           0.011361572470393294,
           0.038893228009513434,
           0.04665590515679649,
           0.03266019029338311,
           0.01779372195466704,
           0
          ],
          "colorbar": {
           "title": {
            "text": "Velocity Magnitude"
           }
          },
          "colorscale": [
           [
            0,
            "#440154"
           ],
           [
            0.1111111111111111,
            "#482878"
           ],
           [
            0.2222222222222222,
            "#3e4989"
           ],
           [
            0.3333333333333333,
            "#31688e"
           ],
           [
            0.4444444444444444,
            "#26828e"
           ],
           [
            0.5555555555555556,
            "#1f9e89"
           ],
           [
            0.6666666666666666,
            "#35b779"
           ],
           [
            0.7777777777777778,
            "#6ece58"
           ],
           [
            0.8888888888888888,
            "#b5de2b"
           ],
           [
            1,
            "#fde725"
           ]
          ],
          "size": 2
         },
         "mode": "lines+markers",
         "name": "3383",
         "type": "scatter3d",
         "x": [
          0.316214,
          0.333303,
          0.34883800000000004,
          0.356906,
          0.35587799999999997,
          0.382368,
          0.406009,
          0.43027499999999996,
          0.437771
         ],
         "y": [
          -0.07451,
          -0.051423,
          -0.042938000000000004,
          -0.038671,
          -0.034158,
          -0.007377,
          -0.016364,
          -0.019059,
          -0.0049039999999999995
         ],
         "z": [
          1.068419,
          1.076834,
          1.070986,
          1.069003,
          1.0793789999999999,
          1.0890609999999998,
          1.049855,
          1.028162,
          1.035912
         ]
        },
        {
         "marker": {
          "color": [
           0.005714061252734385,
           0.00608167723576313,
           0.0059134935528839284,
           0.005885372800426485,
           0.005925742991389425,
           0.006316442828048018,
           0.006271767454234994,
           0.006589264754128396,
           0.00877908486119147,
           0
          ],
          "colorbar": {
           "title": {
            "text": "Velocity Magnitude"
           }
          },
          "colorscale": [
           [
            0,
            "#440154"
           ],
           [
            0.1111111111111111,
            "#482878"
           ],
           [
            0.2222222222222222,
            "#3e4989"
           ],
           [
            0.3333333333333333,
            "#31688e"
           ],
           [
            0.4444444444444444,
            "#26828e"
           ],
           [
            0.5555555555555556,
            "#1f9e89"
           ],
           [
            0.6666666666666666,
            "#35b779"
           ],
           [
            0.7777777777777778,
            "#6ece58"
           ],
           [
            0.8888888888888888,
            "#b5de2b"
           ],
           [
            1,
            "#fde725"
           ]
          ],
          "size": 2
         },
         "mode": "lines+markers",
         "name": "50",
         "type": "scatter3d",
         "x": [
          0.586506,
          0.5895940000000001,
          0.591727,
          0.594701,
          0.597727,
          0.6007140000000001,
          0.603417,
          0.6056900000000001,
          0.6069349999999999,
          0.613042
         ],
         "y": [
          0.5246230000000001,
          0.527599,
          0.531702,
          0.535279,
          0.539063,
          0.543169,
          0.547894,
          0.5528970000000001,
          0.558373,
          0.563474
         ],
         "z": [
          0.024312999999999998,
          0.028089,
          0.032039,
          0.03569,
          0.039030999999999996,
          0.042086,
          0.04529,
          0.048313,
          0.05176,
          0.048051
         ]
        },
        {
         "marker": {
          "color": [
           0.018523379335315646,
           0.01834244250365816,
           0.012078042763626878,
           0.021535748234041,
           0.009569425583596932,
           0.042930126414908225,
           0.03900571027426621,
           0.008961930874538034,
           0.051193580613197766,
           0
          ],
          "colorbar": {
           "title": {
            "text": "Velocity Magnitude"
           }
          },
          "colorscale": [
           [
            0,
            "#440154"
           ],
           [
            0.1111111111111111,
            "#482878"
           ],
           [
            0.2222222222222222,
            "#3e4989"
           ],
           [
            0.3333333333333333,
            "#31688e"
           ],
           [
            0.4444444444444444,
            "#26828e"
           ],
           [
            0.5555555555555556,
            "#1f9e89"
           ],
           [
            0.6666666666666666,
            "#35b779"
           ],
           [
            0.7777777777777778,
            "#6ece58"
           ],
           [
            0.8888888888888888,
            "#b5de2b"
           ],
           [
            1,
            "#fde725"
           ]
          ],
          "size": 2
         },
         "mode": "lines+markers",
         "name": "268",
         "type": "scatter3d",
         "x": [
          -0.066161,
          -0.051183,
          -0.040972999999999996,
          -0.030431,
          -0.012243,
          -0.00315,
          0.032862,
          0.050903,
          0.053948,
          0.046414000000000004
         ],
         "y": [
          0.242709,
          0.246582,
          0.244066,
          0.246598,
          0.25172,
          0.253019,
          0.276386,
          0.28577800000000003,
          0.285664,
          0.26480000000000004
         ],
         "z": [
          1.09738,
          1.087193,
          1.072164,
          1.066841,
          1.056509,
          1.053825,
          1.0541639999999999,
          1.0874469999999998,
          1.079019,
          1.0328810000000002
         ]
        },
        {
         "marker": {
          "color": [
           0.014115415473871126,
           0.01864992603202481,
           0.024228877006580465,
           0.01354591809365466,
           0.020397004167279083,
           0.012809779311135742,
           0.017151395453431716,
           0.01951009428475415,
           0.01894953350349293,
           0
          ],
          "colorbar": {
           "title": {
            "text": "Velocity Magnitude"
           }
          },
          "colorscale": [
           [
            0,
            "#440154"
           ],
           [
            0.1111111111111111,
            "#482878"
           ],
           [
            0.2222222222222222,
            "#3e4989"
           ],
           [
            0.3333333333333333,
            "#31688e"
           ],
           [
            0.4444444444444444,
            "#26828e"
           ],
           [
            0.5555555555555556,
            "#1f9e89"
           ],
           [
            0.6666666666666666,
            "#35b779"
           ],
           [
            0.7777777777777778,
            "#6ece58"
           ],
           [
            0.8888888888888888,
            "#b5de2b"
           ],
           [
            1,
            "#fde725"
           ]
          ],
          "size": 2
         },
         "mode": "lines+markers",
         "name": "80",
         "type": "scatter3d",
         "x": [
          -0.167432,
          -0.154701,
          -0.138882,
          -0.123242,
          -0.111459,
          -0.09492400000000001,
          -0.08318500000000001,
          -0.068966,
          -0.055668999999999996,
          -0.040167
         ],
         "y": [
          0.025226,
          0.024458999999999998,
          0.024395,
          0.018803999999999998,
          0.017442,
          0.016827,
          0.016273,
          0.015115,
          0.009994,
          0.00869
         ],
         "z": [
          1.32298,
          1.316932,
          1.3070540000000002,
          1.289414,
          1.282872,
          1.270945,
          1.2658479999999999,
          1.256327,
          1.243,
          1.23218
         ]
        },
        {
         "marker": {
          "color": [
           0.06882981003170068,
           0.05583954608518944,
           0.09735907641817479,
           0.12305347554213986,
           0.12560372937934602,
           0.11724381839568343,
           0
          ],
          "colorbar": {
           "title": {
            "text": "Velocity Magnitude"
           }
          },
          "colorscale": [
           [
            0,
            "#440154"
           ],
           [
            0.1111111111111111,
            "#482878"
           ],
           [
            0.2222222222222222,
            "#3e4989"
           ],
           [
            0.3333333333333333,
            "#31688e"
           ],
           [
            0.4444444444444444,
            "#26828e"
           ],
           [
            0.5555555555555556,
            "#1f9e89"
           ],
           [
            0.6666666666666666,
            "#35b779"
           ],
           [
            0.7777777777777778,
            "#6ece58"
           ],
           [
            0.8888888888888888,
            "#b5de2b"
           ],
           [
            1,
            "#fde725"
           ]
          ],
          "size": 2
         },
         "mode": "lines+markers",
         "name": "6486",
         "type": "scatter3d",
         "x": [
          0.420557,
          0.38716199999999995,
          0.332177,
          0.243126,
          0.137755,
          0.019289999999999998,
          -0.089272
         ],
         "y": [
          0.871297,
          0.860827,
          0.851096,
          0.841858,
          0.827587,
          0.792427,
          0.748789
         ],
         "z": [
          0.669086,
          0.609818,
          0.609707,
          0.647961,
          0.7098920000000001,
          0.732389,
          0.724897
         ]
        },
        {
         "marker": {
          "color": [
           0.00208572888938138,
           0.002545791232603307,
           0.0031947153237808497,
           0.013253421030058643,
           0.012763244297591495,
           0.005324008264456356,
           0
          ],
          "colorbar": {
           "title": {
            "text": "Velocity Magnitude"
           }
          },
          "colorscale": [
           [
            0,
            "#440154"
           ],
           [
            0.1111111111111111,
            "#482878"
           ],
           [
            0.2222222222222222,
            "#3e4989"
           ],
           [
            0.3333333333333333,
            "#31688e"
           ],
           [
            0.4444444444444444,
            "#26828e"
           ],
           [
            0.5555555555555556,
            "#1f9e89"
           ],
           [
            0.6666666666666666,
            "#35b779"
           ],
           [
            0.7777777777777778,
            "#6ece58"
           ],
           [
            0.8888888888888888,
            "#b5de2b"
           ],
           [
            1,
            "#fde725"
           ]
          ],
          "size": 2
         },
         "mode": "lines+markers",
         "name": "5550",
         "type": "scatter3d",
         "x": [
          0.08214199999999999,
          0.08337900000000001,
          0.08456,
          0.08589400000000001,
          0.09055200000000001,
          0.08784399999999999,
          0.08778799999999999
         ],
         "y": [
          0.13336699999999999,
          0.131927,
          0.129673,
          0.126818,
          0.119792,
          0.118977,
          0.11499899999999999
         ],
         "z": [
          0.382344,
          0.38320800000000005,
          0.383284,
          0.383809,
          0.37358199999999997,
          0.38602800000000004,
          0.38956599999999997
         ]
        },
        {
         "marker": {
          "color": [
           0.024930766153489946,
           0.028446660366376917,
           0.03385564551149483,
           0.015611972905433775,
           0.03247298677362459,
           0.02619435673957276,
           0.018219159448229275,
           0
          ],
          "colorbar": {
           "title": {
            "text": "Velocity Magnitude"
           }
          },
          "colorscale": [
           [
            0,
            "#440154"
           ],
           [
            0.1111111111111111,
            "#482878"
           ],
           [
            0.2222222222222222,
            "#3e4989"
           ],
           [
            0.3333333333333333,
            "#31688e"
           ],
           [
            0.4444444444444444,
            "#26828e"
           ],
           [
            0.5555555555555556,
            "#1f9e89"
           ],
           [
            0.6666666666666666,
            "#35b779"
           ],
           [
            0.7777777777777778,
            "#6ece58"
           ],
           [
            0.8888888888888888,
            "#b5de2b"
           ],
           [
            1,
            "#fde725"
           ]
          ],
          "size": 2
         },
         "mode": "lines+markers",
         "name": "4736",
         "type": "scatter3d",
         "x": [
          0.589245,
          0.569994,
          0.5548630000000001,
          0.5330090000000001,
          0.5216660000000001,
          0.524424,
          0.526655,
          0.52003
         ],
         "y": [
          0.921883,
          0.912633,
          0.919011,
          0.931947,
          0.9275399999999999,
          0.920299,
          0.923159,
          0.919574
         ],
         "z": [
          0.702264,
          0.715124,
          0.6918949999999999,
          0.6695059999999999,
          0.659726,
          0.628191,
          0.602249,
          0.58566
         ]
        },
        {
         "marker": {
          "color": [
           0.06992051307019986,
           0.014732739222561403,
           0.015626639721962064,
           0.01373063206848092,
           0.010793531488813226,
           0.01473140091776744,
           0.011415732521393463,
           0
          ],
          "colorbar": {
           "title": {
            "text": "Velocity Magnitude"
           }
          },
          "colorscale": [
           [
            0,
            "#440154"
           ],
           [
            0.1111111111111111,
            "#482878"
           ],
           [
            0.2222222222222222,
            "#3e4989"
           ],
           [
            0.3333333333333333,
            "#31688e"
           ],
           [
            0.4444444444444444,
            "#26828e"
           ],
           [
            0.5555555555555556,
            "#1f9e89"
           ],
           [
            0.6666666666666666,
            "#35b779"
           ],
           [
            0.7777777777777778,
            "#6ece58"
           ],
           [
            0.8888888888888888,
            "#b5de2b"
           ],
           [
            1,
            "#fde725"
           ]
          ],
          "size": 2
         },
         "mode": "lines+markers",
         "name": "5206",
         "type": "scatter3d",
         "x": [
          0.27282999999999996,
          0.31564,
          0.303241,
          0.308423,
          0.318298,
          0.326173,
          0.334736,
          0.340026
         ],
         "y": [
          0.072589,
          0.067721,
          0.068011,
          0.06701900000000001,
          0.067725,
          0.065849,
          0.055651000000000006,
          0.045583
         ],
         "z": [
          1.380377,
          1.4354449999999999,
          1.427493,
          1.442202,
          1.4517159999999998,
          1.458855,
          1.465155,
          1.46614
         ]
        },
        {
         "marker": {
          "color": [
           0.014330536277473988,
           0.005339230749836519,
           0.00536662184246291,
           0.027761271620730988,
           0.06998313223198861,
           0.11678925472833532,
           0.02336753696905182,
           0.012836876138687298,
           0.009102254061495101,
           0
          ],
          "colorbar": {
           "title": {
            "text": "Velocity Magnitude"
           }
          },
          "colorscale": [
           [
            0,
            "#440154"
           ],
           [
            0.1111111111111111,
            "#482878"
           ],
           [
            0.2222222222222222,
            "#3e4989"
           ],
           [
            0.3333333333333333,
            "#31688e"
           ],
           [
            0.4444444444444444,
            "#26828e"
           ],
           [
            0.5555555555555556,
            "#1f9e89"
           ],
           [
            0.6666666666666666,
            "#35b779"
           ],
           [
            0.7777777777777778,
            "#6ece58"
           ],
           [
            0.8888888888888888,
            "#b5de2b"
           ],
           [
            1,
            "#fde725"
           ]
          ],
          "size": 2
         },
         "mode": "lines+markers",
         "name": "101",
         "type": "scatter3d",
         "x": [
          1.084793,
          1.0967719999999999,
          1.1012039999999998,
          1.1052739999999999,
          1.122614,
          1.103008,
          1.035828,
          1.027912,
          1.039764,
          1.0457260000000002
         ],
         "y": [
          0.136069,
          0.137799,
          0.140724,
          0.138403,
          0.15997399999999998,
          0.19275499999999998,
          0.242177,
          0.261315,
          0.262189,
          0.26660500000000004
         ],
         "z": [
          0.9028999999999999,
          0.895227,
          0.894671,
          0.892054,
          0.894223,
          0.952863,
          1.034619,
          1.045441,
          1.040588,
          1.035315
         ]
        },
        {
         "marker": {
          "color": [
           0.012948842959894069,
           0.00920965525956317,
           0.020425181051829194,
           0.012746616923717495,
           0.019791941541950953,
           0.01500057348903686,
           0.04455835703883149,
           0.003283356971150135,
           0
          ],
          "colorbar": {
           "title": {
            "text": "Velocity Magnitude"
           }
          },
          "colorscale": [
           [
            0,
            "#440154"
           ],
           [
            0.1111111111111111,
            "#482878"
           ],
           [
            0.2222222222222222,
            "#3e4989"
           ],
           [
            0.3333333333333333,
            "#31688e"
           ],
           [
            0.4444444444444444,
            "#26828e"
           ],
           [
            0.5555555555555556,
            "#1f9e89"
           ],
           [
            0.6666666666666666,
            "#35b779"
           ],
           [
            0.7777777777777778,
            "#6ece58"
           ],
           [
            0.8888888888888888,
            "#b5de2b"
           ],
           [
            1,
            "#fde725"
           ]
          ],
          "size": 2
         },
         "mode": "lines+markers",
         "name": "2829",
         "type": "scatter3d",
         "x": [
          0.39561799999999997,
          0.402951,
          0.411066,
          0.425604,
          0.436879,
          0.452044,
          0.46181900000000004,
          0.472,
          0.475248
         ],
         "y": [
          0.184815,
          0.187732,
          0.18338200000000002,
          0.171711,
          0.166034,
          0.16794800000000001,
          0.17238399999999998,
          0.159799,
          0.159319
         ],
         "z": [
          1.477517,
          1.4877829999999999,
          1.487578,
          1.479234,
          1.481001,
          1.4935740000000002,
          1.504052,
          1.4625380000000001,
          1.462561
         ]
        },
        {
         "marker": {
          "color": [
           0.02750069324580761,
           0.013020372460110438,
           0.002819967375697783,
           0.06249380958142972,
           0.03452734106472727,
           0.051034897050939595,
           0
          ],
          "colorbar": {
           "title": {
            "text": "Velocity Magnitude"
           }
          },
          "colorscale": [
           [
            0,
            "#440154"
           ],
           [
            0.1111111111111111,
            "#482878"
           ],
           [
            0.2222222222222222,
            "#3e4989"
           ],
           [
            0.3333333333333333,
            "#31688e"
           ],
           [
            0.4444444444444444,
            "#26828e"
           ],
           [
            0.5555555555555556,
            "#1f9e89"
           ],
           [
            0.6666666666666666,
            "#35b779"
           ],
           [
            0.7777777777777778,
            "#6ece58"
           ],
           [
            0.8888888888888888,
            "#b5de2b"
           ],
           [
            1,
            "#fde725"
           ]
          ],
          "size": 2
         },
         "mode": "lines+markers",
         "name": "6065",
         "type": "scatter3d",
         "x": [
          -0.38580000000000003,
          -0.388301,
          -0.39461799999999997,
          -0.3946,
          -0.406178,
          -0.410214,
          -0.403555
         ],
         "y": [
          0.7937000000000001,
          0.7809579999999999,
          0.786755,
          0.783969,
          0.808375,
          0.842587,
          0.893131
         ],
         "z": [
          0.9808429999999999,
          1.005085,
          1.0148840000000001,
          1.014448,
          0.958094,
          0.955773,
          0.953423
         ]
        },
        {
         "marker": {
          "color": [
           0.08636678362657721,
           0.07418703857817749,
           0.0061781183219488355,
           0.00700126809942316,
           0.007671016099578961,
           0.0075993474061922155,
           0.05851657674539754,
           0
          ],
          "colorbar": {
           "title": {
            "text": "Velocity Magnitude"
           }
          },
          "colorscale": [
           [
            0,
            "#440154"
           ],
           [
            0.1111111111111111,
            "#482878"
           ],
           [
            0.2222222222222222,
            "#3e4989"
           ],
           [
            0.3333333333333333,
            "#31688e"
           ],
           [
            0.4444444444444444,
            "#26828e"
           ],
           [
            0.5555555555555556,
            "#1f9e89"
           ],
           [
            0.6666666666666666,
            "#35b779"
           ],
           [
            0.7777777777777778,
            "#6ece58"
           ],
           [
            0.8888888888888888,
            "#b5de2b"
           ],
           [
            1,
            "#fde725"
           ]
          ],
          "size": 2
         },
         "mode": "lines+markers",
         "name": "5405",
         "type": "scatter3d",
         "x": [
          -0.040057,
          -0.01739,
          -0.009260999999999998,
          -0.007413,
          -0.00508,
          -0.002382,
          0.00025,
          0.021695
         ],
         "y": [
          0.5368569999999999,
          0.550102,
          0.573896,
          0.5746169999999999,
          0.5753959999999999,
          0.576266,
          0.577827,
          0.575604
         ],
         "z": [
          0.263799,
          0.346079,
          0.415875,
          0.421726,
          0.428281,
          0.435409,
          0.442365,
          0.496765
         ]
        },
        {
         "marker": {
          "color": [
           0.011726592557090148,
           0.013225470048357352,
           0.012147712377233912,
           0.024158966078870064,
           0.009933434501721888,
           0.012735218726037077,
           0.008666279132361029,
           0.03309044763976455,
           0.07134512318301796,
           0
          ],
          "colorbar": {
           "title": {
            "text": "Velocity Magnitude"
           }
          },
          "colorscale": [
           [
            0,
            "#440154"
           ],
           [
            0.1111111111111111,
            "#482878"
           ],
           [
            0.2222222222222222,
            "#3e4989"
           ],
           [
            0.3333333333333333,
            "#31688e"
           ],
           [
            0.4444444444444444,
            "#26828e"
           ],
           [
            0.5555555555555556,
            "#1f9e89"
           ],
           [
            0.6666666666666666,
            "#35b779"
           ],
           [
            0.7777777777777778,
            "#6ece58"
           ],
           [
            0.8888888888888888,
            "#b5de2b"
           ],
           [
            1,
            "#fde725"
           ]
          ],
          "size": 2
         },
         "mode": "lines+markers",
         "name": "236",
         "type": "scatter3d",
         "x": [
          1.159585,
          1.169526,
          1.18153,
          1.1898360000000001,
          1.208483,
          1.216969,
          1.228093,
          1.2364249999999999,
          1.2331050000000001,
          1.2477660000000002
         ],
         "y": [
          0.10466500000000001,
          0.10337099999999999,
          0.104482,
          0.10015399999999999,
          0.09631100000000001,
          0.09480200000000001,
          0.093926,
          0.096189,
          0.081778,
          0.038912999999999996
         ],
         "z": [
          1.0488140000000001,
          1.04273,
          1.037291,
          1.029555,
          1.014683,
          1.0097450000000001,
          1.003607,
          1.002858,
          0.973256,
          0.91814
         ]
        },
        {
         "marker": {
          "color": [
           0.008608572994405051,
           0.008986946422450718,
           0.011365545521443317,
           0.009720967698742752,
           0.012347272532830864,
           0.01022125344563962,
           0.00854797285910525,
           0.020453869707221652,
           0.029700672820661817,
           0
          ],
          "colorbar": {
           "title": {
            "text": "Velocity Magnitude"
           }
          },
          "colorscale": [
           [
            0,
            "#440154"
           ],
           [
            0.1111111111111111,
            "#482878"
           ],
           [
            0.2222222222222222,
            "#3e4989"
           ],
           [
            0.3333333333333333,
            "#31688e"
           ],
           [
            0.4444444444444444,
            "#26828e"
           ],
           [
            0.5555555555555556,
            "#1f9e89"
           ],
           [
            0.6666666666666666,
            "#35b779"
           ],
           [
            0.7777777777777778,
            "#6ece58"
           ],
           [
            0.8888888888888888,
            "#b5de2b"
           ],
           [
            1,
            "#fde725"
           ]
          ],
          "size": 2
         },
         "mode": "lines+markers",
         "name": "580",
         "type": "scatter3d",
         "x": [
          0.448698,
          0.451593,
          0.457627,
          0.45929000000000003,
          0.4626,
          0.461735,
          0.463738,
          0.46637799999999996,
          0.461677,
          0.464931
         ],
         "y": [
          0.197815,
          0.192365,
          0.185708,
          0.181778,
          0.17776499999999998,
          0.17219,
          0.167752,
          0.16136,
          0.165584,
          0.155199
         ],
         "z": [
          0.11736400000000001,
          0.123366,
          0.12316500000000001,
          0.133699,
          0.141911,
          0.152894,
          0.161881,
          0.166905,
          0.186358,
          0.213993
         ]
        },
        {
         "marker": {
          "color": [
           0.009379437189938406,
           0.04350899184076775,
           0.022745006902615002,
           0.05075064446881441,
           0.07346260964599606,
           0.01651118075729294,
           0
          ],
          "colorbar": {
           "title": {
            "text": "Velocity Magnitude"
           }
          },
          "colorscale": [
           [
            0,
            "#440154"
           ],
           [
            0.1111111111111111,
            "#482878"
           ],
           [
            0.2222222222222222,
            "#3e4989"
           ],
           [
            0.3333333333333333,
            "#31688e"
           ],
           [
            0.4444444444444444,
            "#26828e"
           ],
           [
            0.5555555555555556,
            "#1f9e89"
           ],
           [
            0.6666666666666666,
            "#35b779"
           ],
           [
            0.7777777777777778,
            "#6ece58"
           ],
           [
            0.8888888888888888,
            "#b5de2b"
           ],
           [
            1,
            "#fde725"
           ]
          ],
          "size": 2
         },
         "mode": "lines+markers",
         "name": "6126",
         "type": "scatter3d",
         "x": [
          0.28523000000000004,
          0.294271,
          0.300336,
          0.30138099999999995,
          0.26403,
          0.227334,
          0.242761
         ],
         "y": [
          -0.112233,
          -0.110477,
          -0.089732,
          -0.076707,
          -0.084755,
          -0.114241,
          -0.11868600000000001
         ],
         "z": [
          1.083003,
          1.084778,
          1.122539,
          1.141156,
          1.107753,
          1.051355,
          1.047499
         ]
        },
        {
         "marker": {
          "color": [
           0.04717095265096943,
           0.0628512517775104,
           0.10147626366791397,
           0.12369986437340987,
           0.13266452410874585,
           0.12912878082751347,
           0
          ],
          "colorbar": {
           "title": {
            "text": "Velocity Magnitude"
           }
          },
          "colorscale": [
           [
            0,
            "#440154"
           ],
           [
            0.1111111111111111,
            "#482878"
           ],
           [
            0.2222222222222222,
            "#3e4989"
           ],
           [
            0.3333333333333333,
            "#31688e"
           ],
           [
            0.4444444444444444,
            "#26828e"
           ],
           [
            0.5555555555555556,
            "#1f9e89"
           ],
           [
            0.6666666666666666,
            "#35b779"
           ],
           [
            0.7777777777777778,
            "#6ece58"
           ],
           [
            0.8888888888888888,
            "#b5de2b"
           ],
           [
            1,
            "#fde725"
           ]
          ],
          "size": 2
         },
         "mode": "lines+markers",
         "name": "6765",
         "type": "scatter3d",
         "x": [
          -0.08726,
          -0.061517,
          -0.017052,
          0.07734999999999999,
          0.188216,
          0.30019,
          0.411937
         ],
         "y": [
          0.109486,
          0.12066299999999999,
          0.14724700000000002,
          0.178267,
          0.228298,
          0.292257,
          0.339422
         ],
         "z": [
          1.428454,
          1.466368,
          1.501955,
          1.481377,
          1.458854,
          1.427694,
          1.3833959999999998
         ]
        },
        {
         "marker": {
          "color": [
           0.028321607899269987,
           0.009797671407023178,
           0.009618536739026374,
           0.004918355111213567,
           0.008496260412675701,
           0.00846548397907639,
           0.05847213182363036,
           0
          ],
          "colorbar": {
           "title": {
            "text": "Velocity Magnitude"
           }
          },
          "colorscale": [
           [
            0,
            "#440154"
           ],
           [
            0.1111111111111111,
            "#482878"
           ],
           [
            0.2222222222222222,
            "#3e4989"
           ],
           [
            0.3333333333333333,
            "#31688e"
           ],
           [
            0.4444444444444444,
            "#26828e"
           ],
           [
            0.5555555555555556,
            "#1f9e89"
           ],
           [
            0.6666666666666666,
            "#35b779"
           ],
           [
            0.7777777777777778,
            "#6ece58"
           ],
           [
            0.8888888888888888,
            "#b5de2b"
           ],
           [
            1,
            "#fde725"
           ]
          ],
          "size": 2
         },
         "mode": "lines+markers",
         "name": "4565",
         "type": "scatter3d",
         "x": [
          1.148019,
          1.120967,
          1.121586,
          1.1222180000000002,
          1.120509,
          1.122605,
          1.124572,
          1.134888
         ],
         "y": [
          0.446488,
          0.452315,
          0.459017,
          0.466086,
          0.469626,
          0.477029,
          0.48464999999999997,
          0.503588
         ],
         "z": [
          0.17213599999999998,
          0.166107,
          0.173227,
          0.179719,
          0.182675,
          0.186279,
          0.18939599999999998,
          0.24374600000000002
         ]
        },
        {
         "marker": {
          "color": [
           0.044993417407438605,
           0.030612705924174546,
           0.055083387332298325,
           0.015210922194265687,
           0.018118026217002748,
           0.022722763498306882,
           0
          ],
          "colorbar": {
           "title": {
            "text": "Velocity Magnitude"
           }
          },
          "colorscale": [
           [
            0,
            "#440154"
           ],
           [
            0.1111111111111111,
            "#482878"
           ],
           [
            0.2222222222222222,
            "#3e4989"
           ],
           [
            0.3333333333333333,
            "#31688e"
           ],
           [
            0.4444444444444444,
            "#26828e"
           ],
           [
            0.5555555555555556,
            "#1f9e89"
           ],
           [
            0.6666666666666666,
            "#35b779"
           ],
           [
            0.7777777777777778,
            "#6ece58"
           ],
           [
            0.8888888888888888,
            "#b5de2b"
           ],
           [
            1,
            "#fde725"
           ]
          ],
          "size": 2
         },
         "mode": "lines+markers",
         "name": "6737",
         "type": "scatter3d",
         "x": [
          0.470206,
          0.48692599999999997,
          0.5065299999999999,
          0.5380839999999999,
          0.5511670000000001,
          0.56724,
          0.5641900000000001
         ],
         "y": [
          -0.187674,
          -0.14610499999999998,
          -0.134877,
          -0.139507,
          -0.131748,
          -0.138095,
          -0.14054
         ],
         "z": [
          1.4104590000000001,
          1.414566,
          1.4352239999999998,
          1.480136,
          1.480064,
          1.4746199999999998,
          1.452236
         ]
        },
        {
         "marker": {
          "color": [
           0.017457209885889623,
           0.022995281015895618,
           0.019926101751220553,
           0.017511137513023006,
           0.02491843901611813,
           0.018682169734803397,
           0.03825018006493555,
           0
          ],
          "colorbar": {
           "title": {
            "text": "Velocity Magnitude"
           }
          },
          "colorscale": [
           [
            0,
            "#440154"
           ],
           [
            0.1111111111111111,
            "#482878"
           ],
           [
            0.2222222222222222,
            "#3e4989"
           ],
           [
            0.3333333333333333,
            "#31688e"
           ],
           [
            0.4444444444444444,
            "#26828e"
           ],
           [
            0.5555555555555556,
            "#1f9e89"
           ],
           [
            0.6666666666666666,
            "#35b779"
           ],
           [
            0.7777777777777778,
            "#6ece58"
           ],
           [
            0.8888888888888888,
            "#b5de2b"
           ],
           [
            1,
            "#fde725"
           ]
          ],
          "size": 2
         },
         "mode": "lines+markers",
         "name": "5199",
         "type": "scatter3d",
         "x": [
          0.596348,
          0.613044,
          0.6291570000000001,
          0.644092,
          0.6601090000000001,
          0.678928,
          0.6965800000000001,
          0.723885
         ],
         "y": [
          -0.050368,
          -0.048263,
          -0.052709000000000006,
          -0.056124,
          -0.051832,
          -0.057883000000000004,
          -0.055372,
          -0.034377000000000005
         ],
         "z": [
          1.4974690000000002,
          1.492825,
          1.4770329999999998,
          1.464292,
          1.458664,
          1.443493,
          1.437914,
          1.4545489999999999
         ]
        },
        {
         "marker": {
          "color": [
           0.017238370949715656,
           0.022887253985570146,
           0.01461207066092963,
           0.02071711275733179,
           0.037408267161150276,
           0.07645271005660934,
           0
          ],
          "colorbar": {
           "title": {
            "text": "Velocity Magnitude"
           }
          },
          "colorscale": [
           [
            0,
            "#440154"
           ],
           [
            0.1111111111111111,
            "#482878"
           ],
           [
            0.2222222222222222,
            "#3e4989"
           ],
           [
            0.3333333333333333,
            "#31688e"
           ],
           [
            0.4444444444444444,
            "#26828e"
           ],
           [
            0.5555555555555556,
            "#1f9e89"
           ],
           [
            0.6666666666666666,
            "#35b779"
           ],
           [
            0.7777777777777778,
            "#6ece58"
           ],
           [
            0.8888888888888888,
            "#b5de2b"
           ],
           [
            1,
            "#fde725"
           ]
          ],
          "size": 2
         },
         "mode": "lines+markers",
         "name": "5657",
         "type": "scatter3d",
         "x": [
          -0.02145,
          -0.006259000000000001,
          0.012746,
          0.026170000000000002,
          0.044437,
          0.032354999999999995,
          0.01865
         ],
         "y": [
          0.130501,
          0.138095,
          0.143176,
          0.148249,
          0.157425,
          0.159673,
          0.167566
         ],
         "z": [
          1.258852,
          1.255898,
          1.2442010000000001,
          1.241449,
          1.238085,
          1.273417,
          1.3482159999999999
         ]
        },
        {
         "marker": {
          "color": [
           0.008344922408267166,
           0.009236125648777146,
           0.013505059385282238,
           0.00933965052879393,
           0.010210045935254108,
           0.05284065632635536,
           0.01963233806758635,
           0.046098635131639185,
           0.0026637421046339965,
           0
          ],
          "colorbar": {
           "title": {
            "text": "Velocity Magnitude"
           }
          },
          "colorscale": [
           [
            0,
            "#440154"
           ],
           [
            0.1111111111111111,
            "#482878"
           ],
           [
            0.2222222222222222,
            "#3e4989"
           ],
           [
            0.3333333333333333,
            "#31688e"
           ],
           [
            0.4444444444444444,
            "#26828e"
           ],
           [
            0.5555555555555556,
            "#1f9e89"
           ],
           [
            0.6666666666666666,
            "#35b779"
           ],
           [
            0.7777777777777778,
            "#6ece58"
           ],
           [
            0.8888888888888888,
            "#b5de2b"
           ],
           [
            1,
            "#fde725"
           ]
          ],
          "size": 2
         },
         "mode": "lines+markers",
         "name": "44",
         "type": "scatter3d",
         "x": [
          0.6418440000000001,
          0.649553,
          0.657628,
          0.664558,
          0.672486,
          0.681781,
          0.6772250000000001,
          0.6748200000000001,
          0.6809109999999999,
          0.680538
         ],
         "y": [
          0.000164,
          0.0032389999999999997,
          0.006373,
          0.010621,
          0.015289,
          0.017772,
          0.025748999999999998,
          0.034612000000000004,
          0.07623,
          0.074593
         ],
         "z": [
          -0.018044,
          -0.017175999999999997,
          -0.01397,
          -0.003185,
          -0.001577,
          -0.004995,
          -0.057031,
          -0.039679,
          -0.020812999999999998,
          -0.018745
         ]
        },
        {
         "marker": {
          "color": [
           0.015317253180645692,
           0.008715402515087851,
           0.011314863366386705,
           0.010962089262544794,
           0.010933195370064524,
           0.010855002210962457,
           0.010715628306357012,
           0.010651176648614973,
           0.01195056563514881,
           0.007433030673957985,
           0
          ],
          "colorbar": {
           "title": {
            "text": "Velocity Magnitude"
           }
          },
          "colorscale": [
           [
            0,
            "#440154"
           ],
           [
            0.1111111111111111,
            "#482878"
           ],
           [
            0.2222222222222222,
            "#3e4989"
           ],
           [
            0.3333333333333333,
            "#31688e"
           ],
           [
            0.4444444444444444,
            "#26828e"
           ],
           [
            0.5555555555555556,
            "#1f9e89"
           ],
           [
            0.6666666666666666,
            "#35b779"
           ],
           [
            0.7777777777777778,
            "#6ece58"
           ],
           [
            0.8888888888888888,
            "#b5de2b"
           ],
           [
            1,
            "#fde725"
           ]
          ],
          "size": 2
         },
         "mode": "lines+markers",
         "name": "3",
         "type": "scatter3d",
         "x": [
          0.46414,
          0.46750400000000003,
          0.470556,
          0.47340499999999996,
          0.47638600000000003,
          0.47906,
          0.48173,
          0.48423,
          0.48667200000000005,
          0.489199,
          0.493933
         ],
         "y": [
          0.341749,
          0.33916399999999997,
          0.33338799999999996,
          0.329632,
          0.32570800000000005,
          0.321901,
          0.318319,
          0.314798,
          0.31135199999999996,
          0.308849,
          0.30386599999999997
         ],
         "z": [
          0.01731,
          0.032028,
          0.037797,
          0.048083,
          0.057875,
          0.06776900000000001,
          0.07766200000000001,
          0.08746899999999999,
          0.097247,
          0.108656,
          0.111486
         ]
        },
        {
         "marker": {
          "color": [
           0.014174641900238602,
           0.014867207706896418,
           0.015035215395863145,
           0.014576987445971147,
           0.015310833190914228,
           0.014362485300253518,
           0.01405142345102444,
           0.013716012066194794,
           0.013197666687714143,
           0.011142539252791543,
           0
          ],
          "colorbar": {
           "title": {
            "text": "Velocity Magnitude"
           }
          },
          "colorscale": [
           [
            0,
            "#440154"
           ],
           [
            0.1111111111111111,
            "#482878"
           ],
           [
            0.2222222222222222,
            "#3e4989"
           ],
           [
            0.3333333333333333,
            "#31688e"
           ],
           [
            0.4444444444444444,
            "#26828e"
           ],
           [
            0.5555555555555556,
            "#1f9e89"
           ],
           [
            0.6666666666666666,
            "#35b779"
           ],
           [
            0.7777777777777778,
            "#6ece58"
           ],
           [
            0.8888888888888888,
            "#b5de2b"
           ],
           [
            1,
            "#fde725"
           ]
          ],
          "size": 2
         },
         "mode": "lines+markers",
         "name": "0",
         "type": "scatter3d",
         "x": [
          0.24379499999999998,
          0.243724,
          0.245754,
          0.248475,
          0.252166,
          0.255419,
          0.258447,
          0.260243,
          0.26081400000000005,
          0.261093,
          0.262757
         ],
         "y": [
          0.427379,
          0.413673,
          0.403384,
          0.39199,
          0.380229,
          0.36888099999999996,
          0.357675,
          0.347108,
          0.337169,
          0.327943,
          0.319061
         ],
         "z": [
          0.096025,
          0.09963899999999999,
          0.11017700000000001,
          0.119602,
          0.127383,
          0.137133,
          0.145591,
          0.15467699999999998,
          0.164112,
          0.17354499999999998,
          0.180064
         ]
        },
        {
         "marker": {
          "color": [
           0.00593124700210671,
           0.005926559457223066,
           0.006037425941574766,
           0.006402481159675536,
           0.006623084855261928,
           0.006706744143024979,
           0.007347249689509688,
           0.007512732525519596,
           0.00828262893047855,
           0.008227549817533741,
           0
          ],
          "colorbar": {
           "title": {
            "text": "Velocity Magnitude"
           }
          },
          "colorscale": [
           [
            0,
            "#440154"
           ],
           [
            0.1111111111111111,
            "#482878"
           ],
           [
            0.2222222222222222,
            "#3e4989"
           ],
           [
            0.3333333333333333,
            "#31688e"
           ],
           [
            0.4444444444444444,
            "#26828e"
           ],
           [
            0.5555555555555556,
            "#1f9e89"
           ],
           [
            0.6666666666666666,
            "#35b779"
           ],
           [
            0.7777777777777778,
            "#6ece58"
           ],
           [
            0.8888888888888888,
            "#b5de2b"
           ],
           [
            1,
            "#fde725"
           ]
          ],
          "size": 2
         },
         "mode": "lines+markers",
         "name": "61",
         "type": "scatter3d",
         "x": [
          0.137276,
          0.139753,
          0.142466,
          0.14536600000000002,
          0.14856,
          0.152008,
          0.155779,
          0.15959,
          0.164041,
          0.166075,
          0.172679
         ],
         "y": [
          0.314454,
          0.312165,
          0.309462,
          0.30620600000000003,
          0.302666,
          0.298651,
          0.294277,
          0.289883,
          0.285508,
          0.27913299999999996,
          0.274409
         ],
         "z": [
          0.042733,
          0.047612,
          0.052135,
          0.056311,
          0.060584000000000006,
          0.064566,
          0.067976,
          0.072465,
          0.076647,
          0.081528,
          0.082856
         ]
        },
        {
         "marker": {
          "color": [
           0.014016880787108109,
           0.016348462343596777,
           0.01740722864214742,
           0.01829625581915609,
           0.014984329314320371,
           0.0169539004951662,
           0
          ],
          "colorbar": {
           "title": {
            "text": "Velocity Magnitude"
           }
          },
          "colorscale": [
           [
            0,
            "#440154"
           ],
           [
            0.1111111111111111,
            "#482878"
           ],
           [
            0.2222222222222222,
            "#3e4989"
           ],
           [
            0.3333333333333333,
            "#31688e"
           ],
           [
            0.4444444444444444,
            "#26828e"
           ],
           [
            0.5555555555555556,
            "#1f9e89"
           ],
           [
            0.6666666666666666,
            "#35b779"
           ],
           [
            0.7777777777777778,
            "#6ece58"
           ],
           [
            0.8888888888888888,
            "#b5de2b"
           ],
           [
            1,
            "#fde725"
           ]
          ],
          "size": 2
         },
         "mode": "lines+markers",
         "name": "6974",
         "type": "scatter3d",
         "x": [
          0.929789,
          0.93713,
          0.9495030000000001,
          0.960356,
          0.9727910000000001,
          0.983226,
          0.991655
         ],
         "y": [
          0.834643,
          0.846264,
          0.85629,
          0.869706,
          0.88312,
          0.8938400000000001,
          0.907814
         ],
         "z": [
          0.987756,
          0.990501,
          0.9868049999999999,
          0.989093,
          0.989527,
          0.988677,
          0.993272
         ]
        },
        {
         "marker": {
          "color": [
           0.0077485478639548674,
           0.007559769110230825,
           0.006211777362397997,
           0.009648917866786946,
           0.0071510738354459554,
           0.0071626099991553465,
           0.007034707811984785,
           0.006055498162826911,
           0
          ],
          "colorbar": {
           "title": {
            "text": "Velocity Magnitude"
           }
          },
          "colorscale": [
           [
            0,
            "#440154"
           ],
           [
            0.1111111111111111,
            "#482878"
           ],
           [
            0.2222222222222222,
            "#3e4989"
           ],
           [
            0.3333333333333333,
            "#31688e"
           ],
           [
            0.4444444444444444,
            "#26828e"
           ],
           [
            0.5555555555555556,
            "#1f9e89"
           ],
           [
            0.6666666666666666,
            "#35b779"
           ],
           [
            0.7777777777777778,
            "#6ece58"
           ],
           [
            0.8888888888888888,
            "#b5de2b"
           ],
           [
            1,
            "#fde725"
           ]
          ],
          "size": 2
         },
         "mode": "lines+markers",
         "name": "4111",
         "type": "scatter3d",
         "x": [
          -0.072034,
          -0.067381,
          -0.062234000000000005,
          -0.058073,
          -0.050397,
          -0.044085,
          -0.037714,
          -0.03163,
          -0.026261
         ],
         "y": [
          0.367896,
          0.37297199999999997,
          0.37779599999999997,
          0.382245,
          0.385577,
          0.38788,
          0.389426,
          0.38991899999999996,
          0.38976
         ],
         "z": [
          0.341656,
          0.345209,
          0.34792700000000004,
          0.349143,
          0.353947,
          0.35639499999999996,
          0.35928,
          0.36277699999999996,
          0.365573
         ]
        },
        {
         "marker": {
          "color": [
           0.007365428229234198,
           0.007052503527117161,
           0.00624175063583927,
           0.007938091647241165,
           0.0061106263181445125,
           0.009310117561019312,
           0
          ],
          "colorbar": {
           "title": {
            "text": "Velocity Magnitude"
           }
          },
          "colorscale": [
           [
            0,
            "#440154"
           ],
           [
            0.1111111111111111,
            "#482878"
           ],
           [
            0.2222222222222222,
            "#3e4989"
           ],
           [
            0.3333333333333333,
            "#31688e"
           ],
           [
            0.4444444444444444,
            "#26828e"
           ],
           [
            0.5555555555555556,
            "#1f9e89"
           ],
           [
            0.6666666666666666,
            "#35b779"
           ],
           [
            0.7777777777777778,
            "#6ece58"
           ],
           [
            0.8888888888888888,
            "#b5de2b"
           ],
           [
            1,
            "#fde725"
           ]
          ],
          "size": 2
         },
         "mode": "lines+markers",
         "name": "6905",
         "type": "scatter3d",
         "x": [
          0.262749,
          0.263586,
          0.263941,
          0.264224,
          0.26487299999999997,
          0.26647000000000004,
          0.266445
         ],
         "y": [
          0.627298,
          0.626556,
          0.626366,
          0.625915,
          0.626282,
          0.62751,
          0.6262179999999999
         ],
         "z": [
          0.015714,
          0.022994,
          0.030035,
          0.036253999999999995,
          0.044156999999999995,
          0.049926000000000005,
          0.059146000000000004
         ]
        },
        {
         "marker": {
          "color": [
           0.01013733722434051,
           0.00798289352302783,
           0.007310260255285083,
           0.006659429780394086,
           0.005453450008939301,
           0.006614237673383098,
           0.0061106720579654555,
           0.006349215778346175,
           0.006216297772790475,
           0.006077930404339992,
           0
          ],
          "colorbar": {
           "title": {
            "text": "Velocity Magnitude"
           }
          },
          "colorscale": [
           [
            0,
            "#440154"
           ],
           [
            0.1111111111111111,
            "#482878"
           ],
           [
            0.2222222222222222,
            "#3e4989"
           ],
           [
            0.3333333333333333,
            "#31688e"
           ],
           [
            0.4444444444444444,
            "#26828e"
           ],
           [
            0.5555555555555556,
            "#1f9e89"
           ],
           [
            0.6666666666666666,
            "#35b779"
           ],
           [
            0.7777777777777778,
            "#6ece58"
           ],
           [
            0.8888888888888888,
            "#b5de2b"
           ],
           [
            1,
            "#fde725"
           ]
          ],
          "size": 2
         },
         "mode": "lines+markers",
         "name": "295",
         "type": "scatter3d",
         "x": [
          -0.162383,
          -0.156592,
          -0.152221,
          -0.14853899999999998,
          -0.14561500000000002,
          -0.14244,
          -0.139554,
          -0.13623500000000002,
          -0.132479,
          -0.128448,
          -0.12442199999999999
         ],
         "y": [
          0.442316,
          0.446061,
          0.449849,
          0.45314,
          0.45631700000000003,
          0.459413,
          0.463051,
          0.466557,
          0.46974400000000005,
          0.472263,
          0.473814
         ],
         "z": [
          0.310574,
          0.318004,
          0.32350599999999996,
          0.328896,
          0.333966,
          0.33714,
          0.34185000000000004,
          0.345596,
          0.34960199999999997,
          0.353608,
          0.357889
         ]
        },
        {
         "marker": {
          "color": [
           0.011060836586804844,
           0.011194835371723841,
           0.008927206169905534,
           0.013570174169847671,
           0.011093471142974126,
           0.009465423603833043,
           0.011501462080970403,
           0.009966292891542005,
           0.010340702780759136,
           0.010568839766029169,
           0
          ],
          "colorbar": {
           "title": {
            "text": "Velocity Magnitude"
           }
          },
          "colorscale": [
           [
            0,
            "#440154"
           ],
           [
            0.1111111111111111,
            "#482878"
           ],
           [
            0.2222222222222222,
            "#3e4989"
           ],
           [
            0.3333333333333333,
            "#31688e"
           ],
           [
            0.4444444444444444,
            "#26828e"
           ],
           [
            0.5555555555555556,
            "#1f9e89"
           ],
           [
            0.6666666666666666,
            "#35b779"
           ],
           [
            0.7777777777777778,
            "#6ece58"
           ],
           [
            0.8888888888888888,
            "#b5de2b"
           ],
           [
            1,
            "#fde725"
           ]
          ],
          "size": 2
         },
         "mode": "lines+markers",
         "name": "116",
         "type": "scatter3d",
         "x": [
          -0.059807,
          -0.060448,
          -0.061780999999999996,
          -0.061222,
          -0.064061,
          -0.065206,
          -0.065594,
          -0.067175,
          -0.06768300000000001,
          -0.068788,
          -0.069899
         ],
         "y": [
          0.698649,
          0.694774,
          0.6905589999999999,
          0.687307,
          0.683022,
          0.679491,
          0.676135,
          0.67295,
          0.669601,
          0.666906,
          0.664363
         ],
         "z": [
          0.245866,
          0.25620600000000004,
          0.266491,
          0.274786,
          0.287345,
          0.297799,
          0.306641,
          0.317579,
          0.326952,
          0.336874,
          0.347072
         ]
        },
        {
         "marker": {
          "color": [
           0.0075205098896284905,
           0.009986859065792426,
           0.005479654186169047,
           0.00790880401830768,
           0.006164967153197188,
           0.007004369493394813,
           0
          ],
          "colorbar": {
           "title": {
            "text": "Velocity Magnitude"
           }
          },
          "colorscale": [
           [
            0,
            "#440154"
           ],
           [
            0.1111111111111111,
            "#482878"
           ],
           [
            0.2222222222222222,
            "#3e4989"
           ],
           [
            0.3333333333333333,
            "#31688e"
           ],
           [
            0.4444444444444444,
            "#26828e"
           ],
           [
            0.5555555555555556,
            "#1f9e89"
           ],
           [
            0.6666666666666666,
            "#35b779"
           ],
           [
            0.7777777777777778,
            "#6ece58"
           ],
           [
            0.8888888888888888,
            "#b5de2b"
           ],
           [
            1,
            "#fde725"
           ]
          ],
          "size": 2
         },
         "mode": "lines+markers",
         "name": "6913",
         "type": "scatter3d",
         "x": [
          0.269094,
          0.269903,
          0.26875,
          0.27093,
          0.270946,
          0.27255399999999996,
          0.273572
         ],
         "y": [
          0.688551,
          0.684783,
          0.680727,
          0.67667,
          0.67264,
          0.66865,
          0.664612
         ],
         "z": [
          0.062161,
          0.068619,
          0.07767199999999999,
          0.080641,
          0.087446,
          0.091862,
          0.097494
         ]
        },
        {
         "marker": {
          "color": [
           0.01463535940795442,
           0.008241305782459473,
           0.008427238100350547,
           0.007985857687186768,
           0.007387518663259002,
           0.007465256927929544,
           0.007188240257531729,
           0
          ],
          "colorbar": {
           "title": {
            "text": "Velocity Magnitude"
           }
          },
          "colorscale": [
           [
            0,
            "#440154"
           ],
           [
            0.1111111111111111,
            "#482878"
           ],
           [
            0.2222222222222222,
            "#3e4989"
           ],
           [
            0.3333333333333333,
            "#31688e"
           ],
           [
            0.4444444444444444,
            "#26828e"
           ],
           [
            0.5555555555555556,
            "#1f9e89"
           ],
           [
            0.6666666666666666,
            "#35b779"
           ],
           [
            0.7777777777777778,
            "#6ece58"
           ],
           [
            0.8888888888888888,
            "#b5de2b"
           ],
           [
            1,
            "#fde725"
           ]
          ],
          "size": 2
         },
         "mode": "lines+markers",
         "name": "5777",
         "type": "scatter3d",
         "x": [
          0.249829,
          0.24982300000000002,
          0.24933000000000002,
          0.250193,
          0.249644,
          0.24885200000000002,
          0.248264,
          0.247459
         ],
         "y": [
          0.050631,
          0.037653,
          0.029687,
          0.027064,
          0.020645,
          0.014823000000000001,
          0.009234,
          0.003771
         ],
         "z": [
          0.08344599999999999,
          0.076681,
          0.078735,
          0.086697,
          0.091416,
          0.09589400000000001,
          0.10080800000000001,
          0.10540999999999999
         ]
        },
        {
         "marker": {
          "color": [
           0.014141957820613055,
           0.014367136492704487,
           0.014727244854350745,
           0.014477363088629038,
           0.016925344221019562,
           0.014461234248846107,
           0.01350685281625591,
           0.014654169440811065,
           0.014573411851725044,
           0
          ],
          "colorbar": {
           "title": {
            "text": "Velocity Magnitude"
           }
          },
          "colorscale": [
           [
            0,
            "#440154"
           ],
           [
            0.1111111111111111,
            "#482878"
           ],
           [
            0.2222222222222222,
            "#3e4989"
           ],
           [
            0.3333333333333333,
            "#31688e"
           ],
           [
            0.4444444444444444,
            "#26828e"
           ],
           [
            0.5555555555555556,
            "#1f9e89"
           ],
           [
            0.6666666666666666,
            "#35b779"
           ],
           [
            0.7777777777777778,
            "#6ece58"
           ],
           [
            0.8888888888888888,
            "#b5de2b"
           ],
           [
            1,
            "#fde725"
           ]
          ],
          "size": 2
         },
         "mode": "lines+markers",
         "name": "2540",
         "type": "scatter3d",
         "x": [
          0.38519200000000003,
          0.39063099999999995,
          0.396206,
          0.401913,
          0.40740899999999997,
          0.412977,
          0.418041,
          0.422849,
          0.427056,
          0.430635
         ],
         "y": [
          0.315295,
          0.30924,
          0.303195,
          0.29710899999999996,
          0.290708,
          0.283735,
          0.27699900000000005,
          0.269699,
          0.262022,
          0.25418799999999997
         ],
         "z": [
          -0.061695,
          -0.05013,
          -0.038348999999999994,
          -0.026213,
          -0.014448,
          -0.000066,
          0.011686,
          0.021983,
          0.033735,
          0.045491
         ]
        },
        {
         "marker": {
          "color": [
           0.008927296231222542,
           0.010551239263707398,
           0.005229230249281405,
           0.006579202003282803,
           0.007553681618919365,
           0.007385637413250092,
           0.007347823759454218,
           0
          ],
          "colorbar": {
           "title": {
            "text": "Velocity Magnitude"
           }
          },
          "colorscale": [
           [
            0,
            "#440154"
           ],
           [
            0.1111111111111111,
            "#482878"
           ],
           [
            0.2222222222222222,
            "#3e4989"
           ],
           [
            0.3333333333333333,
            "#31688e"
           ],
           [
            0.4444444444444444,
            "#26828e"
           ],
           [
            0.5555555555555556,
            "#1f9e89"
           ],
           [
            0.6666666666666666,
            "#35b779"
           ],
           [
            0.7777777777777778,
            "#6ece58"
           ],
           [
            0.8888888888888888,
            "#b5de2b"
           ],
           [
            1,
            "#fde725"
           ]
          ],
          "size": 2
         },
         "mode": "lines+markers",
         "name": "5569",
         "type": "scatter3d",
         "x": [
          0.42635199999999995,
          0.42789699999999997,
          0.430092,
          0.431213,
          0.433636,
          0.43557100000000004,
          0.437561,
          0.43955299999999997
         ],
         "y": [
          0.7679,
          0.769668,
          0.7711870000000001,
          0.770435,
          0.771316,
          0.7724310000000001,
          0.773713,
          0.7751979999999999
         ],
         "z": [
          0.239363,
          0.247976,
          0.258184,
          0.26323599999999997,
          0.269289,
          0.276505,
          0.283501,
          0.290416
         ]
        },
        {
         "marker": {
          "color": [
           0.011708229627061471,
           0.011463240990226086,
           0.011220738656612602,
           0.010918892297298291,
           0.010773236514622715,
           0.010741800826677054,
           0.010161727313798585,
           0.010312984291658734,
           0.010014222386186563,
           0.01208278084713946,
           0
          ],
          "colorbar": {
           "title": {
            "text": "Velocity Magnitude"
           }
          },
          "colorscale": [
           [
            0,
            "#440154"
           ],
           [
            0.1111111111111111,
            "#482878"
           ],
           [
            0.2222222222222222,
            "#3e4989"
           ],
           [
            0.3333333333333333,
            "#31688e"
           ],
           [
            0.4444444444444444,
            "#26828e"
           ],
           [
            0.5555555555555556,
            "#1f9e89"
           ],
           [
            0.6666666666666666,
            "#35b779"
           ],
           [
            0.7777777777777778,
            "#6ece58"
           ],
           [
            0.8888888888888888,
            "#b5de2b"
           ],
           [
            1,
            "#fde725"
           ]
          ],
          "size": 2
         },
         "mode": "lines+markers",
         "name": "205",
         "type": "scatter3d",
         "x": [
          -0.074516,
          -0.066042,
          -0.057517000000000006,
          -0.048936999999999994,
          -0.040231,
          -0.031179,
          -0.021390999999999997,
          -0.012674,
          -0.0030259999999999996,
          0.0063739999999999995,
          0.016317
         ],
         "y": [
          0.187371,
          0.195449,
          0.20311099999999999,
          0.210335,
          0.216922,
          0.222758,
          0.227179,
          0.231821,
          0.234896,
          0.237399,
          0.238009
         ],
         "z": [
          0.33854399999999996,
          0.338685,
          0.33853,
          0.33820999999999996,
          0.338012,
          0.33775700000000003,
          0.337947,
          0.33555399999999996,
          0.3336,
          0.331221,
          0.324383
         ]
        },
        {
         "marker": {
          "color": [
           0.012458811379902977,
           0.01358553948137504,
           0.020295831887360546,
           0.012456981416057427,
           0.020849327495149696,
           0.014295014165785228,
           0
          ],
          "colorbar": {
           "title": {
            "text": "Velocity Magnitude"
           }
          },
          "colorscale": [
           [
            0,
            "#440154"
           ],
           [
            0.1111111111111111,
            "#482878"
           ],
           [
            0.2222222222222222,
            "#3e4989"
           ],
           [
            0.3333333333333333,
            "#31688e"
           ],
           [
            0.4444444444444444,
            "#26828e"
           ],
           [
            0.5555555555555556,
            "#1f9e89"
           ],
           [
            0.6666666666666666,
            "#35b779"
           ],
           [
            0.7777777777777778,
            "#6ece58"
           ],
           [
            0.8888888888888888,
            "#b5de2b"
           ],
           [
            1,
            "#fde725"
           ]
          ],
          "size": 2
         },
         "mode": "lines+markers",
         "name": "7171",
         "type": "scatter3d",
         "x": [
          0.213727,
          0.226108,
          0.239533,
          0.258551,
          0.270883,
          0.288157,
          0.302132
         ],
         "y": [
          0.256124,
          0.255038,
          0.254505,
          0.254133,
          0.255874,
          0.252059,
          0.254802
         ],
         "z": [
          1.388531,
          1.387663,
          1.38565,
          1.378572,
          1.3783130000000001,
          1.367279,
          1.3685129999999999
         ]
        },
        {
         "marker": {
          "color": [
           0.027415685583256952,
           0.028033724868450773,
           0.05048199349272971,
           0.008028179183351518,
           0.005416372956139636,
           0.008167528389911022,
           0
          ],
          "colorbar": {
           "title": {
            "text": "Velocity Magnitude"
           }
          },
          "colorscale": [
           [
            0,
            "#440154"
           ],
           [
            0.1111111111111111,
            "#482878"
           ],
           [
            0.2222222222222222,
            "#3e4989"
           ],
           [
            0.3333333333333333,
            "#31688e"
           ],
           [
            0.4444444444444444,
            "#26828e"
           ],
           [
            0.5555555555555556,
            "#1f9e89"
           ],
           [
            0.6666666666666666,
            "#35b779"
           ],
           [
            0.7777777777777778,
            "#6ece58"
           ],
           [
            0.8888888888888888,
            "#b5de2b"
           ],
           [
            1,
            "#fde725"
           ]
          ],
          "size": 2
         },
         "mode": "lines+markers",
         "name": "8276",
         "type": "scatter3d",
         "x": [
          0.947853,
          0.9547490000000001,
          0.97754,
          1.004683,
          1.006272,
          1.0038099999999999,
          1.00726
         ],
         "y": [
          0.779343,
          0.763929,
          0.7642720000000001,
          0.7873150000000001,
          0.795087,
          0.799751,
          0.8071090000000001
         ],
         "z": [
          0.773092,
          0.79469,
          0.77837,
          0.742583,
          0.7438170000000001,
          0.745051,
          0.744235
         ]
        },
        {
         "marker": {
          "color": [
           0.011699090477468711,
           0.012572353518733101,
           0.011889187398640838,
           0.011611925637033668,
           0.015858517585196904,
           0.009226169410974433,
           0.011937569308699335,
           0.012563326987705096,
           0.012159366143019153,
           0.011018179205295178,
           0
          ],
          "colorbar": {
           "title": {
            "text": "Velocity Magnitude"
           }
          },
          "colorscale": [
           [
            0,
            "#440154"
           ],
           [
            0.1111111111111111,
            "#482878"
           ],
           [
            0.2222222222222222,
            "#3e4989"
           ],
           [
            0.3333333333333333,
            "#31688e"
           ],
           [
            0.4444444444444444,
            "#26828e"
           ],
           [
            0.5555555555555556,
            "#1f9e89"
           ],
           [
            0.6666666666666666,
            "#35b779"
           ],
           [
            0.7777777777777778,
            "#6ece58"
           ],
           [
            0.8888888888888888,
            "#b5de2b"
           ],
           [
            1,
            "#fde725"
           ]
          ],
          "size": 2
         },
         "mode": "lines+markers",
         "name": "23",
         "type": "scatter3d",
         "x": [
          -0.08356999999999999,
          -0.07488,
          -0.066189,
          -0.058006999999999996,
          -0.049408,
          -0.037628,
          -0.031703,
          -0.024114,
          -0.015470000000000001,
          -0.006928,
          0.0008810000000000001
         ],
         "y": [
          0.276681,
          0.28443799999999997,
          0.293514,
          0.302091,
          0.309411,
          0.317173,
          0.323502,
          0.33257400000000004,
          0.340717,
          0.348731,
          0.35616699999999996
         ],
         "z": [
          0.45719299999999996,
          0.456106,
          0.456502,
          0.455584,
          0.45288,
          0.44563600000000003,
          0.44248000000000004,
          0.444096,
          0.439996,
          0.436731,
          0.434467
         ]
        },
        {
         "marker": {
          "color": [
           0.011506749888652308,
           0.03346663970284437,
           0.009118455845152721,
           0.011255764878496733,
           0.00920671787337922,
           0.008614639980869726,
           0.009433655336082586,
           0
          ],
          "colorbar": {
           "title": {
            "text": "Velocity Magnitude"
           }
          },
          "colorscale": [
           [
            0,
            "#440154"
           ],
           [
            0.1111111111111111,
            "#482878"
           ],
           [
            0.2222222222222222,
            "#3e4989"
           ],
           [
            0.3333333333333333,
            "#31688e"
           ],
           [
            0.4444444444444444,
            "#26828e"
           ],
           [
            0.5555555555555556,
            "#1f9e89"
           ],
           [
            0.6666666666666666,
            "#35b779"
           ],
           [
            0.7777777777777778,
            "#6ece58"
           ],
           [
            0.8888888888888888,
            "#b5de2b"
           ],
           [
            1,
            "#fde725"
           ]
          ],
          "size": 2
         },
         "mode": "lines+markers",
         "name": "6330",
         "type": "scatter3d",
         "x": [
          -0.24797,
          -0.24323,
          -0.233079,
          -0.22888999999999998,
          -0.226585,
          -0.223512,
          -0.22006299999999998,
          -0.21699100000000002
         ],
         "y": [
          0.466263,
          0.47308999999999996,
          0.482584,
          0.488284,
          0.495421,
          0.501886,
          0.5073,
          0.513338
         ],
         "z": [
          0.458723,
          0.45076499999999997,
          0.420321,
          0.426075,
          0.434468,
          0.440258,
          0.446003,
          0.45256799999999997
         ]
        },
        {
         "marker": {
          "color": [
           0.01424395506873002,
           0.010859668319060241,
           0.008971900188923165,
           0.01646814461316157,
           0.013551405572854903,
           0.012935214107234522,
           0.010891452107042359,
           0.014867924703871754,
           0.018733077536806482,
           0.00948536683528894,
           0
          ],
          "colorbar": {
           "title": {
            "text": "Velocity Magnitude"
           }
          },
          "colorscale": [
           [
            0,
            "#440154"
           ],
           [
            0.1111111111111111,
            "#482878"
           ],
           [
            0.2222222222222222,
            "#3e4989"
           ],
           [
            0.3333333333333333,
            "#31688e"
           ],
           [
            0.4444444444444444,
            "#26828e"
           ],
           [
            0.5555555555555556,
            "#1f9e89"
           ],
           [
            0.6666666666666666,
            "#35b779"
           ],
           [
            0.7777777777777778,
            "#6ece58"
           ],
           [
            0.8888888888888888,
            "#b5de2b"
           ],
           [
            1,
            "#fde725"
           ]
          ],
          "size": 2
         },
         "mode": "lines+markers",
         "name": "85",
         "type": "scatter3d",
         "x": [
          0.662752,
          0.6754479999999999,
          0.684462,
          0.691707,
          0.705142,
          0.71589,
          0.726946,
          0.735884,
          0.748328,
          0.7638440000000001,
          0.771294
         ],
         "y": [
          0.356341,
          0.361417,
          0.36382299999999995,
          0.36744099999999996,
          0.37662,
          0.378245,
          0.38387299999999996,
          0.38633999999999996,
          0.39242,
          0.401007,
          0.406037
         ],
         "z": [
          1.2853910000000002,
          1.281399,
          1.275841,
          1.271979,
          1.2694400000000001,
          1.261348,
          1.2576859999999999,
          1.251972,
          1.2465650000000001,
          1.240528,
          1.2375
         ]
        },
        {
         "marker": {
          "color": [
           0.03603601270951049,
           0.007502869184518625,
           0.004508323524326977,
           0.007393529197886552,
           0.00649365821398078,
           0.005769598339572703,
           0.005896438670926715,
           0.00584756239812793,
           0.005864462294192012,
           0
          ],
          "colorbar": {
           "title": {
            "text": "Velocity Magnitude"
           }
          },
          "colorscale": [
           [
            0,
            "#440154"
           ],
           [
            0.1111111111111111,
            "#482878"
           ],
           [
            0.2222222222222222,
            "#3e4989"
           ],
           [
            0.3333333333333333,
            "#31688e"
           ],
           [
            0.4444444444444444,
            "#26828e"
           ],
           [
            0.5555555555555556,
            "#1f9e89"
           ],
           [
            0.6666666666666666,
            "#35b779"
           ],
           [
            0.7777777777777778,
            "#6ece58"
           ],
           [
            0.8888888888888888,
            "#b5de2b"
           ],
           [
            1,
            "#fde725"
           ]
          ],
          "size": 2
         },
         "mode": "lines+markers",
         "name": "3078",
         "type": "scatter3d",
         "x": [
          -0.25444100000000003,
          -0.24653299999999997,
          -0.242122,
          -0.23915799999999998,
          -0.23608600000000002,
          -0.233113,
          -0.23013399999999998,
          -0.227541,
          -0.225084,
          -0.22262200000000001
         ],
         "y": [
          0.42993200000000004,
          0.44048000000000004,
          0.44561399999999995,
          0.44862799999999997,
          0.45355900000000005,
          0.458141,
          0.46277300000000005,
          0.467471,
          0.472335,
          0.477228
         ],
         "z": [
          0.478925,
          0.445387,
          0.448624,
          0.45019099999999995,
          0.454764,
          0.458276,
          0.45999599999999996,
          0.46244,
          0.464561,
          0.466656
         ]
        },
        {
         "marker": {
          "color": [
           0.009118768228220256,
           0.009317547853378572,
           0.009179896404644276,
           0.009271772753901966,
           0.009252188173616048,
           0.009043224369659344,
           0.009119941337530607,
           0.009439558358313163,
           0.009624587056076769,
           0.009803826599853748,
           0
          ],
          "colorbar": {
           "title": {
            "text": "Velocity Magnitude"
           }
          },
          "colorscale": [
           [
            0,
            "#440154"
           ],
           [
            0.1111111111111111,
            "#482878"
           ],
           [
            0.2222222222222222,
            "#3e4989"
           ],
           [
            0.3333333333333333,
            "#31688e"
           ],
           [
            0.4444444444444444,
            "#26828e"
           ],
           [
            0.5555555555555556,
            "#1f9e89"
           ],
           [
            0.6666666666666666,
            "#35b779"
           ],
           [
            0.7777777777777778,
            "#6ece58"
           ],
           [
            0.8888888888888888,
            "#b5de2b"
           ],
           [
            1,
            "#fde725"
           ]
          ],
          "size": 2
         },
         "mode": "lines+markers",
         "name": "31",
         "type": "scatter3d",
         "x": [
          0.138037,
          0.13919499999999999,
          0.14033199999999998,
          0.142095,
          0.1437,
          0.146036,
          0.14844300000000002,
          0.152172,
          0.155935,
          0.159729,
          0.16337700000000002
         ],
         "y": [
          0.29572899999999996,
          0.286922,
          0.27792700000000004,
          0.269132,
          0.26020800000000005,
          0.251317,
          0.24259999999999998,
          0.234292,
          0.225635,
          0.21679099999999998,
          0.207697
         ],
         "z": [
          0.20085499999999998,
          0.20291599999999999,
          0.205064,
          0.20701599999999998,
          0.208953,
          0.21,
          0.210013,
          0.210508,
          0.21047,
          0.210618,
          0.210944
         ]
        },
        {
         "marker": {
          "color": [
           0.011868574177212715,
           0.013003192877135998,
           0.011799745463356359,
           0.011973663892059115,
           0.011621897822644958,
           0.011194403780461031,
           0.010739380103153059,
           0.010498863652795972,
           0.010143141820954668,
           0.009877816914683141,
           0
          ],
          "colorbar": {
           "title": {
            "text": "Velocity Magnitude"
           }
          },
          "colorscale": [
           [
            0,
            "#440154"
           ],
           [
            0.1111111111111111,
            "#482878"
           ],
           [
            0.2222222222222222,
            "#3e4989"
           ],
           [
            0.3333333333333333,
            "#31688e"
           ],
           [
            0.4444444444444444,
            "#26828e"
           ],
           [
            0.5555555555555556,
            "#1f9e89"
           ],
           [
            0.6666666666666666,
            "#35b779"
           ],
           [
            0.7777777777777778,
            "#6ece58"
           ],
           [
            0.8888888888888888,
            "#b5de2b"
           ],
           [
            1,
            "#fde725"
           ]
          ],
          "size": 2
         },
         "mode": "lines+markers",
         "name": "11",
         "type": "scatter3d",
         "x": [
          0.226222,
          0.228156,
          0.232233,
          0.233321,
          0.235844,
          0.238082,
          0.239974,
          0.241626,
          0.243101,
          0.24465,
          0.246149
         ],
         "y": [
          0.357636,
          0.34696,
          0.334846,
          0.325139,
          0.314562,
          0.304285,
          0.294499,
          0.28499,
          0.275743,
          0.266649,
          0.257828
         ],
         "z": [
          0.1113,
          0.116111,
          0.11850100000000001,
          0.12512099999999998,
          0.130134,
          0.135078,
          0.140174,
          0.14488399999999999,
          0.14963200000000001,
          0.15384899999999999,
          0.15803399999999998
         ]
        },
        {
         "marker": {
          "color": [
           0.03656961237147587,
           0.015570494789826068,
           0.004647809484047249,
           0.009340718280731939,
           0.008802777175414566,
           0.009598273438488805,
           0.00901792487216436,
           0.008862954699196018,
           0.008757245057665047,
           0.008159875550521662,
           0
          ],
          "colorbar": {
           "title": {
            "text": "Velocity Magnitude"
           }
          },
          "colorscale": [
           [
            0,
            "#440154"
           ],
           [
            0.1111111111111111,
            "#482878"
           ],
           [
            0.2222222222222222,
            "#3e4989"
           ],
           [
            0.3333333333333333,
            "#31688e"
           ],
           [
            0.4444444444444444,
            "#26828e"
           ],
           [
            0.5555555555555556,
            "#1f9e89"
           ],
           [
            0.6666666666666666,
            "#35b779"
           ],
           [
            0.7777777777777778,
            "#6ece58"
           ],
           [
            0.8888888888888888,
            "#b5de2b"
           ],
           [
            1,
            "#fde725"
           ]
          ],
          "size": 2
         },
         "mode": "lines+markers",
         "name": "772",
         "type": "scatter3d",
         "x": [
          0.053653,
          0.068975,
          0.061091,
          0.060439,
          0.056318,
          0.052884,
          0.049036,
          0.045875,
          0.043046,
          0.040591999999999996,
          0.038598
         ],
         "y": [
          0.69217,
          0.697582,
          0.692116,
          0.687701,
          0.682705,
          0.677614,
          0.6730320000000001,
          0.668274,
          0.6636409999999999,
          0.659101,
          0.6545789999999999
         ],
         "z": [
          0.0603,
          0.093061,
          0.105325,
          0.10662300000000001,
          0.113354,
          0.119661,
          0.127166,
          0.134144,
          0.14115,
          0.148225,
          0.154718
         ]
        },
        {
         "marker": {
          "color": [
           0.003535790010733021,
           0.0038281547774352523,
           0.0035880703727770124,
           0.006595218040368335,
           0.006130237026412577,
           0.005453540042944609,
           0.005251428757966742,
           0.006325073675460245,
           0.012737349214024075,
           0.016827974655317275,
           0
          ],
          "colorbar": {
           "title": {
            "text": "Velocity Magnitude"
           }
          },
          "colorscale": [
           [
            0,
            "#440154"
           ],
           [
            0.1111111111111111,
            "#482878"
           ],
           [
            0.2222222222222222,
            "#3e4989"
           ],
           [
            0.3333333333333333,
            "#31688e"
           ],
           [
            0.4444444444444444,
            "#26828e"
           ],
           [
            0.5555555555555556,
            "#1f9e89"
           ],
           [
            0.6666666666666666,
            "#35b779"
           ],
           [
            0.7777777777777778,
            "#6ece58"
           ],
           [
            0.8888888888888888,
            "#b5de2b"
           ],
           [
            1,
            "#fde725"
           ]
          ],
          "size": 2
         },
         "mode": "lines+markers",
         "name": "37",
         "type": "scatter3d",
         "x": [
          0.7822290000000001,
          0.7837799999999999,
          0.785533,
          0.787325,
          0.790043,
          0.792384,
          0.797821,
          0.801277,
          0.805289,
          0.805332,
          0.804391
         ],
         "y": [
          0.32098000000000004,
          0.322403,
          0.32353899999999997,
          0.324427,
          0.325546,
          0.32658800000000004,
          0.326509,
          0.327401,
          0.327958,
          0.330912,
          0.333127
         ],
         "z": [
          0.007307,
          0.010147999999999999,
          0.013356,
          0.016335000000000002,
          0.022239000000000002,
          0.027808,
          0.028225,
          0.032077,
          0.036935,
          0.049325,
          0.06598000000000001
         ]
        },
        {
         "marker": {
          "color": [
           0.006140515369250286,
           0.005318133225108243,
           0.0034922418301142825,
           0.0062720220822315475,
           0.005515186669551653,
           0.010128411277194426,
           0
          ],
          "colorbar": {
           "title": {
            "text": "Velocity Magnitude"
           }
          },
          "colorscale": [
           [
            0,
            "#440154"
           ],
           [
            0.1111111111111111,
            "#482878"
           ],
           [
            0.2222222222222222,
            "#3e4989"
           ],
           [
            0.3333333333333333,
            "#31688e"
           ],
           [
            0.4444444444444444,
            "#26828e"
           ],
           [
            0.5555555555555556,
            "#1f9e89"
           ],
           [
            0.6666666666666666,
            "#35b779"
           ],
           [
            0.7777777777777778,
            "#6ece58"
           ],
           [
            0.8888888888888888,
            "#b5de2b"
           ],
           [
            1,
            "#fde725"
           ]
          ],
          "size": 2
         },
         "mode": "lines+markers",
         "name": "6903",
         "type": "scatter3d",
         "x": [
          0.312945,
          0.315775,
          0.317466,
          0.315634,
          0.31208600000000003,
          0.30859,
          0.304935
         ],
         "y": [
          0.140254,
          0.139356,
          0.134784,
          0.133036,
          0.128102,
          0.12386,
          0.12537900000000002
         ],
         "z": [
          0.5786100000000001,
          0.583985,
          0.581859,
          0.584264,
          0.5827129999999999,
          0.582265,
          0.591588
         ]
        },
        {
         "marker": {
          "color": [
           0.006991683631286519,
           0.007163138767328206,
           0.00669815399942401,
           0.006580451428283667,
           0.005513357053556412,
           0.006422341784738607,
           0.005256351776660331,
           0.007480167712023608,
           0.004605182949677352,
           0.0062630376016754264,
           0
          ],
          "colorbar": {
           "title": {
            "text": "Velocity Magnitude"
           }
          },
          "colorscale": [
           [
            0,
            "#440154"
           ],
           [
            0.1111111111111111,
            "#482878"
           ],
           [
            0.2222222222222222,
            "#3e4989"
           ],
           [
            0.3333333333333333,
            "#31688e"
           ],
           [
            0.4444444444444444,
            "#26828e"
           ],
           [
            0.5555555555555556,
            "#1f9e89"
           ],
           [
            0.6666666666666666,
            "#35b779"
           ],
           [
            0.7777777777777778,
            "#6ece58"
           ],
           [
            0.8888888888888888,
            "#b5de2b"
           ],
           [
            1,
            "#fde725"
           ]
          ],
          "size": 2
         },
         "mode": "lines+markers",
         "name": "39",
         "type": "scatter3d",
         "x": [
          -0.304449,
          -0.298859,
          -0.293502,
          -0.28841300000000003,
          -0.28378,
          -0.280143,
          -0.276186,
          -0.27290499999999995,
          -0.26967599999999997,
          -0.267575,
          -0.26483300000000004
         ],
         "y": [
          0.349235,
          0.35338099999999995,
          0.357819,
          0.361958,
          0.366104,
          0.370028,
          0.37414800000000004,
          0.377925,
          0.383093,
          0.386615,
          0.391365
         ],
         "z": [
          0.620285,
          0.620953,
          0.6226609999999999,
          0.624016,
          0.6261720000000001,
          0.627503,
          0.6304379999999999,
          0.63205,
          0.6363880000000001,
          0.6384829999999999,
          0.6415069999999999
         ]
        },
        {
         "marker": {
          "color": [
           0.012424490251112934,
           0.014431183250170496,
           0.012844522996203435,
           0.01300381101831307,
           0.01288917390681031,
           0.017563119768423823,
           0
          ],
          "colorbar": {
           "title": {
            "text": "Velocity Magnitude"
           }
          },
          "colorscale": [
           [
            0,
            "#440154"
           ],
           [
            0.1111111111111111,
            "#482878"
           ],
           [
            0.2222222222222222,
            "#3e4989"
           ],
           [
            0.3333333333333333,
            "#31688e"
           ],
           [
            0.4444444444444444,
            "#26828e"
           ],
           [
            0.5555555555555556,
            "#1f9e89"
           ],
           [
            0.6666666666666666,
            "#35b779"
           ],
           [
            0.7777777777777778,
            "#6ece58"
           ],
           [
            0.8888888888888888,
            "#b5de2b"
           ],
           [
            1,
            "#fde725"
           ]
          ],
          "size": 2
         },
         "mode": "lines+markers",
         "name": "6936",
         "type": "scatter3d",
         "x": [
          -0.13405799999999998,
          -0.130325,
          -0.132989,
          -0.13240000000000002,
          -0.131781,
          -0.131125,
          -0.129581
         ],
         "y": [
          0.671815,
          0.676802,
          0.678107,
          0.681716,
          0.685564,
          0.689586,
          0.696108
         ],
         "z": [
          0.35552999999999996,
          0.36628,
          0.38040300000000005,
          0.392716,
          0.40512200000000004,
          0.41735,
          0.433584
         ]
        },
        {
         "marker": {
          "color": [
           0.012361478147859217,
           0.012834689127516856,
           0.012536556345344563,
           0.011559694546137542,
           0.012398177648348111,
           0.011983180879883266,
           0.011955932795060402,
           0.011278942370630292,
           0.010116081553645144,
           0.010089169291869371,
           0
          ],
          "colorbar": {
           "title": {
            "text": "Velocity Magnitude"
           }
          },
          "colorscale": [
           [
            0,
            "#440154"
           ],
           [
            0.1111111111111111,
            "#482878"
           ],
           [
            0.2222222222222222,
            "#3e4989"
           ],
           [
            0.3333333333333333,
            "#31688e"
           ],
           [
            0.4444444444444444,
            "#26828e"
           ],
           [
            0.5555555555555556,
            "#1f9e89"
           ],
           [
            0.6666666666666666,
            "#35b779"
           ],
           [
            0.7777777777777778,
            "#6ece58"
           ],
           [
            0.8888888888888888,
            "#b5de2b"
           ],
           [
            1,
            "#fde725"
           ]
          ],
          "size": 2
         },
         "mode": "lines+markers",
         "name": "43",
         "type": "scatter3d",
         "x": [
          0.035169,
          0.033115,
          0.032053,
          0.031467,
          0.032307,
          0.03345,
          0.033018,
          0.032799999999999996,
          0.033054,
          0.033957999999999995,
          0.035275
         ],
         "y": [
          0.712391,
          0.704336,
          0.696056,
          0.688413,
          0.681356,
          0.674802,
          0.668374,
          0.66274,
          0.657791,
          0.653614,
          0.649802
         ],
         "z": [
          0.24079699999999998,
          0.249946,
          0.259695,
          0.269615,
          0.27873200000000004,
          0.289194,
          0.299298,
          0.30984100000000003,
          0.319973,
          0.329142,
          0.33838999999999997
         ]
        },
        {
         "marker": {
          "color": [
           0.005498312923070155,
           0.006444149594787491,
           0.005685156198381873,
           0.00651260462487938,
           0.006899056529700242,
           0.007119004986653719,
           0.007260350611368542,
           0.007164840123826936,
           0
          ],
          "colorbar": {
           "title": {
            "text": "Velocity Magnitude"
           }
          },
          "colorscale": [
           [
            0,
            "#440154"
           ],
           [
            0.1111111111111111,
            "#482878"
           ],
           [
            0.2222222222222222,
            "#3e4989"
           ],
           [
            0.3333333333333333,
            "#31688e"
           ],
           [
            0.4444444444444444,
            "#26828e"
           ],
           [
            0.5555555555555556,
            "#1f9e89"
           ],
           [
            0.6666666666666666,
            "#35b779"
           ],
           [
            0.7777777777777778,
            "#6ece58"
           ],
           [
            0.8888888888888888,
            "#b5de2b"
           ],
           [
            1,
            "#fde725"
           ]
          ],
          "size": 2
         },
         "mode": "lines+markers",
         "name": "4126",
         "type": "scatter3d",
         "x": [
          0.009839,
          0.014144,
          0.018586,
          0.023222,
          0.028041,
          0.033065,
          0.038171,
          0.0432,
          0.048167
         ],
         "y": [
          0.321826,
          0.31883999999999996,
          0.31515,
          0.312014,
          0.308171,
          0.303833,
          0.29916899999999996,
          0.294088,
          0.288969
         ],
         "z": [
          0.249276,
          0.247608,
          0.244748,
          0.243751,
          0.241648,
          0.239767,
          0.238077,
          0.23681,
          0.236132
         ]
        },
        {
         "marker": {
          "color": [
           0.012278667232236574,
           0.046292332378051596,
           0.04475784871952622,
           0.007252024062287712,
           0.00639751404844101,
           0.006036201868725067,
           0.005305533432181909,
           0
          ],
          "colorbar": {
           "title": {
            "text": "Velocity Magnitude"
           }
          },
          "colorscale": [
           [
            0,
            "#440154"
           ],
           [
            0.1111111111111111,
            "#482878"
           ],
           [
            0.2222222222222222,
            "#3e4989"
           ],
           [
            0.3333333333333333,
            "#31688e"
           ],
           [
            0.4444444444444444,
            "#26828e"
           ],
           [
            0.5555555555555556,
            "#1f9e89"
           ],
           [
            0.6666666666666666,
            "#35b779"
           ],
           [
            0.7777777777777778,
            "#6ece58"
           ],
           [
            0.8888888888888888,
            "#b5de2b"
           ],
           [
            1,
            "#fde725"
           ]
          ],
          "size": 2
         },
         "mode": "lines+markers",
         "name": "5589",
         "type": "scatter3d",
         "x": [
          0.529852,
          0.530682,
          0.576188,
          0.614057,
          0.613501,
          0.61365,
          0.6139880000000001,
          0.614521
         ],
         "y": [
          0.34889,
          0.351978,
          0.355043,
          0.358474,
          0.358848,
          0.359399,
          0.360107,
          0.360777
         ],
         "z": [
          -0.064081,
          -0.052226,
          -0.044302,
          -0.067912,
          -0.060691,
          -0.054319,
          -0.048334,
          -0.043098
         ]
        },
        {
         "marker": {
          "color": [
           0.004598310341853737,
           0.0035757129359053215,
           0.005219179341620618,
           0.00825314370406811,
           0.008722200754396536,
           0.0061198677273288146,
           0.0063700137362489,
           0.008984150321538698,
           0.005598687435461954,
           0.007641783430587266,
           0
          ],
          "colorbar": {
           "title": {
            "text": "Velocity Magnitude"
           }
          },
          "colorscale": [
           [
            0,
            "#440154"
           ],
           [
            0.1111111111111111,
            "#482878"
           ],
           [
            0.2222222222222222,
            "#3e4989"
           ],
           [
            0.3333333333333333,
            "#31688e"
           ],
           [
            0.4444444444444444,
            "#26828e"
           ],
           [
            0.5555555555555556,
            "#1f9e89"
           ],
           [
            0.6666666666666666,
            "#35b779"
           ],
           [
            0.7777777777777778,
            "#6ece58"
           ],
           [
            0.8888888888888888,
            "#b5de2b"
           ],
           [
            1,
            "#fde725"
           ]
          ],
          "size": 2
         },
         "mode": "lines+markers",
         "name": "72",
         "type": "scatter3d",
         "x": [
          0.8431960000000001,
          0.8458049999999999,
          0.846844,
          0.848294,
          0.8469070000000001,
          0.850364,
          0.851255,
          0.853856,
          0.859152,
          0.862566,
          0.866188
         ],
         "y": [
          0.8138880000000001,
          0.817532,
          0.817661,
          0.8209339999999999,
          0.82788,
          0.830391,
          0.8334450000000001,
          0.836488,
          0.841342,
          0.8438450000000001,
          0.850312
         ],
         "z": [
          1.467331,
          1.466302,
          1.462883,
          1.459085,
          1.4633209999999999,
          1.4557170000000001,
          1.4504890000000001,
          1.445534,
          1.4401389999999998,
          1.436475,
          1.438334
         ]
        },
        {
         "marker": {
          "color": [
           0.010126290288155973,
           0.009684223355540679,
           0.006921343077755897,
           0.009099263541628017,
           0.00806291175692749,
           0.00737425216547409,
           0.007107998663477627,
           0.006231529587508998,
           0.006273513290015484,
           0.005247241275184539,
           0
          ],
          "colorbar": {
           "title": {
            "text": "Velocity Magnitude"
           }
          },
          "colorscale": [
           [
            0,
            "#440154"
           ],
           [
            0.1111111111111111,
            "#482878"
           ],
           [
            0.2222222222222222,
            "#3e4989"
           ],
           [
            0.3333333333333333,
            "#31688e"
           ],
           [
            0.4444444444444444,
            "#26828e"
           ],
           [
            0.5555555555555556,
            "#1f9e89"
           ],
           [
            0.6666666666666666,
            "#35b779"
           ],
           [
            0.7777777777777778,
            "#6ece58"
           ],
           [
            0.8888888888888888,
            "#b5de2b"
           ],
           [
            1,
            "#fde725"
           ]
          ],
          "size": 2
         },
         "mode": "lines+markers",
         "name": "178",
         "type": "scatter3d",
         "x": [
          0.38621,
          0.391941,
          0.397115,
          0.400522,
          0.404774,
          0.408574,
          0.41220100000000004,
          0.415341,
          0.41896300000000003,
          0.42246300000000003,
          0.425911
         ],
         "y": [
          0.489723,
          0.49151,
          0.493045,
          0.492624,
          0.494682,
          0.49684300000000003,
          0.499364,
          0.5024379999999999,
          0.5056039999999999,
          0.509292,
          0.512731
         ],
         "z": [
          0.5289299999999999,
          0.537085,
          0.545126,
          0.551136,
          0.558913,
          0.565688,
          0.5715929999999999,
          0.5771799999999999,
          0.5811409999999999,
          0.584816,
          0.58677
         ]
        },
        {
         "marker": {
          "color": [
           0.006897997245577942,
           0.007015746931011741,
           0.007105639309731341,
           0.007262789753256012,
           0.0070250677576804,
           0.007167018417724244,
           0.007219245182150315,
           0.007482346490239516,
           0.007731433372926447,
           0.04104813079788164,
           0
          ],
          "colorbar": {
           "title": {
            "text": "Velocity Magnitude"
           }
          },
          "colorscale": [
           [
            0,
            "#440154"
           ],
           [
            0.1111111111111111,
            "#482878"
           ],
           [
            0.2222222222222222,
            "#3e4989"
           ],
           [
            0.3333333333333333,
            "#31688e"
           ],
           [
            0.4444444444444444,
            "#26828e"
           ],
           [
            0.5555555555555556,
            "#1f9e89"
           ],
           [
            0.6666666666666666,
            "#35b779"
           ],
           [
            0.7777777777777778,
            "#6ece58"
           ],
           [
            0.8888888888888888,
            "#b5de2b"
           ],
           [
            1,
            "#fde725"
           ]
          ],
          "size": 2
         },
         "mode": "lines+markers",
         "name": "585",
         "type": "scatter3d",
         "x": [
          0.5139109999999999,
          0.5165259999999999,
          0.5194460000000001,
          0.522791,
          0.5263300000000001,
          0.529934,
          0.5336259999999999,
          0.537412,
          0.541164,
          0.5453210000000001,
          0.581493
         ],
         "y": [
          0.317137,
          0.321172,
          0.32500799999999996,
          0.328454,
          0.331759,
          0.334778,
          0.33776999999999996,
          0.340677,
          0.343524,
          0.346582,
          0.365985
         ],
         "z": [
          0.49653699999999995,
          0.501483,
          0.50658,
          0.511817,
          0.51723,
          0.5224500000000001,
          0.527815,
          0.533231,
          0.539045,
          0.544802,
          0.544559
         ]
        },
        {
         "marker": {
          "color": [
           0.019657331990888326,
           0.016142944743757274,
           0.010052810999914499,
           0.01877021536903617,
           0.01715385525180833,
           0.012755410224685116,
           0.00994353000699466,
           0
          ],
          "colorbar": {
           "title": {
            "text": "Velocity Magnitude"
           }
          },
          "colorscale": [
           [
            0,
            "#440154"
           ],
           [
            0.1111111111111111,
            "#482878"
           ],
           [
            0.2222222222222222,
            "#3e4989"
           ],
           [
            0.3333333333333333,
            "#31688e"
           ],
           [
            0.4444444444444444,
            "#26828e"
           ],
           [
            0.5555555555555556,
            "#1f9e89"
           ],
           [
            0.6666666666666666,
            "#35b779"
           ],
           [
            0.7777777777777778,
            "#6ece58"
           ],
           [
            0.8888888888888888,
            "#b5de2b"
           ],
           [
            1,
            "#fde725"
           ]
          ],
          "size": 2
         },
         "mode": "lines+markers",
         "name": "5887",
         "type": "scatter3d",
         "x": [
          1.136664,
          1.14434,
          1.157368,
          1.16476,
          1.1789290000000001,
          1.1912539999999998,
          1.2005109999999999,
          1.207653
         ],
         "y": [
          0.347402,
          0.36225999999999997,
          0.370351,
          0.37348000000000003,
          0.385262,
          0.386957,
          0.39431700000000003,
          0.399981
         ],
         "z": [
          0.907379,
          0.897048,
          0.892008,
          0.885956,
          0.882386,
          0.870576,
          0.865797,
          0.8618239999999999
         ]
        },
        {
         "marker": {
          "color": [
           0.014331693863601707,
           0.0201768804823736,
           0.018345233740675024,
           0.013464921611357459,
           0.07085703424502056,
           0.08127692945725745,
           0
          ],
          "colorbar": {
           "title": {
            "text": "Velocity Magnitude"
           }
          },
          "colorscale": [
           [
            0,
            "#440154"
           ],
           [
            0.1111111111111111,
            "#482878"
           ],
           [
            0.2222222222222222,
            "#3e4989"
           ],
           [
            0.3333333333333333,
            "#31688e"
           ],
           [
            0.4444444444444444,
            "#26828e"
           ],
           [
            0.5555555555555556,
            "#1f9e89"
           ],
           [
            0.6666666666666666,
            "#35b779"
           ],
           [
            0.7777777777777778,
            "#6ece58"
           ],
           [
            0.8888888888888888,
            "#b5de2b"
           ],
           [
            1,
            "#fde725"
           ]
          ],
          "size": 2
         },
         "mode": "lines+markers",
         "name": "7024",
         "type": "scatter3d",
         "x": [
          0.23463499999999998,
          0.224333,
          0.222994,
          0.21143299999999998,
          0.214461,
          0.24290199999999998,
          0.278808
         ],
         "y": [
          0.879736,
          0.8832340000000001,
          0.879718,
          0.86963,
          0.8590869999999999,
          0.8513769999999999,
          0.835202
         ],
         "z": [
          1.3216199999999998,
          1.3122909999999999,
          1.2924680000000002,
          1.282412,
          1.290221,
          1.225782,
          1.154683
         ]
        },
        {
         "marker": {
          "color": [
           0.0029782237995154143,
           0.0025333205482133336,
           0.002116571520171244,
           0.0015557927239835106,
           0.0011633417382695553,
           0.0010483458398829742,
           0.00219863343920716,
           0
          ],
          "colorbar": {
           "title": {
            "text": "Velocity Magnitude"
           }
          },
          "colorscale": [
           [
            0,
            "#440154"
           ],
           [
            0.1111111111111111,
            "#482878"
           ],
           [
            0.2222222222222222,
            "#3e4989"
           ],
           [
            0.3333333333333333,
            "#31688e"
           ],
           [
            0.4444444444444444,
            "#26828e"
           ],
           [
            0.5555555555555556,
            "#1f9e89"
           ],
           [
            0.6666666666666666,
            "#35b779"
           ],
           [
            0.7777777777777778,
            "#6ece58"
           ],
           [
            0.8888888888888888,
            "#b5de2b"
           ],
           [
            1,
            "#fde725"
           ]
          ],
          "size": 2
         },
         "mode": "lines+markers",
         "name": "5461",
         "type": "scatter3d",
         "x": [
          0.5124099999999999,
          0.5122709999999999,
          0.5121169999999999,
          0.5118980000000001,
          0.511529,
          0.511003,
          0.510291,
          0.509159
         ],
         "y": [
          0.513494,
          0.513014,
          0.5126280000000001,
          0.512323,
          0.512146,
          0.512038,
          0.511712,
          0.510823
         ],
         "z": [
          0.00787,
          0.010806,
          0.013304999999999999,
          0.015388,
          0.016888999999999998,
          0.017921,
          0.018618,
          0.02028
         ]
        },
        {
         "marker": {
          "color": [
           0.016032156717048447,
           0.013924959856315545,
           0.013446500734391822,
           0.0182427514646228,
           0.01332159382356321,
           0.017995949238648168,
           0.013676206710926793,
           0.020526123087422153,
           0.019860782537453117,
           0.013591058641621655,
           0
          ],
          "colorbar": {
           "title": {
            "text": "Velocity Magnitude"
           }
          },
          "colorscale": [
           [
            0,
            "#440154"
           ],
           [
            0.1111111111111111,
            "#482878"
           ],
           [
            0.2222222222222222,
            "#3e4989"
           ],
           [
            0.3333333333333333,
            "#31688e"
           ],
           [
            0.4444444444444444,
            "#26828e"
           ],
           [
            0.5555555555555556,
            "#1f9e89"
           ],
           [
            0.6666666666666666,
            "#35b779"
           ],
           [
            0.7777777777777778,
            "#6ece58"
           ],
           [
            0.8888888888888888,
            "#b5de2b"
           ],
           [
            1,
            "#fde725"
           ]
          ],
          "size": 2
         },
         "mode": "lines+markers",
         "name": "1484",
         "type": "scatter3d",
         "x": [
          0.163365,
          0.174154,
          0.186441,
          0.197407,
          0.213751,
          0.22488399999999997,
          0.241954,
          0.25427299999999997,
          0.267641,
          0.28217200000000003,
          0.295417
         ],
         "y": [
          0.367822,
          0.369884,
          0.363497,
          0.355892,
          0.348825,
          0.344448,
          0.33944799999999997,
          0.33371,
          0.336646,
          0.328187,
          0.325152
         ],
         "z": [
          1.39876,
          1.410438,
          1.411901,
          1.4135499999999999,
          1.4095840000000002,
          1.415446,
          1.4127129999999999,
          1.414248,
          1.429545,
          1.418974,
          1.4186990000000002
         ]
        },
        {
         "marker": {
          "color": [
           0.03930133353971584,
           0.012967291583056189,
           0.020588492538308745,
           0.011721481604302536,
           0.014142782258098981,
           0.01893675402491141,
           0
          ],
          "colorbar": {
           "title": {
            "text": "Velocity Magnitude"
           }
          },
          "colorscale": [
           [
            0,
            "#440154"
           ],
           [
            0.1111111111111111,
            "#482878"
           ],
           [
            0.2222222222222222,
            "#3e4989"
           ],
           [
            0.3333333333333333,
            "#31688e"
           ],
           [
            0.4444444444444444,
            "#26828e"
           ],
           [
            0.5555555555555556,
            "#1f9e89"
           ],
           [
            0.6666666666666666,
            "#35b779"
           ],
           [
            0.7777777777777778,
            "#6ece58"
           ],
           [
            0.8888888888888888,
            "#b5de2b"
           ],
           [
            1,
            "#fde725"
           ]
          ],
          "size": 2
         },
         "mode": "lines+markers",
         "name": "6947",
         "type": "scatter3d",
         "x": [
          1.18392,
          1.195856,
          1.202937,
          1.2119069999999998,
          1.216866,
          1.224086,
          1.238427
         ],
         "y": [
          0.812852,
          0.807701,
          0.814378,
          0.8307559999999999,
          0.841275,
          0.853428,
          0.863464
         ],
         "z": [
          0.993289,
          0.9562,
          0.947631,
          0.956302,
          0.957769,
          0.95821,
          0.950984
         ]
        },
        {
         "marker": {
          "color": [
           0.006706623666197494,
           0.00817266810778461,
           0.00842111079371362,
           0.008872823507768,
           0.009364762570401862,
           0.009676724342462256,
           0.010091513910211741,
           0.010251435021498308,
           0.010317125374831869,
           0.010389916746538493,
           0
          ],
          "colorbar": {
           "title": {
            "text": "Velocity Magnitude"
           }
          },
          "colorscale": [
           [
            0,
            "#440154"
           ],
           [
            0.1111111111111111,
            "#482878"
           ],
           [
            0.2222222222222222,
            "#3e4989"
           ],
           [
            0.3333333333333333,
            "#31688e"
           ],
           [
            0.4444444444444444,
            "#26828e"
           ],
           [
            0.5555555555555556,
            "#1f9e89"
           ],
           [
            0.6666666666666666,
            "#35b779"
           ],
           [
            0.7777777777777778,
            "#6ece58"
           ],
           [
            0.8888888888888888,
            "#b5de2b"
           ],
           [
            1,
            "#fde725"
           ]
          ],
          "size": 2
         },
         "mode": "lines+markers",
         "name": "91",
         "type": "scatter3d",
         "x": [
          0.486643,
          0.49106900000000003,
          0.496251,
          0.502888,
          0.509746,
          0.517413,
          0.5256130000000001,
          0.5343519999999999,
          0.543456,
          0.55276,
          0.5622480000000001
         ],
         "y": [
          -0.042601,
          -0.047515999999999996,
          -0.05224,
          -0.056927,
          -0.060294,
          -0.062986,
          -0.065091,
          -0.066637,
          -0.067857,
          -0.068751,
          -0.069596
         ],
         "z": [
          -0.00213,
          -0.00102,
          0.003178,
          0.005391,
          0.009903,
          0.014558,
          0.019245,
          0.024049,
          0.028600999999999998,
          0.032969,
          0.037118000000000005
         ]
        },
        {
         "marker": {
          "color": [
           0.005661660975367555,
           0.0056598722600426435,
           0.005442764095567593,
           0.006387404872090112,
           0.006588264490744111,
           0.004839331565412688,
           0.006490277112727995,
           0.006877808517253118,
           0.007463594174390749,
           0.007892216798846908,
           0
          ],
          "colorbar": {
           "title": {
            "text": "Velocity Magnitude"
           }
          },
          "colorscale": [
           [
            0,
            "#440154"
           ],
           [
            0.1111111111111111,
            "#482878"
           ],
           [
            0.2222222222222222,
            "#3e4989"
           ],
           [
            0.3333333333333333,
            "#31688e"
           ],
           [
            0.4444444444444444,
            "#26828e"
           ],
           [
            0.5555555555555556,
            "#1f9e89"
           ],
           [
            0.6666666666666666,
            "#35b779"
           ],
           [
            0.7777777777777778,
            "#6ece58"
           ],
           [
            0.8888888888888888,
            "#b5de2b"
           ],
           [
            1,
            "#fde725"
           ]
          ],
          "size": 2
         },
         "mode": "lines+markers",
         "name": "79",
         "type": "scatter3d",
         "x": [
          0.694881,
          0.697226,
          0.699361,
          0.701335,
          0.703466,
          0.704364,
          0.7065159999999999,
          0.7082480000000001,
          0.710255,
          0.71275,
          0.7156910000000001
         ],
         "y": [
          0.47786900000000004,
          0.481591,
          0.485146,
          0.488484,
          0.49172000000000005,
          0.495692,
          0.497693,
          0.50087,
          0.504569,
          0.509026,
          0.5140520000000001
         ],
         "z": [
          -0.06919700000000001,
          -0.065633,
          -0.061780999999999996,
          -0.05796200000000001,
          -0.052884,
          -0.047705,
          -0.043859999999999996,
          -0.038472,
          -0.033032,
          -0.02759,
          -0.022263
         ]
        },
        {
         "marker": {
          "color": [
           0.008896178168179853,
           0.008504736268691679,
           0.00811744559575244,
           0.007813761450159539,
           0.007606296142012881,
           0.007892440053620962,
           0
          ],
          "colorbar": {
           "title": {
            "text": "Velocity Magnitude"
           }
          },
          "colorscale": [
           [
            0,
            "#440154"
           ],
           [
            0.1111111111111111,
            "#482878"
           ],
           [
            0.2222222222222222,
            "#3e4989"
           ],
           [
            0.3333333333333333,
            "#31688e"
           ],
           [
            0.4444444444444444,
            "#26828e"
           ],
           [
            0.5555555555555556,
            "#1f9e89"
           ],
           [
            0.6666666666666666,
            "#35b779"
           ],
           [
            0.7777777777777778,
            "#6ece58"
           ],
           [
            0.8888888888888888,
            "#b5de2b"
           ],
           [
            1,
            "#fde725"
           ]
          ],
          "size": 2
         },
         "mode": "lines+markers",
         "name": "7184",
         "type": "scatter3d",
         "x": [
          -0.17285599999999998,
          -0.164845,
          -0.157362,
          -0.150485,
          -0.144093,
          -0.138083,
          -0.13234700000000002
         ],
         "y": [
          0.379536,
          0.383395,
          0.38740399999999997,
          0.39161900000000005,
          0.39592099999999997,
          0.400342,
          0.40497500000000003
         ],
         "z": [
          0.342305,
          0.342577,
          0.34308999999999995,
          0.344003,
          0.34530299999999997,
          0.346783,
          0.349598
         ]
        },
        {
         "marker": {
          "color": [
           0.008206615136583398,
           0.01266996108912731,
           0.007524073497780317,
           0.00737709577001681,
           0.007541645642696284,
           0.0077678809208174635,
           0.0070255816841027436,
           0.005592806629948869,
           0.012042099152556421,
           0.00921824267417603,
           0
          ],
          "colorbar": {
           "title": {
            "text": "Velocity Magnitude"
           }
          },
          "colorscale": [
           [
            0,
            "#440154"
           ],
           [
            0.1111111111111111,
            "#482878"
           ],
           [
            0.2222222222222222,
            "#3e4989"
           ],
           [
            0.3333333333333333,
            "#31688e"
           ],
           [
            0.4444444444444444,
            "#26828e"
           ],
           [
            0.5555555555555556,
            "#1f9e89"
           ],
           [
            0.6666666666666666,
            "#35b779"
           ],
           [
            0.7777777777777778,
            "#6ece58"
           ],
           [
            0.8888888888888888,
            "#b5de2b"
           ],
           [
            1,
            "#fde725"
           ]
          ],
          "size": 2
         },
         "mode": "lines+markers",
         "name": "189",
         "type": "scatter3d",
         "x": [
          0.42323700000000003,
          0.425679,
          0.425299,
          0.426624,
          0.427962,
          0.42942899999999995,
          0.430964,
          0.436473,
          0.438019,
          0.438749,
          0.440183
         ],
         "y": [
          0.14165899999999998,
          0.13383099999999998,
          0.131696,
          0.127387,
          0.123394,
          0.119631,
          0.11604600000000001,
          0.112432,
          0.10849299999999999,
          0.105807,
          0.10278799999999999
         ],
         "z": [
          0.06677899999999999,
          0.067107,
          0.07959000000000001,
          0.08561400000000001,
          0.091671,
          0.09804,
          0.10475799999999999,
          0.107197,
          0.110854,
          0.12257,
          0.131161
         ]
        },
        {
         "marker": {
          "color": [
           0.09442134181423177,
           0.08444771335566166,
           0.1324158976067451,
           0.1257386135282237,
           0.12620726055183987,
           0.12694556514112657,
           0.15464868374803573,
           0.18794227883581707,
           0
          ],
          "colorbar": {
           "title": {
            "text": "Velocity Magnitude"
           }
          },
          "colorscale": [
           [
            0,
            "#440154"
           ],
           [
            0.1111111111111111,
            "#482878"
           ],
           [
            0.2222222222222222,
            "#3e4989"
           ],
           [
            0.3333333333333333,
            "#31688e"
           ],
           [
            0.4444444444444444,
            "#26828e"
           ],
           [
            0.5555555555555556,
            "#1f9e89"
           ],
           [
            0.6666666666666666,
            "#35b779"
           ],
           [
            0.7777777777777778,
            "#6ece58"
           ],
           [
            0.8888888888888888,
            "#b5de2b"
           ],
           [
            1,
            "#fde725"
           ]
          ],
          "size": 2
         },
         "mode": "lines+markers",
         "name": "4420",
         "type": "scatter3d",
         "x": [
          0.912434,
          0.9098390000000001,
          0.9165679999999999,
          0.8936810000000001,
          0.8397089999999999,
          0.763965,
          0.683713,
          0.601503,
          0.50437
         ],
         "y": [
          0.740515,
          0.7816259999999999,
          0.810803,
          0.854702,
          0.89278,
          0.9055979999999999,
          0.9044650000000001,
          0.910968,
          0.9335589999999999
         ],
         "z": [
          0.140234,
          0.225196,
          0.30415699999999996,
          0.42697,
          0.5339619999999999,
          0.634096,
          0.73245,
          0.8632759999999999,
          1.022578
         ]
        },
        {
         "marker": {
          "color": [
           0.007842427557842034,
           0.010297332275885834,
           0.009355304698405072,
           0.019780287561104868,
           0.012440418481707101,
           0.021116539962787464,
           0.02253429752621548,
           0.008427982795426095,
           0.009552488995021178,
           0.02502665347184874,
           0
          ],
          "colorbar": {
           "title": {
            "text": "Velocity Magnitude"
           }
          },
          "colorscale": [
           [
            0,
            "#440154"
           ],
           [
            0.1111111111111111,
            "#482878"
           ],
           [
            0.2222222222222222,
            "#3e4989"
           ],
           [
            0.3333333333333333,
            "#31688e"
           ],
           [
            0.4444444444444444,
            "#26828e"
           ],
           [
            0.5555555555555556,
            "#1f9e89"
           ],
           [
            0.6666666666666666,
            "#35b779"
           ],
           [
            0.7777777777777778,
            "#6ece58"
           ],
           [
            0.8888888888888888,
            "#b5de2b"
           ],
           [
            1,
            "#fde725"
           ]
          ],
          "size": 2
         },
         "mode": "lines+markers",
         "name": "84",
         "type": "scatter3d",
         "x": [
          0.556635,
          0.560898,
          0.563508,
          0.566317,
          0.576013,
          0.580311,
          0.571111,
          0.5844170000000001,
          0.5904429999999999,
          0.593526,
          0.587532
         ],
         "y": [
          0.037768,
          0.033719,
          0.023812999999999997,
          0.020579,
          0.009403,
          0.008105000000000001,
          0.006463,
          -0.007114,
          -0.010837,
          -0.014246,
          -0.014358000000000001
         ],
         "z": [
          0.16831800000000002,
          0.17350800000000002,
          0.17246199999999998,
          0.180779,
          0.16765100000000002,
          0.179253,
          0.198189,
          0.186089,
          0.190656,
          0.19903,
          0.223328
         ]
        },
        {
         "marker": {
          "color": [
           0.034876880795162886,
           0.040570445166401674,
           0.023261583566042868,
           0.07685086630611261,
           0.14162741623358102,
           0.15738752137955536,
           0.1938734420852943,
           0
          ],
          "colorbar": {
           "title": {
            "text": "Velocity Magnitude"
           }
          },
          "colorscale": [
           [
            0,
            "#440154"
           ],
           [
            0.1111111111111111,
            "#482878"
           ],
           [
            0.2222222222222222,
            "#3e4989"
           ],
           [
            0.3333333333333333,
            "#31688e"
           ],
           [
            0.4444444444444444,
            "#26828e"
           ],
           [
            0.5555555555555556,
            "#1f9e89"
           ],
           [
            0.6666666666666666,
            "#35b779"
           ],
           [
            0.7777777777777778,
            "#6ece58"
           ],
           [
            0.8888888888888888,
            "#b5de2b"
           ],
           [
            1,
            "#fde725"
           ]
          ],
          "size": 2
         },
         "mode": "lines+markers",
         "name": "6116",
         "type": "scatter3d",
         "x": [
          1.074398,
          1.0819159999999999,
          1.092724,
          1.0982539999999998,
          1.08419,
          1.040598,
          0.993621,
          0.932085
         ],
         "y": [
          0.610807,
          0.616758,
          0.6263920000000001,
          0.648903,
          0.6732870000000001,
          0.696145,
          0.6988390000000001,
          0.692674
         ],
         "z": [
          0.55477,
          0.588303,
          0.626202,
          0.624259,
          0.695769,
          0.828568,
          0.978757,
          1.162502
         ]
        },
        {
         "marker": {
          "color": [
           0.011450570553470266,
           0.011484215253991004,
           0.01192682296338803,
           0.012224156739832822,
           0.01469664788310584,
           0.011523122623664086,
           0.011413840457970385,
           0.010693244128888089,
           0.012204160192327852,
           0.012185692389027402,
           0
          ],
          "colorbar": {
           "title": {
            "text": "Velocity Magnitude"
           }
          },
          "colorscale": [
           [
            0,
            "#440154"
           ],
           [
            0.1111111111111111,
            "#482878"
           ],
           [
            0.2222222222222222,
            "#3e4989"
           ],
           [
            0.3333333333333333,
            "#31688e"
           ],
           [
            0.4444444444444444,
            "#26828e"
           ],
           [
            0.5555555555555556,
            "#1f9e89"
           ],
           [
            0.6666666666666666,
            "#35b779"
           ],
           [
            0.7777777777777778,
            "#6ece58"
           ],
           [
            0.8888888888888888,
            "#b5de2b"
           ],
           [
            1,
            "#fde725"
           ]
          ],
          "size": 2
         },
         "mode": "lines+markers",
         "name": "777",
         "type": "scatter3d",
         "x": [
          0.0509,
          0.060954,
          0.071006,
          0.081282,
          0.090504,
          0.101677,
          0.11018,
          0.118316,
          0.125549,
          0.134432,
          0.142989
         ],
         "y": [
          0.118345,
          0.12367,
          0.129006,
          0.134799,
          0.142717,
          0.147948,
          0.15428299999999998,
          0.160556,
          0.166321,
          0.173172,
          0.180043
         ],
         "z": [
          0.6453730000000001,
          0.6440779999999999,
          0.642538,
          0.640779,
          0.642079,
          0.634092,
          0.6295810000000001,
          0.6246079999999999,
          0.619242,
          0.614436,
          0.609139
         ]
        },
        {
         "marker": {
          "color": [
           0.00422207496380629,
           0.0046238970576777385,
           0.005225737268558361,
           0.008170229005358385,
           0.0058996817710788565,
           0.00858035401367562,
           0.008033551456236538,
           0.008522355836269693,
           0.008924254366612377,
           0
          ],
          "colorbar": {
           "title": {
            "text": "Velocity Magnitude"
           }
          },
          "colorscale": [
           [
            0,
            "#440154"
           ],
           [
            0.1111111111111111,
            "#482878"
           ],
           [
            0.2222222222222222,
            "#3e4989"
           ],
           [
            0.3333333333333333,
            "#31688e"
           ],
           [
            0.4444444444444444,
            "#26828e"
           ],
           [
            0.5555555555555556,
            "#1f9e89"
           ],
           [
            0.6666666666666666,
            "#35b779"
           ],
           [
            0.7777777777777778,
            "#6ece58"
           ],
           [
            0.8888888888888888,
            "#b5de2b"
           ],
           [
            1,
            "#fde725"
           ]
          ],
          "size": 2
         },
         "mode": "lines+markers",
         "name": "2614",
         "type": "scatter3d",
         "x": [
          0.024012000000000002,
          0.025224,
          0.026546,
          0.027954999999999997,
          0.028210000000000002,
          0.030094000000000003,
          0.033995,
          0.036757,
          0.039924999999999995,
          0.043279000000000005
         ],
         "y": [
          0.34522,
          0.34118200000000004,
          0.33675599999999994,
          0.33172399999999996,
          0.323685,
          0.31985199999999997,
          0.312759,
          0.305226,
          0.297336,
          0.289118
         ],
         "z": [
          0.198048,
          0.197821,
          0.197613,
          0.19756800000000002,
          0.196132,
          0.200202,
          0.197357,
          0.196953,
          0.196368,
          0.195442
         ]
        },
        {
         "marker": {
          "color": [
           0.011973438812638588,
           0.009976879772754587,
           0.00953537655260662,
           0.009631979703051652,
           0.009698892153230757,
           0.010084790825793034,
           0.00806293457743527,
           0.011071936867594504,
           0.013033896616131415,
           0.0122935206918116,
           0
          ],
          "colorbar": {
           "title": {
            "text": "Velocity Magnitude"
           }
          },
          "colorscale": [
           [
            0,
            "#440154"
           ],
           [
            0.1111111111111111,
            "#482878"
           ],
           [
            0.2222222222222222,
            "#3e4989"
           ],
           [
            0.3333333333333333,
            "#31688e"
           ],
           [
            0.4444444444444444,
            "#26828e"
           ],
           [
            0.5555555555555556,
            "#1f9e89"
           ],
           [
            0.6666666666666666,
            "#35b779"
           ],
           [
            0.7777777777777778,
            "#6ece58"
           ],
           [
            0.8888888888888888,
            "#b5de2b"
           ],
           [
            1,
            "#fde725"
           ]
          ],
          "size": 2
         },
         "mode": "lines+markers",
         "name": "255",
         "type": "scatter3d",
         "x": [
          0.045076,
          0.047077,
          0.048036999999999996,
          0.048598999999999996,
          0.048996000000000005,
          0.049046,
          0.048685,
          0.047866,
          0.046582,
          0.045172,
          0.043175
         ],
         "y": [
          0.687936,
          0.689806,
          0.6907770000000001,
          0.692138,
          0.6939059999999999,
          0.695991,
          0.698429,
          0.7015170000000001,
          0.703606,
          0.706075,
          0.708106
         ],
         "z": [
          0.240711,
          0.252367,
          0.26225,
          0.271671,
          0.28113099999999996,
          0.290603,
          0.300382,
          0.30778500000000003,
          0.318582,
          0.33130200000000004,
          0.34326100000000004
         ]
        },
        {
         "marker": {
          "color": [
           0.020705815245964196,
           0.013671609597995339,
           0.04344188721729293,
           0.08154089811867418,
           0.0887061004553802,
           0.08049400550351553,
           0
          ],
          "colorbar": {
           "title": {
            "text": "Velocity Magnitude"
           }
          },
          "colorscale": [
           [
            0,
            "#440154"
           ],
           [
            0.1111111111111111,
            "#482878"
           ],
           [
            0.2222222222222222,
            "#3e4989"
           ],
           [
            0.3333333333333333,
            "#31688e"
           ],
           [
            0.4444444444444444,
            "#26828e"
           ],
           [
            0.5555555555555556,
            "#1f9e89"
           ],
           [
            0.6666666666666666,
            "#35b779"
           ],
           [
            0.7777777777777778,
            "#6ece58"
           ],
           [
            0.8888888888888888,
            "#b5de2b"
           ],
           [
            1,
            "#fde725"
           ]
          ],
          "size": 2
         },
         "mode": "lines+markers",
         "name": "6992",
         "type": "scatter3d",
         "x": [
          0.27534800000000004,
          0.257412,
          0.253454,
          0.23760900000000001,
          0.23209800000000003,
          0.230389,
          0.222668
         ],
         "y": [
          0.96331,
          0.963202,
          0.96623,
          0.948438,
          0.912126,
          0.863857,
          0.811166
         ],
         "z": [
          0.96815,
          0.9578049999999999,
          0.945074,
          0.908748,
          0.835947,
          0.761543,
          0.701183
         ]
        },
        {
         "marker": {
          "color": [
           0.015590921845740818,
           0.039995431814145915,
           0.04515703237592123,
           0.06758348136934048,
           0.04364605927228715,
           0.06941990453032902,
           0
          ],
          "colorbar": {
           "title": {
            "text": "Velocity Magnitude"
           }
          },
          "colorscale": [
           [
            0,
            "#440154"
           ],
           [
            0.1111111111111111,
            "#482878"
           ],
           [
            0.2222222222222222,
            "#3e4989"
           ],
           [
            0.3333333333333333,
            "#31688e"
           ],
           [
            0.4444444444444444,
            "#26828e"
           ],
           [
            0.5555555555555556,
            "#1f9e89"
           ],
           [
            0.6666666666666666,
            "#35b779"
           ],
           [
            0.7777777777777778,
            "#6ece58"
           ],
           [
            0.8888888888888888,
            "#b5de2b"
           ],
           [
            1,
            "#fde725"
           ]
          ],
          "size": 2
         },
         "mode": "lines+markers",
         "name": "8278",
         "type": "scatter3d",
         "x": [
          0.211625,
          0.204907,
          0.184098,
          0.174068,
          0.16508099999999998,
          0.14924600000000002,
          0.121016
         ],
         "y": [
          0.810519,
          0.804545,
          0.7862469999999999,
          0.742574,
          0.676045,
          0.635972,
          0.578613
         ],
         "z": [
          1.50477,
          1.492032,
          1.4631910000000001,
          1.457603,
          1.449815,
          1.442859,
          1.4158009999999999
         ]
        },
        {
         "marker": {
          "color": [
           0.011135632088031727,
           0.012691596432285419,
           0.013470437632088985,
           0.013789848730134844,
           0.01407683561742483,
           0.014140461979723263,
           0.014133192314548017,
           0.06263377468267424,
           0.12211284982752627,
           0
          ],
          "colorbar": {
           "title": {
            "text": "Velocity Magnitude"
           }
          },
          "colorscale": [
           [
            0,
            "#440154"
           ],
           [
            0.1111111111111111,
            "#482878"
           ],
           [
            0.2222222222222222,
            "#3e4989"
           ],
           [
            0.3333333333333333,
            "#31688e"
           ],
           [
            0.4444444444444444,
            "#26828e"
           ],
           [
            0.5555555555555556,
            "#1f9e89"
           ],
           [
            0.6666666666666666,
            "#35b779"
           ],
           [
            0.7777777777777778,
            "#6ece58"
           ],
           [
            0.8888888888888888,
            "#b5de2b"
           ],
           [
            1,
            "#fde725"
           ]
          ],
          "size": 2
         },
         "mode": "lines+markers",
         "name": "2709",
         "type": "scatter3d",
         "x": [
          -0.366502,
          -0.36367099999999997,
          -0.359265,
          -0.354464,
          -0.349474,
          -0.34434,
          -0.33911399999999997,
          -0.33383999999999997,
          -0.308971,
          -0.261737
         ],
         "y": [
          0.469709,
          0.475555,
          0.480925,
          0.486117,
          0.490985,
          0.495448,
          0.499313,
          0.502448,
          0.508709,
          0.5274099999999999
         ],
         "z": [
          0.6731119999999999,
          0.682157,
          0.692779,
          0.704244,
          0.7161420000000001,
          0.7284660000000001,
          0.741024,
          0.753756,
          0.810899,
          0.921943
         ]
        },
        {
         "marker": {
          "color": [
           0.019487815706230437,
           0.01643746817487412,
           0.011011022568317704,
           0.01788460550305754,
           0.02109131304589647,
           0.012662768496659848,
           0.024797543144432534,
           0.014477969505424602,
           0.02097466021178881,
           0.015542735730881017,
           0
          ],
          "colorbar": {
           "title": {
            "text": "Velocity Magnitude"
           }
          },
          "colorscale": [
           [
            0,
            "#440154"
           ],
           [
            0.1111111111111111,
            "#482878"
           ],
           [
            0.2222222222222222,
            "#3e4989"
           ],
           [
            0.3333333333333333,
            "#31688e"
           ],
           [
            0.4444444444444444,
            "#26828e"
           ],
           [
            0.5555555555555556,
            "#1f9e89"
           ],
           [
            0.6666666666666666,
            "#35b779"
           ],
           [
            0.7777777777777778,
            "#6ece58"
           ],
           [
            0.8888888888888888,
            "#b5de2b"
           ],
           [
            1,
            "#fde725"
           ]
          ],
          "size": 2
         },
         "mode": "lines+markers",
         "name": "176",
         "type": "scatter3d",
         "x": [
          0.439138,
          0.456834,
          0.472788,
          0.48321600000000003,
          0.5008929999999999,
          0.521864,
          0.534008,
          0.5568529999999999,
          0.570419,
          0.5906079999999999,
          0.6055560000000001
         ],
         "y": [
          0.30056900000000003,
          0.301133,
          0.30479500000000004,
          0.305848,
          0.308496,
          0.308975,
          0.309024,
          0.317235,
          0.320197,
          0.321536,
          0.325007
         ],
         "z": [
          1.076347,
          1.068204,
          1.0667039999999999,
          1.070079,
          1.06947,
          1.067272,
          1.063685,
          1.0687449999999998,
          1.0728440000000001,
          1.067317,
          1.069784
         ]
        },
        {
         "marker": {
          "color": [
           0.034597766777640426,
           0.04389488982786038,
           0.010193761474548967,
           0.04524160571863027,
           0.016641862996672037,
           0.06087510027917822,
           0.020533061656752456,
           0.010219484282487057,
           0.010308883838709293,
           0.03458897156609312,
           0
          ],
          "colorbar": {
           "title": {
            "text": "Velocity Magnitude"
           }
          },
          "colorscale": [
           [
            0,
            "#440154"
           ],
           [
            0.1111111111111111,
            "#482878"
           ],
           [
            0.2222222222222222,
            "#3e4989"
           ],
           [
            0.3333333333333333,
            "#31688e"
           ],
           [
            0.4444444444444444,
            "#26828e"
           ],
           [
            0.5555555555555556,
            "#1f9e89"
           ],
           [
            0.6666666666666666,
            "#35b779"
           ],
           [
            0.7777777777777778,
            "#6ece58"
           ],
           [
            0.8888888888888888,
            "#b5de2b"
           ],
           [
            1,
            "#fde725"
           ]
          ],
          "size": 2
         },
         "mode": "lines+markers",
         "name": "1560",
         "type": "scatter3d",
         "x": [
          0.664994,
          0.679618,
          0.684274,
          0.694314,
          0.669608,
          0.685196,
          0.737392,
          0.754933,
          0.76506,
          0.775283,
          0.75682
         ],
         "y": [
          0.140011,
          0.122754,
          0.100663,
          0.102365,
          0.079019,
          0.078171,
          0.102914,
          0.101536,
          0.102427,
          0.102758,
          0.08383
         ],
         "z": [
          0.9759869999999999,
          0.949808,
          0.912164,
          0.911701,
          0.881845,
          0.8760789999999999,
          0.895292,
          0.8847079999999999,
          0.8836649999999999,
          0.882379,
          0.8600800000000001
         ]
        },
        {
         "marker": {
          "color": [
           0.011140607568710067,
           0.008383824246726568,
           0.00854071173849108,
           0.00850097347366761,
           0.008720211293311636,
           0.00880560401108294,
           0.007539784413363534,
           0
          ],
          "colorbar": {
           "title": {
            "text": "Velocity Magnitude"
           }
          },
          "colorscale": [
           [
            0,
            "#440154"
           ],
           [
            0.1111111111111111,
            "#482878"
           ],
           [
            0.2222222222222222,
            "#3e4989"
           ],
           [
            0.3333333333333333,
            "#31688e"
           ],
           [
            0.4444444444444444,
            "#26828e"
           ],
           [
            0.5555555555555556,
            "#1f9e89"
           ],
           [
            0.6666666666666666,
            "#35b779"
           ],
           [
            0.7777777777777778,
            "#6ece58"
           ],
           [
            0.8888888888888888,
            "#b5de2b"
           ],
           [
            1,
            "#fde725"
           ]
          ],
          "size": 2
         },
         "mode": "lines+markers",
         "name": "5824",
         "type": "scatter3d",
         "x": [
          -0.224796,
          -0.214613,
          -0.206611,
          -0.19842500000000002,
          -0.190378,
          -0.181898,
          -0.173387,
          -0.167971
         ],
         "y": [
          0.24881999999999999,
          0.253332,
          0.255716,
          0.258111,
          0.26065699999999997,
          0.262688,
          0.264942,
          0.266809
         ],
         "z": [
          0.736377,
          0.736129,
          0.7353719999999999,
          0.734928,
          0.733913,
          0.733995,
          0.73385,
          0.738752
         ]
        },
        {
         "marker": {
          "color": [
           0.011843989572774875,
           0.011924646158272375,
           0.011755161802374355,
           0.011724279508780033,
           0.012429910257117706,
           0.014105304321424643,
           0.010798929067273286,
           0
          ],
          "colorbar": {
           "title": {
            "text": "Velocity Magnitude"
           }
          },
          "colorscale": [
           [
            0,
            "#440154"
           ],
           [
            0.1111111111111111,
            "#482878"
           ],
           [
            0.2222222222222222,
            "#3e4989"
           ],
           [
            0.3333333333333333,
            "#31688e"
           ],
           [
            0.4444444444444444,
            "#26828e"
           ],
           [
            0.5555555555555556,
            "#1f9e89"
           ],
           [
            0.6666666666666666,
            "#35b779"
           ],
           [
            0.7777777777777778,
            "#6ece58"
           ],
           [
            0.8888888888888888,
            "#b5de2b"
           ],
           [
            1,
            "#fde725"
           ]
          ],
          "size": 2
         },
         "mode": "lines+markers",
         "name": "5591",
         "type": "scatter3d",
         "x": [
          0.35930399999999996,
          0.362722,
          0.36621,
          0.369652,
          0.373067,
          0.374925,
          0.379808,
          0.382932
         ],
         "y": [
          0.045742,
          0.037911,
          0.03022,
          0.022708,
          0.015436,
          0.003608,
          0.001444,
          -0.0050940000000000004
         ],
         "z": [
          0.325582,
          0.33378399999999997,
          0.342203,
          0.35056400000000004,
          0.359103,
          0.362442,
          0.375497,
          0.383504
         ]
        },
        {
         "marker": {
          "color": [
           0.015498990354213366,
           0.010264264610774655,
           0.014164205060644907,
           0.011583109427092517,
           0.011636236977648746,
           0.01148438735849676,
           0.009846780844519683,
           0.015721426143960337,
           0.012447157747855481,
           0.014550947769818908,
           0
          ],
          "colorbar": {
           "title": {
            "text": "Velocity Magnitude"
           }
          },
          "colorscale": [
           [
            0,
            "#440154"
           ],
           [
            0.1111111111111111,
            "#482878"
           ],
           [
            0.2222222222222222,
            "#3e4989"
           ],
           [
            0.3333333333333333,
            "#31688e"
           ],
           [
            0.4444444444444444,
            "#26828e"
           ],
           [
            0.5555555555555556,
            "#1f9e89"
           ],
           [
            0.6666666666666666,
            "#35b779"
           ],
           [
            0.7777777777777778,
            "#6ece58"
           ],
           [
            0.8888888888888888,
            "#b5de2b"
           ],
           [
            1,
            "#fde725"
           ]
          ],
          "size": 2
         },
         "mode": "lines+markers",
         "name": "67",
         "type": "scatter3d",
         "x": [
          0.35363900000000004,
          0.368722,
          0.378284,
          0.39007400000000003,
          0.401536,
          0.413055,
          0.424451,
          0.43429,
          0.44981,
          0.46178199999999997,
          0.474928
         ],
         "y": [
          0.32587299999999997,
          0.32937099999999997,
          0.330743,
          0.33596499999999996,
          0.337583,
          0.338758,
          0.33968200000000004,
          0.33937599999999996,
          0.33995,
          0.34125599999999995,
          0.337522
         ],
         "z": [
          1.44955,
          1.450247,
          1.4537170000000001,
          1.459578,
          1.459994,
          1.458839,
          1.457758,
          1.458002,
          1.45556,
          1.4587059999999998,
          1.4537090000000001
         ]
        },
        {
         "marker": {
          "color": [
           0.009165329126659825,
           0.015792737191506687,
           0.012661293535812254,
           0.011037786372275914,
           0.01549026358716982,
           0.008756491763257782,
           0.021984264372500555,
           0
          ],
          "colorbar": {
           "title": {
            "text": "Velocity Magnitude"
           }
          },
          "colorscale": [
           [
            0,
            "#440154"
           ],
           [
            0.1111111111111111,
            "#482878"
           ],
           [
            0.2222222222222222,
            "#3e4989"
           ],
           [
            0.3333333333333333,
            "#31688e"
           ],
           [
            0.4444444444444444,
            "#26828e"
           ],
           [
            0.5555555555555556,
            "#1f9e89"
           ],
           [
            0.6666666666666666,
            "#35b779"
           ],
           [
            0.7777777777777778,
            "#6ece58"
           ],
           [
            0.8888888888888888,
            "#b5de2b"
           ],
           [
            1,
            "#fde725"
           ]
          ],
          "size": 2
         },
         "mode": "lines+markers",
         "name": "5513",
         "type": "scatter3d",
         "x": [
          0.465012,
          0.470431,
          0.482931,
          0.49249400000000004,
          0.502202,
          0.516203,
          0.523239,
          0.535047
         ],
         "y": [
          0.715918,
          0.723309,
          0.731511,
          0.739658,
          0.744128,
          0.750155,
          0.754699,
          0.769289
         ],
         "z": [
          1.114635,
          1.114739,
          1.1096510000000002,
          1.1112270000000002,
          1.1084690000000001,
          1.105713,
          1.1082670000000001,
          1.119713
         ]
        },
        {
         "marker": {
          "color": [
           0.008398167597756086,
           0.00849226783609655,
           0.008767970232613675,
           0.00854605031578919,
           0.008608934312677695,
           0.008235122707039678,
           0.006961382333990872,
           0.011104263910768646,
           0.011525597685152846,
           0.007830256317643752,
           0
          ],
          "colorbar": {
           "title": {
            "text": "Velocity Magnitude"
           }
          },
          "colorscale": [
           [
            0,
            "#440154"
           ],
           [
            0.1111111111111111,
            "#482878"
           ],
           [
            0.2222222222222222,
            "#3e4989"
           ],
           [
            0.3333333333333333,
            "#31688e"
           ],
           [
            0.4444444444444444,
            "#26828e"
           ],
           [
            0.5555555555555556,
            "#1f9e89"
           ],
           [
            0.6666666666666666,
            "#35b779"
           ],
           [
            0.7777777777777778,
            "#6ece58"
           ],
           [
            0.8888888888888888,
            "#b5de2b"
           ],
           [
            1,
            "#fde725"
           ]
          ],
          "size": 2
         },
         "mode": "lines+markers",
         "name": "297",
         "type": "scatter3d",
         "x": [
          0.30282400000000004,
          0.302637,
          0.30267700000000003,
          0.303102,
          0.303862,
          0.304988,
          0.306602,
          0.311376,
          0.310718,
          0.312474,
          0.314321
         ],
         "y": [
          0.44867399999999996,
          0.446453,
          0.44437099999999996,
          0.44237,
          0.44059,
          0.438997,
          0.43779199999999996,
          0.43729399999999996,
          0.43571699999999997,
          0.435346,
          0.435915
         ],
         "z": [
          0.146226,
          0.15432300000000002,
          0.162556,
          0.17108199999999998,
          0.179406,
          0.18779099999999999,
          0.195776,
          0.20081800000000002,
          0.21178999999999998,
          0.223175,
          0.230763
         ]
        },
        {
         "marker": {
          "color": [
           0.01088164169599426,
           0.010435919365345775,
           0.009566930855817814,
           0.010006821023681852,
           0.009710800636404844,
           0.009030411341683144,
           0.008578892993854201,
           0.008192782738483846,
           0.008179239940238923,
           0.007834699547525784,
           0
          ],
          "colorbar": {
           "title": {
            "text": "Velocity Magnitude"
           }
          },
          "colorscale": [
           [
            0,
            "#440154"
           ],
           [
            0.1111111111111111,
            "#482878"
           ],
           [
            0.2222222222222222,
            "#3e4989"
           ],
           [
            0.3333333333333333,
            "#31688e"
           ],
           [
            0.4444444444444444,
            "#26828e"
           ],
           [
            0.5555555555555556,
            "#1f9e89"
           ],
           [
            0.6666666666666666,
            "#35b779"
           ],
           [
            0.7777777777777778,
            "#6ece58"
           ],
           [
            0.8888888888888888,
            "#b5de2b"
           ],
           [
            1,
            "#fde725"
           ]
          ],
          "size": 2
         },
         "mode": "lines+markers",
         "name": "51",
         "type": "scatter3d",
         "x": [
          0.721899,
          0.727562,
          0.732804,
          0.7411789999999999,
          0.747998,
          0.7549880000000001,
          0.761542,
          0.7680220000000001,
          0.774301,
          0.780635,
          0.7833730000000001
         ],
         "y": [
          -0.022205,
          -0.023466,
          -0.024797999999999997,
          -0.027023,
          -0.027488,
          -0.028043,
          -0.028301,
          -0.02829,
          -0.028068000000000003,
          -0.027637000000000002,
          -0.024804
         ],
         "z": [
          0.356661,
          0.365867,
          0.37479199999999996,
          0.378846,
          0.38615499999999997,
          0.39287299999999997,
          0.39908,
          0.404702,
          0.40996,
          0.415117,
          0.421889
         ]
        },
        {
         "marker": {
          "color": [
           0.025041100974198396,
           0.018618821176433344,
           0.007302678001938852,
           0.0087340151705844,
           0.01428776438075586,
           0.04177684313109355,
           0
          ],
          "colorbar": {
           "title": {
            "text": "Velocity Magnitude"
           }
          },
          "colorscale": [
           [
            0,
            "#440154"
           ],
           [
            0.1111111111111111,
            "#482878"
           ],
           [
            0.2222222222222222,
            "#3e4989"
           ],
           [
            0.3333333333333333,
            "#31688e"
           ],
           [
            0.4444444444444444,
            "#26828e"
           ],
           [
            0.5555555555555556,
            "#1f9e89"
           ],
           [
            0.6666666666666666,
            "#35b779"
           ],
           [
            0.7777777777777778,
            "#6ece58"
           ],
           [
            0.8888888888888888,
            "#b5de2b"
           ],
           [
            1,
            "#fde725"
           ]
          ],
          "size": 2
         },
         "mode": "lines+markers",
         "name": "7343",
         "type": "scatter3d",
         "x": [
          0.607253,
          0.612826,
          0.6138250000000001,
          0.613084,
          0.606953,
          0.605548,
          0.588109
         ],
         "y": [
          0.9085270000000001,
          0.907899,
          0.90665,
          0.905602,
          0.9014679999999999,
          0.892733,
          0.897408
         ],
         "z": [
          0.997574,
          1.021979,
          1.040529,
          1.0477180000000001,
          1.052366,
          1.041147,
          1.003473
         ]
        },
        {
         "marker": {
          "color": [
           0.014506302802575111,
           0.01350803027831972,
           0.011618362836475752,
           0.015527779042734995,
           0.011382987788801263,
           0.011868582392181469,
           0
          ],
          "colorbar": {
           "title": {
            "text": "Velocity Magnitude"
           }
          },
          "colorscale": [
           [
            0,
            "#440154"
           ],
           [
            0.1111111111111111,
            "#482878"
           ],
           [
            0.2222222222222222,
            "#3e4989"
           ],
           [
            0.3333333333333333,
            "#31688e"
           ],
           [
            0.4444444444444444,
            "#26828e"
           ],
           [
            0.5555555555555556,
            "#1f9e89"
           ],
           [
            0.6666666666666666,
            "#35b779"
           ],
           [
            0.7777777777777778,
            "#6ece58"
           ],
           [
            0.8888888888888888,
            "#b5de2b"
           ],
           [
            1,
            "#fde725"
           ]
          ],
          "size": 2
         },
         "mode": "lines+markers",
         "name": "7328",
         "type": "scatter3d",
         "x": [
          0.277668,
          0.292077,
          0.304732,
          0.313957,
          0.3262,
          0.335003,
          0.345695
         ],
         "y": [
          0.41688,
          0.415462,
          0.415503,
          0.414196,
          0.406908,
          0.405079,
          0.40219900000000003
         ],
         "z": [
          1.3888669999999999,
          1.3897629999999999,
          1.394487,
          1.4014280000000001,
          1.3952550000000001,
          1.402236,
          1.406508
         ]
        },
        {
         "marker": {
          "color": [
           0.08420769287303884,
           0.10328520138432218,
           0.0419292735210139,
           0.017565452541850476,
           0.011205612745405776,
           0.009516999264474106,
           0.019176776892898297,
           0.012971259036809095,
           0.021838515196780393,
           0.029578252365547217,
           0
          ],
          "colorbar": {
           "title": {
            "text": "Velocity Magnitude"
           }
          },
          "colorscale": [
           [
            0,
            "#440154"
           ],
           [
            0.1111111111111111,
            "#482878"
           ],
           [
            0.2222222222222222,
            "#3e4989"
           ],
           [
            0.3333333333333333,
            "#31688e"
           ],
           [
            0.4444444444444444,
            "#26828e"
           ],
           [
            0.5555555555555556,
            "#1f9e89"
           ],
           [
            0.6666666666666666,
            "#35b779"
           ],
           [
            0.7777777777777778,
            "#6ece58"
           ],
           [
            0.8888888888888888,
            "#b5de2b"
           ],
           [
            1,
            "#fde725"
           ]
          ],
          "size": 2
         },
         "mode": "lines+markers",
         "name": "2094",
         "type": "scatter3d",
         "x": [
          -0.058296,
          -0.067219,
          -0.11281100000000001,
          -0.131559,
          -0.12220600000000001,
          -0.111406,
          -0.102119,
          -0.085663,
          -0.076214,
          -0.064702,
          -0.045175
         ],
         "y": [
          0.071425,
          0.027096,
          -0.036029000000000005,
          -0.07263599999999999,
          -0.065451,
          -0.06306199999999999,
          -0.061877,
          -0.059732999999999994,
          -0.063531,
          -0.051692,
          -0.054564
         ],
         "z": [
          1.326067,
          1.2550299999999999,
          1.187174,
          1.179019,
          1.192036,
          1.190242,
          1.1885329999999998,
          1.178923,
          1.1708889999999998,
          1.1851800000000001,
          1.1631500000000001
         ]
        },
        {
         "marker": {
          "color": [
           0.01793955074688329,
           0.018035309173950898,
           0.01795611274747418,
           0.017981238500170076,
           0.018129669660531453,
           0.02581240199981412,
           0.010216517508427211,
           0
          ],
          "colorbar": {
           "title": {
            "text": "Velocity Magnitude"
           }
          },
          "colorscale": [
           [
            0,
            "#440154"
           ],
           [
            0.1111111111111111,
            "#482878"
           ],
           [
            0.2222222222222222,
            "#3e4989"
           ],
           [
            0.3333333333333333,
            "#31688e"
           ],
           [
            0.4444444444444444,
            "#26828e"
           ],
           [
            0.5555555555555556,
            "#1f9e89"
           ],
           [
            0.6666666666666666,
            "#35b779"
           ],
           [
            0.7777777777777778,
            "#6ece58"
           ],
           [
            0.8888888888888888,
            "#b5de2b"
           ],
           [
            1,
            "#fde725"
           ]
          ],
          "size": 2
         },
         "mode": "lines+markers",
         "name": "6271",
         "type": "scatter3d",
         "x": [
          -0.221066,
          -0.20587200000000003,
          -0.190619,
          -0.175491,
          -0.160419,
          -0.145324,
          -0.126832,
          -0.116962
         ],
         "y": [
          -0.070756,
          -0.07121,
          -0.071762,
          -0.07244199999999999,
          -0.073197,
          -0.074313,
          -0.076825,
          -0.077914
         ],
         "z": [
          1.40242,
          1.392893,
          1.383285,
          1.3736359999999999,
          1.363859,
          1.3538800000000002,
          1.336047,
          1.333644
         ]
        },
        {
         "marker": {
          "color": [
           0.022520609272397605,
           0.034902156652562334,
           0.012712975497498688,
           0.014003530590533194,
           0.01763960470078626,
           0.024984714907318677,
           0
          ],
          "colorbar": {
           "title": {
            "text": "Velocity Magnitude"
           }
          },
          "colorscale": [
           [
            0,
            "#440154"
           ],
           [
            0.1111111111111111,
            "#482878"
           ],
           [
            0.2222222222222222,
            "#3e4989"
           ],
           [
            0.3333333333333333,
            "#31688e"
           ],
           [
            0.4444444444444444,
            "#26828e"
           ],
           [
            0.5555555555555556,
            "#1f9e89"
           ],
           [
            0.6666666666666666,
            "#35b779"
           ],
           [
            0.7777777777777778,
            "#6ece58"
           ],
           [
            0.8888888888888888,
            "#b5de2b"
           ],
           [
            1,
            "#fde725"
           ]
          ],
          "size": 2
         },
         "mode": "lines+markers",
         "name": "7252",
         "type": "scatter3d",
         "x": [
          0.205126,
          0.185435,
          0.163642,
          0.174079,
          0.186361,
          0.198964,
          0.213179
         ],
         "y": [
          0.09067700000000001,
          0.080437,
          0.059137999999999996,
          0.057414,
          0.057796999999999994,
          0.053591,
          0.045826
         ],
         "z": [
          1.470035,
          1.473854,
          1.490871,
          1.48382,
          1.477104,
          1.465501,
          1.4464780000000002
         ]
        },
        {
         "marker": {
          "color": [
           0.018766588661768002,
           0.01835534630564077,
           0.01789753105878007,
           0.017417060601605607,
           0.01681890451248224,
           0.006768522586207383,
           0.05567043829538255,
           0.009857395700690953,
           0.021598207888618867,
           0.04679685956343652,
           0
          ],
          "colorbar": {
           "title": {
            "text": "Velocity Magnitude"
           }
          },
          "colorscale": [
           [
            0,
            "#440154"
           ],
           [
            0.1111111111111111,
            "#482878"
           ],
           [
            0.2222222222222222,
            "#3e4989"
           ],
           [
            0.3333333333333333,
            "#31688e"
           ],
           [
            0.4444444444444444,
            "#26828e"
           ],
           [
            0.5555555555555556,
            "#1f9e89"
           ],
           [
            0.6666666666666666,
            "#35b779"
           ],
           [
            0.7777777777777778,
            "#6ece58"
           ],
           [
            0.8888888888888888,
            "#b5de2b"
           ],
           [
            1,
            "#fde725"
           ]
          ],
          "size": 2
         },
         "mode": "lines+markers",
         "name": "228",
         "type": "scatter3d",
         "x": [
          0.394667,
          0.41090699999999997,
          0.426767,
          0.442131,
          0.457231,
          0.47136399999999995,
          0.469433,
          0.470763,
          0.477811,
          0.49224900000000005,
          0.493685
         ],
         "y": [
          -0.047689,
          -0.050684,
          -0.053511,
          -0.05622,
          -0.058612000000000004,
          -0.061148,
          -0.057559,
          -0.062063,
          -0.057652,
          -0.060448,
          -0.077863
         ],
         "z": [
          1.3862729999999999,
          1.3773579999999999,
          1.368561,
          1.35979,
          1.351446,
          1.342688,
          1.348092,
          1.403564,
          1.398269,
          1.382451,
          1.339039
         ]
        },
        {
         "marker": {
          "color": [
           0.06239019034271342,
           0.046251845638849806,
           0.026176084141826934,
           0.04176561760587291,
           0.024196781066910422,
           0.01743236690756583,
           0
          ],
          "colorbar": {
           "title": {
            "text": "Velocity Magnitude"
           }
          },
          "colorscale": [
           [
            0,
            "#440154"
           ],
           [
            0.1111111111111111,
            "#482878"
           ],
           [
            0.2222222222222222,
            "#3e4989"
           ],
           [
            0.3333333333333333,
            "#31688e"
           ],
           [
            0.4444444444444444,
            "#26828e"
           ],
           [
            0.5555555555555556,
            "#1f9e89"
           ],
           [
            0.6666666666666666,
            "#35b779"
           ],
           [
            0.7777777777777778,
            "#6ece58"
           ],
           [
            0.8888888888888888,
            "#b5de2b"
           ],
           [
            1,
            "#fde725"
           ]
          ],
          "size": 2
         },
         "mode": "lines+markers",
         "name": "7369",
         "type": "scatter3d",
         "x": [
          0.327514,
          0.310123,
          0.294622,
          0.29254,
          0.26667799999999997,
          0.258912,
          0.246972
         ],
         "y": [
          0.9014,
          0.9245869999999999,
          0.936447,
          0.945611,
          0.962388,
          0.972151,
          0.969201
         ],
         "z": [
          1.083315,
          1.028066,
          0.9861340000000001,
          0.961703,
          0.933524,
          0.9542569999999999,
          0.941903
         ]
        },
        {
         "marker": {
          "color": [
           0.029366989188542976,
           0.03402299119713019,
           0.04540463303452636,
           0.08141524221544755,
           0.08566896680829068,
           0.08287935562611463,
           0
          ],
          "colorbar": {
           "title": {
            "text": "Velocity Magnitude"
           }
          },
          "colorscale": [
           [
            0,
            "#440154"
           ],
           [
            0.1111111111111111,
            "#482878"
           ],
           [
            0.2222222222222222,
            "#3e4989"
           ],
           [
            0.3333333333333333,
            "#31688e"
           ],
           [
            0.4444444444444444,
            "#26828e"
           ],
           [
            0.5555555555555556,
            "#1f9e89"
           ],
           [
            0.6666666666666666,
            "#35b779"
           ],
           [
            0.7777777777777778,
            "#6ece58"
           ],
           [
            0.8888888888888888,
            "#b5de2b"
           ],
           [
            1,
            "#fde725"
           ]
          ],
          "size": 2
         },
         "mode": "lines+markers",
         "name": "8232",
         "type": "scatter3d",
         "x": [
          0.05073,
          0.062628,
          0.093261,
          0.136937,
          0.205227,
          0.282678,
          0.35470100000000004
         ],
         "y": [
          0.925965,
          0.9306380000000001,
          0.928913,
          0.9350700000000001,
          0.940664,
          0.9389310000000001,
          0.9380149999999999
         ],
         "z": [
          0.926615,
          0.953054,
          0.93835,
          0.9491240000000001,
          0.993097,
          1.0296690000000002,
          1.0706669999999998
         ]
        },
        {
         "marker": {
          "color": [
           0.023518893235014354,
           0.015413889515628446,
           0.014802771294592119,
           0.020858072346216346,
           0.027473149237027924,
           0.0030751133312448367,
           0.000266668333328092,
           0
          ],
          "colorbar": {
           "title": {
            "text": "Velocity Magnitude"
           }
          },
          "colorscale": [
           [
            0,
            "#440154"
           ],
           [
            0.1111111111111111,
            "#482878"
           ],
           [
            0.2222222222222222,
            "#3e4989"
           ],
           [
            0.3333333333333333,
            "#31688e"
           ],
           [
            0.4444444444444444,
            "#26828e"
           ],
           [
            0.5555555555555556,
            "#1f9e89"
           ],
           [
            0.6666666666666666,
            "#35b779"
           ],
           [
            0.7777777777777778,
            "#6ece58"
           ],
           [
            0.8888888888888888,
            "#b5de2b"
           ],
           [
            1,
            "#fde725"
           ]
          ],
          "size": 2
         },
         "mode": "lines+markers",
         "name": "5469",
         "type": "scatter3d",
         "x": [
          0.658871,
          0.678338,
          0.691331,
          0.704828,
          0.720865,
          0.714078,
          0.715221,
          0.714979
         ],
         "y": [
          0.025778,
          0.026885000000000003,
          0.028956,
          0.030379,
          0.028921,
          0.024453,
          0.02207,
          0.022182
         ],
         "z": [
          1.173855,
          1.160704,
          1.152674,
          1.146764,
          1.133507,
          1.1072629999999999,
          1.105691,
          1.1056890000000001
         ]
        },
        {
         "marker": {
          "color": [
           0.00857169166500988,
           0.00863511922326492,
           0.005012404014043605,
           0.041665165978308605,
           0.07817303028538676,
           0.05415969521701546,
           0
          ],
          "colorbar": {
           "title": {
            "text": "Velocity Magnitude"
           }
          },
          "colorscale": [
           [
            0,
            "#440154"
           ],
           [
            0.1111111111111111,
            "#482878"
           ],
           [
            0.2222222222222222,
            "#3e4989"
           ],
           [
            0.3333333333333333,
            "#31688e"
           ],
           [
            0.4444444444444444,
            "#26828e"
           ],
           [
            0.5555555555555556,
            "#1f9e89"
           ],
           [
            0.6666666666666666,
            "#35b779"
           ],
           [
            0.7777777777777778,
            "#6ece58"
           ],
           [
            0.8888888888888888,
            "#b5de2b"
           ],
           [
            1,
            "#fde725"
           ]
          ],
          "size": 2
         },
         "mode": "lines+markers",
         "name": "6983",
         "type": "scatter3d",
         "x": [
          1.2153720000000001,
          1.2142080000000002,
          1.2142380000000002,
          1.21461,
          1.1914559999999998,
          1.162882,
          1.1318949999999999
         ],
         "y": [
          0.182027,
          0.17780600000000002,
          0.175186,
          0.174013,
          0.188255,
          0.215767,
          0.229383
         ],
         "z": [
          0.489091,
          0.481722,
          0.473494,
          0.46863499999999997,
          0.500211,
          0.567573,
          0.609854
         ]
        },
        {
         "marker": {
          "color": [
           0.014805190778912559,
           0.010527367192228113,
           0.018213561266265225,
           0.027805070526794137,
           0.009654494290225683,
           0.012083415162941296,
           0
          ],
          "colorbar": {
           "title": {
            "text": "Velocity Magnitude"
           }
          },
          "colorscale": [
           [
            0,
            "#440154"
           ],
           [
            0.1111111111111111,
            "#482878"
           ],
           [
            0.2222222222222222,
            "#3e4989"
           ],
           [
            0.3333333333333333,
            "#31688e"
           ],
           [
            0.4444444444444444,
            "#26828e"
           ],
           [
            0.5555555555555556,
            "#1f9e89"
           ],
           [
            0.6666666666666666,
            "#35b779"
           ],
           [
            0.7777777777777778,
            "#6ece58"
           ],
           [
            0.8888888888888888,
            "#b5de2b"
           ],
           [
            1,
            "#fde725"
           ]
          ],
          "size": 2
         },
         "mode": "lines+markers",
         "name": "7458",
         "type": "scatter3d",
         "x": [
          0.30084,
          0.309547,
          0.318693,
          0.31231,
          0.328861,
          0.33598700000000004,
          0.345734
         ],
         "y": [
          0.026466999999999997,
          0.022607,
          0.025495,
          0.019781,
          0.033906,
          0.040415999999999994,
          0.043804
         ],
         "z": [
          0.966386,
          0.9550510000000001,
          0.950711,
          0.9346380000000001,
          0.9519489999999999,
          0.9521710000000001,
          0.9458840000000001
         ]
        },
        {
         "marker": {
          "color": [
           0.023630650096855166,
           0.024911728864131476,
           0.052668684215575384,
           0.015156652994642304,
           0.014502429796416855,
           0.01529599738493704,
           0.04034744089778181,
           0.020754383946530446,
           0
          ],
          "colorbar": {
           "title": {
            "text": "Velocity Magnitude"
           }
          },
          "colorscale": [
           [
            0,
            "#440154"
           ],
           [
            0.1111111111111111,
            "#482878"
           ],
           [
            0.2222222222222222,
            "#3e4989"
           ],
           [
            0.3333333333333333,
            "#31688e"
           ],
           [
            0.4444444444444444,
            "#26828e"
           ],
           [
            0.5555555555555556,
            "#1f9e89"
           ],
           [
            0.6666666666666666,
            "#35b779"
           ],
           [
            0.7777777777777778,
            "#6ece58"
           ],
           [
            0.8888888888888888,
            "#b5de2b"
           ],
           [
            1,
            "#fde725"
           ]
          ],
          "size": 2
         },
         "mode": "lines+markers",
         "name": "4436",
         "type": "scatter3d",
         "x": [
          0.51217,
          0.5088820000000001,
          0.5039669999999999,
          0.487407,
          0.48542,
          0.490118,
          0.48747399999999996,
          0.486967,
          0.480889
         ],
         "y": [
          0.755842,
          0.7704840000000001,
          0.768377,
          0.773533,
          0.7723730000000001,
          0.773438,
          0.7658579999999999,
          0.748341,
          0.729221
         ],
         "z": [
          0.044091,
          0.025837,
          0.001506,
          -0.048225000000000004,
          -0.063206,
          -0.049527,
          -0.036507,
          -0.000164,
          0.005149
         ]
        },
        {
         "marker": {
          "color": [
           0.014221243089125446,
           0.008753116473576749,
           0.013758942146836707,
           0.03197674669193227,
           0.0690951360589151,
           0.12100526647216653,
           0
          ],
          "colorbar": {
           "title": {
            "text": "Velocity Magnitude"
           }
          },
          "colorscale": [
           [
            0,
            "#440154"
           ],
           [
            0.1111111111111111,
            "#482878"
           ],
           [
            0.2222222222222222,
            "#3e4989"
           ],
           [
            0.3333333333333333,
            "#31688e"
           ],
           [
            0.4444444444444444,
            "#26828e"
           ],
           [
            0.5555555555555556,
            "#1f9e89"
           ],
           [
            0.6666666666666666,
            "#35b779"
           ],
           [
            0.7777777777777778,
            "#6ece58"
           ],
           [
            0.8888888888888888,
            "#b5de2b"
           ],
           [
            1,
            "#fde725"
           ]
          ],
          "size": 2
         },
         "mode": "lines+markers",
         "name": "7208",
         "type": "scatter3d",
         "x": [
          -0.11863800000000001,
          -0.111511,
          -0.107171,
          -0.099022,
          -0.124296,
          -0.140843,
          -0.146231
         ],
         "y": [
          0.428173,
          0.44017399999999995,
          0.447496,
          0.455204,
          0.474517,
          0.48199000000000003,
          0.478111
         ],
         "z": [
          0.712324,
          0.7150489999999999,
          0.713007,
          0.705039,
          0.701761,
          0.635094,
          0.5142709999999999
         ]
        },
        {
         "marker": {
          "color": [
           0.03300775557350122,
           0.014844674499631177,
           0.01488734623766103,
           0.012599683686505785,
           0.014724100346031268,
           0.010373441087700842,
           0.0162113903166878,
           0.049755263681343406,
           0.03813391355473493,
           0
          ],
          "colorbar": {
           "title": {
            "text": "Velocity Magnitude"
           }
          },
          "colorscale": [
           [
            0,
            "#440154"
           ],
           [
            0.1111111111111111,
            "#482878"
           ],
           [
            0.2222222222222222,
            "#3e4989"
           ],
           [
            0.3333333333333333,
            "#31688e"
           ],
           [
            0.4444444444444444,
            "#26828e"
           ],
           [
            0.5555555555555556,
            "#1f9e89"
           ],
           [
            0.6666666666666666,
            "#35b779"
           ],
           [
            0.7777777777777778,
            "#6ece58"
           ],
           [
            0.8888888888888888,
            "#b5de2b"
           ],
           [
            1,
            "#fde725"
           ]
          ],
          "size": 2
         },
         "mode": "lines+markers",
         "name": "2630",
         "type": "scatter3d",
         "x": [
          0.160561,
          0.180283,
          0.195009,
          0.209728,
          0.221861,
          0.236034,
          0.246136,
          0.260972,
          0.235904,
          0.224703
         ],
         "y": [
          0.410634,
          0.398246,
          0.398935,
          0.40086099999999997,
          0.40348500000000004,
          0.404414,
          0.406088,
          0.40811000000000003,
          0.384356,
          0.367045
         ],
         "z": [
          1.276146,
          1.252756,
          1.2510139999999998,
          1.249885,
          1.2520429999999998,
          1.248162,
          1.249822,
          1.243608,
          1.20779,
          1.175711
         ]
        },
        {
         "marker": {
          "color": [
           0.016442877698261905,
           0.019840011718746532,
           0.018360060484649856,
           0.01770460945629699,
           0.01960350221261503,
           0.022748435902276865,
           0.014111654226206069,
           0.019021066268745234,
           0.017588866506969673,
           0.013257964436518815,
           0
          ],
          "colorbar": {
           "title": {
            "text": "Velocity Magnitude"
           }
          },
          "colorscale": [
           [
            0,
            "#440154"
           ],
           [
            0.1111111111111111,
            "#482878"
           ],
           [
            0.2222222222222222,
            "#3e4989"
           ],
           [
            0.3333333333333333,
            "#31688e"
           ],
           [
            0.4444444444444444,
            "#26828e"
           ],
           [
            0.5555555555555556,
            "#1f9e89"
           ],
           [
            0.6666666666666666,
            "#35b779"
           ],
           [
            0.7777777777777778,
            "#6ece58"
           ],
           [
            0.8888888888888888,
            "#b5de2b"
           ],
           [
            1,
            "#fde725"
           ]
          ],
          "size": 2
         },
         "mode": "lines+markers",
         "name": "213",
         "type": "scatter3d",
         "x": [
          0.054279,
          0.06912,
          0.084301,
          0.099757,
          0.115463,
          0.13228,
          0.152064,
          0.164858,
          0.181365,
          0.19667199999999999,
          0.204297
         ],
         "y": [
          0.029439,
          0.032964,
          0.031614,
          0.032616,
          0.035478,
          0.038465000000000006,
          0.041587000000000006,
          0.044792,
          0.048595,
          0.057220999999999994,
          0.062100999999999996
         ],
         "z": [
          1.225379,
          1.21924,
          1.206538,
          1.196679,
          1.189025,
          1.179404,
          1.168618,
          1.1636,
          1.154948,
          1.155758,
          1.165444
         ]
        },
        {
         "marker": {
          "color": [
           0.015605961104654698,
           0.020009594523628146,
           0.01616385625400066,
           0.037841688889371845,
           0.024339461990767083,
           0.044347793146897414,
           0
          ],
          "colorbar": {
           "title": {
            "text": "Velocity Magnitude"
           }
          },
          "colorscale": [
           [
            0,
            "#440154"
           ],
           [
            0.1111111111111111,
            "#482878"
           ],
           [
            0.2222222222222222,
            "#3e4989"
           ],
           [
            0.3333333333333333,
            "#31688e"
           ],
           [
            0.4444444444444444,
            "#26828e"
           ],
           [
            0.5555555555555556,
            "#1f9e89"
           ],
           [
            0.6666666666666666,
            "#35b779"
           ],
           [
            0.7777777777777778,
            "#6ece58"
           ],
           [
            0.8888888888888888,
            "#b5de2b"
           ],
           [
            1,
            "#fde725"
           ]
          ],
          "size": 2
         },
         "mode": "lines+markers",
         "name": "7592",
         "type": "scatter3d",
         "x": [
          0.43185399999999996,
          0.442837,
          0.457259,
          0.469297,
          0.488202,
          0.504353,
          0.536525
         ],
         "y": [
          -0.19126300000000002,
          -0.19298099999999999,
          -0.193291,
          -0.19276400000000002,
          -0.188612,
          -0.196565,
          -0.22559800000000002
         ],
         "z": [
          1.441757,
          1.4308040000000002,
          1.416937,
          1.406163,
          1.373646,
          1.357266,
          1.3666880000000001
         ]
        },
        {
         "marker": {
          "color": [
           0.01237468031910318,
           0.01604722246994791,
           0.013475203337983434,
           0.007816976461522676,
           0.021244414277640147,
           0.017732175219075646,
           0.02190799885886435,
           0.028155507915859055,
           0.06652211055731767,
           0.06673176365869556,
           0
          ],
          "colorbar": {
           "title": {
            "text": "Velocity Magnitude"
           }
          },
          "colorscale": [
           [
            0,
            "#440154"
           ],
           [
            0.1111111111111111,
            "#482878"
           ],
           [
            0.2222222222222222,
            "#3e4989"
           ],
           [
            0.3333333333333333,
            "#31688e"
           ],
           [
            0.4444444444444444,
            "#26828e"
           ],
           [
            0.5555555555555556,
            "#1f9e89"
           ],
           [
            0.6666666666666666,
            "#35b779"
           ],
           [
            0.7777777777777778,
            "#6ece58"
           ],
           [
            0.8888888888888888,
            "#b5de2b"
           ],
           [
            1,
            "#fde725"
           ]
          ],
          "size": 2
         },
         "mode": "lines+markers",
         "name": "399",
         "type": "scatter3d",
         "x": [
          -0.27282799999999996,
          -0.280916,
          -0.281248,
          -0.285978,
          -0.292118,
          -0.295197,
          -0.297351,
          -0.28376,
          -0.308363,
          -0.362175,
          -0.42596100000000003
         ],
         "y": [
          0.624388,
          0.632553,
          0.64061,
          0.649156,
          0.65362,
          0.666141,
          0.67838,
          0.676937,
          0.6904410000000001,
          0.723476,
          0.737227
         ],
         "z": [
          0.6052190000000001,
          0.609807,
          0.623681,
          0.6329640000000001,
          0.634829,
          0.651713,
          0.664362,
          0.6814840000000001,
          0.679233,
          0.658301,
          0.644323
         ]
        },
        {
         "marker": {
          "color": [
           0.08421543151347026,
           0.08287250261697174,
           0.027832970017588773,
           0.04358150034131454,
           0.013248009171192445,
           0.03209522782283994,
           0.0787290883536701,
           0.056201455861925834,
           0.007557663197047105,
           0
          ],
          "colorbar": {
           "title": {
            "text": "Velocity Magnitude"
           }
          },
          "colorscale": [
           [
            0,
            "#440154"
           ],
           [
            0.1111111111111111,
            "#482878"
           ],
           [
            0.2222222222222222,
            "#3e4989"
           ],
           [
            0.3333333333333333,
            "#31688e"
           ],
           [
            0.4444444444444444,
            "#26828e"
           ],
           [
            0.5555555555555556,
            "#1f9e89"
           ],
           [
            0.6666666666666666,
            "#35b779"
           ],
           [
            0.7777777777777778,
            "#6ece58"
           ],
           [
            0.8888888888888888,
            "#b5de2b"
           ],
           [
            1,
            "#fde725"
           ]
          ],
          "size": 2
         },
         "mode": "lines+markers",
         "name": "4015",
         "type": "scatter3d",
         "x": [
          1.19916,
          1.1826079999999999,
          1.139909,
          1.135239,
          1.142959,
          1.1352840000000002,
          1.133356,
          1.114632,
          1.100845,
          1.105618
         ],
         "y": [
          0.611256,
          0.6042609999999999,
          0.622541,
          0.6469389999999999,
          0.658323,
          0.648592,
          0.645503,
          0.672314,
          0.7130299999999999,
          0.71884
         ],
         "z": [
          0.26056799999999997,
          0.178292,
          0.109659,
          0.09710500000000001,
          0.138459,
          0.13377799999999998,
          0.10189,
          0.030274000000000002,
          -0.0059299999999999995,
          -0.006692
         ]
        },
        {
         "marker": {
          "color": [
           0.01382426725002088,
           0.013974446142870987,
           0.014369417281156552,
           0.020387741365830367,
           0.01758530781647005,
           0.013085983532008608,
           0.013214220938065074,
           0.029703151044964866,
           0
          ],
          "colorbar": {
           "title": {
            "text": "Velocity Magnitude"
           }
          },
          "colorscale": [
           [
            0,
            "#440154"
           ],
           [
            0.1111111111111111,
            "#482878"
           ],
           [
            0.2222222222222222,
            "#3e4989"
           ],
           [
            0.3333333333333333,
            "#31688e"
           ],
           [
            0.4444444444444444,
            "#26828e"
           ],
           [
            0.5555555555555556,
            "#1f9e89"
           ],
           [
            0.6666666666666666,
            "#35b779"
           ],
           [
            0.7777777777777778,
            "#6ece58"
           ],
           [
            0.8888888888888888,
            "#b5de2b"
           ],
           [
            1,
            "#fde725"
           ]
          ],
          "size": 2
         },
         "mode": "lines+markers",
         "name": "4858",
         "type": "scatter3d",
         "x": [
          -0.302178,
          -0.290036,
          -0.27781599999999995,
          -0.265201,
          -0.25036600000000003,
          -0.234943,
          -0.223262,
          -0.211481,
          -0.20533600000000002
         ],
         "y": [
          0.010764,
          0.01304,
          0.015419,
          0.018097000000000002,
          0.017,
          0.024551,
          0.026411,
          0.028366,
          0.049155000000000004
         ],
         "z": [
          1.244059,
          1.237854,
          1.231506,
          1.2251679999999998,
          1.2112260000000001,
          1.2074369999999999,
          1.2018389999999999,
          1.196182,
          1.216488
         ]
        },
        {
         "marker": {
          "color": [
           0.01754698267509259,
           0.01850423821723004,
           0.018872419903128535,
           0.06818909204557579,
           0.016768242185751018,
           0.016104777738298628,
           0.017049312185539945,
           0.012808224779414182,
           0.018948818459207466,
           0.014435573559786379,
           0
          ],
          "colorbar": {
           "title": {
            "text": "Velocity Magnitude"
           }
          },
          "colorscale": [
           [
            0,
            "#440154"
           ],
           [
            0.1111111111111111,
            "#482878"
           ],
           [
            0.2222222222222222,
            "#3e4989"
           ],
           [
            0.3333333333333333,
            "#31688e"
           ],
           [
            0.4444444444444444,
            "#26828e"
           ],
           [
            0.5555555555555556,
            "#1f9e89"
           ],
           [
            0.6666666666666666,
            "#35b779"
           ],
           [
            0.7777777777777778,
            "#6ece58"
           ],
           [
            0.8888888888888888,
            "#b5de2b"
           ],
           [
            1,
            "#fde725"
           ]
          ],
          "size": 2
         },
         "mode": "lines+markers",
         "name": "1604",
         "type": "scatter3d",
         "x": [
          -0.286978,
          -0.273349,
          -0.25910500000000003,
          -0.244335,
          -0.233892,
          -0.218548,
          -0.20575200000000002,
          -0.19031299999999998,
          -0.179038,
          -0.162312,
          -0.157458
         ],
         "y": [
          -0.015439999999999999,
          -0.016832,
          -0.017891999999999998,
          -0.018594000000000003,
          -0.044988999999999994,
          -0.040752000000000003,
          -0.041777,
          -0.03704,
          -0.036431,
          -0.030262,
          -0.02341
         ],
         "z": [
          1.325108,
          1.314144,
          1.30238,
          1.290653,
          1.228653,
          1.223382,
          1.213657,
          1.208191,
          1.202145,
          1.1957229999999999,
          1.207465
         ]
        },
        {
         "marker": {
          "color": [
           0.01761359094563066,
           0.023723326937847497,
           0.003880680868095225,
           0.021036404968530095,
           0.06950420469295378,
           0.09311369826185624,
           0.12716639413775943,
           0
          ],
          "colorbar": {
           "title": {
            "text": "Velocity Magnitude"
           }
          },
          "colorscale": [
           [
            0,
            "#440154"
           ],
           [
            0.1111111111111111,
            "#482878"
           ],
           [
            0.2222222222222222,
            "#3e4989"
           ],
           [
            0.3333333333333333,
            "#31688e"
           ],
           [
            0.4444444444444444,
            "#26828e"
           ],
           [
            0.5555555555555556,
            "#1f9e89"
           ],
           [
            0.6666666666666666,
            "#35b779"
           ],
           [
            0.7777777777777778,
            "#6ece58"
           ],
           [
            0.8888888888888888,
            "#b5de2b"
           ],
           [
            1,
            "#fde725"
           ]
          ],
          "size": 2
         },
         "mode": "lines+markers",
         "name": "5538",
         "type": "scatter3d",
         "x": [
          -0.34504,
          -0.345541,
          -0.32957600000000004,
          -0.326224,
          -0.331855,
          -0.327804,
          -0.338004,
          -0.384201
         ],
         "y": [
          0.527396,
          0.5294690000000001,
          0.529239,
          0.527567,
          0.509645,
          0.48435500000000004,
          0.445275,
          0.374358
         ],
         "z": [
          0.8963909999999999,
          0.913875,
          0.931421,
          0.930407,
          0.9209400000000001,
          0.856327,
          0.7724289999999999,
          0.677519
         ]
        },
        {
         "marker": {
          "color": [
           0.04678126740480635,
           0.0297125548548084,
           0.0071738944792910314,
           0.03702587229222276,
           0.026202821851854057,
           0.024021893951143704,
           0.03388606995507156,
           0
          ],
          "colorbar": {
           "title": {
            "text": "Velocity Magnitude"
           }
          },
          "colorscale": [
           [
            0,
            "#440154"
           ],
           [
            0.1111111111111111,
            "#482878"
           ],
           [
            0.2222222222222222,
            "#3e4989"
           ],
           [
            0.3333333333333333,
            "#31688e"
           ],
           [
            0.4444444444444444,
            "#26828e"
           ],
           [
            0.5555555555555556,
            "#1f9e89"
           ],
           [
            0.6666666666666666,
            "#35b779"
           ],
           [
            0.7777777777777778,
            "#6ece58"
           ],
           [
            0.8888888888888888,
            "#b5de2b"
           ],
           [
            1,
            "#fde725"
           ]
          ],
          "size": 2
         },
         "mode": "lines+markers",
         "name": "6866",
         "type": "scatter3d",
         "x": [
          1.2399149999999999,
          1.228187,
          1.240133,
          1.247038,
          1.258665,
          1.250049,
          1.240342,
          1.210864
         ],
         "y": [
          -0.190637,
          -0.17397300000000002,
          -0.162479,
          -0.164108,
          -0.175739,
          -0.151468,
          -0.14859,
          -0.14571199999999998
         ],
         "z": [
          0.878082,
          0.920192,
          0.94485,
          0.9437859999999999,
          0.910613,
          0.905789,
          0.884005,
          0.9004679999999999
         ]
        },
        {
         "marker": {
          "color": [
           0.06480540401849218,
           0.0667790284221026,
           0.06479165134490723,
           0.011633213227651254,
           0.01832741719392018,
           0.03809712035049368,
           0.04724121011362853,
           0
          ],
          "colorbar": {
           "title": {
            "text": "Velocity Magnitude"
           }
          },
          "colorscale": [
           [
            0,
            "#440154"
           ],
           [
            0.1111111111111111,
            "#482878"
           ],
           [
            0.2222222222222222,
            "#3e4989"
           ],
           [
            0.3333333333333333,
            "#31688e"
           ],
           [
            0.4444444444444444,
            "#26828e"
           ],
           [
            0.5555555555555556,
            "#1f9e89"
           ],
           [
            0.6666666666666666,
            "#35b779"
           ],
           [
            0.7777777777777778,
            "#6ece58"
           ],
           [
            0.8888888888888888,
            "#b5de2b"
           ],
           [
            1,
            "#fde725"
           ]
          ],
          "size": 2
         },
         "mode": "lines+markers",
         "name": "6174",
         "type": "scatter3d",
         "x": [
          -0.349991,
          -0.3515,
          -0.307359,
          -0.26847899999999997,
          -0.259474,
          -0.252733,
          -0.262276,
          -0.306046
         ],
         "y": [
          0.141216,
          0.161638,
          0.190708,
          0.210068,
          0.204913,
          0.200701,
          0.181968,
          0.16461099999999998
         ],
         "z": [
          0.754403,
          0.8158880000000001,
          0.8567039999999999,
          0.9047820000000001,
          0.899522,
          0.883008,
          0.851237,
          0.8550650000000001
         ]
        }
       ],
       "layout": {
        "scene": {
         "xaxis": {
          "title": {
           "text": "x"
          }
         },
         "yaxis": {
          "title": {
           "text": "y"
          }
         },
         "zaxis": {
          "title": {
           "text": "z"
          }
         }
        },
        "template": {
         "data": {
          "bar": [
           {
            "error_x": {
             "color": "#2a3f5f"
            },
            "error_y": {
             "color": "#2a3f5f"
            },
            "marker": {
             "line": {
              "color": "#E5ECF6",
              "width": 0.5
             },
             "pattern": {
              "fillmode": "overlay",
              "size": 10,
              "solidity": 0.2
             }
            },
            "type": "bar"
           }
          ],
          "barpolar": [
           {
            "marker": {
             "line": {
              "color": "#E5ECF6",
              "width": 0.5
             },
             "pattern": {
              "fillmode": "overlay",
              "size": 10,
              "solidity": 0.2
             }
            },
            "type": "barpolar"
           }
          ],
          "carpet": [
           {
            "aaxis": {
             "endlinecolor": "#2a3f5f",
             "gridcolor": "white",
             "linecolor": "white",
             "minorgridcolor": "white",
             "startlinecolor": "#2a3f5f"
            },
            "baxis": {
             "endlinecolor": "#2a3f5f",
             "gridcolor": "white",
             "linecolor": "white",
             "minorgridcolor": "white",
             "startlinecolor": "#2a3f5f"
            },
            "type": "carpet"
           }
          ],
          "choropleth": [
           {
            "colorbar": {
             "outlinewidth": 0,
             "ticks": ""
            },
            "type": "choropleth"
           }
          ],
          "contour": [
           {
            "colorbar": {
             "outlinewidth": 0,
             "ticks": ""
            },
            "colorscale": [
             [
              0,
              "#0d0887"
             ],
             [
              0.1111111111111111,
              "#46039f"
             ],
             [
              0.2222222222222222,
              "#7201a8"
             ],
             [
              0.3333333333333333,
              "#9c179e"
             ],
             [
              0.4444444444444444,
              "#bd3786"
             ],
             [
              0.5555555555555556,
              "#d8576b"
             ],
             [
              0.6666666666666666,
              "#ed7953"
             ],
             [
              0.7777777777777778,
              "#fb9f3a"
             ],
             [
              0.8888888888888888,
              "#fdca26"
             ],
             [
              1,
              "#f0f921"
             ]
            ],
            "type": "contour"
           }
          ],
          "contourcarpet": [
           {
            "colorbar": {
             "outlinewidth": 0,
             "ticks": ""
            },
            "type": "contourcarpet"
           }
          ],
          "heatmap": [
           {
            "colorbar": {
             "outlinewidth": 0,
             "ticks": ""
            },
            "colorscale": [
             [
              0,
              "#0d0887"
             ],
             [
              0.1111111111111111,
              "#46039f"
             ],
             [
              0.2222222222222222,
              "#7201a8"
             ],
             [
              0.3333333333333333,
              "#9c179e"
             ],
             [
              0.4444444444444444,
              "#bd3786"
             ],
             [
              0.5555555555555556,
              "#d8576b"
             ],
             [
              0.6666666666666666,
              "#ed7953"
             ],
             [
              0.7777777777777778,
              "#fb9f3a"
             ],
             [
              0.8888888888888888,
              "#fdca26"
             ],
             [
              1,
              "#f0f921"
             ]
            ],
            "type": "heatmap"
           }
          ],
          "heatmapgl": [
           {
            "colorbar": {
             "outlinewidth": 0,
             "ticks": ""
            },
            "colorscale": [
             [
              0,
              "#0d0887"
             ],
             [
              0.1111111111111111,
              "#46039f"
             ],
             [
              0.2222222222222222,
              "#7201a8"
             ],
             [
              0.3333333333333333,
              "#9c179e"
             ],
             [
              0.4444444444444444,
              "#bd3786"
             ],
             [
              0.5555555555555556,
              "#d8576b"
             ],
             [
              0.6666666666666666,
              "#ed7953"
             ],
             [
              0.7777777777777778,
              "#fb9f3a"
             ],
             [
              0.8888888888888888,
              "#fdca26"
             ],
             [
              1,
              "#f0f921"
             ]
            ],
            "type": "heatmapgl"
           }
          ],
          "histogram": [
           {
            "marker": {
             "pattern": {
              "fillmode": "overlay",
              "size": 10,
              "solidity": 0.2
             }
            },
            "type": "histogram"
           }
          ],
          "histogram2d": [
           {
            "colorbar": {
             "outlinewidth": 0,
             "ticks": ""
            },
            "colorscale": [
             [
              0,
              "#0d0887"
             ],
             [
              0.1111111111111111,
              "#46039f"
             ],
             [
              0.2222222222222222,
              "#7201a8"
             ],
             [
              0.3333333333333333,
              "#9c179e"
             ],
             [
              0.4444444444444444,
              "#bd3786"
             ],
             [
              0.5555555555555556,
              "#d8576b"
             ],
             [
              0.6666666666666666,
              "#ed7953"
             ],
             [
              0.7777777777777778,
              "#fb9f3a"
             ],
             [
              0.8888888888888888,
              "#fdca26"
             ],
             [
              1,
              "#f0f921"
             ]
            ],
            "type": "histogram2d"
           }
          ],
          "histogram2dcontour": [
           {
            "colorbar": {
             "outlinewidth": 0,
             "ticks": ""
            },
            "colorscale": [
             [
              0,
              "#0d0887"
             ],
             [
              0.1111111111111111,
              "#46039f"
             ],
             [
              0.2222222222222222,
              "#7201a8"
             ],
             [
              0.3333333333333333,
              "#9c179e"
             ],
             [
              0.4444444444444444,
              "#bd3786"
             ],
             [
              0.5555555555555556,
              "#d8576b"
             ],
             [
              0.6666666666666666,
              "#ed7953"
             ],
             [
              0.7777777777777778,
              "#fb9f3a"
             ],
             [
              0.8888888888888888,
              "#fdca26"
             ],
             [
              1,
              "#f0f921"
             ]
            ],
            "type": "histogram2dcontour"
           }
          ],
          "mesh3d": [
           {
            "colorbar": {
             "outlinewidth": 0,
             "ticks": ""
            },
            "type": "mesh3d"
           }
          ],
          "parcoords": [
           {
            "line": {
             "colorbar": {
              "outlinewidth": 0,
              "ticks": ""
             }
            },
            "type": "parcoords"
           }
          ],
          "pie": [
           {
            "automargin": true,
            "type": "pie"
           }
          ],
          "scatter": [
           {
            "fillpattern": {
             "fillmode": "overlay",
             "size": 10,
             "solidity": 0.2
            },
            "type": "scatter"
           }
          ],
          "scatter3d": [
           {
            "line": {
             "colorbar": {
              "outlinewidth": 0,
              "ticks": ""
             }
            },
            "marker": {
             "colorbar": {
              "outlinewidth": 0,
              "ticks": ""
             }
            },
            "type": "scatter3d"
           }
          ],
          "scattercarpet": [
           {
            "marker": {
             "colorbar": {
              "outlinewidth": 0,
              "ticks": ""
             }
            },
            "type": "scattercarpet"
           }
          ],
          "scattergeo": [
           {
            "marker": {
             "colorbar": {
              "outlinewidth": 0,
              "ticks": ""
             }
            },
            "type": "scattergeo"
           }
          ],
          "scattergl": [
           {
            "marker": {
             "colorbar": {
              "outlinewidth": 0,
              "ticks": ""
             }
            },
            "type": "scattergl"
           }
          ],
          "scattermapbox": [
           {
            "marker": {
             "colorbar": {
              "outlinewidth": 0,
              "ticks": ""
             }
            },
            "type": "scattermapbox"
           }
          ],
          "scatterpolar": [
           {
            "marker": {
             "colorbar": {
              "outlinewidth": 0,
              "ticks": ""
             }
            },
            "type": "scatterpolar"
           }
          ],
          "scatterpolargl": [
           {
            "marker": {
             "colorbar": {
              "outlinewidth": 0,
              "ticks": ""
             }
            },
            "type": "scatterpolargl"
           }
          ],
          "scatterternary": [
           {
            "marker": {
             "colorbar": {
              "outlinewidth": 0,
              "ticks": ""
             }
            },
            "type": "scatterternary"
           }
          ],
          "surface": [
           {
            "colorbar": {
             "outlinewidth": 0,
             "ticks": ""
            },
            "colorscale": [
             [
              0,
              "#0d0887"
             ],
             [
              0.1111111111111111,
              "#46039f"
             ],
             [
              0.2222222222222222,
              "#7201a8"
             ],
             [
              0.3333333333333333,
              "#9c179e"
             ],
             [
              0.4444444444444444,
              "#bd3786"
             ],
             [
              0.5555555555555556,
              "#d8576b"
             ],
             [
              0.6666666666666666,
              "#ed7953"
             ],
             [
              0.7777777777777778,
              "#fb9f3a"
             ],
             [
              0.8888888888888888,
              "#fdca26"
             ],
             [
              1,
              "#f0f921"
             ]
            ],
            "type": "surface"
           }
          ],
          "table": [
           {
            "cells": {
             "fill": {
              "color": "#EBF0F8"
             },
             "line": {
              "color": "white"
             }
            },
            "header": {
             "fill": {
              "color": "#C8D4E3"
             },
             "line": {
              "color": "white"
             }
            },
            "type": "table"
           }
          ]
         },
         "layout": {
          "annotationdefaults": {
           "arrowcolor": "#2a3f5f",
           "arrowhead": 0,
           "arrowwidth": 1
          },
          "autotypenumbers": "strict",
          "coloraxis": {
           "colorbar": {
            "outlinewidth": 0,
            "ticks": ""
           }
          },
          "colorscale": {
           "diverging": [
            [
             0,
             "#8e0152"
            ],
            [
             0.1,
             "#c51b7d"
            ],
            [
             0.2,
             "#de77ae"
            ],
            [
             0.3,
             "#f1b6da"
            ],
            [
             0.4,
             "#fde0ef"
            ],
            [
             0.5,
             "#f7f7f7"
            ],
            [
             0.6,
             "#e6f5d0"
            ],
            [
             0.7,
             "#b8e186"
            ],
            [
             0.8,
             "#7fbc41"
            ],
            [
             0.9,
             "#4d9221"
            ],
            [
             1,
             "#276419"
            ]
           ],
           "sequential": [
            [
             0,
             "#0d0887"
            ],
            [
             0.1111111111111111,
             "#46039f"
            ],
            [
             0.2222222222222222,
             "#7201a8"
            ],
            [
             0.3333333333333333,
             "#9c179e"
            ],
            [
             0.4444444444444444,
             "#bd3786"
            ],
            [
             0.5555555555555556,
             "#d8576b"
            ],
            [
             0.6666666666666666,
             "#ed7953"
            ],
            [
             0.7777777777777778,
             "#fb9f3a"
            ],
            [
             0.8888888888888888,
             "#fdca26"
            ],
            [
             1,
             "#f0f921"
            ]
           ],
           "sequentialminus": [
            [
             0,
             "#0d0887"
            ],
            [
             0.1111111111111111,
             "#46039f"
            ],
            [
             0.2222222222222222,
             "#7201a8"
            ],
            [
             0.3333333333333333,
             "#9c179e"
            ],
            [
             0.4444444444444444,
             "#bd3786"
            ],
            [
             0.5555555555555556,
             "#d8576b"
            ],
            [
             0.6666666666666666,
             "#ed7953"
            ],
            [
             0.7777777777777778,
             "#fb9f3a"
            ],
            [
             0.8888888888888888,
             "#fdca26"
            ],
            [
             1,
             "#f0f921"
            ]
           ]
          },
          "colorway": [
           "#636efa",
           "#EF553B",
           "#00cc96",
           "#ab63fa",
           "#FFA15A",
           "#19d3f3",
           "#FF6692",
           "#B6E880",
           "#FF97FF",
           "#FECB52"
          ],
          "font": {
           "color": "#2a3f5f"
          },
          "geo": {
           "bgcolor": "white",
           "lakecolor": "white",
           "landcolor": "#E5ECF6",
           "showlakes": true,
           "showland": true,
           "subunitcolor": "white"
          },
          "hoverlabel": {
           "align": "left"
          },
          "hovermode": "closest",
          "mapbox": {
           "style": "light"
          },
          "paper_bgcolor": "white",
          "plot_bgcolor": "#E5ECF6",
          "polar": {
           "angularaxis": {
            "gridcolor": "white",
            "linecolor": "white",
            "ticks": ""
           },
           "bgcolor": "#E5ECF6",
           "radialaxis": {
            "gridcolor": "white",
            "linecolor": "white",
            "ticks": ""
           }
          },
          "scene": {
           "xaxis": {
            "backgroundcolor": "#E5ECF6",
            "gridcolor": "white",
            "gridwidth": 2,
            "linecolor": "white",
            "showbackground": true,
            "ticks": "",
            "zerolinecolor": "white"
           },
           "yaxis": {
            "backgroundcolor": "#E5ECF6",
            "gridcolor": "white",
            "gridwidth": 2,
            "linecolor": "white",
            "showbackground": true,
            "ticks": "",
            "zerolinecolor": "white"
           },
           "zaxis": {
            "backgroundcolor": "#E5ECF6",
            "gridcolor": "white",
            "gridwidth": 2,
            "linecolor": "white",
            "showbackground": true,
            "ticks": "",
            "zerolinecolor": "white"
           }
          },
          "shapedefaults": {
           "line": {
            "color": "#2a3f5f"
           }
          },
          "ternary": {
           "aaxis": {
            "gridcolor": "white",
            "linecolor": "white",
            "ticks": ""
           },
           "baxis": {
            "gridcolor": "white",
            "linecolor": "white",
            "ticks": ""
           },
           "bgcolor": "#E5ECF6",
           "caxis": {
            "gridcolor": "white",
            "linecolor": "white",
            "ticks": ""
           }
          },
          "title": {
           "x": 0.05
          },
          "xaxis": {
           "automargin": true,
           "gridcolor": "white",
           "linecolor": "white",
           "ticks": "",
           "title": {
            "standoff": 15
           },
           "zerolinecolor": "white",
           "zerolinewidth": 2
          },
          "yaxis": {
           "automargin": true,
           "gridcolor": "white",
           "linecolor": "white",
           "ticks": "",
           "title": {
            "standoff": 15
           },
           "zerolinecolor": "white",
           "zerolinewidth": 2
          }
         }
        },
        "title": {
         "text": "3D Trajectories with Color Proportional to Velocity Magnitude"
        }
       }
      }
     },
     "metadata": {},
     "output_type": "display_data"
    }
   ],
   "source": [
    "import plotly.graph_objects as go\n",
    "fig = go.Figure()\n",
    "\n",
    "for traj_id in df['id'].unique():\n",
    "    traj_data = df[df['id'] == traj_id]\n",
    "    traj_velocities = velocities[df['id'] == traj_id]\n",
    "    velocity_magnitudes = np.linalg.norm(traj_velocities, axis=1)\n",
    "    \n",
    "    fig.add_trace(go.Scatter3d(\n",
    "        x=traj_data['x'],\n",
    "        y=traj_data['y'],\n",
    "        z=traj_data['z'],\n",
    "        mode='lines+markers',\n",
    "        marker=dict(size=2, color=velocity_magnitudes, colorscale='Viridis', colorbar=dict(title='Velocity Magnitude')),\n",
    "        name=str(traj_id)\n",
    "    ))\n",
    "\n",
    "fig.update_layout(\n",
    "    scene=dict(\n",
    "        xaxis_title='x',\n",
    "        yaxis_title='y',\n",
    "        zaxis_title='z'\n",
    "    ),\n",
    "    title='3D Trajectories with Color Proportional to Velocity Magnitude'\n",
    ")\n",
    "\n",
    "fig.show()"
   ]
  }
 ],
 "metadata": {
  "kernelspec": {
   "display_name": "pyptv",
   "language": "python",
   "name": "python3"
  },
  "language_info": {
   "codemirror_mode": {
    "name": "ipython",
    "version": 3
   },
   "file_extension": ".py",
   "mimetype": "text/x-python",
   "name": "python",
   "nbconvert_exporter": "python",
   "pygments_lexer": "ipython3",
   "version": "3.11.10"
  }
 },
 "nbformat": 4,
 "nbformat_minor": 5
}
